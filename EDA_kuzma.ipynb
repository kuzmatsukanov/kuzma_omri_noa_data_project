{
 "cells": [
  {
   "cell_type": "code",
   "execution_count": 2,
   "id": "d828e9a1-5ff6-4386-89fd-516a305124ac",
   "metadata": {
    "tags": []
   },
   "outputs": [],
   "source": [
    "import pandas as pd\n",
    "import numpy as np\n",
    "import matplotlib.pyplot as plt\n",
    "import seaborn as sns\n",
    "sns.set_palette(\"colorblind\")"
   ]
  },
  {
   "cell_type": "markdown",
   "id": "64ee1264-58c6-4f0e-82e7-f240eacb7e5a",
   "metadata": {},
   "source": [
    "# Personalized Fashion Recommendations"
   ]
  },
  {
   "cell_type": "markdown",
   "id": "17ef0eab-2318-4bf3-ab52-c6a4353aca28",
   "metadata": {},
   "source": [
    "## Objectives:\n",
    "- To predict future potential customers purchasing\n",
    "- Propose outfit combinations"
   ]
  },
  {
   "cell_type": "markdown",
   "id": "db3f9133-5cc9-4bd1-abd7-fca0855e6983",
   "metadata": {},
   "source": [
    "## Dataset\n",
    "https://www.kaggle.com/competitions/h-and-m-personalized-fashion-recommendations/data"
   ]
  },
  {
   "cell_type": "markdown",
   "id": "f764d61f-6a99-46f2-9fc8-4eeb8fc550ac",
   "metadata": {},
   "source": [
    "## Metric\n",
    "\n",
    "Comparing the predicted purchases with the purchases done in the 7 days after the time of training set period."
   ]
  },
  {
   "cell_type": "markdown",
   "id": "eede9da1-5af9-421c-83bb-c0778d466122",
   "metadata": {},
   "source": [
    "## Naive/Baseline model"
   ]
  },
  {
   "cell_type": "markdown",
   "id": "8ea73745-36fd-40f5-a784-302120178efd",
   "metadata": {},
   "source": [
    "- **Naive model**: All customers buy any random article.\n",
    "- **Baseline model**: The customer purchases the same articles purchased in the past."
   ]
  },
  {
   "cell_type": "code",
   "execution_count": null,
   "id": "33115c3a-a55f-48b9-9689-eeddeb5eb123",
   "metadata": {},
   "outputs": [],
   "source": []
  },
  {
   "cell_type": "code",
   "execution_count": null,
   "id": "27d26e93-bfa0-4b6a-be48-315ad41bf94a",
   "metadata": {},
   "outputs": [],
   "source": []
  },
  {
   "cell_type": "code",
   "execution_count": null,
   "id": "bc69165b-b419-4894-b13c-8afd4b6ccdb9",
   "metadata": {},
   "outputs": [],
   "source": []
  }
 ],
 "metadata": {
  "kernelspec": {
   "display_name": "Python 3 (ipykernel)",
   "language": "python",
   "name": "python3"
  },
  "language_info": {
   "codemirror_mode": {
    "name": "ipython",
    "version": 3
   },
   "file_extension": ".py",
   "mimetype": "text/x-python",
   "name": "python",
   "nbconvert_exporter": "python",
   "pygments_lexer": "ipython3",
   "version": "3.9.12"
  }
 },
 "nbformat": 4,
 "nbformat_minor": 5
}
