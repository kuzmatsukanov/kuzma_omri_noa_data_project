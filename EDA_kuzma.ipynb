{
 "cells": [
  {
   "cell_type": "code",
   "execution_count": 1,
   "id": "d828e9a1-5ff6-4386-89fd-516a305124ac",
   "metadata": {
    "tags": []
   },
   "outputs": [],
   "source": [
    "import pandas as pd\n",
    "import numpy as np\n",
    "import matplotlib.pyplot as plt\n",
    "import seaborn as sns\n",
    "sns.set_palette(\"colorblind\")"
   ]
  },
  {
   "cell_type": "markdown",
   "id": "64ee1264-58c6-4f0e-82e7-f240eacb7e5a",
   "metadata": {},
   "source": [
    "# Personalized Fashion Recommendations"
   ]
  },
  {
   "cell_type": "markdown",
   "id": "17ef0eab-2318-4bf3-ab52-c6a4353aca28",
   "metadata": {},
   "source": [
    "## Objectives:\n",
    "- To predict future potential customers purchasing\n",
    "- Propose outfit combinations"
   ]
  },
  {
   "cell_type": "markdown",
   "id": "db3f9133-5cc9-4bd1-abd7-fca0855e6983",
   "metadata": {},
   "source": [
    "## Dataset\n",
    "https://www.kaggle.com/competitions/h-and-m-personalized-fashion-recommendations/data"
   ]
  },
  {
   "cell_type": "markdown",
   "id": "f764d61f-6a99-46f2-9fc8-4eeb8fc550ac",
   "metadata": {},
   "source": [
    "## Metric\n",
    "\n",
    "Comparing the predicted purchases with the purchases done in the 7 days after the time of training set period."
   ]
  },
  {
   "cell_type": "markdown",
   "id": "eede9da1-5af9-421c-83bb-c0778d466122",
   "metadata": {},
   "source": [
    "## Naive/Baseline model"
   ]
  },
  {
   "cell_type": "markdown",
   "id": "8ea73745-36fd-40f5-a784-302120178efd",
   "metadata": {},
   "source": [
    "- **Naive model**: All customers buy any random article.\n",
    "- **Baseline model**: The customer purchases the same articles purchased in the past."
   ]
  },
  {
   "cell_type": "markdown",
   "id": "e51bcf07-9457-45af-a283-028bacada4b5",
   "metadata": {},
   "source": [
    "## Reading Data"
   ]
  },
  {
   "cell_type": "code",
   "execution_count": 2,
   "id": "69fdaccf-3e34-4f61-95c7-e431f8bd1bab",
   "metadata": {},
   "outputs": [],
   "source": [
    "# df_customers = pd.read_csv(\"../fashion_dataset/customers.csv.zip\")\n",
    "# df_transactions = pd.read_csv(\"../fashion_dataset/transactions_train.csv.zip\")"
   ]
  },
  {
   "cell_type": "code",
   "execution_count": 3,
   "id": "085f24aa-f08b-44f1-a755-7a9a820d33d9",
   "metadata": {},
   "outputs": [],
   "source": [
    "df_articles = pd.read_csv(\"../fashion_dataset/articles.csv.zip\")"
   ]
  },
  {
   "cell_type": "code",
   "execution_count": 4,
   "id": "bb7028b7-af14-4cff-9b4e-b66224ce9f57",
   "metadata": {},
   "outputs": [
    {
     "data": {
      "text/plain": [
       "(105542, 25)"
      ]
     },
     "execution_count": 4,
     "metadata": {},
     "output_type": "execute_result"
    }
   ],
   "source": [
    "df_articles.shape"
   ]
  },
  {
   "cell_type": "code",
   "execution_count": 5,
   "id": "f0f766cc-5936-4092-999d-1555195bc9f5",
   "metadata": {},
   "outputs": [
    {
     "data": {
      "text/html": [
       "<div>\n",
       "<style scoped>\n",
       "    .dataframe tbody tr th:only-of-type {\n",
       "        vertical-align: middle;\n",
       "    }\n",
       "\n",
       "    .dataframe tbody tr th {\n",
       "        vertical-align: top;\n",
       "    }\n",
       "\n",
       "    .dataframe thead th {\n",
       "        text-align: right;\n",
       "    }\n",
       "</style>\n",
       "<table border=\"1\" class=\"dataframe\">\n",
       "  <thead>\n",
       "    <tr style=\"text-align: right;\">\n",
       "      <th></th>\n",
       "      <th>article_id</th>\n",
       "      <th>product_code</th>\n",
       "      <th>prod_name</th>\n",
       "      <th>product_type_no</th>\n",
       "      <th>product_type_name</th>\n",
       "      <th>product_group_name</th>\n",
       "      <th>graphical_appearance_no</th>\n",
       "      <th>graphical_appearance_name</th>\n",
       "      <th>colour_group_code</th>\n",
       "      <th>colour_group_name</th>\n",
       "      <th>...</th>\n",
       "      <th>department_name</th>\n",
       "      <th>index_code</th>\n",
       "      <th>index_name</th>\n",
       "      <th>index_group_no</th>\n",
       "      <th>index_group_name</th>\n",
       "      <th>section_no</th>\n",
       "      <th>section_name</th>\n",
       "      <th>garment_group_no</th>\n",
       "      <th>garment_group_name</th>\n",
       "      <th>detail_desc</th>\n",
       "    </tr>\n",
       "  </thead>\n",
       "  <tbody>\n",
       "    <tr>\n",
       "      <th>94164</th>\n",
       "      <td>861036002</td>\n",
       "      <td>861036</td>\n",
       "      <td>Spritz top</td>\n",
       "      <td>258</td>\n",
       "      <td>Blouse</td>\n",
       "      <td>Garment Upper body</td>\n",
       "      <td>1010016</td>\n",
       "      <td>Solid</td>\n",
       "      <td>8</td>\n",
       "      <td>Dark Grey</td>\n",
       "      <td>...</td>\n",
       "      <td>Blouse &amp; Dress</td>\n",
       "      <td>A</td>\n",
       "      <td>Ladieswear</td>\n",
       "      <td>1</td>\n",
       "      <td>Ladieswear</td>\n",
       "      <td>18</td>\n",
       "      <td>Womens Trend</td>\n",
       "      <td>1010</td>\n",
       "      <td>Blouses</td>\n",
       "      <td>Blouse in a crisp weave with gathered seams at...</td>\n",
       "    </tr>\n",
       "    <tr>\n",
       "      <th>27373</th>\n",
       "      <td>619878001</td>\n",
       "      <td>619878</td>\n",
       "      <td>Blueberry dress</td>\n",
       "      <td>265</td>\n",
       "      <td>Dress</td>\n",
       "      <td>Garment Full body</td>\n",
       "      <td>1010001</td>\n",
       "      <td>All over pattern</td>\n",
       "      <td>23</td>\n",
       "      <td>Dark Yellow</td>\n",
       "      <td>...</td>\n",
       "      <td>Blouse &amp; Dress</td>\n",
       "      <td>A</td>\n",
       "      <td>Ladieswear</td>\n",
       "      <td>1</td>\n",
       "      <td>Ladieswear</td>\n",
       "      <td>18</td>\n",
       "      <td>Womens Trend</td>\n",
       "      <td>1010</td>\n",
       "      <td>Blouses</td>\n",
       "      <td>NaN</td>\n",
       "    </tr>\n",
       "  </tbody>\n",
       "</table>\n",
       "<p>2 rows × 25 columns</p>\n",
       "</div>"
      ],
      "text/plain": [
       "       article_id  product_code        prod_name  product_type_no  \\\n",
       "94164   861036002        861036       Spritz top              258   \n",
       "27373   619878001        619878  Blueberry dress              265   \n",
       "\n",
       "      product_type_name  product_group_name  graphical_appearance_no  \\\n",
       "94164            Blouse  Garment Upper body                  1010016   \n",
       "27373             Dress   Garment Full body                  1010001   \n",
       "\n",
       "      graphical_appearance_name  colour_group_code colour_group_name  ...  \\\n",
       "94164                     Solid                  8         Dark Grey  ...   \n",
       "27373          All over pattern                 23       Dark Yellow  ...   \n",
       "\n",
       "       department_name index_code  index_name index_group_no  \\\n",
       "94164   Blouse & Dress          A  Ladieswear              1   \n",
       "27373   Blouse & Dress          A  Ladieswear              1   \n",
       "\n",
       "       index_group_name section_no  section_name garment_group_no  \\\n",
       "94164        Ladieswear         18  Womens Trend             1010   \n",
       "27373        Ladieswear         18  Womens Trend             1010   \n",
       "\n",
       "       garment_group_name                                        detail_desc  \n",
       "94164             Blouses  Blouse in a crisp weave with gathered seams at...  \n",
       "27373             Blouses                                                NaN  \n",
       "\n",
       "[2 rows x 25 columns]"
      ]
     },
     "execution_count": 5,
     "metadata": {},
     "output_type": "execute_result"
    }
   ],
   "source": [
    "df_articles.sample(2)"
   ]
  },
  {
   "cell_type": "code",
   "execution_count": null,
   "id": "ac407ebf-93e8-479d-a7c4-589dfd0e9f3f",
   "metadata": {},
   "outputs": [],
   "source": []
  },
  {
   "cell_type": "code",
   "execution_count": null,
   "id": "02664d8c-47d8-48f1-8203-76b5707fb325",
   "metadata": {},
   "outputs": [],
   "source": []
  },
  {
   "cell_type": "code",
   "execution_count": null,
   "id": "bc69165b-b419-4894-b13c-8afd4b6ccdb9",
   "metadata": {},
   "outputs": [],
   "source": []
  }
 ],
 "metadata": {
  "kernelspec": {
   "display_name": "Python 3 (ipykernel)",
   "language": "python",
   "name": "python3"
  },
  "language_info": {
   "codemirror_mode": {
    "name": "ipython",
    "version": 3
   },
   "file_extension": ".py",
   "mimetype": "text/x-python",
   "name": "python",
   "nbconvert_exporter": "python",
   "pygments_lexer": "ipython3",
   "version": "3.9.12"
  },
  "toc-autonumbering": false
 },
 "nbformat": 4,
 "nbformat_minor": 5
}
