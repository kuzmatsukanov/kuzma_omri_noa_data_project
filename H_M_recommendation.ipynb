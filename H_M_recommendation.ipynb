{
 "cells": [
  {
   "cell_type": "markdown",
   "id": "b01ebcda-b0f8-4597-8b7d-7a17f95b3b08",
   "metadata": {},
   "source": [
    "# Recomendation of similar/complementary clothes"
   ]
  },
  {
   "cell_type": "markdown",
   "id": "5ea9ff1e-f676-4883-ab0f-411931b00b7a",
   "metadata": {},
   "source": [
    "## Load libraries and trained models"
   ]
  },
  {
   "cell_type": "code",
   "execution_count": 6,
   "id": "1365caab-d179-41c0-8f19-a8d8bc214634",
   "metadata": {},
   "outputs": [],
   "source": [
    "import cv2\n",
    "import numpy as np\n",
    "import pandas as pd\n",
    "from keras.models import load_model\n",
    "import tensorflow as tf"
   ]
  },
  {
   "cell_type": "code",
   "execution_count": null,
   "id": "b072b26a-1d95-49b2-9616-07734048a18e",
   "metadata": {},
   "outputs": [],
   "source": [
    "# Load the trained model of feature recognitions\n",
    "model = load_model('model.h5')"
   ]
  },
  {
   "cell_type": "code",
   "execution_count": null,
   "id": "1bdb696e-29fe-4c76-854b-26851abbdc90",
   "metadata": {},
   "outputs": [],
   "source": [
    "# Load model ResNet50 for embedding vectors calculation\n",
    "resnet_model = tf.keras.applications.ResNet50(\n",
    "    include_top=False, weights='imagenet', pooling='avg')"
   ]
  },
  {
   "cell_type": "code",
   "execution_count": 93,
   "id": "a8229b08-72d0-4f8a-a30e-0b492ddb01cd",
   "metadata": {},
   "outputs": [],
   "source": [
    "# Load the cloth items from the database with correpondent features an embedding vectors\n",
    "df = pd.read_parquet('embeddings_df1.parquet')"
   ]
  },
  {
   "cell_type": "markdown",
   "id": "58842da4-40c8-470c-b4ec-ec8174383327",
   "metadata": {},
   "source": [
    "## Load picture of your cloth"
   ]
  },
  {
   "cell_type": "code",
   "execution_count": null,
   "id": "51f9d2ad-34ec-40e7-a062-fcd62325bf64",
   "metadata": {},
   "outputs": [],
   "source": [
    "# Load user image\n",
    "user_image_path = 'user/imag'\n",
    "user_image = cv2.imread(user_image_path)"
   ]
  },
  {
   "cell_type": "markdown",
   "id": "f9a39b8a-6b4d-4813-8aaa-aaa44f84990c",
   "metadata": {},
   "source": [
    "## Recognize features from the image (Color, Type, Pattern, Index)"
   ]
  },
  {
   "cell_type": "code",
   "execution_count": null,
   "id": "8f087e75-9480-4f80-8f49-b2c0af681406",
   "metadata": {},
   "outputs": [],
   "source": [
    "# Resize the image to 80x80\n",
    "IMG_SIZE_FOR_RECOGNITION = 80\n",
    "user_image_for_recognition = cv2.resize(user_image, (IMG_SIZE_FOR_RECOGNITION, IMG_SIZE_FOR_RECOGNITION))"
   ]
  },
  {
   "cell_type": "code",
   "execution_count": null,
   "id": "bd0ba706-a13a-4df0-8a82-482d3e4284c5",
   "metadata": {},
   "outputs": [],
   "source": [
    "# Resize the image to 224x224\n",
    "IMG_SIZE = 224\n",
    "user_image_resized = cv2.resize(user_image, (IMG_SIZE, IMG_SIZE))\n",
    "\n",
    "# Prediction of features\n",
    "color_pred, type_pred, pattern_pred, index_pred = model.predict(np.array([user_image_for_recognition]))\n",
    "\n",
    "# Save the recognized features to the DataFrame\n",
    "pred_imag = pd.DataFrame({'product_group_name': type_pred,\n",
    "                          'index_group_name': index_pred\n",
    "        })"
   ]
  },
  {
   "cell_type": "markdown",
   "id": "c0f6db3d-7864-4b66-a9d8-65bd3dbbd96d",
   "metadata": {},
   "source": [
    "## Get embedding vector of the image"
   ]
  },
  {
   "cell_type": "code",
   "execution_count": null,
   "id": "54a6ec7e-d497-41a1-9396-94ab39393a68",
   "metadata": {},
   "outputs": [],
   "source": [
    "# Resize the image to 224x224\n",
    "IMG_SIZE_FOR_EMBEDDING = 224\n",
    "user_image_for_embedding = cv2.resize(user_image, (IMG_SIZE_FOR_EMBEDDING, IMG_SIZE_FOR_EMBEDDING))"
   ]
  },
  {
   "cell_type": "code",
   "execution_count": null,
   "id": "63280956-6b6a-4540-864b-855c9232d955",
   "metadata": {},
   "outputs": [],
   "source": [
    "# Add an extra batch dimension to the image\n",
    "user_image_for_embedding = np.expand_dims(user_image_for_embedding, axis=0)\n",
    "\n",
    "# Pass the image through the ResNet50 model\n",
    "features = resnet_model.predict(user_image_for_embedding)\n",
    "\n",
    "# Extract the embedding from the output of the model\n",
    "embeddings = features.squeeze()"
   ]
  },
  {
   "cell_type": "markdown",
   "id": "95aebf6a-0067-41ab-bb14-72114dfce1d5",
   "metadata": {},
   "source": [
    "## Recommend similar/complementary clothes"
   ]
  },
  {
   "cell_type": "code",
   "execution_count": 103,
   "id": "38837c07-a719-474c-99b1-19d959c09062",
   "metadata": {},
   "outputs": [],
   "source": [
    "# Define database to look for similar items\n",
    "subset_similar = df[(df['product_group_name'] == pred_img['product_group_name']) & (df['index_group_name'] == pred_img['index_group_name'])].copy()\n",
    "\n",
    "# Define database to look for complementary items\n",
    "subset_comp = df[(df['product_group_name'] != pred_img['product_group_name']) & (df['index_group_name'] == pred_img['index_group_name'])].copy()"
   ]
  },
  {
   "cell_type": "code",
   "execution_count": null,
   "id": "82d41f7a-8e93-47db-b9d6-48fa5032ad8e",
   "metadata": {},
   "outputs": [],
   "source": [
    "# Caluclate similarity scores between user image and images from the database\n",
    "similarity_scores = []\n",
    "for array in subset_similar[\"embedding\"]:\n",
    "    array = array.reshape(1, -1)\n",
    "    similarity = cosine_similarity(pred_img['embedding'].reshape(1, -1), array)\n",
    "    similarity_scores.append(similarity[0][0])\n",
    "subset_similar['score'] = similarity_scores"
   ]
  },
  {
   "cell_type": "code",
   "execution_count": null,
   "id": "1132174c-6c35-4ef2-9c20-36211307a282",
   "metadata": {},
   "outputs": [],
   "source": [
    "# Get TOP 10 similar products\n",
    "reccs = subset_similar.sort_values(by='score', ascending=False)[1:11]\n",
    "reccs['article_id']"
   ]
  },
  {
   "cell_type": "code",
   "execution_count": null,
   "id": "ed6ab3d9-9cd3-4d29-b04c-b456c0d6f879",
   "metadata": {},
   "outputs": [],
   "source": []
  },
  {
   "cell_type": "code",
   "execution_count": null,
   "id": "ee166c1a-3562-4406-988e-099eda2639d0",
   "metadata": {},
   "outputs": [],
   "source": []
  },
  {
   "cell_type": "code",
   "execution_count": null,
   "id": "2798b193-5f79-4cba-82a3-32789e0e4740",
   "metadata": {},
   "outputs": [],
   "source": [
    "# !git branch\n",
    "# !git add .\n",
    "# !git commit -m \"final notebook for recommendation update\"\n",
    "# !git push origin kuzma\n"
   ]
  }
 ],
 "metadata": {
  "kernelspec": {
   "display_name": "Python 3 (ipykernel)",
   "language": "python",
   "name": "python3"
  },
  "language_info": {
   "codemirror_mode": {
    "name": "ipython",
    "version": 3
   },
   "file_extension": ".py",
   "mimetype": "text/x-python",
   "name": "python",
   "nbconvert_exporter": "python",
   "pygments_lexer": "ipython3",
   "version": "3.9.12"
  }
 },
 "nbformat": 4,
 "nbformat_minor": 5
}
