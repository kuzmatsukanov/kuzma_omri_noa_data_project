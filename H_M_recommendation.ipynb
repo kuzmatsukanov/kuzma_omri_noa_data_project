{
  "cells": [
    {
      "cell_type": "markdown",
      "metadata": {
        "id": "view-in-github",
        "colab_type": "text"
      },
      "source": [
        "<a href=\"https://colab.research.google.com/github/kuzmatsukanov/kuzma_omri_noa_data_project/blob/main/H_M_recommendation.ipynb\" target=\"_parent\"><img src=\"https://colab.research.google.com/assets/colab-badge.svg\" alt=\"Open In Colab\"/></a>"
      ]
    },
    {
      "cell_type": "markdown",
      "metadata": {
        "id": "R9ToQ9f0afmo"
      },
      "source": [
        "# Preliminary loadings"
      ],
      "id": "R9ToQ9f0afmo"
    },
    {
      "cell_type": "code",
      "execution_count": 1,
      "metadata": {
        "id": "OlHppLZpZapN"
      },
      "outputs": [],
      "source": [
        "import cv2\n",
        "import numpy as np\n",
        "import pandas as pd\n",
        "import matplotlib.pyplot as plt\n",
        "from keras.models import load_model\n",
        "import tensorflow as tf\n",
        "from sklearn.metrics.pairwise import cosine_similarity\n",
        "import os\n",
        "import ipywidgets as widgets"
      ],
      "id": "OlHppLZpZapN"
    },
    {
      "cell_type": "code",
      "execution_count": 2,
      "metadata": {
        "colab": {
          "base_uri": "https://localhost:8080/"
        },
        "id": "tEGTIKlBZvTt",
        "outputId": "645d9289-a34b-4ade-e986-11fff00c1396"
      },
      "outputs": [
        {
          "output_type": "stream",
          "name": "stdout",
          "text": [
            "Mounted at /content/drive\n"
          ]
        }
      ],
      "source": [
        "from google.colab import drive\n",
        "drive.mount('/content/drive')"
      ],
      "id": "tEGTIKlBZvTt"
    },
    {
      "cell_type": "code",
      "execution_count": 3,
      "metadata": {
        "id": "i2QxiezJZ2oP",
        "colab": {
          "base_uri": "https://localhost:8080/"
        },
        "outputId": "6d0c1c84-cda0-4f6c-8bc9-0b0bc836dcf2"
      },
      "outputs": [
        {
          "output_type": "stream",
          "name": "stdout",
          "text": [
            "Downloading data from https://storage.googleapis.com/tensorflow/keras-applications/resnet/resnet50_weights_tf_dim_ordering_tf_kernels_notop.h5\n",
            "94765736/94765736 [==============================] - 1s 0us/step\n"
          ]
        }
      ],
      "source": [
        "# Load the trained model of feature recognitions\n",
        "model = load_model('/content/drive/MyDrive/ds_project_dataset/my_model.h5')\n",
        "\n",
        "# Lists of the class labels\n",
        "colour_lst = \\\n",
        "    ['Beige', 'Black', 'Blue', 'Brown',\n",
        "       'Green', 'Grey', 'Metal', 'Mole',\n",
        "       'Orange', 'colour_Pink', 'Purple', 'Red',\n",
        "       'Turquoise', 'White', 'Yellow']\n",
        "\n",
        "product_lst = \\\n",
        "    ['Bags', 'Garment Full body',\n",
        "       'Garment Lower body', 'Garment Upper body',\n",
        "       'Shoes', 'Socks & Tights', 'Underwear']\n",
        "\n",
        "pattern_lst = \\\n",
        "    ['pattern_All over pattern', 'pattern_Application/3D', 'pattern_Argyle',\n",
        "       'pattern_Chambray', 'pattern_Check', 'pattern_Colour blocking',\n",
        "       'pattern_Contrast', 'pattern_Denim', 'pattern_Dot',\n",
        "       'pattern_Embroidery', 'pattern_Front print',\n",
        "       'pattern_Glittering/Metallic', 'pattern_Hologram', 'pattern_Jacquard',\n",
        "       'pattern_Lace', 'pattern_Melange', 'pattern_Mesh', 'pattern_Metallic',\n",
        "       'pattern_Mixed solid/pattern', 'pattern_Neps',\n",
        "       'pattern_Placement print', 'pattern_Sequin', 'pattern_Slub',\n",
        "       'pattern_Solid', 'pattern_Stripe', 'pattern_Transparent',\n",
        "       'pattern_Treatment']\n",
        "\n",
        "index_lst = \\\n",
        "    ['Divided', 'Ladieswear', 'Menswear']\n",
        "\n",
        "class_labels_dict = {'colour': colour_lst,\n",
        "                     'product': product_lst,\n",
        "                     'pattern': pattern_lst,\n",
        "                     'index': index_lst}\n",
        "                     \n",
        "# Load model ResNet50 for embedding vectors calculation\n",
        "resnet_model = tf.keras.applications.ResNet50(\n",
        "    include_top=False, weights='imagenet', pooling='avg')\n",
        "\n",
        "# Load the cloth items from the database with correpondent features an embedding vectors\n",
        "df = pd.read_parquet('/content/drive/MyDrive/ds_project_dataset/embeddings_df.parquet')\n",
        "\n",
        "def get_image_path_by_id(id):\n",
        "    \"\"\"\n",
        "    Returns image_path correspondent to id (e.g. 220094021)\n",
        "    \"\"\"\n",
        "    shared_folder_path = '/content/drive/MyDrive/ds_project_dataset/'\n",
        "    id = str(id) \n",
        "    return shared_folder_path + 'images/' + '0'+id[:2]+'/0' + id + '.jpg'"
      ],
      "id": "i2QxiezJZ2oP"
    },
    {
      "cell_type": "markdown",
      "metadata": {
        "id": "KehdOnzTZYz1"
      },
      "source": [
        "# Function"
      ],
      "id": "KehdOnzTZYz1"
    },
    {
      "cell_type": "code",
      "execution_count": 4,
      "metadata": {
        "id": "ltRN-vMWZegg"
      },
      "outputs": [],
      "source": [
        "def get_recommendations(user_image):\n",
        "  \"\"\"\n",
        "  Get recommendations similar/complementary based on the given user_image\n",
        "  \"\"\"\n",
        "  # Resize the image to 80x80\n",
        "  IMG_SIZE_FOR_RECOGNITION = 80\n",
        "  user_image_for_recognition = cv2.resize(user_image, (IMG_SIZE_FOR_RECOGNITION, IMG_SIZE_FOR_RECOGNITION))\n",
        "  \n",
        "  # Get probabilities of the classes\n",
        "  color_pred, type_pred, pattern_pred, index_pred = model.predict(np.array([user_image_for_recognition]))\n",
        "\n",
        "  # Save the recognized features to the Dictionary\n",
        "  pred_imag_dict = {\n",
        "                    'product_group_name': class_labels_dict['product'][np.argmax(type_pred)],\n",
        "                    'index_group_name': class_labels_dict['index'][np.argmax(index_pred)],\n",
        "                    'perceived_colour_master_name': class_labels_dict['colour'][np.argmax(color_pred)]\n",
        "                      }\n",
        "\n",
        "  # Resize the image to 224x224\n",
        "  IMG_SIZE_FOR_EMBEDDING = 224\n",
        "  user_image_for_embedding = cv2.resize(user_image, (IMG_SIZE_FOR_EMBEDDING, IMG_SIZE_FOR_EMBEDDING))\n",
        "\n",
        "  # Add an extra batch dimension to the image\n",
        "  user_image_for_embedding = np.expand_dims(user_image_for_embedding, axis=0)\n",
        "\n",
        "  # Pass the image through the ResNet50 model\n",
        "  features = resnet_model.predict(user_image_for_embedding)\n",
        "\n",
        "  # Extract the embedding from the output of the model\n",
        "  embeddings = features.squeeze()\n",
        "\n",
        "  # Add embedding to the dictionary\n",
        "  pred_imag_dict['embedding'] = embeddings\n",
        "\n",
        "  # Define database to look for similar items\n",
        "  subset_similar = df[(df['product_group_name'] == pred_imag_dict['product_group_name']) & (df['index_group_name'] == pred_imag_dict['index_group_name'])].copy()\n",
        "\n",
        "  # Define database to look for complementary items\n",
        "  subset_comp = df[(df['product_group_name'] != pred_imag_dict['product_group_name']) & (df['index_group_name'] == pred_imag_dict['index_group_name'])].copy()\n",
        "\n",
        "  #### Get recommendation of similar items\n",
        "  # Caluclate similarity scores between user image and images from the database\n",
        "  similarity_scores = []\n",
        "  for array in subset_similar[\"embedding\"]:\n",
        "      array = array.reshape(1, -1)\n",
        "      similarity = cosine_similarity(pred_imag_dict['embedding'].reshape(1, -1), array)\n",
        "      similarity_scores.append(similarity[0][0])\n",
        "  subset_similar['score'] = similarity_scores\n",
        "\n",
        "  # Get TOP 10 similar products\n",
        "  reccs = subset_similar.sort_values(by='score', ascending=False)[1:11]\n",
        "\n",
        "  # Show results\n",
        "  fig, ax = plt.subplots(2, 5, figsize=(3*3, 2*3))\n",
        "\n",
        "  for i, axis in zip(range(10), ax.flatten()):\n",
        "    img = cv2.imread(get_image_path_by_id(id=reccs['article_id'].iloc[i]))\n",
        "    axis.imshow(img)\n",
        "    axis.get_xaxis().set_visible(False)\n",
        "    axis.get_yaxis().set_visible(False)\n",
        "    #break\n",
        "  #fig.suptitle(\"Recommendations of similar items\", fontsize=26)\n",
        "  plt.tight_layout();\n",
        "  fig.savefig('static/recommendation_similar.jpg')\n",
        "\n",
        "  #### Get recommendation of complementary items\n",
        "  # Choose the same index_group_name. I.e. we recommend Ladieswear or Divided if the user has Ladieswear\n",
        "  subset_index = \\\n",
        "    subset_comp[(subset_comp['index_group_name'] == pred_imag_dict['index_group_name']) | \\\n",
        "                (subset_comp['index_group_name'] == 'Divided')]\n",
        "\n",
        "  # Choose the appropriate colour accordingly to the rule\n",
        "  if pred_imag_dict['perceived_colour_master_name'] == 'Beige':\n",
        "    color_to_recommend_lst = ['Blue', 'Purple', 'Brown', 'Mole', 'White', 'Black', 'Yellow', 'Orange']\n",
        "  elif pred_imag_dict['perceived_colour_master_name'] == 'Black':\n",
        "    color_to_recommend_lst = class_labels_dict['colour'].copy()\n",
        "  elif pred_imag_dict['perceived_colour_master_name'] == 'Blue':\n",
        "    color_to_recommend_lst = ['Red', 'Pink', 'Orange', 'Yellow', 'Grey', 'Metal', 'White', 'Black', 'Purple']\n",
        "  elif pred_imag_dict['perceived_colour_master_name'] == 'Brown' or 'Mole':\n",
        "    color_to_recommend_lst = ['Beige', 'Orange', 'White', 'Black']\n",
        "  elif pred_imag_dict['perceived_colour_master_name'] == 'Green':\n",
        "    color_to_recommend_lst = ['Orange', 'Purple', 'Grey','Metal', 'White', 'Black', 'Blue']\n",
        "  elif pred_imag_dict['perceived_colour_master_name'] == 'Grey' or 'Metal':\n",
        "    color_to_recommend_lst = ['Red', 'Pink', 'Blue', 'Purple', 'White', 'Black']\n",
        "  elif pred_imag_dict['perceived_colour_master_name'] == 'Metal':\n",
        "    color_to_recommend_lst = ['Red', 'Pink', 'Blue', 'Purple', 'White', 'Black']\n",
        "  elif pred_imag_dict['perceived_colour_master_name'] == 'Orange':\n",
        "    color_to_recommend_lst = ['Green', 'Blue', 'White', 'Black', 'Beige']\n",
        "  elif pred_imag_dict['perceived_colour_master_name'] == 'Pink':\n",
        "    color_to_recommend_lst = ['Blue', 'Grey', 'White', 'Black', 'Red', 'Beige']\n",
        "  elif pred_imag_dict['perceived_colour_master_name'] == 'Purple':\n",
        "    color_to_recommend_lst = ['Orange','Grey','Metal', 'Green', 'White', 'Black', 'Blue']\n",
        "  elif pred_imag_dict['perceived_colour_master_name'] == 'Red':\n",
        "    color_to_recommend_lst = ['Blue', 'Grey', 'White', 'Black', 'Pink', 'Beige']\n",
        "  elif pred_imag_dict['perceived_colour_master_name'] == 'Turquoise':\n",
        "    color_to_recommend_lst = ['Red', 'Pink', 'Orange', 'Yellow', 'Grey', 'Metal', 'White', 'Black', 'Purple']\n",
        "  elif pred_imag_dict['perceived_colour_master_name'] == 'White':\n",
        "    color_to_recommend_lst = class_labels_dict['colour'].copy()\n",
        "  elif pred_imag_dict['perceived_colour_master_name'] == 'Yellow':\n",
        "    color_to_recommend_lst = ['Green', 'Blue', 'White', 'Black', 'Beige']\n",
        "\n",
        "\n",
        "  subset_index = subset_index[subset_index['perceived_colour_master_name'].isin(color_to_recommend_lst)]\n",
        "\n",
        "  # Choose which type of clothes to recommmend\n",
        "  types_to_recommend_lst = class_labels_dict['product'].copy()\n",
        "\n",
        "  if pred_imag_dict['product_group_name'] == 'Garment Full body':\n",
        "    types_to_recommend_lst.remove('Garment Full body')\n",
        "    types_to_recommend_lst.remove('Garment Lower body')\n",
        "    types_to_recommend_lst.remove('Garment Upper body')\n",
        "  elif pred_imag_dict['product_group_name'] == 'Garment Lower body':\n",
        "    types_to_recommend_lst.remove('Garment Full body')\n",
        "    types_to_recommend_lst.remove('Garment Lower body')\n",
        "  elif pred_imag_dict['product_group_name'] == 'Garment Upper body':\n",
        "    types_to_recommend_lst.remove('Garment Full body')\n",
        "    types_to_recommend_lst.remove('Garment Upper body')\n",
        "\n",
        "  def get_most_similar_vectors(subset_comp, pred_imag_dict, ncols=3):\n",
        "    # Caluclate similarity scores between user image and images from the database\n",
        "    similarity_scores = []\n",
        "    for array in subset_comp[\"embedding\"]:\n",
        "        array = array.reshape(1, -1)\n",
        "        similarity = cosine_similarity(pred_imag_dict['embedding'].reshape(1, -1), array)\n",
        "        similarity_scores.append(similarity[0][0])\n",
        "    subset_comp['score'] = similarity_scores\n",
        "\n",
        "    # Get TOP # similar products\n",
        "    reccs = subset_comp.sort_values(by='score', ascending=False)[:ncols]\n",
        "    return list(reccs['article_id'].values)\n",
        "\n",
        "  id_product_lst = []\n",
        "  ncols=3\n",
        "\n",
        "  for type_to_recommend in types_to_recommend_lst:\n",
        "    subset_group = subset_index[subset_index['product_group_name'] == type_to_recommend]\n",
        "    subset_group = subset_group.copy()\n",
        "    if subset_group.shape[0] == 0:\n",
        "      continue\n",
        "    id_product_lst.append(get_most_similar_vectors(subset_group, pred_imag_dict))\n",
        "    #break\n",
        "\n",
        "  # Flatten list of ID\n",
        "  id_product_lst = [item for sublist in id_product_lst for item in sublist]\n",
        "\n",
        "  # Show results\n",
        "  nrows = int(len(id_product_lst)/3)\n",
        "  fig, ax = plt.subplots(nrows, ncols, figsize=(3*ncols, 3*nrows))\n",
        "\n",
        "  for index, axis in zip(id_product_lst, ax.flatten()):\n",
        "    img = cv2.imread(get_image_path_by_id(id=index))\n",
        "    axis.imshow(img)\n",
        "    axis.get_xaxis().set_visible(False)\n",
        "    axis.get_yaxis().set_visible(False)\n",
        "    #break\n",
        "  #fig.suptitle(\"Recommendations of complementary items\", fontsize=26)\n",
        "  plt.tight_layout();\n",
        "  fig.savefig('static/recommendation_complementary.jpg')\n",
        "  return"
      ],
      "id": "ltRN-vMWZegg"
    },
    {
      "cell_type": "code",
      "execution_count": 4,
      "metadata": {
        "id": "Yj_muRBEZmun"
      },
      "outputs": [],
      "source": [],
      "id": "Yj_muRBEZmun"
    },
    {
      "cell_type": "code",
      "execution_count": 4,
      "metadata": {
        "id": "G8MR83akneUW"
      },
      "outputs": [],
      "source": [],
      "id": "G8MR83akneUW"
    },
    {
      "cell_type": "markdown",
      "metadata": {
        "id": "mEtp8sloZSr-"
      },
      "source": [
        "#Begining"
      ],
      "id": "mEtp8sloZSr-"
    },
    {
      "cell_type": "markdown",
      "metadata": {
        "id": "UQnWeM0us7ka"
      },
      "source": [
        "# FLASK for Google Colab"
      ],
      "id": "UQnWeM0us7ka"
    },
    {
      "cell_type": "code",
      "execution_count": 5,
      "metadata": {
        "colab": {
          "base_uri": "https://localhost:8080/"
        },
        "id": "ImQr7as9rKkl",
        "outputId": "a859782e-1e37-43c9-8b1c-b4ee596facaa"
      },
      "outputs": [
        {
          "output_type": "stream",
          "name": "stdout",
          "text": [
            "Completed!\n"
          ]
        }
      ],
      "source": [
        "!pip install flask --quiet\n",
        "!pip install flask-ngrok --quiet\n",
        "print(\"Completed!\")"
      ],
      "id": "ImQr7as9rKkl"
    },
    {
      "cell_type": "code",
      "execution_count": 6,
      "metadata": {
        "colab": {
          "base_uri": "https://localhost:8080/"
        },
        "id": "DmHbOm5XtAnj",
        "outputId": "218c4f38-fd4e-4161-968e-9587e8f5a59a"
      },
      "outputs": [
        {
          "output_type": "stream",
          "name": "stdout",
          "text": [
            "--2023-03-16 09:03:55--  https://bin.equinox.io/c/4VmDzA7iaHb/ngrok-stable-linux-amd64.tgz\n",
            "Resolving bin.equinox.io (bin.equinox.io)... 54.161.241.46, 18.205.222.128, 54.237.133.81, ...\n",
            "Connecting to bin.equinox.io (bin.equinox.io)|54.161.241.46|:443... connected.\n",
            "HTTP request sent, awaiting response... 200 OK\n",
            "Length: 13856790 (13M) [application/octet-stream]\n",
            "Saving to: ‘ngrok-stable-linux-amd64.tgz’\n",
            "\n",
            "ngrok-stable-linux- 100%[===================>]  13.21M  40.1MB/s    in 0.3s    \n",
            "\n",
            "2023-03-16 09:03:56 (40.1 MB/s) - ‘ngrok-stable-linux-amd64.tgz’ saved [13856790/13856790]\n",
            "\n"
          ]
        }
      ],
      "source": [
        "# install ngrok linux version using the following command or you can get the\n",
        "# latest version from its official website- https://dashboard.ngrok.com/get-started/setup\n",
        "\n",
        "!wget https://bin.equinox.io/c/4VmDzA7iaHb/ngrok-stable-linux-amd64.tgz"
      ],
      "id": "DmHbOm5XtAnj"
    },
    {
      "cell_type": "code",
      "execution_count": 7,
      "metadata": {
        "colab": {
          "base_uri": "https://localhost:8080/"
        },
        "id": "2Ofhohtds7FF",
        "outputId": "c62c07d7-9c51-45fc-83b4-3454016b225e"
      },
      "outputs": [
        {
          "output_type": "stream",
          "name": "stdout",
          "text": [
            "ngrok\n"
          ]
        }
      ],
      "source": [
        "# extract the downloaded file using the following command \n",
        "!tar -xvf /content/ngrok-stable-linux-amd64.tgz"
      ],
      "id": "2Ofhohtds7FF"
    },
    {
      "cell_type": "code",
      "execution_count": 8,
      "metadata": {
        "colab": {
          "base_uri": "https://localhost:8080/"
        },
        "id": "7Gs_3ldktMCS",
        "outputId": "c16ac898-471f-4ce8-a1cb-183506e7a160"
      },
      "outputs": [
        {
          "output_type": "stream",
          "name": "stdout",
          "text": [
            "Authtoken saved to configuration file: /root/.ngrok2/ngrok.yml\n"
          ]
        }
      ],
      "source": [
        "# paste your AuthToken here and execute this command\n",
        "!./ngrok authtoken "
      ],
      "id": "7Gs_3ldktMCS"
    },
    {
      "cell_type": "code",
      "execution_count": null,
      "metadata": {
        "colab": {
          "base_uri": "https://localhost:8080/"
        },
        "id": "oqOas_3HttPw",
        "outputId": "7e81712e-b90b-47ad-cebb-3711b40e12c1"
      },
      "outputs": [
        {
          "output_type": "stream",
          "name": "stdout",
          "text": [
            " * Serving Flask app '__main__'\n",
            " * Debug mode: off\n"
          ]
        },
        {
          "output_type": "stream",
          "name": "stderr",
          "text": [
            "INFO:werkzeug:\u001b[31m\u001b[1mWARNING: This is a development server. Do not use it in a production deployment. Use a production WSGI server instead.\u001b[0m\n",
            " * Running on http://127.0.0.1:5000\n",
            "INFO:werkzeug:\u001b[33mPress CTRL+C to quit\u001b[0m\n"
          ]
        },
        {
          "output_type": "stream",
          "name": "stdout",
          "text": [
            " * Running on http://23b0-34-72-205-24.ngrok.io\n",
            " * Traffic stats available on http://127.0.0.1:4040\n"
          ]
        },
        {
          "output_type": "stream",
          "name": "stderr",
          "text": [
            "INFO:werkzeug:127.0.0.1 - - [16/Mar/2023 09:32:45] \"GET / HTTP/1.1\" 200 -\n"
          ]
        },
        {
          "output_type": "stream",
          "name": "stdout",
          "text": [
            "1/1 [==============================] - 0s 29ms/step\n",
            "1/1 [==============================] - 0s 203ms/step\n"
          ]
        },
        {
          "output_type": "stream",
          "name": "stderr",
          "text": [
            "INFO:werkzeug:127.0.0.1 - - [16/Mar/2023 09:33:08] \"POST / HTTP/1.1\" 200 -\n",
            "INFO:werkzeug:127.0.0.1 - - [16/Mar/2023 09:33:08] \"GET /static/user_image.jpg HTTP/1.1\" 200 -\n",
            "INFO:werkzeug:127.0.0.1 - - [16/Mar/2023 09:33:08] \"GET /static/recommendation_similar.jpg HTTP/1.1\" 200 -\n",
            "INFO:werkzeug:127.0.0.1 - - [16/Mar/2023 09:33:08] \"GET /static/recommendation_complementary.jpg HTTP/1.1\" 200 -\n",
            "INFO:werkzeug:127.0.0.1 - - [16/Mar/2023 09:37:58] \"GET / HTTP/1.1\" 200 -\n"
          ]
        },
        {
          "output_type": "stream",
          "name": "stdout",
          "text": [
            "1/1 [==============================] - 0s 31ms/step\n",
            "1/1 [==============================] - 0s 190ms/step\n"
          ]
        },
        {
          "output_type": "stream",
          "name": "stderr",
          "text": [
            "INFO:werkzeug:127.0.0.1 - - [16/Mar/2023 09:38:31] \"POST / HTTP/1.1\" 200 -\n",
            "INFO:werkzeug:127.0.0.1 - - [16/Mar/2023 09:38:32] \"GET /static/user_image.jpg HTTP/1.1\" 200 -\n",
            "INFO:werkzeug:127.0.0.1 - - [16/Mar/2023 09:38:32] \"GET /static/recommendation_complementary.jpg HTTP/1.1\" 200 -\n",
            "INFO:werkzeug:127.0.0.1 - - [16/Mar/2023 09:38:32] \"GET /static/recommendation_similar.jpg HTTP/1.1\" 200 -\n",
            "INFO:werkzeug:127.0.0.1 - - [16/Mar/2023 09:38:39] \"GET / HTTP/1.1\" 200 -\n"
          ]
        },
        {
          "output_type": "stream",
          "name": "stdout",
          "text": [
            "1/1 [==============================] - 0s 28ms/step\n",
            "1/1 [==============================] - 0s 187ms/step\n"
          ]
        },
        {
          "output_type": "stream",
          "name": "stderr",
          "text": [
            "INFO:werkzeug:127.0.0.1 - - [16/Mar/2023 09:39:02] \"POST / HTTP/1.1\" 200 -\n",
            "INFO:werkzeug:127.0.0.1 - - [16/Mar/2023 09:39:02] \"GET /static/recommendation_complementary.jpg HTTP/1.1\" 200 -\n",
            "INFO:werkzeug:127.0.0.1 - - [16/Mar/2023 09:39:02] \"GET /static/user_image.jpg HTTP/1.1\" 200 -\n",
            "INFO:werkzeug:127.0.0.1 - - [16/Mar/2023 09:39:02] \"GET /static/recommendation_similar.jpg HTTP/1.1\" 200 -\n"
          ]
        }
      ],
      "source": [
        "# import Flask from flask module\n",
        "from flask import Flask, render_template, request\n",
        "\n",
        "# import run_with_ngrok from flask_ngrok to run the app using ngrok\n",
        "from flask_ngrok import run_with_ngrok\n",
        "  \n",
        "app = Flask(__name__) #app name\n",
        "run_with_ngrok(app)\n",
        "  \n",
        "# @app.route(\"/\")\n",
        "# def hello():\n",
        "#     return \"Hello Friends! from Pykit.org. Thank you! for reading this article.\"\n",
        "\n",
        "@app.route(\"/\")\n",
        "def home():\n",
        "    return render_template(\"upload_page.html\")\n",
        "\n",
        "@app.route(\"/\", methods=[\"POST\"])\n",
        "def upload():\n",
        "    if request.method == \"POST\":\n",
        "        file = request.files[\"file\"]\n",
        "        # Do something with the uploaded file here\n",
        "        #filename = os.path.join(app.config[\"UPLOAD_FOLDER\"], file.filename)\n",
        "        file.save('static/user_image.jpg')\n",
        "        \n",
        "        # Read the uploaded image\n",
        "        user_image = cv2.imread('static/user_image.jpg')\n",
        "        # Get recommendations of similar/complementary items\n",
        "        get_recommendations(user_image)        \n",
        "\n",
        "\n",
        "        # create a string variable with the HTML code\n",
        "        html = \"\"\"\n",
        "        <!DOCTYPE html>\n",
        "        <html>\n",
        "        <head>\n",
        "          <title>Uploaded Images</title>\n",
        "          <style>\n",
        "            h1 {\n",
        "        display: flex;\n",
        "        align-items: flex-start;\n",
        "        position: sticky;\n",
        "        align-self: flex-end;\n",
        "        color: #fffcf2;\n",
        "        background-color: #403d39;\n",
        "        padding: 1%;\n",
        "        width:100%;\n",
        "        height:10%;\n",
        "      }\n",
        "          h2 {\n",
        "            color:#403d39;\n",
        "            }\n",
        "\n",
        "          body {\n",
        "            background-attachment: scroll;\n",
        "            background-color: #fffcf2;\n",
        "            margin:0;\n",
        "          }\n",
        "          </style>\n",
        "        </head>\n",
        "        <body>\n",
        "          <center><h1>OutfAIt</h1></center>\n",
        "          <center><h2>User Image</h2>\n",
        "          <img src=\"static/user_image.jpg\" style=\"width:10%;height:10%;\"><br>\n",
        "          <h2>Recommendations of similar items</h2>\n",
        "          <img src=\"static/recommendation_similar.jpg\" style=\"width:50%;height:50%; alt='No similar items found'\"><br>\n",
        "          <h2>Recommendations of complementary items</h2>\n",
        "          <img src=\"static/recommendation_complementary.jpg\" style=\"width:50%;height:50%;\" alt='No complementary items found'><br>\n",
        "        </center></body>\n",
        "        </html>\n",
        "        \"\"\"\n",
        "\n",
        "        # create a new HTML file and write the HTML code to it\n",
        "        with open(\"templates/uploaded_images.html\", \"w\") as f:\n",
        "            f.write(html)\n",
        "        return render_template(\"uploaded_images.html\")\n",
        "\n",
        "\n",
        "if __name__ == \"__main__\":\n",
        "    #app.config[\"UPLOAD_FOLDER\"] = \"/tmp\"\n",
        "    app.run()\n"
      ],
      "id": "oqOas_3HttPw"
    },
    {
      "cell_type": "code",
      "execution_count": null,
      "metadata": {
        "id": "aw6Xt4wYtL8-"
      },
      "outputs": [],
      "source": [],
      "id": "aw6Xt4wYtL8-"
    },
    {
      "cell_type": "code",
      "execution_count": null,
      "metadata": {
        "id": "WNPn63jitLW3"
      },
      "outputs": [],
      "source": [],
      "id": "WNPn63jitLW3"
    },
    {
      "cell_type": "code",
      "execution_count": null,
      "metadata": {
        "id": "33ce96c0-80ad-490a-8fe8-3e195cdedf4c"
      },
      "outputs": [],
      "source": [],
      "id": "33ce96c0-80ad-490a-8fe8-3e195cdedf4c"
    },
    {
      "cell_type": "code",
      "execution_count": null,
      "metadata": {
        "id": "2798b193-5f79-4cba-82a3-32789e0e4740"
      },
      "outputs": [],
      "source": [
        "# !git branch\n",
        "# !git add .\n",
        "# !git commit -m \"final notebook for recommendation update\"\n",
        "#!git push origin kuzma\n"
      ],
      "id": "2798b193-5f79-4cba-82a3-32789e0e4740"
    },
    {
      "cell_type": "code",
      "execution_count": null,
      "metadata": {
        "id": "2bab77b3-9305-4aa9-89cf-58a3ced4c18c"
      },
      "outputs": [],
      "source": [],
      "id": "2bab77b3-9305-4aa9-89cf-58a3ced4c18c"
    }
  ],
  "metadata": {
    "colab": {
      "provenance": [],
      "include_colab_link": true
    },
    "kernelspec": {
      "display_name": "Python 3 (ipykernel)",
      "language": "python",
      "name": "python3"
    },
    "language_info": {
      "codemirror_mode": {
        "name": "ipython",
        "version": 3
      },
      "file_extension": ".py",
      "mimetype": "text/x-python",
      "name": "python",
      "nbconvert_exporter": "python",
      "pygments_lexer": "ipython3",
      "version": "3.9.12"
    }
  },
  "nbformat": 4,
  "nbformat_minor": 5
}