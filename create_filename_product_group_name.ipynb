{
 "cells": [
  {
   "cell_type": "code",
   "execution_count": 2,
   "id": "d828e9a1-5ff6-4386-89fd-516a305124ac",
   "metadata": {
    "tags": []
   },
   "outputs": [],
   "source": [
    "import pandas as pd\n",
    "import numpy as np"
   ]
  },
  {
   "cell_type": "code",
   "execution_count": 17,
   "id": "085f24aa-f08b-44f1-a755-7a9a820d33d9",
   "metadata": {},
   "outputs": [],
   "source": [
    "df_articles = pd.read_csv(\"../fashion_dataset/articles.csv.zip\")"
   ]
  },
  {
   "cell_type": "code",
   "execution_count": 52,
   "id": "f0f766cc-5936-4092-999d-1555195bc9f5",
   "metadata": {},
   "outputs": [
    {
     "data": {
      "text/html": [
       "<div>\n",
       "<style scoped>\n",
       "    .dataframe tbody tr th:only-of-type {\n",
       "        vertical-align: middle;\n",
       "    }\n",
       "\n",
       "    .dataframe tbody tr th {\n",
       "        vertical-align: top;\n",
       "    }\n",
       "\n",
       "    .dataframe thead th {\n",
       "        text-align: right;\n",
       "    }\n",
       "</style>\n",
       "<table border=\"1\" class=\"dataframe\">\n",
       "  <thead>\n",
       "    <tr style=\"text-align: right;\">\n",
       "      <th></th>\n",
       "      <th>article_id</th>\n",
       "      <th>product_code</th>\n",
       "      <th>prod_name</th>\n",
       "      <th>product_type_no</th>\n",
       "      <th>product_type_name</th>\n",
       "      <th>product_group_name</th>\n",
       "      <th>graphical_appearance_no</th>\n",
       "      <th>graphical_appearance_name</th>\n",
       "      <th>colour_group_code</th>\n",
       "      <th>colour_group_name</th>\n",
       "      <th>...</th>\n",
       "      <th>department_name</th>\n",
       "      <th>index_code</th>\n",
       "      <th>index_name</th>\n",
       "      <th>index_group_no</th>\n",
       "      <th>index_group_name</th>\n",
       "      <th>section_no</th>\n",
       "      <th>section_name</th>\n",
       "      <th>garment_group_no</th>\n",
       "      <th>garment_group_name</th>\n",
       "      <th>detail_desc</th>\n",
       "    </tr>\n",
       "  </thead>\n",
       "  <tbody>\n",
       "    <tr>\n",
       "      <th>48527</th>\n",
       "      <td>692339001</td>\n",
       "      <td>692339</td>\n",
       "      <td>JORDAN sweater</td>\n",
       "      <td>252</td>\n",
       "      <td>Sweater</td>\n",
       "      <td>Garment Upper body</td>\n",
       "      <td>1010016</td>\n",
       "      <td>Solid</td>\n",
       "      <td>11</td>\n",
       "      <td>Off White</td>\n",
       "      <td>...</td>\n",
       "      <td>Newborn</td>\n",
       "      <td>G</td>\n",
       "      <td>Baby Sizes 50-98</td>\n",
       "      <td>4</td>\n",
       "      <td>Baby/Children</td>\n",
       "      <td>44</td>\n",
       "      <td>Baby Essentials &amp; Complements</td>\n",
       "      <td>1005</td>\n",
       "      <td>Jersey Fancy</td>\n",
       "      <td>Top in soft velour with appliqués and embroide...</td>\n",
       "    </tr>\n",
       "    <tr>\n",
       "      <th>83521</th>\n",
       "      <td>812364001</td>\n",
       "      <td>812364</td>\n",
       "      <td>X-tina Brazilian</td>\n",
       "      <td>59</td>\n",
       "      <td>Swimwear bottom</td>\n",
       "      <td>Swimwear</td>\n",
       "      <td>1010026</td>\n",
       "      <td>Other structure</td>\n",
       "      <td>11</td>\n",
       "      <td>Off White</td>\n",
       "      <td>...</td>\n",
       "      <td>Swimwear</td>\n",
       "      <td>B</td>\n",
       "      <td>Lingeries/Tights</td>\n",
       "      <td>1</td>\n",
       "      <td>Ladieswear</td>\n",
       "      <td>60</td>\n",
       "      <td>Womens Swimwear, beachwear</td>\n",
       "      <td>1018</td>\n",
       "      <td>Swimwear</td>\n",
       "      <td>Fully lined bikini bottoms in fluted, crinkled...</td>\n",
       "    </tr>\n",
       "  </tbody>\n",
       "</table>\n",
       "<p>2 rows × 25 columns</p>\n",
       "</div>"
      ],
      "text/plain": [
       "       article_id  product_code         prod_name  product_type_no  \\\n",
       "48527   692339001        692339    JORDAN sweater              252   \n",
       "83521   812364001        812364  X-tina Brazilian               59   \n",
       "\n",
       "      product_type_name  product_group_name  graphical_appearance_no  \\\n",
       "48527           Sweater  Garment Upper body                  1010016   \n",
       "83521   Swimwear bottom            Swimwear                  1010026   \n",
       "\n",
       "      graphical_appearance_name  colour_group_code colour_group_name  ...  \\\n",
       "48527                     Solid                 11         Off White  ...   \n",
       "83521           Other structure                 11         Off White  ...   \n",
       "\n",
       "       department_name index_code        index_name index_group_no  \\\n",
       "48527          Newborn          G  Baby Sizes 50-98              4   \n",
       "83521         Swimwear          B  Lingeries/Tights              1   \n",
       "\n",
       "       index_group_name section_no                   section_name  \\\n",
       "48527     Baby/Children         44  Baby Essentials & Complements   \n",
       "83521        Ladieswear         60     Womens Swimwear, beachwear   \n",
       "\n",
       "      garment_group_no  garment_group_name  \\\n",
       "48527             1005        Jersey Fancy   \n",
       "83521             1018            Swimwear   \n",
       "\n",
       "                                             detail_desc  \n",
       "48527  Top in soft velour with appliqués and embroide...  \n",
       "83521  Fully lined bikini bottoms in fluted, crinkled...  \n",
       "\n",
       "[2 rows x 25 columns]"
      ]
     },
     "execution_count": 52,
     "metadata": {},
     "output_type": "execute_result"
    }
   ],
   "source": [
    "df_articles.sample(2)"
   ]
  },
  {
   "cell_type": "code",
   "execution_count": 54,
   "id": "7b8479b4-1f37-43a1-b4cb-be496dd50ece",
   "metadata": {},
   "outputs": [
    {
     "data": {
      "text/html": [
       "<div>\n",
       "<style scoped>\n",
       "    .dataframe tbody tr th:only-of-type {\n",
       "        vertical-align: middle;\n",
       "    }\n",
       "\n",
       "    .dataframe tbody tr th {\n",
       "        vertical-align: top;\n",
       "    }\n",
       "\n",
       "    .dataframe thead th {\n",
       "        text-align: right;\n",
       "    }\n",
       "</style>\n",
       "<table border=\"1\" class=\"dataframe\">\n",
       "  <thead>\n",
       "    <tr style=\"text-align: right;\">\n",
       "      <th></th>\n",
       "      <th>article_id</th>\n",
       "      <th>product_code</th>\n",
       "      <th>prod_name</th>\n",
       "      <th>product_type_no</th>\n",
       "      <th>product_type_name</th>\n",
       "      <th>product_group_name</th>\n",
       "      <th>graphical_appearance_no</th>\n",
       "      <th>graphical_appearance_name</th>\n",
       "      <th>colour_group_code</th>\n",
       "      <th>colour_group_name</th>\n",
       "      <th>...</th>\n",
       "      <th>department_name</th>\n",
       "      <th>index_code</th>\n",
       "      <th>index_name</th>\n",
       "      <th>index_group_no</th>\n",
       "      <th>index_group_name</th>\n",
       "      <th>section_no</th>\n",
       "      <th>section_name</th>\n",
       "      <th>garment_group_no</th>\n",
       "      <th>garment_group_name</th>\n",
       "      <th>detail_desc</th>\n",
       "    </tr>\n",
       "  </thead>\n",
       "  <tbody>\n",
       "    <tr>\n",
       "      <th>1697</th>\n",
       "      <td>370868013</td>\n",
       "      <td>370868</td>\n",
       "      <td>Virginie shorts 2p (K)</td>\n",
       "      <td>296</td>\n",
       "      <td>Pyjama bottom</td>\n",
       "      <td>Nightwear</td>\n",
       "      <td>1010001</td>\n",
       "      <td>All over pattern</td>\n",
       "      <td>51</td>\n",
       "      <td>Light Pink</td>\n",
       "      <td>...</td>\n",
       "      <td>Nightwear</td>\n",
       "      <td>B</td>\n",
       "      <td>Lingeries/Tights</td>\n",
       "      <td>1</td>\n",
       "      <td>Ladieswear</td>\n",
       "      <td>62</td>\n",
       "      <td>Womens Nightwear, Socks &amp; Tigh</td>\n",
       "      <td>1017</td>\n",
       "      <td>Under-, Nightwear</td>\n",
       "      <td>Shorts in soft viscose jersey with an elastica...</td>\n",
       "    </tr>\n",
       "  </tbody>\n",
       "</table>\n",
       "<p>1 rows × 25 columns</p>\n",
       "</div>"
      ],
      "text/plain": [
       "      article_id  product_code               prod_name  product_type_no  \\\n",
       "1697   370868013        370868  Virginie shorts 2p (K)              296   \n",
       "\n",
       "     product_type_name product_group_name  graphical_appearance_no  \\\n",
       "1697     Pyjama bottom          Nightwear                  1010001   \n",
       "\n",
       "     graphical_appearance_name  colour_group_code colour_group_name  ...  \\\n",
       "1697          All over pattern                 51        Light Pink  ...   \n",
       "\n",
       "      department_name index_code        index_name index_group_no  \\\n",
       "1697        Nightwear          B  Lingeries/Tights              1   \n",
       "\n",
       "      index_group_name section_no                    section_name  \\\n",
       "1697        Ladieswear         62  Womens Nightwear, Socks & Tigh   \n",
       "\n",
       "     garment_group_no  garment_group_name  \\\n",
       "1697             1017   Under-, Nightwear   \n",
       "\n",
       "                                            detail_desc  \n",
       "1697  Shorts in soft viscose jersey with an elastica...  \n",
       "\n",
       "[1 rows x 25 columns]"
      ]
     },
     "execution_count": 54,
     "metadata": {},
     "output_type": "execute_result"
    }
   ],
   "source": [
    "df_articles[df_articles['article_id'] == 370868013]"
   ]
  },
  {
   "cell_type": "code",
   "execution_count": null,
   "id": "4f5edf8c-41ee-4443-90fe-3fdd370e33f9",
   "metadata": {},
   "outputs": [],
   "source": []
  },
  {
   "cell_type": "code",
   "execution_count": null,
   "id": "1cdf0bcb-7ee9-4bd7-a936-aa5c73444bbd",
   "metadata": {},
   "outputs": [],
   "source": []
  },
  {
   "cell_type": "markdown",
   "id": "4d381522-4eb0-4f5a-8479-c7d3715a36c8",
   "metadata": {},
   "source": [
    "### Filter out the nonrepresentative product group names"
   ]
  },
  {
   "cell_type": "code",
   "execution_count": 19,
   "id": "a2425fec-4200-4f4d-92cc-529e98f0ebf0",
   "metadata": {},
   "outputs": [],
   "source": [
    "# The product_group_name to have\n",
    "categories_to_have = \\\n",
    "['Garment Upper body', 'Garment Lower body', 'Garment Full body', 'Accessories', 'Underwear',\\\n",
    " 'Shoes', 'Swimwear', 'Socks & Tights', 'Nightwear']"
   ]
  },
  {
   "cell_type": "code",
   "execution_count": 20,
   "id": "b5e53819-6102-4a19-9cdf-e208cac5bdb1",
   "metadata": {
    "tags": []
   },
   "outputs": [],
   "source": [
    "df_articles_filtered = df_articles[df_articles['product_group_name'].isin(categories_to_have)]"
   ]
  },
  {
   "cell_type": "markdown",
   "id": "c45c2836-600a-43dc-860c-fd6eeb880821",
   "metadata": {},
   "source": [
    "### Save to the file"
   ]
  },
  {
   "cell_type": "code",
   "execution_count": 24,
   "id": "2d6112a8-6e29-4745-9e51-1859c3539113",
   "metadata": {},
   "outputs": [],
   "source": [
    "df_to_save = df_articles_filtered[['article_id', 'product_group_name']]"
   ]
  },
  {
   "cell_type": "code",
   "execution_count": 26,
   "id": "2f7a1e90-e1be-42c5-ab13-4560fa18e50f",
   "metadata": {},
   "outputs": [],
   "source": [
    "df_to_save.to_csv('filename_product_group_name.txt', index=False)"
   ]
  },
  {
   "cell_type": "code",
   "execution_count": null,
   "id": "09ebbf97-eccc-4837-aae2-1282314fce63",
   "metadata": {},
   "outputs": [],
   "source": []
  },
  {
   "cell_type": "code",
   "execution_count": 50,
   "id": "85e8c2fb-8d2b-4b22-a15d-d420fa12baf6",
   "metadata": {},
   "outputs": [],
   "source": [
    "with open(\"filename_product_group_name.txt\", \"r\") as file:\n",
    "    lines = file.readlines()[1:]\n",
    "    data = [line.strip().split(\",\") for line in lines]\n",
    "    # for line in lines[1:]:\n",
    "    #     print(line)\n",
    "    #     break\n",
    "    #data = [line.strip().split(\",\") for line in lines]\n",
    "    #print(data)"
   ]
  },
  {
   "cell_type": "code",
   "execution_count": 51,
   "id": "fc506845-f519-4f6c-81f3-f6f8ca9a4c98",
   "metadata": {},
   "outputs": [
    {
     "data": {
      "text/plain": [
       "['108775015', 'Garment Upper body']"
      ]
     },
     "execution_count": 51,
     "metadata": {},
     "output_type": "execute_result"
    }
   ],
   "source": [
    "data[0]"
   ]
  },
  {
   "cell_type": "code",
   "execution_count": 40,
   "id": "ea72e248-2979-4b47-ac9d-c349fa6c8096",
   "metadata": {},
   "outputs": [
    {
     "data": {
      "text/plain": [
       "'108775015'"
      ]
     },
     "execution_count": 40,
     "metadata": {},
     "output_type": "execute_result"
    }
   ],
   "source": [
    "a = '108775015'\n",
    "a"
   ]
  },
  {
   "cell_type": "code",
   "execution_count": 49,
   "id": "e86367fd-2ee6-4e5a-af63-a1bfb47e2e9b",
   "metadata": {},
   "outputs": [
    {
     "data": {
      "text/plain": [
       "'samples/10/108775015.jpg'"
      ]
     },
     "execution_count": 49,
     "metadata": {},
     "output_type": "execute_result"
    }
   ],
   "source": [
    "'samples/' + a[:2]+ '/' + a+'.jpg'"
   ]
  },
  {
   "cell_type": "code",
   "execution_count": null,
   "id": "d35e4a16-53fb-438c-98c9-7cf6cfe49d75",
   "metadata": {},
   "outputs": [],
   "source": []
  },
  {
   "cell_type": "code",
   "execution_count": null,
   "id": "96679e44-b990-46be-aac7-de766226607c",
   "metadata": {},
   "outputs": [],
   "source": []
  },
  {
   "cell_type": "code",
   "execution_count": null,
   "id": "784e904e-b28a-4a1e-a729-1196717f2357",
   "metadata": {},
   "outputs": [],
   "source": []
  },
  {
   "cell_type": "code",
   "execution_count": null,
   "id": "ab995a1c-44b1-4010-b776-f374202a3254",
   "metadata": {},
   "outputs": [],
   "source": []
  },
  {
   "cell_type": "code",
   "execution_count": 139,
   "id": "7ae01f8c-2c80-4714-8744-10699711ce32",
   "metadata": {},
   "outputs": [
    {
     "name": "stdout",
     "output_type": "stream",
     "text": [
      "[kuzma e4466f9] EDA of article.csv update\n",
      " 1 file changed, 1678 insertions(+), 24 deletions(-)\n",
      "Enumerating objects: 5, done.\n",
      "Counting objects: 100% (5/5), done.\n",
      "Delta compression using up to 8 threads\n",
      "Compressing objects: 100% (3/3), done.\n",
      "Writing objects: 100% (3/3), 7.62 KiB | 7.62 MiB/s, done.\n",
      "Total 3 (delta 0), reused 0 (delta 0), pack-reused 0\n",
      "To https://github.com/kuzmatsukanov/kuzma_omri_noa_data_project.git\n",
      "   5612527..e4466f9  kuzma -> kuzma\n"
     ]
    }
   ],
   "source": [
    "# !git branch\n",
    "# !git add .\n",
    "# !git commit -m \"EDA of article.csv update\"\n",
    "# !git push origin kuzma"
   ]
  },
  {
   "cell_type": "code",
   "execution_count": null,
   "id": "02664d8c-47d8-48f1-8203-76b5707fb325",
   "metadata": {},
   "outputs": [],
   "source": []
  },
  {
   "cell_type": "code",
   "execution_count": null,
   "id": "bc69165b-b419-4894-b13c-8afd4b6ccdb9",
   "metadata": {},
   "outputs": [],
   "source": []
  }
 ],
 "metadata": {
  "kernelspec": {
   "display_name": "Python 3 (ipykernel)",
   "language": "python",
   "name": "python3"
  },
  "language_info": {
   "codemirror_mode": {
    "name": "ipython",
    "version": 3
   },
   "file_extension": ".py",
   "mimetype": "text/x-python",
   "name": "python",
   "nbconvert_exporter": "python",
   "pygments_lexer": "ipython3",
   "version": "3.9.12"
  },
  "toc-autonumbering": false
 },
 "nbformat": 4,
 "nbformat_minor": 5
}
