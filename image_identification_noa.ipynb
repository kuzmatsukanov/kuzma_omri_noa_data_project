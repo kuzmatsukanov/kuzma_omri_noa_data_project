{
  "cells": [
    {
      "cell_type": "markdown",
      "metadata": {
        "id": "view-in-github",
        "colab_type": "text"
      },
      "source": [
        "<a href=\"https://colab.research.google.com/github/kuzmatsukanov/kuzma_omri_noa_data_project/blob/noa/image_identification_noa.ipynb\" target=\"_parent\"><img src=\"https://colab.research.google.com/assets/colab-badge.svg\" alt=\"Open In Colab\"/></a>"
      ]
    },
    {
      "cell_type": "markdown",
      "metadata": {
        "id": "9hwz79oj7-mL"
      },
      "source": [
        "Imports"
      ]
    },
    {
      "cell_type": "code",
      "execution_count": null,
      "metadata": {
        "id": "J9cr_2rCTYQ9"
      },
      "outputs": [],
      "source": [
        "import pandas as pd\n",
        "import numpy as np\n",
        "import seaborn as sns\n",
        "import cv2\n",
        "import matplotlib.pyplot as plt\n",
        "from tqdm import tqdm\n",
        "\n",
        "from multiprocessing import Pool\n",
        "from functools import partial\n",
        "\n",
        "\n",
        "from sklearn.model_selection import train_test_split\n",
        "from keras import regularizers\n",
        "from keras.layers import Input, Conv2D, MaxPooling2D, Flatten, Dense\n",
        "from keras.models import Model\n",
        "from keras.callbacks import ModelCheckpoint"
      ]
    },
    {
      "cell_type": "markdown",
      "metadata": {
        "id": "y1ediYVP77br"
      },
      "source": [
        "For multiprocessing later on:"
      ]
    },
    {
      "cell_type": "code",
      "execution_count": null,
      "metadata": {
        "id": "8gwgolS6eoF-"
      },
      "outputs": [],
      "source": [
        "img_size = 80"
      ]
    },
    {
      "cell_type": "code",
      "execution_count": null,
      "metadata": {
        "id": "KjvA2W6Dh7ph"
      },
      "outputs": [],
      "source": [
        "def load_image(image_path, resize_shape=None):\n",
        "    img = cv2.imread(image_path)\n",
        "    if resize_shape is not None:\n",
        "        img = cv2.resize(img, resize_shape)\n",
        "    return img\n",
        "\n",
        "def load_images_parallel(image_paths, n_jobs=4, resize_shape=None):\n",
        "    with Pool(processes=n_jobs) as pool:\n",
        "        func = partial(load_image, resize_shape=resize_shape)\n",
        "        images = pool.map(func, image_paths)\n",
        "    return np.array(images)"
      ]
    },
    {
      "cell_type": "markdown",
      "metadata": {
        "id": "qCyyaLXK8Ap2"
      },
      "source": [
        "Mount the drive"
      ]
    },
    {
      "cell_type": "code",
      "execution_count": null,
      "metadata": {
        "colab": {
          "base_uri": "https://localhost:8080/"
        },
        "id": "At8KkvBETZoe",
        "outputId": "492a1e8d-11c5-482a-c86f-cf832ad06d60"
      },
      "outputs": [
        {
          "name": "stdout",
          "output_type": "stream",
          "text": [
            "Mounted at /content/drive\n"
          ]
        }
      ],
      "source": [
        "from google.colab import drive\n",
        "drive.mount('/content/drive')\n",
        "\n",
        "shared_folder_path = '/content/drive/MyDrive/ds_project_dataset'\n",
        "\n",
        "!cp -r \"$shared_folder_path\" ."
      ]
    },
    {
      "cell_type": "markdown",
      "metadata": {
        "id": "RrPimQQF8Drn"
      },
      "source": [
        "Dataframe"
      ]
    },
    {
      "cell_type": "code",
      "execution_count": null,
      "metadata": {
        "id": "-aVIBZiZTZmJ"
      },
      "outputs": [],
      "source": [
        "df = pd.read_csv('ds_project_dataset/articles.csv')"
      ]
    },
    {
      "cell_type": "code",
      "execution_count": null,
      "metadata": {
        "colab": {
          "base_uri": "https://localhost:8080/",
          "height": 560
        },
        "id": "qXBrpztERvkI",
        "outputId": "ee9c5bc6-d5d4-4301-d7a0-89e3ee9b5720"
      },
      "outputs": [
        {
          "data": {
            "text/html": [
              "\n",
              "  <div id=\"df-a2d1f2d8-dc32-4bd7-bd83-d146a14e812b\">\n",
              "    <div class=\"colab-df-container\">\n",
              "      <div>\n",
              "<style scoped>\n",
              "    .dataframe tbody tr th:only-of-type {\n",
              "        vertical-align: middle;\n",
              "    }\n",
              "\n",
              "    .dataframe tbody tr th {\n",
              "        vertical-align: top;\n",
              "    }\n",
              "\n",
              "    .dataframe thead th {\n",
              "        text-align: right;\n",
              "    }\n",
              "</style>\n",
              "<table border=\"1\" class=\"dataframe\">\n",
              "  <thead>\n",
              "    <tr style=\"text-align: right;\">\n",
              "      <th></th>\n",
              "      <th>article_id</th>\n",
              "      <th>product_code</th>\n",
              "      <th>prod_name</th>\n",
              "      <th>product_type_no</th>\n",
              "      <th>product_type_name</th>\n",
              "      <th>product_group_name</th>\n",
              "      <th>graphical_appearance_no</th>\n",
              "      <th>graphical_appearance_name</th>\n",
              "      <th>colour_group_code</th>\n",
              "      <th>colour_group_name</th>\n",
              "      <th>...</th>\n",
              "      <th>department_name</th>\n",
              "      <th>index_code</th>\n",
              "      <th>index_name</th>\n",
              "      <th>index_group_no</th>\n",
              "      <th>index_group_name</th>\n",
              "      <th>section_no</th>\n",
              "      <th>section_name</th>\n",
              "      <th>garment_group_no</th>\n",
              "      <th>garment_group_name</th>\n",
              "      <th>detail_desc</th>\n",
              "    </tr>\n",
              "  </thead>\n",
              "  <tbody>\n",
              "    <tr>\n",
              "      <th>82805</th>\n",
              "      <td>809989002</td>\n",
              "      <td>809989</td>\n",
              "      <td>Kim top</td>\n",
              "      <td>258</td>\n",
              "      <td>Blouse</td>\n",
              "      <td>Garment Upper body</td>\n",
              "      <td>1010016</td>\n",
              "      <td>Solid</td>\n",
              "      <td>51</td>\n",
              "      <td>Light Pink</td>\n",
              "      <td>...</td>\n",
              "      <td>Baby Girl Woven</td>\n",
              "      <td>G</td>\n",
              "      <td>Baby Sizes 50-98</td>\n",
              "      <td>4</td>\n",
              "      <td>Baby/Children</td>\n",
              "      <td>40</td>\n",
              "      <td>Baby Girl</td>\n",
              "      <td>1006</td>\n",
              "      <td>Woven/Jersey/Knitted mix Baby</td>\n",
              "      <td>Blouse in a soft cotton weave with an elastica...</td>\n",
              "    </tr>\n",
              "    <tr>\n",
              "      <th>68631</th>\n",
              "      <td>754877005</td>\n",
              "      <td>754877</td>\n",
              "      <td>Bagira Padded Soft Bra Mia</td>\n",
              "      <td>306</td>\n",
              "      <td>Bra</td>\n",
              "      <td>Underwear</td>\n",
              "      <td>1010016</td>\n",
              "      <td>Solid</td>\n",
              "      <td>51</td>\n",
              "      <td>Light Pink</td>\n",
              "      <td>...</td>\n",
              "      <td>Expressive Lingerie</td>\n",
              "      <td>B</td>\n",
              "      <td>Lingeries/Tights</td>\n",
              "      <td>1</td>\n",
              "      <td>Ladieswear</td>\n",
              "      <td>61</td>\n",
              "      <td>Womens Lingerie</td>\n",
              "      <td>1017</td>\n",
              "      <td>Under-, Nightwear</td>\n",
              "      <td>Soft, non-wired bra in lace and mesh with remo...</td>\n",
              "    </tr>\n",
              "    <tr>\n",
              "      <th>61939</th>\n",
              "      <td>734700004</td>\n",
              "      <td>734700</td>\n",
              "      <td>Magnolia Trench</td>\n",
              "      <td>263</td>\n",
              "      <td>Coat</td>\n",
              "      <td>Garment Upper body</td>\n",
              "      <td>1010016</td>\n",
              "      <td>Solid</td>\n",
              "      <td>14</td>\n",
              "      <td>Dark Beige</td>\n",
              "      <td>...</td>\n",
              "      <td>Outwear</td>\n",
              "      <td>A</td>\n",
              "      <td>Ladieswear</td>\n",
              "      <td>1</td>\n",
              "      <td>Ladieswear</td>\n",
              "      <td>19</td>\n",
              "      <td>Womens Jackets</td>\n",
              "      <td>1007</td>\n",
              "      <td>Outdoor</td>\n",
              "      <td>Lightweight trenchcoat in twill made from a cu...</td>\n",
              "    </tr>\n",
              "    <tr>\n",
              "      <th>24304</th>\n",
              "      <td>608922001</td>\n",
              "      <td>608922</td>\n",
              "      <td>Joel mixed low SB</td>\n",
              "      <td>94</td>\n",
              "      <td>Sneakers</td>\n",
              "      <td>Shoes</td>\n",
              "      <td>1010016</td>\n",
              "      <td>Solid</td>\n",
              "      <td>10</td>\n",
              "      <td>White</td>\n",
              "      <td>...</td>\n",
              "      <td>Kids Boy Shoes</td>\n",
              "      <td>J</td>\n",
              "      <td>Children Accessories, Swimwear</td>\n",
              "      <td>4</td>\n",
              "      <td>Baby/Children</td>\n",
              "      <td>42</td>\n",
              "      <td>Kids &amp; Baby Shoes</td>\n",
              "      <td>1020</td>\n",
              "      <td>Shoes</td>\n",
              "      <td>Canvas trainers with contrasting colour detail...</td>\n",
              "    </tr>\n",
              "    <tr>\n",
              "      <th>29012</th>\n",
              "      <td>624525001</td>\n",
              "      <td>624525</td>\n",
              "      <td>Tinna sneaker</td>\n",
              "      <td>94</td>\n",
              "      <td>Sneakers</td>\n",
              "      <td>Shoes</td>\n",
              "      <td>1010001</td>\n",
              "      <td>All over pattern</td>\n",
              "      <td>81</td>\n",
              "      <td>Light Turquoise</td>\n",
              "      <td>...</td>\n",
              "      <td>Baby Shoes</td>\n",
              "      <td>G</td>\n",
              "      <td>Baby Sizes 50-98</td>\n",
              "      <td>4</td>\n",
              "      <td>Baby/Children</td>\n",
              "      <td>42</td>\n",
              "      <td>Kids &amp; Baby Shoes</td>\n",
              "      <td>1020</td>\n",
              "      <td>Shoes</td>\n",
              "      <td>Trainers with elasticated lacing at the front ...</td>\n",
              "    </tr>\n",
              "  </tbody>\n",
              "</table>\n",
              "<p>5 rows × 25 columns</p>\n",
              "</div>\n",
              "      <button class=\"colab-df-convert\" onclick=\"convertToInteractive('df-a2d1f2d8-dc32-4bd7-bd83-d146a14e812b')\"\n",
              "              title=\"Convert this dataframe to an interactive table.\"\n",
              "              style=\"display:none;\">\n",
              "        \n",
              "  <svg xmlns=\"http://www.w3.org/2000/svg\" height=\"24px\"viewBox=\"0 0 24 24\"\n",
              "       width=\"24px\">\n",
              "    <path d=\"M0 0h24v24H0V0z\" fill=\"none\"/>\n",
              "    <path d=\"M18.56 5.44l.94 2.06.94-2.06 2.06-.94-2.06-.94-.94-2.06-.94 2.06-2.06.94zm-11 1L8.5 8.5l.94-2.06 2.06-.94-2.06-.94L8.5 2.5l-.94 2.06-2.06.94zm10 10l.94 2.06.94-2.06 2.06-.94-2.06-.94-.94-2.06-.94 2.06-2.06.94z\"/><path d=\"M17.41 7.96l-1.37-1.37c-.4-.4-.92-.59-1.43-.59-.52 0-1.04.2-1.43.59L10.3 9.45l-7.72 7.72c-.78.78-.78 2.05 0 2.83L4 21.41c.39.39.9.59 1.41.59.51 0 1.02-.2 1.41-.59l7.78-7.78 2.81-2.81c.8-.78.8-2.07 0-2.86zM5.41 20L4 18.59l7.72-7.72 1.47 1.35L5.41 20z\"/>\n",
              "  </svg>\n",
              "      </button>\n",
              "      \n",
              "  <style>\n",
              "    .colab-df-container {\n",
              "      display:flex;\n",
              "      flex-wrap:wrap;\n",
              "      gap: 12px;\n",
              "    }\n",
              "\n",
              "    .colab-df-convert {\n",
              "      background-color: #E8F0FE;\n",
              "      border: none;\n",
              "      border-radius: 50%;\n",
              "      cursor: pointer;\n",
              "      display: none;\n",
              "      fill: #1967D2;\n",
              "      height: 32px;\n",
              "      padding: 0 0 0 0;\n",
              "      width: 32px;\n",
              "    }\n",
              "\n",
              "    .colab-df-convert:hover {\n",
              "      background-color: #E2EBFA;\n",
              "      box-shadow: 0px 1px 2px rgba(60, 64, 67, 0.3), 0px 1px 3px 1px rgba(60, 64, 67, 0.15);\n",
              "      fill: #174EA6;\n",
              "    }\n",
              "\n",
              "    [theme=dark] .colab-df-convert {\n",
              "      background-color: #3B4455;\n",
              "      fill: #D2E3FC;\n",
              "    }\n",
              "\n",
              "    [theme=dark] .colab-df-convert:hover {\n",
              "      background-color: #434B5C;\n",
              "      box-shadow: 0px 1px 3px 1px rgba(0, 0, 0, 0.15);\n",
              "      filter: drop-shadow(0px 1px 2px rgba(0, 0, 0, 0.3));\n",
              "      fill: #FFFFFF;\n",
              "    }\n",
              "  </style>\n",
              "\n",
              "      <script>\n",
              "        const buttonEl =\n",
              "          document.querySelector('#df-a2d1f2d8-dc32-4bd7-bd83-d146a14e812b button.colab-df-convert');\n",
              "        buttonEl.style.display =\n",
              "          google.colab.kernel.accessAllowed ? 'block' : 'none';\n",
              "\n",
              "        async function convertToInteractive(key) {\n",
              "          const element = document.querySelector('#df-a2d1f2d8-dc32-4bd7-bd83-d146a14e812b');\n",
              "          const dataTable =\n",
              "            await google.colab.kernel.invokeFunction('convertToInteractive',\n",
              "                                                     [key], {});\n",
              "          if (!dataTable) return;\n",
              "\n",
              "          const docLinkHtml = 'Like what you see? Visit the ' +\n",
              "            '<a target=\"_blank\" href=https://colab.research.google.com/notebooks/data_table.ipynb>data table notebook</a>'\n",
              "            + ' to learn more about interactive tables.';\n",
              "          element.innerHTML = '';\n",
              "          dataTable['output_type'] = 'display_data';\n",
              "          await google.colab.output.renderOutput(dataTable, element);\n",
              "          const docLink = document.createElement('div');\n",
              "          docLink.innerHTML = docLinkHtml;\n",
              "          element.appendChild(docLink);\n",
              "        }\n",
              "      </script>\n",
              "    </div>\n",
              "  </div>\n",
              "  "
            ],
            "text/plain": [
              "       article_id  product_code                   prod_name  product_type_no  \\\n",
              "82805   809989002        809989                     Kim top              258   \n",
              "68631   754877005        754877  Bagira Padded Soft Bra Mia              306   \n",
              "61939   734700004        734700             Magnolia Trench              263   \n",
              "24304   608922001        608922           Joel mixed low SB               94   \n",
              "29012   624525001        624525               Tinna sneaker               94   \n",
              "\n",
              "      product_type_name  product_group_name  graphical_appearance_no  \\\n",
              "82805            Blouse  Garment Upper body                  1010016   \n",
              "68631               Bra           Underwear                  1010016   \n",
              "61939              Coat  Garment Upper body                  1010016   \n",
              "24304          Sneakers               Shoes                  1010016   \n",
              "29012          Sneakers               Shoes                  1010001   \n",
              "\n",
              "      graphical_appearance_name  colour_group_code colour_group_name  ...  \\\n",
              "82805                     Solid                 51        Light Pink  ...   \n",
              "68631                     Solid                 51        Light Pink  ...   \n",
              "61939                     Solid                 14        Dark Beige  ...   \n",
              "24304                     Solid                 10             White  ...   \n",
              "29012          All over pattern                 81   Light Turquoise  ...   \n",
              "\n",
              "           department_name index_code                      index_name  \\\n",
              "82805      Baby Girl Woven          G                Baby Sizes 50-98   \n",
              "68631  Expressive Lingerie          B                Lingeries/Tights   \n",
              "61939              Outwear          A                      Ladieswear   \n",
              "24304       Kids Boy Shoes          J  Children Accessories, Swimwear   \n",
              "29012           Baby Shoes          G                Baby Sizes 50-98   \n",
              "\n",
              "      index_group_no  index_group_name section_no       section_name  \\\n",
              "82805              4     Baby/Children         40          Baby Girl   \n",
              "68631              1        Ladieswear         61    Womens Lingerie   \n",
              "61939              1        Ladieswear         19     Womens Jackets   \n",
              "24304              4     Baby/Children         42  Kids & Baby Shoes   \n",
              "29012              4     Baby/Children         42  Kids & Baby Shoes   \n",
              "\n",
              "      garment_group_no             garment_group_name  \\\n",
              "82805             1006  Woven/Jersey/Knitted mix Baby   \n",
              "68631             1017              Under-, Nightwear   \n",
              "61939             1007                        Outdoor   \n",
              "24304             1020                          Shoes   \n",
              "29012             1020                          Shoes   \n",
              "\n",
              "                                             detail_desc  \n",
              "82805  Blouse in a soft cotton weave with an elastica...  \n",
              "68631  Soft, non-wired bra in lace and mesh with remo...  \n",
              "61939  Lightweight trenchcoat in twill made from a cu...  \n",
              "24304  Canvas trainers with contrasting colour detail...  \n",
              "29012  Trainers with elasticated lacing at the front ...  \n",
              "\n",
              "[5 rows x 25 columns]"
            ]
          },
          "execution_count": 6,
          "metadata": {},
          "output_type": "execute_result"
        }
      ],
      "source": [
        "df.sample(5)"
      ]
    },
    {
      "cell_type": "code",
      "execution_count": null,
      "metadata": {
        "colab": {
          "base_uri": "https://localhost:8080/"
        },
        "id": "KXcuBnScR-Vc",
        "outputId": "d192f983-e397-43cb-b38c-68f2c58ab5d0"
      },
      "outputs": [
        {
          "data": {
            "text/plain": [
              "Index(['article_id', 'product_code', 'prod_name', 'product_type_no',\n",
              "       'product_type_name', 'product_group_name', 'graphical_appearance_no',\n",
              "       'graphical_appearance_name', 'colour_group_code', 'colour_group_name',\n",
              "       'perceived_colour_value_id', 'perceived_colour_value_name',\n",
              "       'perceived_colour_master_id', 'perceived_colour_master_name',\n",
              "       'department_no', 'department_name', 'index_code', 'index_name',\n",
              "       'index_group_no', 'index_group_name', 'section_no', 'section_name',\n",
              "       'garment_group_no', 'garment_group_name', 'detail_desc'],\n",
              "      dtype='object')"
            ]
          },
          "execution_count": 7,
          "metadata": {},
          "output_type": "execute_result"
        }
      ],
      "source": [
        "df.columns"
      ]
    },
    {
      "cell_type": "code",
      "execution_count": null,
      "metadata": {
        "colab": {
          "base_uri": "https://localhost:8080/"
        },
        "id": "qmpZfpIG4v5Y",
        "outputId": "b5fd479b-320e-48a0-a0c4-df9a268f9492"
      },
      "outputs": [
        {
          "data": {
            "text/plain": [
              "array(['Garment Upper body', 'Underwear', 'Socks & Tights',\n",
              "       'Garment Lower body', 'Accessories', 'Items', 'Nightwear',\n",
              "       'Unknown', 'Underwear/nightwear', 'Shoes', 'Swimwear',\n",
              "       'Garment Full body', 'Cosmetic', 'Interior textile', 'Bags',\n",
              "       'Furniture', 'Garment and Shoe care', 'Fun', 'Stationery'],\n",
              "      dtype=object)"
            ]
          },
          "execution_count": 8,
          "metadata": {},
          "output_type": "execute_result"
        }
      ],
      "source": [
        "df['product_group_name'].unique()"
      ]
    },
    {
      "cell_type": "code",
      "execution_count": null,
      "metadata": {
        "colab": {
          "base_uri": "https://localhost:8080/"
        },
        "id": "Ny03p88L2TgN",
        "outputId": "a9a2cd2c-b9e1-4c7f-ad09-979534d27737"
      },
      "outputs": [
        {
          "data": {
            "text/plain": [
              "array(['Black', 'White', 'Beige', 'Grey', 'Blue', 'Pink', 'Lilac Purple',\n",
              "       'Red', 'Mole', 'Orange', 'Metal', 'Brown', 'Turquoise', 'Yellow',\n",
              "       'Khaki green', 'Green', 'undefined', 'Unknown', 'Yellowish Green',\n",
              "       'Bluish Green'], dtype=object)"
            ]
          },
          "execution_count": 9,
          "metadata": {},
          "output_type": "execute_result"
        }
      ],
      "source": [
        "df['perceived_colour_master_name'].unique()"
      ]
    },
    {
      "cell_type": "code",
      "execution_count": null,
      "metadata": {
        "colab": {
          "base_uri": "https://localhost:8080/"
        },
        "id": "WcwpNNM22sX7",
        "outputId": "405f4532-0017-438b-b8b6-a847d81f6d2c"
      },
      "outputs": [
        {
          "data": {
            "text/plain": [
              "array(['Solid', 'Stripe', 'All over pattern', 'Melange', 'Transparent',\n",
              "       'Metallic', 'Application/3D', 'Denim', 'Colour blocking', 'Dot',\n",
              "       'Other structure', 'Contrast', 'Treatment', 'Check', 'Chambray',\n",
              "       'Front print', 'Glittering/Metallic', 'Mixed solid/pattern',\n",
              "       'Placement print', 'Other pattern', 'Neps', 'Embroidery', 'Lace',\n",
              "       'Jacquard', 'Unknown', 'Argyle', 'Slub', 'Mesh', 'Sequin',\n",
              "       'Hologram'], dtype=object)"
            ]
          },
          "execution_count": 10,
          "metadata": {},
          "output_type": "execute_result"
        }
      ],
      "source": [
        "df['graphical_appearance_name'].unique()"
      ]
    },
    {
      "cell_type": "code",
      "execution_count": null,
      "metadata": {
        "colab": {
          "base_uri": "https://localhost:8080/"
        },
        "id": "w7nec6OXR5Tg",
        "outputId": "bdf3431b-0584-42c5-ac01-efa3a3059c59"
      },
      "outputs": [
        {
          "data": {
            "text/plain": [
              "array(['Ladieswear', 'Baby/Children', 'Menswear', 'Sport', 'Divided'],\n",
              "      dtype=object)"
            ]
          },
          "execution_count": 11,
          "metadata": {},
          "output_type": "execute_result"
        }
      ],
      "source": [
        "df['index_group_name'].unique()"
      ]
    },
    {
      "cell_type": "markdown",
      "metadata": {
        "id": "Nw_s8CzO8HwB"
      },
      "source": [
        "Relevant categories"
      ]
    },
    {
      "cell_type": "code",
      "execution_count": null,
      "metadata": {
        "id": "34uW2rf95chd"
      },
      "outputs": [],
      "source": [
        "selected_categories = ['Garment Upper body', 'Underwear', 'Socks & Tights', 'Garment Lower body', 'Shoes', 'Garment Full body', 'Bags']\n",
        "df = df[df['product_group_name'].isin(selected_categories)]"
      ]
    },
    {
      "cell_type": "code",
      "execution_count": null,
      "metadata": {
        "colab": {
          "base_uri": "https://localhost:8080/"
        },
        "id": "6C5H8ojBN772",
        "outputId": "20e6dda8-ce62-456b-ff08-a9f891f3a109"
      },
      "outputs": [
        {
          "data": {
            "text/plain": [
              "array(['Garment Upper body', 'Underwear', 'Socks & Tights',\n",
              "       'Garment Lower body', 'Shoes', 'Garment Full body', 'Bags'],\n",
              "      dtype=object)"
            ]
          },
          "execution_count": 13,
          "metadata": {},
          "output_type": "execute_result"
        }
      ],
      "source": [
        "df['product_group_name'].unique()"
      ]
    },
    {
      "cell_type": "code",
      "execution_count": null,
      "metadata": {
        "id": "LeHCdqaUMUKk"
      },
      "outputs": [],
      "source": [
        "selected_categories = ['undefined', 'Unknown']\n",
        "df = df[~df['perceived_colour_master_name'].isin(selected_categories)]"
      ]
    },
    {
      "cell_type": "code",
      "execution_count": null,
      "metadata": {
        "id": "aNItnxWPPhO0"
      },
      "outputs": [],
      "source": [
        "df['perceived_colour_master_name'] = df['perceived_colour_master_name'].replace(['Khaki green', 'Yellowish Green', 'Bluish Green', 'Lilac Purple'], ['Green', 'Green', 'Green', 'Purple'])"
      ]
    },
    {
      "cell_type": "code",
      "execution_count": null,
      "metadata": {
        "colab": {
          "base_uri": "https://localhost:8080/"
        },
        "id": "8CFMTbfkPyaR",
        "outputId": "b4a21b42-13aa-4d9a-ae62-c46086925435"
      },
      "outputs": [
        {
          "data": {
            "text/plain": [
              "array(['Black', 'White', 'Beige', 'Grey', 'Blue', 'Pink', 'Purple', 'Red',\n",
              "       'Brown', 'Green', 'Yellow', 'Orange', 'Turquoise', 'Mole', 'Metal'],\n",
              "      dtype=object)"
            ]
          },
          "execution_count": 16,
          "metadata": {},
          "output_type": "execute_result"
        }
      ],
      "source": [
        "df['perceived_colour_master_name'].unique()"
      ]
    },
    {
      "cell_type": "code",
      "execution_count": null,
      "metadata": {
        "id": "_BGiCMH8P9lv"
      },
      "outputs": [],
      "source": [
        "selected_categories = ['Other pattern', 'Unknown', 'Other structure']\n",
        "df = df[~df['graphical_appearance_name'].isin(selected_categories)]"
      ]
    },
    {
      "cell_type": "code",
      "execution_count": null,
      "metadata": {
        "colab": {
          "base_uri": "https://localhost:8080/"
        },
        "id": "8Tc0bbgiQOHp",
        "outputId": "00fd0b85-6586-4fa4-ef49-f409abddfebd"
      },
      "outputs": [
        {
          "data": {
            "text/plain": [
              "array(['Solid', 'Stripe', 'All over pattern', 'Melange', 'Denim',\n",
              "       'Colour blocking', 'Dot', 'Contrast', 'Treatment', 'Check',\n",
              "       'Mixed solid/pattern', 'Placement print', 'Glittering/Metallic',\n",
              "       'Neps', 'Embroidery', 'Application/3D', 'Chambray', 'Lace',\n",
              "       'Front print', 'Transparent', 'Jacquard', 'Argyle', 'Slub',\n",
              "       'Metallic', 'Mesh', 'Sequin', 'Hologram'], dtype=object)"
            ]
          },
          "execution_count": 18,
          "metadata": {},
          "output_type": "execute_result"
        }
      ],
      "source": [
        "df['graphical_appearance_name'].unique()"
      ]
    },
    {
      "cell_type": "code",
      "execution_count": null,
      "metadata": {
        "id": "rKm_5W0xSAEy"
      },
      "outputs": [],
      "source": [
        "selected_categories = ['Ladieswear', 'Menswear', 'Divided']\n",
        "df = df[df['index_group_name'].isin(selected_categories)]"
      ]
    },
    {
      "cell_type": "code",
      "execution_count": null,
      "metadata": {
        "colab": {
          "base_uri": "https://localhost:8080/"
        },
        "id": "-Q5DlQs_5oSB",
        "outputId": "a173e6ee-1148-407e-8afc-bb9b4fdb43bf"
      },
      "outputs": [
        {
          "data": {
            "text/plain": [
              "(54933, 25)"
            ]
          },
          "execution_count": 20,
          "metadata": {},
          "output_type": "execute_result"
        }
      ],
      "source": [
        "df.shape"
      ]
    },
    {
      "cell_type": "markdown",
      "metadata": {
        "id": "a2z4rQTMDBtK"
      },
      "source": [
        "Baseline"
      ]
    },
    {
      "cell_type": "code",
      "execution_count": null,
      "metadata": {
        "colab": {
          "base_uri": "https://localhost:8080/",
          "height": 1000
        },
        "id": "yaMl6SZCJvj3",
        "outputId": "226a9ac3-7e66-42da-f7ad-e824ca166805"
      },
      "outputs": [
        {
          "data": {
            "image/png": "[encoded data removed]",
            "text/plain": [
              "<Figure size 432x288 with 1 Axes>"
            ]
          },
          "metadata": {},
          "output_type": "display_data"
        },
        {
          "data": {
            "image/png": "[encoded data removed]",
            "text/plain": [
              "<Figure size 432x288 with 1 Axes>"
            ]
          },
          "metadata": {},
          "output_type": "display_data"
        },
        {
          "data": {
            "image/png": "[encoded data removed]",
            "text/plain": [
              "<Figure size 432x288 with 1 Axes>"
            ]
          },
          "metadata": {},
          "output_type": "display_data"
        },
        {
          "data": {
            "image/png": "[encoded data removed]",
            "text/plain": [
              "<Figure size 432x288 with 1 Axes>"
            ]
          },
          "metadata": {},
          "output_type": "display_data"
        }
      ],
      "source": [
        "for feat in ['product_group_name', 'perceived_colour_master_name', 'graphical_appearance_name', 'index_group_name']:\n",
        "  sns.histplot(y=df[feat], stat = 'density', shrink = 0.8, common_norm=False)\n",
        "  plt.show()"
      ]
    },
    {
      "cell_type": "code",
      "execution_count": null,
      "metadata": {
        "id": "ArlNe67UUVlr"
      },
      "outputs": [],
      "source": [
        "df['subfolder'] = '0' + df['article_id'].astype(str).str[:2]\n",
        "df['image_path'] = 'ds_project_dataset/images/' + df['subfolder'].str.strip() + '/0' + df['article_id'].astype(str) + '.jpg'"
      ]
    },
    {
      "cell_type": "code",
      "execution_count": null,
      "metadata": {
        "colab": {
          "base_uri": "https://localhost:8080/"
        },
        "id": "_hKaGsD0WsQq",
        "outputId": "4007b0e6-ccc6-4474-f5a6-ce2a8cbcc933"
      },
      "outputs": [
        {
          "data": {
            "text/plain": [
              "0         ds_project_dataset/images/010/0108775015.jpg\n",
              "1         ds_project_dataset/images/010/0108775044.jpg\n",
              "2         ds_project_dataset/images/010/0108775051.jpg\n",
              "3         ds_project_dataset/images/011/0110065001.jpg\n",
              "4         ds_project_dataset/images/011/0110065002.jpg\n",
              "                              ...                     \n",
              "105536    ds_project_dataset/images/095/0952938001.jpg\n",
              "105537    ds_project_dataset/images/095/0953450001.jpg\n",
              "105538    ds_project_dataset/images/095/0953763001.jpg\n",
              "105539    ds_project_dataset/images/095/0956217002.jpg\n",
              "105541    ds_project_dataset/images/095/0959461001.jpg\n",
              "Name: image_path, Length: 54933, dtype: object"
            ]
          },
          "execution_count": 23,
          "metadata": {},
          "output_type": "execute_result"
        }
      ],
      "source": [
        "df['image_path']"
      ]
    },
    {
      "cell_type": "code",
      "execution_count": null,
      "metadata": {
        "colab": {
          "base_uri": "https://localhost:8080/",
          "height": 36
        },
        "id": "_C0vqR5rfgfl",
        "outputId": "5b501674-738e-4258-9af4-24bbd7d1b6b9"
      },
      "outputs": [
        {
          "data": {
            "application/vnd.google.colaboratory.intrinsic+json": {
              "type": "string"
            },
            "text/plain": [
              "'ds_project_dataset/images/010/0108775015.jpg'"
            ]
          },
          "execution_count": 24,
          "metadata": {},
          "output_type": "execute_result"
        }
      ],
      "source": [
        "df['image_path'][0]"
      ]
    },
    {
      "cell_type": "code",
      "execution_count": null,
      "metadata": {
        "colab": {
          "base_uri": "https://localhost:8080/",
          "height": 269
        },
        "id": "Dtmi3rS9fe9b",
        "outputId": "8d047c6f-3f03-4cb2-ddc1-0f65beaf8a74"
      },
      "outputs": [
        {
          "data": {
            "image/png": "[encoded data removed]",
            "text/plain": [
              "<Figure size 432x288 with 1 Axes>"
            ]
          },
          "metadata": {},
          "output_type": "display_data"
        }
      ],
      "source": [
        "img = cv2.imread(df['image_path'][0])\n",
        "plt.imshow(img)\n",
        "plt.show()"
      ]
    },
    {
      "cell_type": "code",
      "execution_count": null,
      "metadata": {
        "colab": {
          "base_uri": "https://localhost:8080/"
        },
        "id": "iZzsX96KIbAt",
        "outputId": "588e2b53-7c76-4108-adc0-242a5d4b0d54"
      },
      "outputs": [
        {
          "name": "stderr",
          "output_type": "stream",
          "text": [
            "100%|██████████| 54933/54933 [09:33<00:00, 95.81it/s] \n"
          ]
        }
      ],
      "source": [
        "import os\n",
        "\n",
        "valid_images = []\n",
        "for index, row in tqdm(df.iterrows(), total=len(df)):\n",
        "    if os.path.isfile(row['image_path']):\n",
        "        valid_images.append(row)\n",
        "\n",
        "df_valid_images = pd.DataFrame(valid_images)"
      ]
    },
    {
      "cell_type": "code",
      "execution_count": null,
      "metadata": {
        "colab": {
          "base_uri": "https://localhost:8080/"
        },
        "id": "_wYjN91L557L",
        "outputId": "688a6f8a-e05d-4c06-c41c-7dfa871b3d2c"
      },
      "outputs": [
        {
          "data": {
            "text/plain": [
              "(44388, 27)"
            ]
          },
          "execution_count": 27,
          "metadata": {},
          "output_type": "execute_result"
        }
      ],
      "source": [
        "df_valid_images.shape"
      ]
    },
    {
      "cell_type": "code",
      "execution_count": null,
      "metadata": {
        "colab": {
          "background_save": true
        },
        "id": "BSH3bsoNiN_h"
      },
      "outputs": [],
      "source": [
        "images = load_images_parallel(df_valid_images['image_path'].values, n_jobs=4, resize_shape=(img_size, img_size))"
      ]
    },
    {
      "cell_type": "markdown",
      "metadata": {
        "id": "h7FyMvk78jUV"
      },
      "source": [
        "Encoding for the model"
      ]
    },
    {
      "cell_type": "code",
      "execution_count": null,
      "metadata": {
        "colab": {
          "background_save": true
        },
        "id": "cRbPgLXAxCTV"
      },
      "outputs": [],
      "source": [
        "new_df = pd.DataFrame(df_valid_images['article_id'])"
      ]
    },
    {
      "cell_type": "code",
      "execution_count": null,
      "metadata": {
        "colab": {
          "background_save": true
        },
        "id": "TsNd8nrKxMR5",
        "outputId": "13511205-c027-423c-fbca-3631127c7539"
      },
      "outputs": [
        {
          "data": {
            "text/html": [
              "\n",
              "  <div id=\"df-f185f975-b99d-4267-88a0-8f8cd3d23c2e\">\n",
              "    <div class=\"colab-df-container\">\n",
              "      <div>\n",
              "<style scoped>\n",
              "    .dataframe tbody tr th:only-of-type {\n",
              "        vertical-align: middle;\n",
              "    }\n",
              "\n",
              "    .dataframe tbody tr th {\n",
              "        vertical-align: top;\n",
              "    }\n",
              "\n",
              "    .dataframe thead th {\n",
              "        text-align: right;\n",
              "    }\n",
              "</style>\n",
              "<table border=\"1\" class=\"dataframe\">\n",
              "  <thead>\n",
              "    <tr style=\"text-align: right;\">\n",
              "      <th></th>\n",
              "      <th>article_id</th>\n",
              "    </tr>\n",
              "  </thead>\n",
              "  <tbody>\n",
              "    <tr>\n",
              "      <th>0</th>\n",
              "      <td>108775015</td>\n",
              "    </tr>\n",
              "    <tr>\n",
              "      <th>1</th>\n",
              "      <td>108775044</td>\n",
              "    </tr>\n",
              "    <tr>\n",
              "      <th>2</th>\n",
              "      <td>108775051</td>\n",
              "    </tr>\n",
              "    <tr>\n",
              "      <th>3</th>\n",
              "      <td>110065001</td>\n",
              "    </tr>\n",
              "    <tr>\n",
              "      <th>4</th>\n",
              "      <td>110065002</td>\n",
              "    </tr>\n",
              "    <tr>\n",
              "      <th>...</th>\n",
              "      <td>...</td>\n",
              "    </tr>\n",
              "    <tr>\n",
              "      <th>87117</th>\n",
              "      <td>826164005</td>\n",
              "    </tr>\n",
              "    <tr>\n",
              "      <th>87118</th>\n",
              "      <td>826164006</td>\n",
              "    </tr>\n",
              "    <tr>\n",
              "      <th>87119</th>\n",
              "      <td>826164007</td>\n",
              "    </tr>\n",
              "    <tr>\n",
              "      <th>87120</th>\n",
              "      <td>826164009</td>\n",
              "    </tr>\n",
              "    <tr>\n",
              "      <th>87121</th>\n",
              "      <td>826164016</td>\n",
              "    </tr>\n",
              "  </tbody>\n",
              "</table>\n",
              "<p>44388 rows × 1 columns</p>\n",
              "</div>\n",
              "      <button class=\"colab-df-convert\" onclick=\"convertToInteractive('df-f185f975-b99d-4267-88a0-8f8cd3d23c2e')\"\n",
              "              title=\"Convert this dataframe to an interactive table.\"\n",
              "              style=\"display:none;\">\n",
              "        \n",
              "  <svg xmlns=\"http://www.w3.org/2000/svg\" height=\"24px\"viewBox=\"0 0 24 24\"\n",
              "       width=\"24px\">\n",
              "    <path d=\"M0 0h24v24H0V0z\" fill=\"none\"/>\n",
              "    <path d=\"M18.56 5.44l.94 2.06.94-2.06 2.06-.94-2.06-.94-.94-2.06-.94 2.06-2.06.94zm-11 1L8.5 8.5l.94-2.06 2.06-.94-2.06-.94L8.5 2.5l-.94 2.06-2.06.94zm10 10l.94 2.06.94-2.06 2.06-.94-2.06-.94-.94-2.06-.94 2.06-2.06.94z\"/><path d=\"M17.41 7.96l-1.37-1.37c-.4-.4-.92-.59-1.43-.59-.52 0-1.04.2-1.43.59L10.3 9.45l-7.72 7.72c-.78.78-.78 2.05 0 2.83L4 21.41c.39.39.9.59 1.41.59.51 0 1.02-.2 1.41-.59l7.78-7.78 2.81-2.81c.8-.78.8-2.07 0-2.86zM5.41 20L4 18.59l7.72-7.72 1.47 1.35L5.41 20z\"/>\n",
              "  </svg>\n",
              "      </button>\n",
              "      \n",
              "  <style>\n",
              "    .colab-df-container {\n",
              "      display:flex;\n",
              "      flex-wrap:wrap;\n",
              "      gap: 12px;\n",
              "    }\n",
              "\n",
              "    .colab-df-convert {\n",
              "      background-color: #E8F0FE;\n",
              "      border: none;\n",
              "      border-radius: 50%;\n",
              "      cursor: pointer;\n",
              "      display: none;\n",
              "      fill: #1967D2;\n",
              "      height: 32px;\n",
              "      padding: 0 0 0 0;\n",
              "      width: 32px;\n",
              "    }\n",
              "\n",
              "    .colab-df-convert:hover {\n",
              "      background-color: #E2EBFA;\n",
              "      box-shadow: 0px 1px 2px rgba(60, 64, 67, 0.3), 0px 1px 3px 1px rgba(60, 64, 67, 0.15);\n",
              "      fill: #174EA6;\n",
              "    }\n",
              "\n",
              "    [theme=dark] .colab-df-convert {\n",
              "      background-color: #3B4455;\n",
              "      fill: #D2E3FC;\n",
              "    }\n",
              "\n",
              "    [theme=dark] .colab-df-convert:hover {\n",
              "      background-color: #434B5C;\n",
              "      box-shadow: 0px 1px 3px 1px rgba(0, 0, 0, 0.15);\n",
              "      filter: drop-shadow(0px 1px 2px rgba(0, 0, 0, 0.3));\n",
              "      fill: #FFFFFF;\n",
              "    }\n",
              "  </style>\n",
              "\n",
              "      <script>\n",
              "        const buttonEl =\n",
              "          document.querySelector('#df-f185f975-b99d-4267-88a0-8f8cd3d23c2e button.colab-df-convert');\n",
              "        buttonEl.style.display =\n",
              "          google.colab.kernel.accessAllowed ? 'block' : 'none';\n",
              "\n",
              "        async function convertToInteractive(key) {\n",
              "          const element = document.querySelector('#df-f185f975-b99d-4267-88a0-8f8cd3d23c2e');\n",
              "          const dataTable =\n",
              "            await google.colab.kernel.invokeFunction('convertToInteractive',\n",
              "                                                     [key], {});\n",
              "          if (!dataTable) return;\n",
              "\n",
              "          const docLinkHtml = 'Like what you see? Visit the ' +\n",
              "            '<a target=\"_blank\" href=https://colab.research.google.com/notebooks/data_table.ipynb>data table notebook</a>'\n",
              "            + ' to learn more about interactive tables.';\n",
              "          element.innerHTML = '';\n",
              "          dataTable['output_type'] = 'display_data';\n",
              "          await google.colab.output.renderOutput(dataTable, element);\n",
              "          const docLink = document.createElement('div');\n",
              "          docLink.innerHTML = docLinkHtml;\n",
              "          element.appendChild(docLink);\n",
              "        }\n",
              "      </script>\n",
              "    </div>\n",
              "  </div>\n",
              "  "
            ],
            "text/plain": [
              "       article_id\n",
              "0       108775015\n",
              "1       108775044\n",
              "2       108775051\n",
              "3       110065001\n",
              "4       110065002\n",
              "...           ...\n",
              "87117   826164005\n",
              "87118   826164006\n",
              "87119   826164007\n",
              "87120   826164009\n",
              "87121   826164016\n",
              "\n",
              "[44388 rows x 1 columns]"
            ]
          },
          "execution_count": 30,
          "metadata": {},
          "output_type": "execute_result"
        }
      ],
      "source": [
        "new_df"
      ]
    },
    {
      "cell_type": "code",
      "execution_count": null,
      "metadata": {
        "colab": {
          "background_save": true
        },
        "id": "MCk1unMjUe8t"
      },
      "outputs": [],
      "source": [
        "new_df = new_df.join(pd.get_dummies(df_valid_images['perceived_colour_master_name'], prefix='colour'))\n",
        "new_df = new_df.join(pd.get_dummies(df_valid_images['product_group_name'], prefix='product'))\n",
        "new_df = new_df.join(pd.get_dummies(df_valid_images['graphical_appearance_name'], prefix='pattern'))\n",
        "new_df = new_df.join(pd.get_dummies(df_valid_images['index_group_name'], prefix='index'))"
      ]
    },
    {
      "cell_type": "code",
      "execution_count": null,
      "metadata": {
        "colab": {
          "background_save": true
        },
        "id": "48fei3x7uL9a",
        "outputId": "a1bb7b18-6a65-4521-86ff-6e504b8f0da5"
      },
      "outputs": [
        {
          "data": {
            "text/html": [
              "\n",
              "  <div id=\"df-488bbd87-5765-41d4-af63-5e851a0a46d5\">\n",
              "    <div class=\"colab-df-container\">\n",
              "      <div>\n",
              "<style scoped>\n",
              "    .dataframe tbody tr th:only-of-type {\n",
              "        vertical-align: middle;\n",
              "    }\n",
              "\n",
              "    .dataframe tbody tr th {\n",
              "        vertical-align: top;\n",
              "    }\n",
              "\n",
              "    .dataframe thead th {\n",
              "        text-align: right;\n",
              "    }\n",
              "</style>\n",
              "<table border=\"1\" class=\"dataframe\">\n",
              "  <thead>\n",
              "    <tr style=\"text-align: right;\">\n",
              "      <th></th>\n",
              "      <th>article_id</th>\n",
              "      <th>colour_Beige</th>\n",
              "      <th>colour_Black</th>\n",
              "      <th>colour_Blue</th>\n",
              "      <th>colour_Brown</th>\n",
              "      <th>colour_Green</th>\n",
              "      <th>colour_Grey</th>\n",
              "      <th>colour_Metal</th>\n",
              "      <th>colour_Mole</th>\n",
              "      <th>colour_Orange</th>\n",
              "      <th>...</th>\n",
              "      <th>pattern_Placement print</th>\n",
              "      <th>pattern_Sequin</th>\n",
              "      <th>pattern_Slub</th>\n",
              "      <th>pattern_Solid</th>\n",
              "      <th>pattern_Stripe</th>\n",
              "      <th>pattern_Transparent</th>\n",
              "      <th>pattern_Treatment</th>\n",
              "      <th>index_Divided</th>\n",
              "      <th>index_Ladieswear</th>\n",
              "      <th>index_Menswear</th>\n",
              "    </tr>\n",
              "  </thead>\n",
              "  <tbody>\n",
              "    <tr>\n",
              "      <th>4038</th>\n",
              "      <td>474461031</td>\n",
              "      <td>0</td>\n",
              "      <td>1</td>\n",
              "      <td>0</td>\n",
              "      <td>0</td>\n",
              "      <td>0</td>\n",
              "      <td>0</td>\n",
              "      <td>0</td>\n",
              "      <td>0</td>\n",
              "      <td>0</td>\n",
              "      <td>...</td>\n",
              "      <td>0</td>\n",
              "      <td>0</td>\n",
              "      <td>0</td>\n",
              "      <td>0</td>\n",
              "      <td>0</td>\n",
              "      <td>0</td>\n",
              "      <td>0</td>\n",
              "      <td>0</td>\n",
              "      <td>0</td>\n",
              "      <td>1</td>\n",
              "    </tr>\n",
              "    <tr>\n",
              "      <th>62533</th>\n",
              "      <td>736632004</td>\n",
              "      <td>0</td>\n",
              "      <td>0</td>\n",
              "      <td>0</td>\n",
              "      <td>0</td>\n",
              "      <td>0</td>\n",
              "      <td>0</td>\n",
              "      <td>0</td>\n",
              "      <td>0</td>\n",
              "      <td>0</td>\n",
              "      <td>...</td>\n",
              "      <td>0</td>\n",
              "      <td>0</td>\n",
              "      <td>0</td>\n",
              "      <td>1</td>\n",
              "      <td>0</td>\n",
              "      <td>0</td>\n",
              "      <td>0</td>\n",
              "      <td>0</td>\n",
              "      <td>1</td>\n",
              "      <td>0</td>\n",
              "    </tr>\n",
              "    <tr>\n",
              "      <th>79664</th>\n",
              "      <td>798645001</td>\n",
              "      <td>0</td>\n",
              "      <td>0</td>\n",
              "      <td>1</td>\n",
              "      <td>0</td>\n",
              "      <td>0</td>\n",
              "      <td>0</td>\n",
              "      <td>0</td>\n",
              "      <td>0</td>\n",
              "      <td>0</td>\n",
              "      <td>...</td>\n",
              "      <td>0</td>\n",
              "      <td>0</td>\n",
              "      <td>0</td>\n",
              "      <td>0</td>\n",
              "      <td>0</td>\n",
              "      <td>0</td>\n",
              "      <td>0</td>\n",
              "      <td>1</td>\n",
              "      <td>0</td>\n",
              "      <td>0</td>\n",
              "    </tr>\n",
              "    <tr>\n",
              "      <th>67069</th>\n",
              "      <td>749699032</td>\n",
              "      <td>0</td>\n",
              "      <td>0</td>\n",
              "      <td>1</td>\n",
              "      <td>0</td>\n",
              "      <td>0</td>\n",
              "      <td>0</td>\n",
              "      <td>0</td>\n",
              "      <td>0</td>\n",
              "      <td>0</td>\n",
              "      <td>...</td>\n",
              "      <td>0</td>\n",
              "      <td>0</td>\n",
              "      <td>0</td>\n",
              "      <td>1</td>\n",
              "      <td>0</td>\n",
              "      <td>0</td>\n",
              "      <td>0</td>\n",
              "      <td>0</td>\n",
              "      <td>1</td>\n",
              "      <td>0</td>\n",
              "    </tr>\n",
              "    <tr>\n",
              "      <th>79260</th>\n",
              "      <td>796987001</td>\n",
              "      <td>0</td>\n",
              "      <td>1</td>\n",
              "      <td>0</td>\n",
              "      <td>0</td>\n",
              "      <td>0</td>\n",
              "      <td>0</td>\n",
              "      <td>0</td>\n",
              "      <td>0</td>\n",
              "      <td>0</td>\n",
              "      <td>...</td>\n",
              "      <td>0</td>\n",
              "      <td>0</td>\n",
              "      <td>0</td>\n",
              "      <td>1</td>\n",
              "      <td>0</td>\n",
              "      <td>0</td>\n",
              "      <td>0</td>\n",
              "      <td>0</td>\n",
              "      <td>1</td>\n",
              "      <td>0</td>\n",
              "    </tr>\n",
              "  </tbody>\n",
              "</table>\n",
              "<p>5 rows × 53 columns</p>\n",
              "</div>\n",
              "      <button class=\"colab-df-convert\" onclick=\"convertToInteractive('df-488bbd87-5765-41d4-af63-5e851a0a46d5')\"\n",
              "              title=\"Convert this dataframe to an interactive table.\"\n",
              "              style=\"display:none;\">\n",
              "        \n",
              "  <svg xmlns=\"http://www.w3.org/2000/svg\" height=\"24px\"viewBox=\"0 0 24 24\"\n",
              "       width=\"24px\">\n",
              "    <path d=\"M0 0h24v24H0V0z\" fill=\"none\"/>\n",
              "    <path d=\"M18.56 5.44l.94 2.06.94-2.06 2.06-.94-2.06-.94-.94-2.06-.94 2.06-2.06.94zm-11 1L8.5 8.5l.94-2.06 2.06-.94-2.06-.94L8.5 2.5l-.94 2.06-2.06.94zm10 10l.94 2.06.94-2.06 2.06-.94-2.06-.94-.94-2.06-.94 2.06-2.06.94z\"/><path d=\"M17.41 7.96l-1.37-1.37c-.4-.4-.92-.59-1.43-.59-.52 0-1.04.2-1.43.59L10.3 9.45l-7.72 7.72c-.78.78-.78 2.05 0 2.83L4 21.41c.39.39.9.59 1.41.59.51 0 1.02-.2 1.41-.59l7.78-7.78 2.81-2.81c.8-.78.8-2.07 0-2.86zM5.41 20L4 18.59l7.72-7.72 1.47 1.35L5.41 20z\"/>\n",
              "  </svg>\n",
              "      </button>\n",
              "      \n",
              "  <style>\n",
              "    .colab-df-container {\n",
              "      display:flex;\n",
              "      flex-wrap:wrap;\n",
              "      gap: 12px;\n",
              "    }\n",
              "\n",
              "    .colab-df-convert {\n",
              "      background-color: #E8F0FE;\n",
              "      border: none;\n",
              "      border-radius: 50%;\n",
              "      cursor: pointer;\n",
              "      display: none;\n",
              "      fill: #1967D2;\n",
              "      height: 32px;\n",
              "      padding: 0 0 0 0;\n",
              "      width: 32px;\n",
              "    }\n",
              "\n",
              "    .colab-df-convert:hover {\n",
              "      background-color: #E2EBFA;\n",
              "      box-shadow: 0px 1px 2px rgba(60, 64, 67, 0.3), 0px 1px 3px 1px rgba(60, 64, 67, 0.15);\n",
              "      fill: #174EA6;\n",
              "    }\n",
              "\n",
              "    [theme=dark] .colab-df-convert {\n",
              "      background-color: #3B4455;\n",
              "      fill: #D2E3FC;\n",
              "    }\n",
              "\n",
              "    [theme=dark] .colab-df-convert:hover {\n",
              "      background-color: #434B5C;\n",
              "      box-shadow: 0px 1px 3px 1px rgba(0, 0, 0, 0.15);\n",
              "      filter: drop-shadow(0px 1px 2px rgba(0, 0, 0, 0.3));\n",
              "      fill: #FFFFFF;\n",
              "    }\n",
              "  </style>\n",
              "\n",
              "      <script>\n",
              "        const buttonEl =\n",
              "          document.querySelector('#df-488bbd87-5765-41d4-af63-5e851a0a46d5 button.colab-df-convert');\n",
              "        buttonEl.style.display =\n",
              "          google.colab.kernel.accessAllowed ? 'block' : 'none';\n",
              "\n",
              "        async function convertToInteractive(key) {\n",
              "          const element = document.querySelector('#df-488bbd87-5765-41d4-af63-5e851a0a46d5');\n",
              "          const dataTable =\n",
              "            await google.colab.kernel.invokeFunction('convertToInteractive',\n",
              "                                                     [key], {});\n",
              "          if (!dataTable) return;\n",
              "\n",
              "          const docLinkHtml = 'Like what you see? Visit the ' +\n",
              "            '<a target=\"_blank\" href=https://colab.research.google.com/notebooks/data_table.ipynb>data table notebook</a>'\n",
              "            + ' to learn more about interactive tables.';\n",
              "          element.innerHTML = '';\n",
              "          dataTable['output_type'] = 'display_data';\n",
              "          await google.colab.output.renderOutput(dataTable, element);\n",
              "          const docLink = document.createElement('div');\n",
              "          docLink.innerHTML = docLinkHtml;\n",
              "          element.appendChild(docLink);\n",
              "        }\n",
              "      </script>\n",
              "    </div>\n",
              "  </div>\n",
              "  "
            ],
            "text/plain": [
              "       article_id  colour_Beige  colour_Black  colour_Blue  colour_Brown  \\\n",
              "4038    474461031             0             1            0             0   \n",
              "62533   736632004             0             0            0             0   \n",
              "79664   798645001             0             0            1             0   \n",
              "67069   749699032             0             0            1             0   \n",
              "79260   796987001             0             1            0             0   \n",
              "\n",
              "       colour_Green  colour_Grey  colour_Metal  colour_Mole  colour_Orange  \\\n",
              "4038              0            0             0            0              0   \n",
              "62533             0            0             0            0              0   \n",
              "79664             0            0             0            0              0   \n",
              "67069             0            0             0            0              0   \n",
              "79260             0            0             0            0              0   \n",
              "\n",
              "       ...  pattern_Placement print  pattern_Sequin  pattern_Slub  \\\n",
              "4038   ...                        0               0             0   \n",
              "62533  ...                        0               0             0   \n",
              "79664  ...                        0               0             0   \n",
              "67069  ...                        0               0             0   \n",
              "79260  ...                        0               0             0   \n",
              "\n",
              "       pattern_Solid  pattern_Stripe  pattern_Transparent  pattern_Treatment  \\\n",
              "4038               0               0                    0                  0   \n",
              "62533              1               0                    0                  0   \n",
              "79664              0               0                    0                  0   \n",
              "67069              1               0                    0                  0   \n",
              "79260              1               0                    0                  0   \n",
              "\n",
              "       index_Divided  index_Ladieswear  index_Menswear  \n",
              "4038               0                 0               1  \n",
              "62533              0                 1               0  \n",
              "79664              1                 0               0  \n",
              "67069              0                 1               0  \n",
              "79260              0                 1               0  \n",
              "\n",
              "[5 rows x 53 columns]"
            ]
          },
          "execution_count": 32,
          "metadata": {},
          "output_type": "execute_result"
        }
      ],
      "source": [
        "new_df.sample(5)"
      ]
    },
    {
      "cell_type": "code",
      "execution_count": null,
      "metadata": {
        "colab": {
          "background_save": true
        },
        "id": "1P9u7qpkwUKs"
      },
      "outputs": [],
      "source": [
        "color_array = new_df.filter(like='colour_').to_numpy()\n",
        "pattern_array = new_df.filter(like='pattern_').to_numpy()\n",
        "type_array = new_df.filter(like='product_').to_numpy()\n",
        "index_array = new_df.filter(like='index_').to_numpy()"
      ]
    },
    {
      "cell_type": "code",
      "execution_count": null,
      "metadata": {
        "colab": {
          "background_save": true
        },
        "id": "LZY26zVGHc_e",
        "outputId": "91285945-f632-4d02-f7cb-40e111e9818a"
      },
      "outputs": [
        {
          "data": {
            "text/plain": [
              "Index(['colour_Beige', 'colour_Black', 'colour_Blue', 'colour_Brown',\n",
              "       'colour_Green', 'colour_Grey', 'colour_Metal', 'colour_Mole',\n",
              "       'colour_Orange', 'colour_Pink', 'colour_Purple', 'colour_Red',\n",
              "       'colour_Turquoise', 'colour_White', 'colour_Yellow'],\n",
              "      dtype='object')"
            ]
          },
          "execution_count": 34,
          "metadata": {},
          "output_type": "execute_result"
        }
      ],
      "source": [
        "new_df.filter(like='colour_').columns"
      ]
    },
    {
      "cell_type": "code",
      "execution_count": null,
      "metadata": {
        "colab": {
          "background_save": true
        },
        "id": "CeVi8fPxHnUK",
        "outputId": "523d7f86-e88c-429a-f351-e6e04c1d7d03"
      },
      "outputs": [
        {
          "data": {
            "text/plain": [
              "Index(['pattern_All over pattern', 'pattern_Application/3D', 'pattern_Argyle',\n",
              "       'pattern_Chambray', 'pattern_Check', 'pattern_Colour blocking',\n",
              "       'pattern_Contrast', 'pattern_Denim', 'pattern_Dot',\n",
              "       'pattern_Embroidery', 'pattern_Front print',\n",
              "       'pattern_Glittering/Metallic', 'pattern_Hologram', 'pattern_Jacquard',\n",
              "       'pattern_Lace', 'pattern_Melange', 'pattern_Mesh', 'pattern_Metallic',\n",
              "       'pattern_Mixed solid/pattern', 'pattern_Neps',\n",
              "       'pattern_Placement print', 'pattern_Sequin', 'pattern_Slub',\n",
              "       'pattern_Solid', 'pattern_Stripe', 'pattern_Transparent',\n",
              "       'pattern_Treatment'],\n",
              "      dtype='object')"
            ]
          },
          "execution_count": 35,
          "metadata": {},
          "output_type": "execute_result"
        }
      ],
      "source": [
        "new_df.filter(like='pattern_').columns"
      ]
    },
    {
      "cell_type": "code",
      "execution_count": null,
      "metadata": {
        "colab": {
          "background_save": true
        },
        "id": "u4XT310CHpD3",
        "outputId": "55d7c987-e65c-4873-d4ad-7751c3741b9f"
      },
      "outputs": [
        {
          "data": {
            "text/plain": [
              "Index(['product_Bags', 'product_Garment Full body',\n",
              "       'product_Garment Lower body', 'product_Garment Upper body',\n",
              "       'product_Shoes', 'product_Socks & Tights', 'product_Underwear'],\n",
              "      dtype='object')"
            ]
          },
          "execution_count": 36,
          "metadata": {},
          "output_type": "execute_result"
        }
      ],
      "source": [
        "new_df.filter(like='product_').columns"
      ]
    },
    {
      "cell_type": "code",
      "execution_count": null,
      "metadata": {
        "colab": {
          "background_save": true
        },
        "id": "_61sV4VaHq0G",
        "outputId": "5919351c-190b-4342-adb4-9b08311436c2"
      },
      "outputs": [
        {
          "data": {
            "text/plain": [
              "Index(['index_Divided', 'index_Ladieswear', 'index_Menswear'], dtype='object')"
            ]
          },
          "execution_count": 37,
          "metadata": {},
          "output_type": "execute_result"
        }
      ],
      "source": [
        "new_df.filter(like='index_').columns"
      ]
    },
    {
      "cell_type": "code",
      "execution_count": null,
      "metadata": {
        "colab": {
          "background_save": true
        },
        "id": "HPAlcwwiwpaW",
        "outputId": "df24e630-b520-4b19-e263-173ace9a1539"
      },
      "outputs": [
        {
          "data": {
            "text/plain": [
              "array([[0, 1, 0, ..., 0, 0, 0],\n",
              "       [0, 0, 0, ..., 0, 1, 0],\n",
              "       [0, 0, 0, ..., 0, 1, 0],\n",
              "       ...,\n",
              "       [0, 0, 0, ..., 0, 0, 0],\n",
              "       [0, 0, 0, ..., 0, 0, 0],\n",
              "       [0, 0, 0, ..., 0, 1, 0]], dtype=uint8)"
            ]
          },
          "execution_count": 38,
          "metadata": {},
          "output_type": "execute_result"
        }
      ],
      "source": [
        "color_array"
      ]
    },
    {
      "cell_type": "markdown",
      "metadata": {
        "id": "or0qQCdU8o8z"
      },
      "source": [
        "Splitting + Model"
      ]
    },
    {
      "cell_type": "code",
      "execution_count": null,
      "metadata": {
        "colab": {
          "background_save": true
        },
        "id": "2hapsNIYwadl"
      },
      "outputs": [],
      "source": [
        "from sklearn.model_selection import train_test_split\n",
        "\n",
        "X_train, X_test, y_color_train, y_color_test, y_type_train, y_type_test, y_pattern_train, y_pattern_test, y_index_train, y_index_test = train_test_split(\n",
        "    images, color_array, type_array, pattern_array, index_array, test_size=0.2, random_state=42)\n",
        "\n",
        "X_train, X_val, y_color_train, y_color_val, y_type_train, y_type_val, y_pattern_train, y_pattern_val, y_index_train, y_index_val = train_test_split(\n",
        "    X_train, y_color_train, y_type_train, y_pattern_train, y_index_train, test_size=0.25, random_state=42)\n"
      ]
    },
    {
      "cell_type": "code",
      "execution_count": null,
      "metadata": {
        "colab": {
          "background_save": true
        },
        "id": "81KQC_qGvZvY",
        "outputId": "5cac50a4-725b-41c4-9b3b-052693299e78"
      },
      "outputs": [
        {
          "name": "stdout",
          "output_type": "stream",
          "text": [
            "Model: \"model\"\n",
            "__________________________________________________________________________________________________\n",
            " Layer (type)                   Output Shape         Param #     Connected to                     \n",
            "==================================================================================================\n",
            " input_1 (InputLayer)           [(None, 80, 80, 3)]  0           []                               \n",
            "                                                                                                  \n",
            " conv2d (Conv2D)                (None, 78, 78, 32)   896         ['input_1[0][0]']                \n",
            "                                                                                                  \n",
            " max_pooling2d (MaxPooling2D)   (None, 39, 39, 32)   0           ['conv2d[0][0]']                 \n",
            "                                                                                                  \n",
            " conv2d_1 (Conv2D)              (None, 37, 37, 64)   18496       ['max_pooling2d[0][0]']          \n",
            "                                                                                                  \n",
            " max_pooling2d_1 (MaxPooling2D)  (None, 18, 18, 64)  0           ['conv2d_1[0][0]']               \n",
            "                                                                                                  \n",
            " conv2d_2 (Conv2D)              (None, 16, 16, 128)  73856       ['max_pooling2d_1[0][0]']        \n",
            "                                                                                                  \n",
            " max_pooling2d_2 (MaxPooling2D)  (None, 8, 8, 128)   0           ['conv2d_2[0][0]']               \n",
            "                                                                                                  \n",
            " flatten (Flatten)              (None, 8192)         0           ['max_pooling2d_2[0][0]']        \n",
            "                                                                                                  \n",
            " dense (Dense)                  (None, 256)          2097408     ['flatten[0][0]']                \n",
            "                                                                                                  \n",
            " color_output (Dense)           (None, 15)           3855        ['dense[0][0]']                  \n",
            "                                                                                                  \n",
            " type_output (Dense)            (None, 7)            1799        ['dense[0][0]']                  \n",
            "                                                                                                  \n",
            " pattern_output (Dense)         (None, 27)           6939        ['dense[0][0]']                  \n",
            "                                                                                                  \n",
            " index_output (Dense)           (None, 3)            771         ['dense[0][0]']                  \n",
            "                                                                                                  \n",
            "==================================================================================================\n",
            "Total params: 2,204,020\n",
            "Trainable params: 2,204,020\n",
            "Non-trainable params: 0\n",
            "__________________________________________________________________________________________________\n"
          ]
        }
      ],
      "source": [
        "inputs = Input(shape=(img_size, img_size, 3))\n",
        "x = Conv2D(32, (3, 3), activation='relu')(inputs)\n",
        "x = MaxPooling2D((2, 2))(x)\n",
        "x = Conv2D(64, (3, 3), activation='relu')(x)\n",
        "x = MaxPooling2D((2, 2))(x)\n",
        "x = Conv2D(128, (3, 3), activation='relu')(x)\n",
        "x = MaxPooling2D((2, 2))(x)\n",
        "x = Flatten()(x)\n",
        "x = Dense(256, activation='relu')(x)\n",
        "\n",
        "color_output = Dense(len(df_valid_images['perceived_colour_master_name'].unique()), activation='softmax', name='color_output')(x)\n",
        "type_output = Dense(len(df_valid_images['product_group_name'].unique()), activation='softmax', name='type_output')(x)\n",
        "pattern_output = Dense(len(df_valid_images['graphical_appearance_name'].unique()), activation='softmax', name='pattern_output')(x)\n",
        "index_output = Dense(len(df_valid_images['index_group_name'].unique()), activation='softmax', name='index_output')(x)\n",
        "\n",
        "model = Model(inputs=inputs, outputs=[color_output, type_output, pattern_output, index_output])\n",
        "model.summary()\n"
      ]
    },
    {
      "cell_type": "code",
      "execution_count": null,
      "metadata": {
        "colab": {
          "background_save": true
        },
        "id": "G2zdeQZn1BAr"
      },
      "outputs": [],
      "source": [
        "from keras.optimizers import Adam"
      ]
    },
    {
      "cell_type": "code",
      "execution_count": null,
      "metadata": {
        "colab": {
          "background_save": true
        },
        "id": "hsNTz7lSwEmT"
      },
      "outputs": [],
      "source": [
        "model.compile(\n",
        "    optimizer=Adam(),\n",
        "    loss={\n",
        "        'color_output': 'categorical_crossentropy',\n",
        "        'type_output': 'categorical_crossentropy',\n",
        "        'pattern_output': 'categorical_crossentropy',\n",
        "        'index_output': 'categorical_crossentropy'\n",
        "    },\n",
        "    metrics=['accuracy']\n",
        ")"
      ]
    },
    {
      "cell_type": "code",
      "execution_count": null,
      "metadata": {
        "colab": {
          "background_save": true
        },
        "id": "QUxIph24d97E"
      },
      "outputs": [],
      "source": [
        "checkpoint_filepath = 'best_model.h5'\n",
        "model_checkpoint_callback = ModelCheckpoint(\n",
        "    filepath=checkpoint_filepath,\n",
        "    monitor='val_pattern_output_accuracy',\n",
        "    mode='max',\n",
        "    save_best_only=True)"
      ]
    },
    {
      "cell_type": "code",
      "execution_count": null,
      "metadata": {
        "colab": {
          "background_save": true
        },
        "id": "LJUyIh2vxs0t",
        "outputId": "475baaca-0b6a-477f-fa55-fc04bc9c59be"
      },
      "outputs": [
        {
          "name": "stdout",
          "output_type": "stream",
          "text": [
            "Epoch 1/40\n",
            "833/833 [==============================] - 19s 12ms/step - loss: 5.8100 - color_output_loss: 1.4929 - type_output_loss: 1.0915 - pattern_output_loss: 1.7994 - index_output_loss: 1.4262 - color_output_accuracy: 0.6048 - type_output_accuracy: 0.7747 - pattern_output_accuracy: 0.6114 - index_output_accuracy: 0.6027 - val_loss: 3.8157 - val_color_output_loss: 1.1165 - val_type_output_loss: 0.5592 - val_pattern_output_loss: 1.3715 - val_index_output_loss: 0.7685 - val_color_output_accuracy: 0.6661 - val_type_output_accuracy: 0.8220 - val_pattern_output_accuracy: 0.6331 - val_index_output_accuracy: 0.6584\n",
            "Epoch 2/40\n",
            "833/833 [==============================] - 9s 11ms/step - loss: 3.3134 - color_output_loss: 0.9003 - type_output_loss: 0.4193 - pattern_output_loss: 1.2471 - index_output_loss: 0.7467 - color_output_accuracy: 0.7255 - type_output_accuracy: 0.8595 - pattern_output_accuracy: 0.6570 - index_output_accuracy: 0.6723 - val_loss: 3.4415 - val_color_output_loss: 0.9536 - val_type_output_loss: 0.4161 - val_pattern_output_loss: 1.3168 - val_index_output_loss: 0.7551 - val_color_output_accuracy: 0.7181 - val_type_output_accuracy: 0.8643 - val_pattern_output_accuracy: 0.6420 - val_index_output_accuracy: 0.6593\n",
            "Epoch 3/40\n",
            "833/833 [==============================] - 9s 11ms/step - loss: 2.9802 - color_output_loss: 0.8088 - type_output_loss: 0.3457 - pattern_output_loss: 1.1471 - index_output_loss: 0.6785 - color_output_accuracy: 0.7499 - type_output_accuracy: 0.8818 - pattern_output_accuracy: 0.6782 - index_output_accuracy: 0.7038 - val_loss: 3.1997 - val_color_output_loss: 0.8108 - val_type_output_loss: 0.4500 - val_pattern_output_loss: 1.2304 - val_index_output_loss: 0.7085 - val_color_output_accuracy: 0.7627 - val_type_output_accuracy: 0.8548 - val_pattern_output_accuracy: 0.6672 - val_index_output_accuracy: 0.6897\n",
            "Epoch 4/40\n",
            "833/833 [==============================] - 9s 11ms/step - loss: 2.7227 - color_output_loss: 0.7365 - type_output_loss: 0.2938 - pattern_output_loss: 1.0647 - index_output_loss: 0.6277 - color_output_accuracy: 0.7657 - type_output_accuracy: 0.8997 - pattern_output_accuracy: 0.6979 - index_output_accuracy: 0.7310 - val_loss: 3.2403 - val_color_output_loss: 0.8944 - val_type_output_loss: 0.3883 - val_pattern_output_loss: 1.2526 - val_index_output_loss: 0.7050 - val_color_output_accuracy: 0.7356 - val_type_output_accuracy: 0.8700 - val_pattern_output_accuracy: 0.6610 - val_index_output_accuracy: 0.7002\n",
            "Epoch 5/40\n",
            "833/833 [==============================] - 9s 11ms/step - loss: 2.5231 - color_output_loss: 0.6951 - type_output_loss: 0.2584 - pattern_output_loss: 0.9878 - index_output_loss: 0.5818 - color_output_accuracy: 0.7821 - type_output_accuracy: 0.9116 - pattern_output_accuracy: 0.7112 - index_output_accuracy: 0.7500 - val_loss: 3.1583 - val_color_output_loss: 0.8412 - val_type_output_loss: 0.3768 - val_pattern_output_loss: 1.2208 - val_index_output_loss: 0.7194 - val_color_output_accuracy: 0.7483 - val_type_output_accuracy: 0.8754 - val_pattern_output_accuracy: 0.6686 - val_index_output_accuracy: 0.6891\n",
            "Epoch 6/40\n",
            "833/833 [==============================] - 9s 11ms/step - loss: 2.3185 - color_output_loss: 0.6416 - type_output_loss: 0.2294 - pattern_output_loss: 0.9037 - index_output_loss: 0.5438 - color_output_accuracy: 0.7965 - type_output_accuracy: 0.9210 - pattern_output_accuracy: 0.7336 - index_output_accuracy: 0.7711 - val_loss: 3.2714 - val_color_output_loss: 0.8568 - val_type_output_loss: 0.4123 - val_pattern_output_loss: 1.2900 - val_index_output_loss: 0.7123 - val_color_output_accuracy: 0.7468 - val_type_output_accuracy: 0.8778 - val_pattern_output_accuracy: 0.6701 - val_index_output_accuracy: 0.7047\n",
            "Epoch 7/40\n",
            "833/833 [==============================] - 9s 11ms/step - loss: 2.1516 - color_output_loss: 0.6042 - type_output_loss: 0.2045 - pattern_output_loss: 0.8430 - index_output_loss: 0.4999 - color_output_accuracy: 0.8043 - type_output_accuracy: 0.9295 - pattern_output_accuracy: 0.7463 - index_output_accuracy: 0.7893 - val_loss: 3.5561 - val_color_output_loss: 0.9959 - val_type_output_loss: 0.4549 - val_pattern_output_loss: 1.3741 - val_index_output_loss: 0.7313 - val_color_output_accuracy: 0.7218 - val_type_output_accuracy: 0.8803 - val_pattern_output_accuracy: 0.6588 - val_index_output_accuracy: 0.7104\n",
            "Epoch 8/40\n",
            "833/833 [==============================] - 9s 11ms/step - loss: 1.9858 - color_output_loss: 0.5633 - type_output_loss: 0.1837 - pattern_output_loss: 0.7673 - index_output_loss: 0.4715 - color_output_accuracy: 0.8178 - type_output_accuracy: 0.9375 - pattern_output_accuracy: 0.7616 - index_output_accuracy: 0.8026 - val_loss: 3.6553 - val_color_output_loss: 0.9600 - val_type_output_loss: 0.4739 - val_pattern_output_loss: 1.4633 - val_index_output_loss: 0.7581 - val_color_output_accuracy: 0.7424 - val_type_output_accuracy: 0.8753 - val_pattern_output_accuracy: 0.6622 - val_index_output_accuracy: 0.7084\n",
            "Epoch 9/40\n",
            "833/833 [==============================] - 9s 10ms/step - loss: 1.8257 - color_output_loss: 0.5166 - type_output_loss: 0.1672 - pattern_output_loss: 0.7098 - index_output_loss: 0.4321 - color_output_accuracy: 0.8318 - type_output_accuracy: 0.9421 - pattern_output_accuracy: 0.7765 - index_output_accuracy: 0.8214 - val_loss: 3.7602 - val_color_output_loss: 0.9789 - val_type_output_loss: 0.4712 - val_pattern_output_loss: 1.5062 - val_index_output_loss: 0.8039 - val_color_output_accuracy: 0.7378 - val_type_output_accuracy: 0.8815 - val_pattern_output_accuracy: 0.6538 - val_index_output_accuracy: 0.6941\n",
            "Epoch 10/40\n",
            "833/833 [==============================] - 9s 11ms/step - loss: 1.6886 - color_output_loss: 0.4874 - type_output_loss: 0.1498 - pattern_output_loss: 0.6505 - index_output_loss: 0.4009 - color_output_accuracy: 0.8391 - type_output_accuracy: 0.9480 - pattern_output_accuracy: 0.7961 - index_output_accuracy: 0.8360 - val_loss: 4.0485 - val_color_output_loss: 0.9872 - val_type_output_loss: 0.5670 - val_pattern_output_loss: 1.6653 - val_index_output_loss: 0.8289 - val_color_output_accuracy: 0.7404 - val_type_output_accuracy: 0.8762 - val_pattern_output_accuracy: 0.6488 - val_index_output_accuracy: 0.7051\n",
            "Epoch 11/40\n",
            "833/833 [==============================] - 9s 11ms/step - loss: 1.5822 - color_output_loss: 0.4454 - type_output_loss: 0.1455 - pattern_output_loss: 0.6087 - index_output_loss: 0.3825 - color_output_accuracy: 0.8516 - type_output_accuracy: 0.9505 - pattern_output_accuracy: 0.8052 - index_output_accuracy: 0.8439 - val_loss: 4.5680 - val_color_output_loss: 1.2132 - val_type_output_loss: 0.6389 - val_pattern_output_loss: 1.8551 - val_index_output_loss: 0.8608 - val_color_output_accuracy: 0.6966 - val_type_output_accuracy: 0.8582 - val_pattern_output_accuracy: 0.6418 - val_index_output_accuracy: 0.6980\n",
            "Epoch 12/40\n",
            "833/833 [==============================] - 9s 11ms/step - loss: 1.4733 - color_output_loss: 0.4230 - type_output_loss: 0.1362 - pattern_output_loss: 0.5607 - index_output_loss: 0.3535 - color_output_accuracy: 0.8600 - type_output_accuracy: 0.9535 - pattern_output_accuracy: 0.8192 - index_output_accuracy: 0.8554 - val_loss: 4.7314 - val_color_output_loss: 1.1856 - val_type_output_loss: 0.6650 - val_pattern_output_loss: 1.9350 - val_index_output_loss: 0.9459 - val_color_output_accuracy: 0.7191 - val_type_output_accuracy: 0.8716 - val_pattern_output_accuracy: 0.6295 - val_index_output_accuracy: 0.7042\n",
            "Epoch 13/40\n",
            "833/833 [==============================] - 9s 10ms/step - loss: 1.3413 - color_output_loss: 0.3815 - type_output_loss: 0.1213 - pattern_output_loss: 0.5130 - index_output_loss: 0.3254 - color_output_accuracy: 0.8708 - type_output_accuracy: 0.9590 - pattern_output_accuracy: 0.8334 - index_output_accuracy: 0.8717 - val_loss: 4.8536 - val_color_output_loss: 1.2198 - val_type_output_loss: 0.7017 - val_pattern_output_loss: 1.9674 - val_index_output_loss: 0.9648 - val_color_output_accuracy: 0.7221 - val_type_output_accuracy: 0.8734 - val_pattern_output_accuracy: 0.6440 - val_index_output_accuracy: 0.6909\n",
            "Epoch 14/40\n",
            "833/833 [==============================] - 9s 11ms/step - loss: 1.2534 - color_output_loss: 0.3514 - type_output_loss: 0.1084 - pattern_output_loss: 0.4862 - index_output_loss: 0.3074 - color_output_accuracy: 0.8821 - type_output_accuracy: 0.9618 - pattern_output_accuracy: 0.8418 - index_output_accuracy: 0.8763 - val_loss: 5.1808 - val_color_output_loss: 1.2645 - val_type_output_loss: 0.7143 - val_pattern_output_loss: 2.1787 - val_index_output_loss: 1.0233 - val_color_output_accuracy: 0.7303 - val_type_output_accuracy: 0.8713 - val_pattern_output_accuracy: 0.6474 - val_index_output_accuracy: 0.7014\n",
            "Epoch 15/40\n",
            "833/833 [==============================] - 9s 11ms/step - loss: 1.1629 - color_output_loss: 0.3190 - type_output_loss: 0.1094 - pattern_output_loss: 0.4515 - index_output_loss: 0.2830 - color_output_accuracy: 0.8940 - type_output_accuracy: 0.9643 - pattern_output_accuracy: 0.8540 - index_output_accuracy: 0.8878 - val_loss: 5.6222 - val_color_output_loss: 1.3816 - val_type_output_loss: 0.7703 - val_pattern_output_loss: 2.3704 - val_index_output_loss: 1.0999 - val_color_output_accuracy: 0.7386 - val_type_output_accuracy: 0.8816 - val_pattern_output_accuracy: 0.6545 - val_index_output_accuracy: 0.7048\n",
            "Epoch 16/40\n",
            "833/833 [==============================] - 9s 10ms/step - loss: 1.1199 - color_output_loss: 0.3141 - type_output_loss: 0.1015 - pattern_output_loss: 0.4310 - index_output_loss: 0.2732 - color_output_accuracy: 0.8957 - type_output_accuracy: 0.9669 - pattern_output_accuracy: 0.8597 - index_output_accuracy: 0.8935 - val_loss: 6.0527 - val_color_output_loss: 1.5387 - val_type_output_loss: 0.8208 - val_pattern_output_loss: 2.5534 - val_index_output_loss: 1.1398 - val_color_output_accuracy: 0.7264 - val_type_output_accuracy: 0.8781 - val_pattern_output_accuracy: 0.6339 - val_index_output_accuracy: 0.7061\n",
            "Epoch 17/40\n",
            "833/833 [==============================] - 9s 11ms/step - loss: 1.0604 - color_output_loss: 0.3020 - type_output_loss: 0.0996 - pattern_output_loss: 0.4057 - index_output_loss: 0.2531 - color_output_accuracy: 0.9022 - type_output_accuracy: 0.9685 - pattern_output_accuracy: 0.8679 - index_output_accuracy: 0.9030 - val_loss: 6.4101 - val_color_output_loss: 1.6027 - val_type_output_loss: 0.8806 - val_pattern_output_loss: 2.6370 - val_index_output_loss: 1.2899 - val_color_output_accuracy: 0.7125 - val_type_output_accuracy: 0.8639 - val_pattern_output_accuracy: 0.6179 - val_index_output_accuracy: 0.6902\n",
            "Epoch 18/40\n",
            "833/833 [==============================] - 9s 11ms/step - loss: 1.0098 - color_output_loss: 0.2942 - type_output_loss: 0.0995 - pattern_output_loss: 0.3754 - index_output_loss: 0.2407 - color_output_accuracy: 0.9026 - type_output_accuracy: 0.9683 - pattern_output_accuracy: 0.8768 - index_output_accuracy: 0.9088 - val_loss: 6.1201 - val_color_output_loss: 1.4636 - val_type_output_loss: 0.8347 - val_pattern_output_loss: 2.6329 - val_index_output_loss: 1.1889 - val_color_output_accuracy: 0.7207 - val_type_output_accuracy: 0.8755 - val_pattern_output_accuracy: 0.6263 - val_index_output_accuracy: 0.7018\n",
            "Epoch 19/40\n",
            "833/833 [==============================] - 9s 11ms/step - loss: 0.9229 - color_output_loss: 0.2661 - type_output_loss: 0.0884 - pattern_output_loss: 0.3449 - index_output_loss: 0.2235 - color_output_accuracy: 0.9126 - type_output_accuracy: 0.9716 - pattern_output_accuracy: 0.8868 - index_output_accuracy: 0.9154 - val_loss: 7.1241 - val_color_output_loss: 1.7244 - val_type_output_loss: 0.9276 - val_pattern_output_loss: 3.0547 - val_index_output_loss: 1.4173 - val_color_output_accuracy: 0.7218 - val_type_output_accuracy: 0.8727 - val_pattern_output_accuracy: 0.6506 - val_index_output_accuracy: 0.6989\n",
            "Epoch 20/40\n",
            "833/833 [==============================] - 9s 10ms/step - loss: 0.9111 - color_output_loss: 0.2450 - type_output_loss: 0.0943 - pattern_output_loss: 0.3456 - index_output_loss: 0.2261 - color_output_accuracy: 0.9209 - type_output_accuracy: 0.9726 - pattern_output_accuracy: 0.8890 - index_output_accuracy: 0.9163 - val_loss: 7.2631 - val_color_output_loss: 1.7997 - val_type_output_loss: 1.0020 - val_pattern_output_loss: 3.0949 - val_index_output_loss: 1.3664 - val_color_output_accuracy: 0.7185 - val_type_output_accuracy: 0.8729 - val_pattern_output_accuracy: 0.6245 - val_index_output_accuracy: 0.6997\n",
            "Epoch 21/40\n",
            "833/833 [==============================] - 9s 11ms/step - loss: 0.8898 - color_output_loss: 0.2511 - type_output_loss: 0.0876 - pattern_output_loss: 0.3389 - index_output_loss: 0.2123 - color_output_accuracy: 0.9182 - type_output_accuracy: 0.9724 - pattern_output_accuracy: 0.8924 - index_output_accuracy: 0.9180 - val_loss: 7.7823 - val_color_output_loss: 2.0071 - val_type_output_loss: 1.0762 - val_pattern_output_loss: 3.2938 - val_index_output_loss: 1.4051 - val_color_output_accuracy: 0.6993 - val_type_output_accuracy: 0.8695 - val_pattern_output_accuracy: 0.6295 - val_index_output_accuracy: 0.7048\n",
            "Epoch 22/40\n",
            "833/833 [==============================] - 9s 11ms/step - loss: 0.7909 - color_output_loss: 0.2302 - type_output_loss: 0.0709 - pattern_output_loss: 0.2990 - index_output_loss: 0.1908 - color_output_accuracy: 0.9273 - type_output_accuracy: 0.9782 - pattern_output_accuracy: 0.9014 - index_output_accuracy: 0.9300 - val_loss: 8.0533 - val_color_output_loss: 2.0116 - val_type_output_loss: 1.1024 - val_pattern_output_loss: 3.4147 - val_index_output_loss: 1.5246 - val_color_output_accuracy: 0.7131 - val_type_output_accuracy: 0.8722 - val_pattern_output_accuracy: 0.6416 - val_index_output_accuracy: 0.7029\n",
            "Epoch 23/40\n",
            "833/833 [==============================] - 9s 11ms/step - loss: 0.8242 - color_output_loss: 0.2344 - type_output_loss: 0.0804 - pattern_output_loss: 0.3052 - index_output_loss: 0.2042 - color_output_accuracy: 0.9240 - type_output_accuracy: 0.9756 - pattern_output_accuracy: 0.9025 - index_output_accuracy: 0.9260 - val_loss: 8.4155 - val_color_output_loss: 2.0249 - val_type_output_loss: 1.1805 - val_pattern_output_loss: 3.5882 - val_index_output_loss: 1.6219 - val_color_output_accuracy: 0.7266 - val_type_output_accuracy: 0.8737 - val_pattern_output_accuracy: 0.6211 - val_index_output_accuracy: 0.7012\n",
            "Epoch 24/40\n",
            "833/833 [==============================] - 9s 11ms/step - loss: 0.7889 - color_output_loss: 0.2239 - type_output_loss: 0.0793 - pattern_output_loss: 0.3001 - index_output_loss: 0.1856 - color_output_accuracy: 0.9306 - type_output_accuracy: 0.9768 - pattern_output_accuracy: 0.9065 - index_output_accuracy: 0.9326 - val_loss: 8.4045 - val_color_output_loss: 2.0863 - val_type_output_loss: 1.2003 - val_pattern_output_loss: 3.5608 - val_index_output_loss: 1.5570 - val_color_output_accuracy: 0.7036 - val_type_output_accuracy: 0.8734 - val_pattern_output_accuracy: 0.6171 - val_index_output_accuracy: 0.7025\n",
            "Epoch 25/40\n",
            "833/833 [==============================] - 9s 11ms/step - loss: 0.7450 - color_output_loss: 0.2094 - type_output_loss: 0.0763 - pattern_output_loss: 0.2853 - index_output_loss: 0.1740 - color_output_accuracy: 0.9339 - type_output_accuracy: 0.9765 - pattern_output_accuracy: 0.9091 - index_output_accuracy: 0.9380 - val_loss: 9.3062 - val_color_output_loss: 2.1578 - val_type_output_loss: 1.3712 - val_pattern_output_loss: 3.9843 - val_index_output_loss: 1.7930 - val_color_output_accuracy: 0.7235 - val_type_output_accuracy: 0.8701 - val_pattern_output_accuracy: 0.6262 - val_index_output_accuracy: 0.6953\n",
            "Epoch 26/40\n",
            "833/833 [==============================] - 9s 11ms/step - loss: 0.7205 - color_output_loss: 0.2026 - type_output_loss: 0.0750 - pattern_output_loss: 0.2755 - index_output_loss: 0.1674 - color_output_accuracy: 0.9357 - type_output_accuracy: 0.9783 - pattern_output_accuracy: 0.9143 - index_output_accuracy: 0.9388 - val_loss: 9.4165 - val_color_output_loss: 2.3014 - val_type_output_loss: 1.2847 - val_pattern_output_loss: 4.0099 - val_index_output_loss: 1.8205 - val_color_output_accuracy: 0.7084 - val_type_output_accuracy: 0.8716 - val_pattern_output_accuracy: 0.6421 - val_index_output_accuracy: 0.6979\n",
            "Epoch 27/40\n",
            "833/833 [==============================] - 9s 11ms/step - loss: 0.7240 - color_output_loss: 0.2143 - type_output_loss: 0.0684 - pattern_output_loss: 0.2718 - index_output_loss: 0.1695 - color_output_accuracy: 0.9338 - type_output_accuracy: 0.9804 - pattern_output_accuracy: 0.9141 - index_output_accuracy: 0.9410 - val_loss: 10.2027 - val_color_output_loss: 2.4842 - val_type_output_loss: 1.3467 - val_pattern_output_loss: 4.4406 - val_index_output_loss: 1.9311 - val_color_output_accuracy: 0.7201 - val_type_output_accuracy: 0.8645 - val_pattern_output_accuracy: 0.6111 - val_index_output_accuracy: 0.6935\n",
            "Epoch 28/40\n",
            "833/833 [==============================] - 9s 11ms/step - loss: 0.6944 - color_output_loss: 0.1873 - type_output_loss: 0.0740 - pattern_output_loss: 0.2642 - index_output_loss: 0.1689 - color_output_accuracy: 0.9420 - type_output_accuracy: 0.9791 - pattern_output_accuracy: 0.9189 - index_output_accuracy: 0.9405 - val_loss: 10.0602 - val_color_output_loss: 2.3487 - val_type_output_loss: 1.3994 - val_pattern_output_loss: 4.3998 - val_index_output_loss: 1.9123 - val_color_output_accuracy: 0.7247 - val_type_output_accuracy: 0.8687 - val_pattern_output_accuracy: 0.6364 - val_index_output_accuracy: 0.6888\n",
            "Epoch 29/40\n",
            "833/833 [==============================] - 9s 11ms/step - loss: 0.6745 - color_output_loss: 0.1942 - type_output_loss: 0.0668 - pattern_output_loss: 0.2491 - index_output_loss: 0.1644 - color_output_accuracy: 0.9405 - type_output_accuracy: 0.9813 - pattern_output_accuracy: 0.9236 - index_output_accuracy: 0.9437 - val_loss: 10.2445 - val_color_output_loss: 2.4756 - val_type_output_loss: 1.3808 - val_pattern_output_loss: 4.4576 - val_index_output_loss: 1.9306 - val_color_output_accuracy: 0.7182 - val_type_output_accuracy: 0.8738 - val_pattern_output_accuracy: 0.6123 - val_index_output_accuracy: 0.6969\n",
            "Epoch 30/40\n",
            "833/833 [==============================] - 9s 11ms/step - loss: 0.6887 - color_output_loss: 0.2110 - type_output_loss: 0.0762 - pattern_output_loss: 0.2476 - index_output_loss: 0.1538 - color_output_accuracy: 0.9388 - type_output_accuracy: 0.9797 - pattern_output_accuracy: 0.9243 - index_output_accuracy: 0.9464 - val_loss: 9.9645 - val_color_output_loss: 2.3056 - val_type_output_loss: 1.4240 - val_pattern_output_loss: 4.4236 - val_index_output_loss: 1.8113 - val_color_output_accuracy: 0.7230 - val_type_output_accuracy: 0.8681 - val_pattern_output_accuracy: 0.6253 - val_index_output_accuracy: 0.6963\n",
            "Epoch 31/40\n",
            "833/833 [==============================] - 9s 10ms/step - loss: 0.6360 - color_output_loss: 0.1765 - type_output_loss: 0.0772 - pattern_output_loss: 0.2330 - index_output_loss: 0.1492 - color_output_accuracy: 0.9457 - type_output_accuracy: 0.9805 - pattern_output_accuracy: 0.9303 - index_output_accuracy: 0.9490 - val_loss: 11.1353 - val_color_output_loss: 2.7048 - val_type_output_loss: 1.5055 - val_pattern_output_loss: 4.8236 - val_index_output_loss: 2.1013 - val_color_output_accuracy: 0.7121 - val_type_output_accuracy: 0.8701 - val_pattern_output_accuracy: 0.6316 - val_index_output_accuracy: 0.7109\n",
            "Epoch 32/40\n",
            "833/833 [==============================] - 9s 11ms/step - loss: 0.6508 - color_output_loss: 0.1802 - type_output_loss: 0.0749 - pattern_output_loss: 0.2447 - index_output_loss: 0.1510 - color_output_accuracy: 0.9464 - type_output_accuracy: 0.9812 - pattern_output_accuracy: 0.9290 - index_output_accuracy: 0.9493 - val_loss: 11.4461 - val_color_output_loss: 2.6678 - val_type_output_loss: 1.5285 - val_pattern_output_loss: 5.0699 - val_index_output_loss: 2.1799 - val_color_output_accuracy: 0.7235 - val_type_output_accuracy: 0.8701 - val_pattern_output_accuracy: 0.6325 - val_index_output_accuracy: 0.6916\n",
            "Epoch 33/40\n",
            "833/833 [==============================] - 9s 11ms/step - loss: 0.6269 - color_output_loss: 0.1755 - type_output_loss: 0.0653 - pattern_output_loss: 0.2338 - index_output_loss: 0.1522 - color_output_accuracy: 0.9501 - type_output_accuracy: 0.9831 - pattern_output_accuracy: 0.9330 - index_output_accuracy: 0.9484 - val_loss: 11.3772 - val_color_output_loss: 2.7413 - val_type_output_loss: 1.5359 - val_pattern_output_loss: 4.9501 - val_index_output_loss: 2.1499 - val_color_output_accuracy: 0.7211 - val_type_output_accuracy: 0.8682 - val_pattern_output_accuracy: 0.6338 - val_index_output_accuracy: 0.6970\n",
            "Epoch 34/40\n",
            "833/833 [==============================] - 9s 11ms/step - loss: 0.6684 - color_output_loss: 0.2013 - type_output_loss: 0.0737 - pattern_output_loss: 0.2405 - index_output_loss: 0.1528 - color_output_accuracy: 0.9425 - type_output_accuracy: 0.9807 - pattern_output_accuracy: 0.9317 - index_output_accuracy: 0.9486 - val_loss: 11.7982 - val_color_output_loss: 2.8682 - val_type_output_loss: 1.7088 - val_pattern_output_loss: 5.0865 - val_index_output_loss: 2.1347 - val_color_output_accuracy: 0.7060 - val_type_output_accuracy: 0.8716 - val_pattern_output_accuracy: 0.6255 - val_index_output_accuracy: 0.6970\n",
            "Epoch 35/40\n",
            "833/833 [==============================] - 9s 11ms/step - loss: 0.6069 - color_output_loss: 0.1664 - type_output_loss: 0.0638 - pattern_output_loss: 0.2301 - index_output_loss: 0.1466 - color_output_accuracy: 0.9508 - type_output_accuracy: 0.9834 - pattern_output_accuracy: 0.9331 - index_output_accuracy: 0.9532 - val_loss: 12.7983 - val_color_output_loss: 3.4123 - val_type_output_loss: 1.7091 - val_pattern_output_loss: 5.4193 - val_index_output_loss: 2.2576 - val_color_output_accuracy: 0.6792 - val_type_output_accuracy: 0.8733 - val_pattern_output_accuracy: 0.6147 - val_index_output_accuracy: 0.6951\n",
            "Epoch 36/40\n",
            "833/833 [==============================] - 9s 11ms/step - loss: 0.5795 - color_output_loss: 0.1758 - type_output_loss: 0.0568 - pattern_output_loss: 0.2133 - index_output_loss: 0.1337 - color_output_accuracy: 0.9516 - type_output_accuracy: 0.9854 - pattern_output_accuracy: 0.9379 - index_output_accuracy: 0.9553 - val_loss: 12.7936 - val_color_output_loss: 3.1022 - val_type_output_loss: 1.6939 - val_pattern_output_loss: 5.6011 - val_index_output_loss: 2.3964 - val_color_output_accuracy: 0.7292 - val_type_output_accuracy: 0.8638 - val_pattern_output_accuracy: 0.6227 - val_index_output_accuracy: 0.6830\n",
            "Epoch 37/40\n",
            "833/833 [==============================] - 9s 11ms/step - loss: 0.6092 - color_output_loss: 0.1683 - type_output_loss: 0.0668 - pattern_output_loss: 0.2280 - index_output_loss: 0.1460 - color_output_accuracy: 0.9536 - type_output_accuracy: 0.9825 - pattern_output_accuracy: 0.9379 - index_output_accuracy: 0.9531 - val_loss: 11.9497 - val_color_output_loss: 2.9275 - val_type_output_loss: 1.6156 - val_pattern_output_loss: 5.2460 - val_index_output_loss: 2.1606 - val_color_output_accuracy: 0.7133 - val_type_output_accuracy: 0.8696 - val_pattern_output_accuracy: 0.6254 - val_index_output_accuracy: 0.6951\n",
            "Epoch 38/40\n",
            "833/833 [==============================] - 9s 10ms/step - loss: 0.5688 - color_output_loss: 0.1742 - type_output_loss: 0.0656 - pattern_output_loss: 0.1974 - index_output_loss: 0.1317 - color_output_accuracy: 0.9507 - type_output_accuracy: 0.9851 - pattern_output_accuracy: 0.9429 - index_output_accuracy: 0.9578 - val_loss: 12.7976 - val_color_output_loss: 3.1213 - val_type_output_loss: 1.7538 - val_pattern_output_loss: 5.6365 - val_index_output_loss: 2.2860 - val_color_output_accuracy: 0.7140 - val_type_output_accuracy: 0.8762 - val_pattern_output_accuracy: 0.6206 - val_index_output_accuracy: 0.6979\n",
            "Epoch 39/40\n",
            "833/833 [==============================] - 9s 11ms/step - loss: 0.5995 - color_output_loss: 0.1762 - type_output_loss: 0.0690 - pattern_output_loss: 0.2140 - index_output_loss: 0.1403 - color_output_accuracy: 0.9524 - type_output_accuracy: 0.9824 - pattern_output_accuracy: 0.9404 - index_output_accuracy: 0.9564 - val_loss: 13.1269 - val_color_output_loss: 3.0435 - val_type_output_loss: 1.8040 - val_pattern_output_loss: 5.8288 - val_index_output_loss: 2.4506 - val_color_output_accuracy: 0.7207 - val_type_output_accuracy: 0.8711 - val_pattern_output_accuracy: 0.6299 - val_index_output_accuracy: 0.6931\n",
            "Epoch 40/40\n",
            "833/833 [==============================] - 9s 11ms/step - loss: 0.5623 - color_output_loss: 0.1634 - type_output_loss: 0.0568 - pattern_output_loss: 0.2164 - index_output_loss: 0.1257 - color_output_accuracy: 0.9536 - type_output_accuracy: 0.9857 - pattern_output_accuracy: 0.9409 - index_output_accuracy: 0.9591 - val_loss: 14.6815 - val_color_output_loss: 3.5610 - val_type_output_loss: 2.0157 - val_pattern_output_loss: 6.4451 - val_index_output_loss: 2.6597 - val_color_output_accuracy: 0.6847 - val_type_output_accuracy: 0.8661 - val_pattern_output_accuracy: 0.6319 - val_index_output_accuracy: 0.6871\n",
            "278/278 [==============================] - 1s 5ms/step - loss: 3.2714 - color_output_loss: 0.8568 - type_output_loss: 0.4123 - pattern_output_loss: 1.2900 - index_output_loss: 0.7123 - color_output_accuracy: 0.7468 - type_output_accuracy: 0.8778 - pattern_output_accuracy: 0.6701 - index_output_accuracy: 0.7047\n"
          ]
        }
      ],
      "source": [
        "history = model.fit(\n",
        "    X_train,\n",
        "    {'color_output': y_color_train, 'type_output': y_type_train, 'pattern_output': y_pattern_train, 'index_output':y_index_train},\n",
        "    validation_data=(\n",
        "        X_val,\n",
        "        {'color_output': y_color_val, 'type_output': y_type_val, 'pattern_output': y_pattern_val, 'index_output':y_index_val}\n",
        "    ),\n",
        "    epochs=40,\n",
        "    batch_size=32,\n",
        "    callbacks=[model_checkpoint_callback])\n",
        "\n",
        "model.load_weights(checkpoint_filepath)\n",
        "\n",
        "scores = model.evaluate(\n",
        "    X_val,\n",
        "    {'color_output': y_color_val, 'type_output': y_type_val, 'pattern_output': y_pattern_val, 'index_output':y_index_val}\n",
        ")\n"
      ]
    },
    {
      "cell_type": "code",
      "execution_count": null,
      "metadata": {
        "colab": {
          "background_save": true
        },
        "id": "DtngY_gMyIuj",
        "outputId": "e030c027-7757-4e34-9258-6b0ddb649a34"
      },
      "outputs": [
        {
          "name": "stdout",
          "output_type": "stream",
          "text": [
            "Validation Accuracy - Color: 74.68%, Type: 87.78%, Pattern: 67.01%, Index: 70.47%\n"
          ]
        }
      ],
      "source": [
        "print('Validation Accuracy - Color: {:.2f}%, Type: {:.2f}%, Pattern: {:.2f}%, Index: {:.2f}%'.format(scores[5] * 100, scores[6] * 100, scores[7] * 100, scores[8] * 100))"
      ]
    },
    {
      "cell_type": "code",
      "execution_count": null,
      "metadata": {
        "colab": {
          "background_save": true
        },
        "id": "NHUWHC0_C9dR"
      },
      "outputs": [],
      "source": [
        "model.save('my_model.h5')"
      ]
    },
    {
      "cell_type": "code",
      "execution_count": null,
      "metadata": {
        "colab": {
          "background_save": true
        },
        "id": "SoLNV97Sda_1"
      },
      "outputs": [],
      "source": []
    }
  ],
  "metadata": {
    "accelerator": "GPU",
    "colab": {
      "machine_shape": "hm",
      "provenance": [],
      "authorship_tag": "ABX9TyNVbZu0ori9jU0wopnBurTS",
      "include_colab_link": true
    },
    "gpuClass": "standard",
    "kernelspec": {
      "display_name": "Python 3",
      "name": "python3"
    },
    "language_info": {
      "name": "python"
    }
  },
  "nbformat": 4,
  "nbformat_minor": 0
}