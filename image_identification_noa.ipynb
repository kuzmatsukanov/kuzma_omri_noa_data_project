{
  "nbformat": 4,
  "nbformat_minor": 0,
  "metadata": {
    "colab": {
      "provenance": [],
      "authorship_tag": "ABX9TyMEbxEGnHiozZqHuAkSZGss",
      "include_colab_link": true
    },
    "kernelspec": {
      "name": "python3",
      "display_name": "Python 3"
    },
    "language_info": {
      "name": "python"
    },
    "accelerator": "GPU",
    "gpuClass": "standard"
  },
  "cells": [
    {
      "cell_type": "markdown",
      "metadata": {
        "id": "view-in-github",
        "colab_type": "text"
      },
      "source": [
        "<a href=\"https://colab.research.google.com/github/kuzmatsukanov/kuzma_omri_noa_data_project/blob/noa/image_identification_noa.ipynb\" target=\"_parent\"><img src=\"https://colab.research.google.com/assets/colab-badge.svg\" alt=\"Open In Colab\"/></a>"
      ]
    },
    {
      "cell_type": "markdown",
      "source": [
        "Imports"
      ],
      "metadata": {
        "id": "9hwz79oj7-mL"
      }
    },
    {
      "cell_type": "code",
      "execution_count": 1,
      "metadata": {
        "id": "J9cr_2rCTYQ9"
      },
      "outputs": [],
      "source": [
        "import pandas as pd\n",
        "import numpy as np\n",
        "import cv2\n",
        "import matplotlib.pyplot as plt\n",
        "from tqdm import tqdm\n",
        "\n",
        "from multiprocessing import Pool\n",
        "from functools import partial\n",
        "\n",
        "\n",
        "from sklearn.model_selection import train_test_split\n",
        "from keras.layers import Input, Conv2D, MaxPooling2D, Flatten, Dense\n",
        "from keras.models import Model"
      ]
    },
    {
      "cell_type": "markdown",
      "source": [
        "For multiprocessing later on:"
      ],
      "metadata": {
        "id": "y1ediYVP77br"
      }
    },
    {
      "cell_type": "code",
      "source": [
        "def load_image(image_path, resize_shape=None):\n",
        "    img = cv2.imread(image_path)\n",
        "    if resize_shape is not None:\n",
        "        img = cv2.resize(img, resize_shape)\n",
        "    return img\n",
        "\n",
        "def load_images_parallel(image_paths, n_jobs=4, resize_shape=None):\n",
        "    with Pool(processes=n_jobs) as pool:\n",
        "        func = partial(load_image, resize_shape=resize_shape)\n",
        "        images = pool.map(func, image_paths)\n",
        "    return np.array(images)"
      ],
      "metadata": {
        "id": "KjvA2W6Dh7ph"
      },
      "execution_count": 2,
      "outputs": []
    },
    {
      "cell_type": "markdown",
      "source": [
        "Mount the drive"
      ],
      "metadata": {
        "id": "qCyyaLXK8Ap2"
      }
    },
    {
      "cell_type": "code",
      "source": [
        "from google.colab import drive\n",
        "drive.mount('/content/drive')\n",
        "\n",
        "shared_folder_path = '/content/drive/MyDrive/ds_project_dataset'\n",
        "\n",
        "!cp -r \"$shared_folder_path\" ."
      ],
      "metadata": {
        "colab": {
          "base_uri": "https://localhost:8080/"
        },
        "id": "At8KkvBETZoe",
        "outputId": "323601a2-1293-483f-b784-ca9dbe1d16a2"
      },
      "execution_count": 3,
      "outputs": [
        {
          "output_type": "stream",
          "name": "stdout",
          "text": [
            "Drive already mounted at /content/drive; to attempt to forcibly remount, call drive.mount(\"/content/drive\", force_remount=True).\n"
          ]
        }
      ]
    },
    {
      "cell_type": "markdown",
      "source": [
        "Dataframe"
      ],
      "metadata": {
        "id": "RrPimQQF8Drn"
      }
    },
    {
      "cell_type": "code",
      "source": [
        "df = pd.read_csv('ds_project_dataset/articles.csv')"
      ],
      "metadata": {
        "id": "-aVIBZiZTZmJ"
      },
      "execution_count": 3,
      "outputs": []
    },
    {
      "cell_type": "code",
      "source": [
        "df.sample(5)"
      ],
      "metadata": {
        "colab": {
          "base_uri": "https://localhost:8080/",
          "height": 594
        },
        "id": "qXBrpztERvkI",
        "outputId": "eadd7b58-4072-4549-8b92-a2e6a762867d"
      },
      "execution_count": 4,
      "outputs": [
        {
          "output_type": "execute_result",
          "data": {
            "text/plain": [
              "       article_id  product_code                 prod_name  product_type_no  \\\n",
              "10641   542352007        542352          Cap Salomon Wool               69   \n",
              "53331   703806003        703806             Sergio sandal               91   \n",
              "61748   734109019        734109  TP BEN fancy crewneck SB              252   \n",
              "43750   678016002        678016    Spec Occ Pearl Sweater              254   \n",
              "95537   866929001        866929            SS DRESS solid              265   \n",
              "\n",
              "      product_type_name  product_group_name  graphical_appearance_no  \\\n",
              "10641        Cap/peaked         Accessories                  1010026   \n",
              "53331           Sandals               Shoes                  1010016   \n",
              "61748           Sweater  Garment Upper body                  1010005   \n",
              "43750               Top  Garment Upper body                  1010002   \n",
              "95537             Dress   Garment Full body                  1010016   \n",
              "\n",
              "      graphical_appearance_name  colour_group_code colour_group_name  ...  \\\n",
              "10641           Other structure                  9             Black  ...   \n",
              "53331                     Solid                 13             Beige  ...   \n",
              "61748           Colour blocking                 22            Yellow  ...   \n",
              "43750            Application/3D                 51        Light Pink  ...   \n",
              "95537                     Solid                 51        Light Pink  ...   \n",
              "\n",
              "              department_name index_code             index_name  \\\n",
              "10641             Accessories          F               Menswear   \n",
              "53331                   Flats          C     Ladies Accessories   \n",
              "61748   Kids Boy Jersey Basic          H  Children Sizes 92-140   \n",
              "43750  Kids Girl Jersey Fancy          H  Children Sizes 92-140   \n",
              "95537             Baby basics          G       Baby Sizes 50-98   \n",
              "\n",
              "      index_group_no  index_group_name section_no  \\\n",
              "10641              3          Menswear         25   \n",
              "53331              1        Ladieswear         64   \n",
              "61748              4     Baby/Children         72   \n",
              "43750              4     Baby/Children         76   \n",
              "95537              4     Baby/Children         44   \n",
              "\n",
              "                        section_name garment_group_no  garment_group_name  \\\n",
              "10641                Men Accessories             1019         Accessories   \n",
              "53331                   Womens Shoes             1020               Shoes   \n",
              "61748        Boys Underwear & Basics             1002        Jersey Basic   \n",
              "43750                      Kids Girl             1005        Jersey Fancy   \n",
              "95537  Baby Essentials & Complements             1002        Jersey Basic   \n",
              "\n",
              "                                             detail_desc  \n",
              "10641     Flat cap in a woven wool blend. Cotton lining.  \n",
              "53331  Sandals with narrow straps at the front and a ...  \n",
              "61748  Top in lightweight sweatshirt fabric with ribb...  \n",
              "43750  Top in sweatshirt fabric with sequins, dropped...  \n",
              "95537  Short-sleeved dress in soft, organic cotton je...  \n",
              "\n",
              "[5 rows x 25 columns]"
            ],
            "text/html": [
              "\n",
              "  <div id=\"df-8bdc5419-9c2a-4922-8dd7-24bf64304c92\">\n",
              "    <div class=\"colab-df-container\">\n",
              "      <div>\n",
              "<style scoped>\n",
              "    .dataframe tbody tr th:only-of-type {\n",
              "        vertical-align: middle;\n",
              "    }\n",
              "\n",
              "    .dataframe tbody tr th {\n",
              "        vertical-align: top;\n",
              "    }\n",
              "\n",
              "    .dataframe thead th {\n",
              "        text-align: right;\n",
              "    }\n",
              "</style>\n",
              "<table border=\"1\" class=\"dataframe\">\n",
              "  <thead>\n",
              "    <tr style=\"text-align: right;\">\n",
              "      <th></th>\n",
              "      <th>article_id</th>\n",
              "      <th>product_code</th>\n",
              "      <th>prod_name</th>\n",
              "      <th>product_type_no</th>\n",
              "      <th>product_type_name</th>\n",
              "      <th>product_group_name</th>\n",
              "      <th>graphical_appearance_no</th>\n",
              "      <th>graphical_appearance_name</th>\n",
              "      <th>colour_group_code</th>\n",
              "      <th>colour_group_name</th>\n",
              "      <th>...</th>\n",
              "      <th>department_name</th>\n",
              "      <th>index_code</th>\n",
              "      <th>index_name</th>\n",
              "      <th>index_group_no</th>\n",
              "      <th>index_group_name</th>\n",
              "      <th>section_no</th>\n",
              "      <th>section_name</th>\n",
              "      <th>garment_group_no</th>\n",
              "      <th>garment_group_name</th>\n",
              "      <th>detail_desc</th>\n",
              "    </tr>\n",
              "  </thead>\n",
              "  <tbody>\n",
              "    <tr>\n",
              "      <th>10641</th>\n",
              "      <td>542352007</td>\n",
              "      <td>542352</td>\n",
              "      <td>Cap Salomon Wool</td>\n",
              "      <td>69</td>\n",
              "      <td>Cap/peaked</td>\n",
              "      <td>Accessories</td>\n",
              "      <td>1010026</td>\n",
              "      <td>Other structure</td>\n",
              "      <td>9</td>\n",
              "      <td>Black</td>\n",
              "      <td>...</td>\n",
              "      <td>Accessories</td>\n",
              "      <td>F</td>\n",
              "      <td>Menswear</td>\n",
              "      <td>3</td>\n",
              "      <td>Menswear</td>\n",
              "      <td>25</td>\n",
              "      <td>Men Accessories</td>\n",
              "      <td>1019</td>\n",
              "      <td>Accessories</td>\n",
              "      <td>Flat cap in a woven wool blend. Cotton lining.</td>\n",
              "    </tr>\n",
              "    <tr>\n",
              "      <th>53331</th>\n",
              "      <td>703806003</td>\n",
              "      <td>703806</td>\n",
              "      <td>Sergio sandal</td>\n",
              "      <td>91</td>\n",
              "      <td>Sandals</td>\n",
              "      <td>Shoes</td>\n",
              "      <td>1010016</td>\n",
              "      <td>Solid</td>\n",
              "      <td>13</td>\n",
              "      <td>Beige</td>\n",
              "      <td>...</td>\n",
              "      <td>Flats</td>\n",
              "      <td>C</td>\n",
              "      <td>Ladies Accessories</td>\n",
              "      <td>1</td>\n",
              "      <td>Ladieswear</td>\n",
              "      <td>64</td>\n",
              "      <td>Womens Shoes</td>\n",
              "      <td>1020</td>\n",
              "      <td>Shoes</td>\n",
              "      <td>Sandals with narrow straps at the front and a ...</td>\n",
              "    </tr>\n",
              "    <tr>\n",
              "      <th>61748</th>\n",
              "      <td>734109019</td>\n",
              "      <td>734109</td>\n",
              "      <td>TP BEN fancy crewneck SB</td>\n",
              "      <td>252</td>\n",
              "      <td>Sweater</td>\n",
              "      <td>Garment Upper body</td>\n",
              "      <td>1010005</td>\n",
              "      <td>Colour blocking</td>\n",
              "      <td>22</td>\n",
              "      <td>Yellow</td>\n",
              "      <td>...</td>\n",
              "      <td>Kids Boy Jersey Basic</td>\n",
              "      <td>H</td>\n",
              "      <td>Children Sizes 92-140</td>\n",
              "      <td>4</td>\n",
              "      <td>Baby/Children</td>\n",
              "      <td>72</td>\n",
              "      <td>Boys Underwear &amp; Basics</td>\n",
              "      <td>1002</td>\n",
              "      <td>Jersey Basic</td>\n",
              "      <td>Top in lightweight sweatshirt fabric with ribb...</td>\n",
              "    </tr>\n",
              "    <tr>\n",
              "      <th>43750</th>\n",
              "      <td>678016002</td>\n",
              "      <td>678016</td>\n",
              "      <td>Spec Occ Pearl Sweater</td>\n",
              "      <td>254</td>\n",
              "      <td>Top</td>\n",
              "      <td>Garment Upper body</td>\n",
              "      <td>1010002</td>\n",
              "      <td>Application/3D</td>\n",
              "      <td>51</td>\n",
              "      <td>Light Pink</td>\n",
              "      <td>...</td>\n",
              "      <td>Kids Girl Jersey Fancy</td>\n",
              "      <td>H</td>\n",
              "      <td>Children Sizes 92-140</td>\n",
              "      <td>4</td>\n",
              "      <td>Baby/Children</td>\n",
              "      <td>76</td>\n",
              "      <td>Kids Girl</td>\n",
              "      <td>1005</td>\n",
              "      <td>Jersey Fancy</td>\n",
              "      <td>Top in sweatshirt fabric with sequins, dropped...</td>\n",
              "    </tr>\n",
              "    <tr>\n",
              "      <th>95537</th>\n",
              "      <td>866929001</td>\n",
              "      <td>866929</td>\n",
              "      <td>SS DRESS solid</td>\n",
              "      <td>265</td>\n",
              "      <td>Dress</td>\n",
              "      <td>Garment Full body</td>\n",
              "      <td>1010016</td>\n",
              "      <td>Solid</td>\n",
              "      <td>51</td>\n",
              "      <td>Light Pink</td>\n",
              "      <td>...</td>\n",
              "      <td>Baby basics</td>\n",
              "      <td>G</td>\n",
              "      <td>Baby Sizes 50-98</td>\n",
              "      <td>4</td>\n",
              "      <td>Baby/Children</td>\n",
              "      <td>44</td>\n",
              "      <td>Baby Essentials &amp; Complements</td>\n",
              "      <td>1002</td>\n",
              "      <td>Jersey Basic</td>\n",
              "      <td>Short-sleeved dress in soft, organic cotton je...</td>\n",
              "    </tr>\n",
              "  </tbody>\n",
              "</table>\n",
              "<p>5 rows × 25 columns</p>\n",
              "</div>\n",
              "      <button class=\"colab-df-convert\" onclick=\"convertToInteractive('df-8bdc5419-9c2a-4922-8dd7-24bf64304c92')\"\n",
              "              title=\"Convert this dataframe to an interactive table.\"\n",
              "              style=\"display:none;\">\n",
              "        \n",
              "  <svg xmlns=\"http://www.w3.org/2000/svg\" height=\"24px\"viewBox=\"0 0 24 24\"\n",
              "       width=\"24px\">\n",
              "    <path d=\"M0 0h24v24H0V0z\" fill=\"none\"/>\n",
              "    <path d=\"M18.56 5.44l.94 2.06.94-2.06 2.06-.94-2.06-.94-.94-2.06-.94 2.06-2.06.94zm-11 1L8.5 8.5l.94-2.06 2.06-.94-2.06-.94L8.5 2.5l-.94 2.06-2.06.94zm10 10l.94 2.06.94-2.06 2.06-.94-2.06-.94-.94-2.06-.94 2.06-2.06.94z\"/><path d=\"M17.41 7.96l-1.37-1.37c-.4-.4-.92-.59-1.43-.59-.52 0-1.04.2-1.43.59L10.3 9.45l-7.72 7.72c-.78.78-.78 2.05 0 2.83L4 21.41c.39.39.9.59 1.41.59.51 0 1.02-.2 1.41-.59l7.78-7.78 2.81-2.81c.8-.78.8-2.07 0-2.86zM5.41 20L4 18.59l7.72-7.72 1.47 1.35L5.41 20z\"/>\n",
              "  </svg>\n",
              "      </button>\n",
              "      \n",
              "  <style>\n",
              "    .colab-df-container {\n",
              "      display:flex;\n",
              "      flex-wrap:wrap;\n",
              "      gap: 12px;\n",
              "    }\n",
              "\n",
              "    .colab-df-convert {\n",
              "      background-color: #E8F0FE;\n",
              "      border: none;\n",
              "      border-radius: 50%;\n",
              "      cursor: pointer;\n",
              "      display: none;\n",
              "      fill: #1967D2;\n",
              "      height: 32px;\n",
              "      padding: 0 0 0 0;\n",
              "      width: 32px;\n",
              "    }\n",
              "\n",
              "    .colab-df-convert:hover {\n",
              "      background-color: #E2EBFA;\n",
              "      box-shadow: 0px 1px 2px rgba(60, 64, 67, 0.3), 0px 1px 3px 1px rgba(60, 64, 67, 0.15);\n",
              "      fill: #174EA6;\n",
              "    }\n",
              "\n",
              "    [theme=dark] .colab-df-convert {\n",
              "      background-color: #3B4455;\n",
              "      fill: #D2E3FC;\n",
              "    }\n",
              "\n",
              "    [theme=dark] .colab-df-convert:hover {\n",
              "      background-color: #434B5C;\n",
              "      box-shadow: 0px 1px 3px 1px rgba(0, 0, 0, 0.15);\n",
              "      filter: drop-shadow(0px 1px 2px rgba(0, 0, 0, 0.3));\n",
              "      fill: #FFFFFF;\n",
              "    }\n",
              "  </style>\n",
              "\n",
              "      <script>\n",
              "        const buttonEl =\n",
              "          document.querySelector('#df-8bdc5419-9c2a-4922-8dd7-24bf64304c92 button.colab-df-convert');\n",
              "        buttonEl.style.display =\n",
              "          google.colab.kernel.accessAllowed ? 'block' : 'none';\n",
              "\n",
              "        async function convertToInteractive(key) {\n",
              "          const element = document.querySelector('#df-8bdc5419-9c2a-4922-8dd7-24bf64304c92');\n",
              "          const dataTable =\n",
              "            await google.colab.kernel.invokeFunction('convertToInteractive',\n",
              "                                                     [key], {});\n",
              "          if (!dataTable) return;\n",
              "\n",
              "          const docLinkHtml = 'Like what you see? Visit the ' +\n",
              "            '<a target=\"_blank\" href=https://colab.research.google.com/notebooks/data_table.ipynb>data table notebook</a>'\n",
              "            + ' to learn more about interactive tables.';\n",
              "          element.innerHTML = '';\n",
              "          dataTable['output_type'] = 'display_data';\n",
              "          await google.colab.output.renderOutput(dataTable, element);\n",
              "          const docLink = document.createElement('div');\n",
              "          docLink.innerHTML = docLinkHtml;\n",
              "          element.appendChild(docLink);\n",
              "        }\n",
              "      </script>\n",
              "    </div>\n",
              "  </div>\n",
              "  "
            ]
          },
          "metadata": {},
          "execution_count": 4
        }
      ]
    },
    {
      "cell_type": "code",
      "source": [
        "df.columns"
      ],
      "metadata": {
        "colab": {
          "base_uri": "https://localhost:8080/"
        },
        "id": "KXcuBnScR-Vc",
        "outputId": "532abc3f-31cc-4eeb-a546-1361c7915034"
      },
      "execution_count": 5,
      "outputs": [
        {
          "output_type": "execute_result",
          "data": {
            "text/plain": [
              "Index(['article_id', 'product_code', 'prod_name', 'product_type_no',\n",
              "       'product_type_name', 'product_group_name', 'graphical_appearance_no',\n",
              "       'graphical_appearance_name', 'colour_group_code', 'colour_group_name',\n",
              "       'perceived_colour_value_id', 'perceived_colour_value_name',\n",
              "       'perceived_colour_master_id', 'perceived_colour_master_name',\n",
              "       'department_no', 'department_name', 'index_code', 'index_name',\n",
              "       'index_group_no', 'index_group_name', 'section_no', 'section_name',\n",
              "       'garment_group_no', 'garment_group_name', 'detail_desc'],\n",
              "      dtype='object')"
            ]
          },
          "metadata": {},
          "execution_count": 5
        }
      ]
    },
    {
      "cell_type": "code",
      "source": [
        "df['product_group_name'].unique()"
      ],
      "metadata": {
        "colab": {
          "base_uri": "https://localhost:8080/"
        },
        "id": "qmpZfpIG4v5Y",
        "outputId": "8a463be2-55ed-4bb9-ba94-b47de4929448"
      },
      "execution_count": 6,
      "outputs": [
        {
          "output_type": "execute_result",
          "data": {
            "text/plain": [
              "array(['Garment Upper body', 'Underwear', 'Socks & Tights',\n",
              "       'Garment Lower body', 'Accessories', 'Items', 'Nightwear',\n",
              "       'Unknown', 'Underwear/nightwear', 'Shoes', 'Swimwear',\n",
              "       'Garment Full body', 'Cosmetic', 'Interior textile', 'Bags',\n",
              "       'Furniture', 'Garment and Shoe care', 'Fun', 'Stationery'],\n",
              "      dtype=object)"
            ]
          },
          "metadata": {},
          "execution_count": 6
        }
      ]
    },
    {
      "cell_type": "code",
      "source": [
        "df['perceived_colour_master_name'].unique()"
      ],
      "metadata": {
        "colab": {
          "base_uri": "https://localhost:8080/"
        },
        "id": "Ny03p88L2TgN",
        "outputId": "7ccfba66-d3db-40d7-e478-83591fe17dd4"
      },
      "execution_count": 7,
      "outputs": [
        {
          "output_type": "execute_result",
          "data": {
            "text/plain": [
              "array(['Black', 'White', 'Beige', 'Grey', 'Blue', 'Pink', 'Lilac Purple',\n",
              "       'Red', 'Mole', 'Orange', 'Metal', 'Brown', 'Turquoise', 'Yellow',\n",
              "       'Khaki green', 'Green', 'undefined', 'Unknown', 'Yellowish Green',\n",
              "       'Bluish Green'], dtype=object)"
            ]
          },
          "metadata": {},
          "execution_count": 7
        }
      ]
    },
    {
      "cell_type": "code",
      "source": [
        "df['graphical_appearance_name'].unique()"
      ],
      "metadata": {
        "colab": {
          "base_uri": "https://localhost:8080/"
        },
        "id": "WcwpNNM22sX7",
        "outputId": "746146f5-373c-4a6c-e934-de7fcb11058b"
      },
      "execution_count": 8,
      "outputs": [
        {
          "output_type": "execute_result",
          "data": {
            "text/plain": [
              "array(['Solid', 'Stripe', 'All over pattern', 'Melange', 'Transparent',\n",
              "       'Metallic', 'Application/3D', 'Denim', 'Colour blocking', 'Dot',\n",
              "       'Other structure', 'Contrast', 'Treatment', 'Check', 'Chambray',\n",
              "       'Front print', 'Glittering/Metallic', 'Mixed solid/pattern',\n",
              "       'Placement print', 'Other pattern', 'Neps', 'Embroidery', 'Lace',\n",
              "       'Jacquard', 'Unknown', 'Argyle', 'Slub', 'Mesh', 'Sequin',\n",
              "       'Hologram'], dtype=object)"
            ]
          },
          "metadata": {},
          "execution_count": 8
        }
      ]
    },
    {
      "cell_type": "markdown",
      "source": [
        "Relevant categories"
      ],
      "metadata": {
        "id": "Nw_s8CzO8HwB"
      }
    },
    {
      "cell_type": "code",
      "source": [
        "selected_categories = ['Garment Upper body', 'Underwear', 'Socks & Tights', 'Garment Lower body','Nightwear', 'Underwear/nightwear', 'Shoes', 'Swimwear', 'Garment Full body', 'Bags']\n",
        "df = df[df['product_group_name'].isin(selected_categories)]"
      ],
      "metadata": {
        "id": "34uW2rf95chd"
      },
      "execution_count": 9,
      "outputs": []
    },
    {
      "cell_type": "code",
      "source": [
        "df.shape"
      ],
      "metadata": {
        "colab": {
          "base_uri": "https://localhost:8080/"
        },
        "id": "-Q5DlQs_5oSB",
        "outputId": "384a75c8-9a68-4825-b173-98a88b5e81aa"
      },
      "execution_count": 12,
      "outputs": [
        {
          "output_type": "execute_result",
          "data": {
            "text/plain": [
              "(94165, 25)"
            ]
          },
          "metadata": {},
          "execution_count": 12
        }
      ]
    },
    {
      "cell_type": "code",
      "source": [
        "df['subfolder'] = '0' + df['article_id'].astype(str).str[:2]\n",
        "df['image_path'] = 'ds_project_dataset/images/' + df['subfolder'].str.strip() + '/0' + df['article_id'].astype(str) + '.jpg'"
      ],
      "metadata": {
        "id": "ArlNe67UUVlr"
      },
      "execution_count": 13,
      "outputs": []
    },
    {
      "cell_type": "code",
      "source": [
        "df['image_path']"
      ],
      "metadata": {
        "colab": {
          "base_uri": "https://localhost:8080/"
        },
        "id": "_hKaGsD0WsQq",
        "outputId": "7ec67c46-7899-4e04-f3a0-3896648ac579"
      },
      "execution_count": 14,
      "outputs": [
        {
          "output_type": "execute_result",
          "data": {
            "text/plain": [
              "0         ds_project_dataset/images/010/0108775015.jpg\n",
              "1         ds_project_dataset/images/010/0108775044.jpg\n",
              "2         ds_project_dataset/images/010/0108775051.jpg\n",
              "3         ds_project_dataset/images/011/0110065001.jpg\n",
              "4         ds_project_dataset/images/011/0110065002.jpg\n",
              "                              ...                     \n",
              "105536    ds_project_dataset/images/095/0952938001.jpg\n",
              "105537    ds_project_dataset/images/095/0953450001.jpg\n",
              "105538    ds_project_dataset/images/095/0953763001.jpg\n",
              "105539    ds_project_dataset/images/095/0956217002.jpg\n",
              "105541    ds_project_dataset/images/095/0959461001.jpg\n",
              "Name: image_path, Length: 94165, dtype: object"
            ]
          },
          "metadata": {},
          "execution_count": 14
        }
      ]
    },
    {
      "cell_type": "code",
      "source": [
        "df['image_path'][0]"
      ],
      "metadata": {
        "colab": {
          "base_uri": "https://localhost:8080/",
          "height": 36
        },
        "id": "_C0vqR5rfgfl",
        "outputId": "42ecca12-e584-4d91-9be6-f386f94e0fa7"
      },
      "execution_count": 15,
      "outputs": [
        {
          "output_type": "execute_result",
          "data": {
            "text/plain": [
              "'ds_project_dataset/images/010/0108775015.jpg'"
            ],
            "application/vnd.google.colaboratory.intrinsic+json": {
              "type": "string"
            }
          },
          "metadata": {},
          "execution_count": 15
        }
      ]
    },
    {
      "cell_type": "code",
      "source": [
        "img = cv2.imread(df['image_path'][0])\n",
        "plt.imshow(img)\n",
        "plt.show()"
      ],
      "metadata": {
        "colab": {
          "base_uri": "https://localhost:8080/",
          "height": 269
        },
        "id": "Dtmi3rS9fe9b",
        "outputId": "38ea667f-f1cb-4362-bb51-1fb3ce499aa5"
      },
      "execution_count": 16,
      "outputs": [
        {
          "output_type": "display_data",
          "data": {
            "text/plain": [
              "<Figure size 432x288 with 1 Axes>"
            ],
            "image/png": "[encoded data removed]"
          },
          "metadata": {
            "needs_background": "light"
          }
        }
      ]
    },
    {
      "cell_type": "markdown",
      "source": [
        "For the training first trying to do the model on 10000 elements from the dataset as we have 90000 elements and it is already taking quite a long time."
      ],
      "metadata": {
        "id": "BhF8LW0D8R2Y"
      }
    },
    {
      "cell_type": "code",
      "source": [
        "valid_images = []\n",
        "for index, row in tqdm(df[:10000].iterrows(), total=len(df[:10000])):\n",
        "    if cv2.imread(row['image_path']) is not None:\n",
        "        valid_images.append(row)\n",
        "\n",
        "df_valid_images = pd.DataFrame(valid_images)"
      ],
      "metadata": {
        "colab": {
          "base_uri": "https://localhost:8080/"
        },
        "id": "iXMKHs7E-_VI",
        "outputId": "f7c0c603-db14-4771-9078-cc2ca8a0892a"
      },
      "execution_count": 18,
      "outputs": [
        {
          "output_type": "stream",
          "name": "stderr",
          "text": [
            "100%|██████████| 10000/10000 [07:34<00:00, 22.01it/s]\n"
          ]
        }
      ]
    },
    {
      "cell_type": "code",
      "source": [
        "df_valid_images.shape"
      ],
      "metadata": {
        "colab": {
          "base_uri": "https://localhost:8080/"
        },
        "id": "_wYjN91L557L",
        "outputId": "88f5b838-b338-4c16-df73-a7bbdc4ecac8"
      },
      "execution_count": 19,
      "outputs": [
        {
          "output_type": "execute_result",
          "data": {
            "text/plain": [
              "(9925, 27)"
            ]
          },
          "metadata": {},
          "execution_count": 19
        }
      ]
    },
    {
      "cell_type": "code",
      "source": [
        "images = load_images_parallel(df_valid_images['image_path'].values, n_jobs=4, resize_shape=(80, 80))"
      ],
      "metadata": {
        "id": "BSH3bsoNiN_h"
      },
      "execution_count": 20,
      "outputs": []
    },
    {
      "cell_type": "markdown",
      "source": [
        "Encoding for the model"
      ],
      "metadata": {
        "id": "h7FyMvk78jUV"
      }
    },
    {
      "cell_type": "code",
      "source": [
        "new_df = pd.DataFrame(df_valid_images['article_id'])"
      ],
      "metadata": {
        "id": "cRbPgLXAxCTV"
      },
      "execution_count": 21,
      "outputs": []
    },
    {
      "cell_type": "code",
      "source": [
        "new_df"
      ],
      "metadata": {
        "colab": {
          "base_uri": "https://localhost:8080/",
          "height": 423
        },
        "id": "TsNd8nrKxMR5",
        "outputId": "ac7eea1a-8677-4fba-ee4a-997c84d72a17"
      },
      "execution_count": 22,
      "outputs": [
        {
          "output_type": "execute_result",
          "data": {
            "text/plain": [
              "       article_id\n",
              "0       108775015\n",
              "1       108775044\n",
              "2       108775051\n",
              "3       110065001\n",
              "4       110065002\n",
              "...           ...\n",
              "11224   546565005\n",
              "11225   546565006\n",
              "11226   546565007\n",
              "11227   546565010\n",
              "11228   546565011\n",
              "\n",
              "[9925 rows x 1 columns]"
            ],
            "text/html": [
              "\n",
              "  <div id=\"df-f7eebf7b-09d0-4464-984a-438f673e61f0\">\n",
              "    <div class=\"colab-df-container\">\n",
              "      <div>\n",
              "<style scoped>\n",
              "    .dataframe tbody tr th:only-of-type {\n",
              "        vertical-align: middle;\n",
              "    }\n",
              "\n",
              "    .dataframe tbody tr th {\n",
              "        vertical-align: top;\n",
              "    }\n",
              "\n",
              "    .dataframe thead th {\n",
              "        text-align: right;\n",
              "    }\n",
              "</style>\n",
              "<table border=\"1\" class=\"dataframe\">\n",
              "  <thead>\n",
              "    <tr style=\"text-align: right;\">\n",
              "      <th></th>\n",
              "      <th>article_id</th>\n",
              "    </tr>\n",
              "  </thead>\n",
              "  <tbody>\n",
              "    <tr>\n",
              "      <th>0</th>\n",
              "      <td>108775015</td>\n",
              "    </tr>\n",
              "    <tr>\n",
              "      <th>1</th>\n",
              "      <td>108775044</td>\n",
              "    </tr>\n",
              "    <tr>\n",
              "      <th>2</th>\n",
              "      <td>108775051</td>\n",
              "    </tr>\n",
              "    <tr>\n",
              "      <th>3</th>\n",
              "      <td>110065001</td>\n",
              "    </tr>\n",
              "    <tr>\n",
              "      <th>4</th>\n",
              "      <td>110065002</td>\n",
              "    </tr>\n",
              "    <tr>\n",
              "      <th>...</th>\n",
              "      <td>...</td>\n",
              "    </tr>\n",
              "    <tr>\n",
              "      <th>11224</th>\n",
              "      <td>546565005</td>\n",
              "    </tr>\n",
              "    <tr>\n",
              "      <th>11225</th>\n",
              "      <td>546565006</td>\n",
              "    </tr>\n",
              "    <tr>\n",
              "      <th>11226</th>\n",
              "      <td>546565007</td>\n",
              "    </tr>\n",
              "    <tr>\n",
              "      <th>11227</th>\n",
              "      <td>546565010</td>\n",
              "    </tr>\n",
              "    <tr>\n",
              "      <th>11228</th>\n",
              "      <td>546565011</td>\n",
              "    </tr>\n",
              "  </tbody>\n",
              "</table>\n",
              "<p>9925 rows × 1 columns</p>\n",
              "</div>\n",
              "      <button class=\"colab-df-convert\" onclick=\"convertToInteractive('df-f7eebf7b-09d0-4464-984a-438f673e61f0')\"\n",
              "              title=\"Convert this dataframe to an interactive table.\"\n",
              "              style=\"display:none;\">\n",
              "        \n",
              "  <svg xmlns=\"http://www.w3.org/2000/svg\" height=\"24px\"viewBox=\"0 0 24 24\"\n",
              "       width=\"24px\">\n",
              "    <path d=\"M0 0h24v24H0V0z\" fill=\"none\"/>\n",
              "    <path d=\"M18.56 5.44l.94 2.06.94-2.06 2.06-.94-2.06-.94-.94-2.06-.94 2.06-2.06.94zm-11 1L8.5 8.5l.94-2.06 2.06-.94-2.06-.94L8.5 2.5l-.94 2.06-2.06.94zm10 10l.94 2.06.94-2.06 2.06-.94-2.06-.94-.94-2.06-.94 2.06-2.06.94z\"/><path d=\"M17.41 7.96l-1.37-1.37c-.4-.4-.92-.59-1.43-.59-.52 0-1.04.2-1.43.59L10.3 9.45l-7.72 7.72c-.78.78-.78 2.05 0 2.83L4 21.41c.39.39.9.59 1.41.59.51 0 1.02-.2 1.41-.59l7.78-7.78 2.81-2.81c.8-.78.8-2.07 0-2.86zM5.41 20L4 18.59l7.72-7.72 1.47 1.35L5.41 20z\"/>\n",
              "  </svg>\n",
              "      </button>\n",
              "      \n",
              "  <style>\n",
              "    .colab-df-container {\n",
              "      display:flex;\n",
              "      flex-wrap:wrap;\n",
              "      gap: 12px;\n",
              "    }\n",
              "\n",
              "    .colab-df-convert {\n",
              "      background-color: #E8F0FE;\n",
              "      border: none;\n",
              "      border-radius: 50%;\n",
              "      cursor: pointer;\n",
              "      display: none;\n",
              "      fill: #1967D2;\n",
              "      height: 32px;\n",
              "      padding: 0 0 0 0;\n",
              "      width: 32px;\n",
              "    }\n",
              "\n",
              "    .colab-df-convert:hover {\n",
              "      background-color: #E2EBFA;\n",
              "      box-shadow: 0px 1px 2px rgba(60, 64, 67, 0.3), 0px 1px 3px 1px rgba(60, 64, 67, 0.15);\n",
              "      fill: #174EA6;\n",
              "    }\n",
              "\n",
              "    [theme=dark] .colab-df-convert {\n",
              "      background-color: #3B4455;\n",
              "      fill: #D2E3FC;\n",
              "    }\n",
              "\n",
              "    [theme=dark] .colab-df-convert:hover {\n",
              "      background-color: #434B5C;\n",
              "      box-shadow: 0px 1px 3px 1px rgba(0, 0, 0, 0.15);\n",
              "      filter: drop-shadow(0px 1px 2px rgba(0, 0, 0, 0.3));\n",
              "      fill: #FFFFFF;\n",
              "    }\n",
              "  </style>\n",
              "\n",
              "      <script>\n",
              "        const buttonEl =\n",
              "          document.querySelector('#df-f7eebf7b-09d0-4464-984a-438f673e61f0 button.colab-df-convert');\n",
              "        buttonEl.style.display =\n",
              "          google.colab.kernel.accessAllowed ? 'block' : 'none';\n",
              "\n",
              "        async function convertToInteractive(key) {\n",
              "          const element = document.querySelector('#df-f7eebf7b-09d0-4464-984a-438f673e61f0');\n",
              "          const dataTable =\n",
              "            await google.colab.kernel.invokeFunction('convertToInteractive',\n",
              "                                                     [key], {});\n",
              "          if (!dataTable) return;\n",
              "\n",
              "          const docLinkHtml = 'Like what you see? Visit the ' +\n",
              "            '<a target=\"_blank\" href=https://colab.research.google.com/notebooks/data_table.ipynb>data table notebook</a>'\n",
              "            + ' to learn more about interactive tables.';\n",
              "          element.innerHTML = '';\n",
              "          dataTable['output_type'] = 'display_data';\n",
              "          await google.colab.output.renderOutput(dataTable, element);\n",
              "          const docLink = document.createElement('div');\n",
              "          docLink.innerHTML = docLinkHtml;\n",
              "          element.appendChild(docLink);\n",
              "        }\n",
              "      </script>\n",
              "    </div>\n",
              "  </div>\n",
              "  "
            ]
          },
          "metadata": {},
          "execution_count": 22
        }
      ]
    },
    {
      "cell_type": "code",
      "source": [
        "new_df = new_df.join(pd.get_dummies(df_valid_images['perceived_colour_master_name'], prefix='colour'))\n",
        "new_df = new_df.join(pd.get_dummies(df_valid_images['product_group_name'], prefix='product'))\n",
        "new_df = new_df.join(pd.get_dummies(df_valid_images['graphical_appearance_name'], prefix='pattern'))"
      ],
      "metadata": {
        "id": "MCk1unMjUe8t"
      },
      "execution_count": 23,
      "outputs": []
    },
    {
      "cell_type": "code",
      "source": [
        "new_df.sample(5)"
      ],
      "metadata": {
        "colab": {
          "base_uri": "https://localhost:8080/",
          "height": 317
        },
        "id": "48fei3x7uL9a",
        "outputId": "90560eb5-cec3-4133-c7d8-9c71374f5577"
      },
      "execution_count": 24,
      "outputs": [
        {
          "output_type": "execute_result",
          "data": {
            "text/plain": [
              "       article_id  colour_Beige  colour_Black  colour_Blue  colour_Brown  \\\n",
              "7427    513701012             0             0            1             0   \n",
              "3692    463601013             0             0            0             0   \n",
              "11121   545720001             0             1            0             0   \n",
              "3015    445400014             0             0            1             0   \n",
              "7908    518318003             0             0            1             0   \n",
              "\n",
              "       colour_Green  colour_Grey  colour_Khaki green  colour_Lilac Purple  \\\n",
              "7427              0            0                   0                    0   \n",
              "3692              0            0                   0                    0   \n",
              "11121             0            0                   0                    0   \n",
              "3015              0            0                   0                    0   \n",
              "7908              0            0                   0                    0   \n",
              "\n",
              "       colour_Metal  ...  pattern_Other pattern  pattern_Other structure  \\\n",
              "7427              0  ...                      0                        0   \n",
              "3692              0  ...                      0                        0   \n",
              "11121             0  ...                      0                        0   \n",
              "3015              0  ...                      0                        0   \n",
              "7908              0  ...                      0                        0   \n",
              "\n",
              "       pattern_Placement print  pattern_Sequin  pattern_Slub  pattern_Solid  \\\n",
              "7427                         0               0             0              0   \n",
              "3692                         0               0             0              0   \n",
              "11121                        0               0             0              1   \n",
              "3015                         1               0             0              0   \n",
              "7908                         0               0             0              0   \n",
              "\n",
              "       pattern_Stripe  pattern_Transparent  pattern_Treatment  pattern_Unknown  \n",
              "7427                0                    0                  0                0  \n",
              "3692                1                    0                  0                0  \n",
              "11121               0                    0                  0                0  \n",
              "3015                0                    0                  0                0  \n",
              "7908                0                    0                  0                0  \n",
              "\n",
              "[5 rows x 57 columns]"
            ],
            "text/html": [
              "\n",
              "  <div id=\"df-c59ac13f-e9a1-4984-badb-b842534c1422\">\n",
              "    <div class=\"colab-df-container\">\n",
              "      <div>\n",
              "<style scoped>\n",
              "    .dataframe tbody tr th:only-of-type {\n",
              "        vertical-align: middle;\n",
              "    }\n",
              "\n",
              "    .dataframe tbody tr th {\n",
              "        vertical-align: top;\n",
              "    }\n",
              "\n",
              "    .dataframe thead th {\n",
              "        text-align: right;\n",
              "    }\n",
              "</style>\n",
              "<table border=\"1\" class=\"dataframe\">\n",
              "  <thead>\n",
              "    <tr style=\"text-align: right;\">\n",
              "      <th></th>\n",
              "      <th>article_id</th>\n",
              "      <th>colour_Beige</th>\n",
              "      <th>colour_Black</th>\n",
              "      <th>colour_Blue</th>\n",
              "      <th>colour_Brown</th>\n",
              "      <th>colour_Green</th>\n",
              "      <th>colour_Grey</th>\n",
              "      <th>colour_Khaki green</th>\n",
              "      <th>colour_Lilac Purple</th>\n",
              "      <th>colour_Metal</th>\n",
              "      <th>...</th>\n",
              "      <th>pattern_Other pattern</th>\n",
              "      <th>pattern_Other structure</th>\n",
              "      <th>pattern_Placement print</th>\n",
              "      <th>pattern_Sequin</th>\n",
              "      <th>pattern_Slub</th>\n",
              "      <th>pattern_Solid</th>\n",
              "      <th>pattern_Stripe</th>\n",
              "      <th>pattern_Transparent</th>\n",
              "      <th>pattern_Treatment</th>\n",
              "      <th>pattern_Unknown</th>\n",
              "    </tr>\n",
              "  </thead>\n",
              "  <tbody>\n",
              "    <tr>\n",
              "      <th>7427</th>\n",
              "      <td>513701012</td>\n",
              "      <td>0</td>\n",
              "      <td>0</td>\n",
              "      <td>1</td>\n",
              "      <td>0</td>\n",
              "      <td>0</td>\n",
              "      <td>0</td>\n",
              "      <td>0</td>\n",
              "      <td>0</td>\n",
              "      <td>0</td>\n",
              "      <td>...</td>\n",
              "      <td>0</td>\n",
              "      <td>0</td>\n",
              "      <td>0</td>\n",
              "      <td>0</td>\n",
              "      <td>0</td>\n",
              "      <td>0</td>\n",
              "      <td>0</td>\n",
              "      <td>0</td>\n",
              "      <td>0</td>\n",
              "      <td>0</td>\n",
              "    </tr>\n",
              "    <tr>\n",
              "      <th>3692</th>\n",
              "      <td>463601013</td>\n",
              "      <td>0</td>\n",
              "      <td>0</td>\n",
              "      <td>0</td>\n",
              "      <td>0</td>\n",
              "      <td>0</td>\n",
              "      <td>0</td>\n",
              "      <td>0</td>\n",
              "      <td>0</td>\n",
              "      <td>0</td>\n",
              "      <td>...</td>\n",
              "      <td>0</td>\n",
              "      <td>0</td>\n",
              "      <td>0</td>\n",
              "      <td>0</td>\n",
              "      <td>0</td>\n",
              "      <td>0</td>\n",
              "      <td>1</td>\n",
              "      <td>0</td>\n",
              "      <td>0</td>\n",
              "      <td>0</td>\n",
              "    </tr>\n",
              "    <tr>\n",
              "      <th>11121</th>\n",
              "      <td>545720001</td>\n",
              "      <td>0</td>\n",
              "      <td>1</td>\n",
              "      <td>0</td>\n",
              "      <td>0</td>\n",
              "      <td>0</td>\n",
              "      <td>0</td>\n",
              "      <td>0</td>\n",
              "      <td>0</td>\n",
              "      <td>0</td>\n",
              "      <td>...</td>\n",
              "      <td>0</td>\n",
              "      <td>0</td>\n",
              "      <td>0</td>\n",
              "      <td>0</td>\n",
              "      <td>0</td>\n",
              "      <td>1</td>\n",
              "      <td>0</td>\n",
              "      <td>0</td>\n",
              "      <td>0</td>\n",
              "      <td>0</td>\n",
              "    </tr>\n",
              "    <tr>\n",
              "      <th>3015</th>\n",
              "      <td>445400014</td>\n",
              "      <td>0</td>\n",
              "      <td>0</td>\n",
              "      <td>1</td>\n",
              "      <td>0</td>\n",
              "      <td>0</td>\n",
              "      <td>0</td>\n",
              "      <td>0</td>\n",
              "      <td>0</td>\n",
              "      <td>0</td>\n",
              "      <td>...</td>\n",
              "      <td>0</td>\n",
              "      <td>0</td>\n",
              "      <td>1</td>\n",
              "      <td>0</td>\n",
              "      <td>0</td>\n",
              "      <td>0</td>\n",
              "      <td>0</td>\n",
              "      <td>0</td>\n",
              "      <td>0</td>\n",
              "      <td>0</td>\n",
              "    </tr>\n",
              "    <tr>\n",
              "      <th>7908</th>\n",
              "      <td>518318003</td>\n",
              "      <td>0</td>\n",
              "      <td>0</td>\n",
              "      <td>1</td>\n",
              "      <td>0</td>\n",
              "      <td>0</td>\n",
              "      <td>0</td>\n",
              "      <td>0</td>\n",
              "      <td>0</td>\n",
              "      <td>0</td>\n",
              "      <td>...</td>\n",
              "      <td>0</td>\n",
              "      <td>0</td>\n",
              "      <td>0</td>\n",
              "      <td>0</td>\n",
              "      <td>0</td>\n",
              "      <td>0</td>\n",
              "      <td>0</td>\n",
              "      <td>0</td>\n",
              "      <td>0</td>\n",
              "      <td>0</td>\n",
              "    </tr>\n",
              "  </tbody>\n",
              "</table>\n",
              "<p>5 rows × 57 columns</p>\n",
              "</div>\n",
              "      <button class=\"colab-df-convert\" onclick=\"convertToInteractive('df-c59ac13f-e9a1-4984-badb-b842534c1422')\"\n",
              "              title=\"Convert this dataframe to an interactive table.\"\n",
              "              style=\"display:none;\">\n",
              "        \n",
              "  <svg xmlns=\"http://www.w3.org/2000/svg\" height=\"24px\"viewBox=\"0 0 24 24\"\n",
              "       width=\"24px\">\n",
              "    <path d=\"M0 0h24v24H0V0z\" fill=\"none\"/>\n",
              "    <path d=\"M18.56 5.44l.94 2.06.94-2.06 2.06-.94-2.06-.94-.94-2.06-.94 2.06-2.06.94zm-11 1L8.5 8.5l.94-2.06 2.06-.94-2.06-.94L8.5 2.5l-.94 2.06-2.06.94zm10 10l.94 2.06.94-2.06 2.06-.94-2.06-.94-.94-2.06-.94 2.06-2.06.94z\"/><path d=\"M17.41 7.96l-1.37-1.37c-.4-.4-.92-.59-1.43-.59-.52 0-1.04.2-1.43.59L10.3 9.45l-7.72 7.72c-.78.78-.78 2.05 0 2.83L4 21.41c.39.39.9.59 1.41.59.51 0 1.02-.2 1.41-.59l7.78-7.78 2.81-2.81c.8-.78.8-2.07 0-2.86zM5.41 20L4 18.59l7.72-7.72 1.47 1.35L5.41 20z\"/>\n",
              "  </svg>\n",
              "      </button>\n",
              "      \n",
              "  <style>\n",
              "    .colab-df-container {\n",
              "      display:flex;\n",
              "      flex-wrap:wrap;\n",
              "      gap: 12px;\n",
              "    }\n",
              "\n",
              "    .colab-df-convert {\n",
              "      background-color: #E8F0FE;\n",
              "      border: none;\n",
              "      border-radius: 50%;\n",
              "      cursor: pointer;\n",
              "      display: none;\n",
              "      fill: #1967D2;\n",
              "      height: 32px;\n",
              "      padding: 0 0 0 0;\n",
              "      width: 32px;\n",
              "    }\n",
              "\n",
              "    .colab-df-convert:hover {\n",
              "      background-color: #E2EBFA;\n",
              "      box-shadow: 0px 1px 2px rgba(60, 64, 67, 0.3), 0px 1px 3px 1px rgba(60, 64, 67, 0.15);\n",
              "      fill: #174EA6;\n",
              "    }\n",
              "\n",
              "    [theme=dark] .colab-df-convert {\n",
              "      background-color: #3B4455;\n",
              "      fill: #D2E3FC;\n",
              "    }\n",
              "\n",
              "    [theme=dark] .colab-df-convert:hover {\n",
              "      background-color: #434B5C;\n",
              "      box-shadow: 0px 1px 3px 1px rgba(0, 0, 0, 0.15);\n",
              "      filter: drop-shadow(0px 1px 2px rgba(0, 0, 0, 0.3));\n",
              "      fill: #FFFFFF;\n",
              "    }\n",
              "  </style>\n",
              "\n",
              "      <script>\n",
              "        const buttonEl =\n",
              "          document.querySelector('#df-c59ac13f-e9a1-4984-badb-b842534c1422 button.colab-df-convert');\n",
              "        buttonEl.style.display =\n",
              "          google.colab.kernel.accessAllowed ? 'block' : 'none';\n",
              "\n",
              "        async function convertToInteractive(key) {\n",
              "          const element = document.querySelector('#df-c59ac13f-e9a1-4984-badb-b842534c1422');\n",
              "          const dataTable =\n",
              "            await google.colab.kernel.invokeFunction('convertToInteractive',\n",
              "                                                     [key], {});\n",
              "          if (!dataTable) return;\n",
              "\n",
              "          const docLinkHtml = 'Like what you see? Visit the ' +\n",
              "            '<a target=\"_blank\" href=https://colab.research.google.com/notebooks/data_table.ipynb>data table notebook</a>'\n",
              "            + ' to learn more about interactive tables.';\n",
              "          element.innerHTML = '';\n",
              "          dataTable['output_type'] = 'display_data';\n",
              "          await google.colab.output.renderOutput(dataTable, element);\n",
              "          const docLink = document.createElement('div');\n",
              "          docLink.innerHTML = docLinkHtml;\n",
              "          element.appendChild(docLink);\n",
              "        }\n",
              "      </script>\n",
              "    </div>\n",
              "  </div>\n",
              "  "
            ]
          },
          "metadata": {},
          "execution_count": 24
        }
      ]
    },
    {
      "cell_type": "code",
      "source": [
        "color_array = new_df.filter(like='colour_').to_numpy()\n",
        "pattern_array = new_df.filter(like='pattern_').to_numpy()\n",
        "type_array = new_df.filter(like='product_').to_numpy()"
      ],
      "metadata": {
        "id": "1P9u7qpkwUKs"
      },
      "execution_count": 25,
      "outputs": []
    },
    {
      "cell_type": "code",
      "source": [
        "color_array"
      ],
      "metadata": {
        "colab": {
          "base_uri": "https://localhost:8080/"
        },
        "id": "HPAlcwwiwpaW",
        "outputId": "3e2edc2c-d273-46b1-bae7-7bd2015353eb"
      },
      "execution_count": 26,
      "outputs": [
        {
          "output_type": "execute_result",
          "data": {
            "text/plain": [
              "array([[0, 1, 0, ..., 0, 0, 0],\n",
              "       [0, 0, 0, ..., 1, 0, 0],\n",
              "       [0, 0, 0, ..., 1, 0, 0],\n",
              "       ...,\n",
              "       [0, 0, 0, ..., 0, 0, 0],\n",
              "       [0, 0, 1, ..., 0, 0, 0],\n",
              "       [0, 0, 1, ..., 0, 0, 0]], dtype=uint8)"
            ]
          },
          "metadata": {},
          "execution_count": 26
        }
      ]
    },
    {
      "cell_type": "markdown",
      "source": [
        "Splitting + Model"
      ],
      "metadata": {
        "id": "or0qQCdU8o8z"
      }
    },
    {
      "cell_type": "code",
      "source": [
        "from sklearn.model_selection import train_test_split\n",
        "X_train, X_val, y_color_train, y_color_val, y_type_train, y_type_val, y_pattern_train, y_pattern_val = train_test_split(\n",
        "    images, color_array, type_array, pattern_array, test_size=0.2, random_state=42\n",
        ")"
      ],
      "metadata": {
        "id": "2hapsNIYwadl"
      },
      "execution_count": 27,
      "outputs": []
    },
    {
      "cell_type": "code",
      "source": [
        "inputs = Input(shape=(80, 80, 3))\n",
        "x = Conv2D(32, (3, 3), activation='relu')(inputs)\n",
        "x = MaxPooling2D((2, 2))(x)\n",
        "x = Conv2D(64, (3, 3), activation='relu')(x)\n",
        "x = MaxPooling2D((2, 2))(x)\n",
        "x = Conv2D(128, (3, 3), activation='relu')(x)\n",
        "x = MaxPooling2D((2, 2))(x)\n",
        "x = Flatten()(x)\n",
        "x = Dense(256, activation='relu')(x)\n",
        "\n",
        "color_output = Dense(len(df_valid_images['perceived_colour_master_name'].unique()), activation='softmax', name='color_output')(x)\n",
        "type_output = Dense(len(df_valid_images['product_group_name'].unique()), activation='softmax', name='type_output')(x)\n",
        "pattern_output = Dense(len(df_valid_images['graphical_appearance_name'].unique()), activation='softmax', name='pattern_output')(x)\n",
        "\n",
        "model = Model(inputs=inputs, outputs=[color_output, type_output, pattern_output])\n",
        "model.summary()\n"
      ],
      "metadata": {
        "colab": {
          "base_uri": "https://localhost:8080/"
        },
        "id": "81KQC_qGvZvY",
        "outputId": "279ed47b-02ba-49c1-89c4-91c1298cc7ad"
      },
      "execution_count": 28,
      "outputs": [
        {
          "output_type": "stream",
          "name": "stdout",
          "text": [
            "Model: \"model\"\n",
            "__________________________________________________________________________________________________\n",
            " Layer (type)                   Output Shape         Param #     Connected to                     \n",
            "==================================================================================================\n",
            " input_1 (InputLayer)           [(None, 80, 80, 3)]  0           []                               \n",
            "                                                                                                  \n",
            " conv2d (Conv2D)                (None, 78, 78, 32)   896         ['input_1[0][0]']                \n",
            "                                                                                                  \n",
            " max_pooling2d (MaxPooling2D)   (None, 39, 39, 32)   0           ['conv2d[0][0]']                 \n",
            "                                                                                                  \n",
            " conv2d_1 (Conv2D)              (None, 37, 37, 64)   18496       ['max_pooling2d[0][0]']          \n",
            "                                                                                                  \n",
            " max_pooling2d_1 (MaxPooling2D)  (None, 18, 18, 64)  0           ['conv2d_1[0][0]']               \n",
            "                                                                                                  \n",
            " conv2d_2 (Conv2D)              (None, 16, 16, 128)  73856       ['max_pooling2d_1[0][0]']        \n",
            "                                                                                                  \n",
            " max_pooling2d_2 (MaxPooling2D)  (None, 8, 8, 128)   0           ['conv2d_2[0][0]']               \n",
            "                                                                                                  \n",
            " flatten (Flatten)              (None, 8192)         0           ['max_pooling2d_2[0][0]']        \n",
            "                                                                                                  \n",
            " dense (Dense)                  (None, 256)          2097408     ['flatten[0][0]']                \n",
            "                                                                                                  \n",
            " color_output (Dense)           (None, 18)           4626        ['dense[0][0]']                  \n",
            "                                                                                                  \n",
            " type_output (Dense)            (None, 9)            2313        ['dense[0][0]']                  \n",
            "                                                                                                  \n",
            " pattern_output (Dense)         (None, 29)           7453        ['dense[0][0]']                  \n",
            "                                                                                                  \n",
            "==================================================================================================\n",
            "Total params: 2,205,048\n",
            "Trainable params: 2,205,048\n",
            "Non-trainable params: 0\n",
            "__________________________________________________________________________________________________\n"
          ]
        }
      ]
    },
    {
      "cell_type": "code",
      "source": [
        "model.compile(\n",
        "    optimizer='adam',\n",
        "    loss={\n",
        "        'color_output': 'categorical_crossentropy',\n",
        "        'type_output': 'categorical_crossentropy',\n",
        "        'pattern_output': 'categorical_crossentropy'\n",
        "    },\n",
        "    metrics=['accuracy']\n",
        ")"
      ],
      "metadata": {
        "id": "hsNTz7lSwEmT"
      },
      "execution_count": 29,
      "outputs": []
    },
    {
      "cell_type": "code",
      "source": [
        "history = model.fit(\n",
        "    X_train,\n",
        "    {'color_output': y_color_train, 'type_output': y_type_train, 'pattern_output': y_pattern_train},\n",
        "    validation_data=(\n",
        "        X_val,\n",
        "        {'color_output': y_color_val, 'type_output': y_type_val, 'pattern_output': y_pattern_val}\n",
        "    ),\n",
        "    epochs=20,\n",
        "    batch_size=32\n",
        ")\n",
        "\n",
        "scores = model.evaluate(\n",
        "    X_val,\n",
        "    {'color_output': y_color_val, 'type_output': y_type_val, 'pattern_output': y_pattern_val}\n",
        ")\n"
      ],
      "metadata": {
        "colab": {
          "base_uri": "https://localhost:8080/"
        },
        "id": "LJUyIh2vxs0t",
        "outputId": "ae4bfe19-d69d-4c51-e921-db3735eca91d"
      },
      "execution_count": 30,
      "outputs": [
        {
          "output_type": "stream",
          "name": "stdout",
          "text": [
            "Epoch 1/20\n",
            "249/249 [==============================] - 10s 16ms/step - loss: 9.6938 - color_output_loss: 3.6392 - type_output_loss: 2.6195 - pattern_output_loss: 3.4350 - color_output_accuracy: 0.4194 - type_output_accuracy: 0.5839 - pattern_output_accuracy: 0.4684 - val_loss: 4.4421 - val_color_output_loss: 1.5166 - val_type_output_loss: 1.0614 - val_pattern_output_loss: 1.8641 - val_color_output_accuracy: 0.5365 - val_type_output_accuracy: 0.6610 - val_pattern_output_accuracy: 0.5139\n",
            "Epoch 2/20\n",
            "249/249 [==============================] - 3s 11ms/step - loss: 4.1257 - color_output_loss: 1.4480 - type_output_loss: 0.9457 - pattern_output_loss: 1.7319 - color_output_accuracy: 0.5568 - type_output_accuracy: 0.7013 - pattern_output_accuracy: 0.5293 - val_loss: 4.4356 - val_color_output_loss: 1.5872 - val_type_output_loss: 1.0147 - val_pattern_output_loss: 1.8338 - val_color_output_accuracy: 0.4836 - val_type_output_accuracy: 0.6917 - val_pattern_output_accuracy: 0.5048\n",
            "Epoch 3/20\n",
            "249/249 [==============================] - 3s 11ms/step - loss: 3.6551 - color_output_loss: 1.2800 - type_output_loss: 0.8003 - pattern_output_loss: 1.5748 - color_output_accuracy: 0.6048 - type_output_accuracy: 0.7437 - pattern_output_accuracy: 0.5531 - val_loss: 3.9732 - val_color_output_loss: 1.3272 - val_type_output_loss: 0.8858 - val_pattern_output_loss: 1.7602 - val_color_output_accuracy: 0.6096 - val_type_output_accuracy: 0.7295 - val_pattern_output_accuracy: 0.5385\n",
            "Epoch 4/20\n",
            "249/249 [==============================] - 3s 12ms/step - loss: 3.1689 - color_output_loss: 1.1153 - type_output_loss: 0.6634 - pattern_output_loss: 1.3902 - color_output_accuracy: 0.6555 - type_output_accuracy: 0.7895 - pattern_output_accuracy: 0.6001 - val_loss: 3.7706 - val_color_output_loss: 1.2641 - val_type_output_loss: 0.8408 - val_pattern_output_loss: 1.6657 - val_color_output_accuracy: 0.6217 - val_type_output_accuracy: 0.7390 - val_pattern_output_accuracy: 0.5587\n",
            "Epoch 5/20\n",
            "249/249 [==============================] - 3s 14ms/step - loss: 2.8619 - color_output_loss: 1.0089 - type_output_loss: 0.5689 - pattern_output_loss: 1.2841 - color_output_accuracy: 0.6888 - type_output_accuracy: 0.8169 - pattern_output_accuracy: 0.6213 - val_loss: 4.0568 - val_color_output_loss: 1.4024 - val_type_output_loss: 0.8791 - val_pattern_output_loss: 1.7753 - val_color_output_accuracy: 0.5884 - val_type_output_accuracy: 0.7270 - val_pattern_output_accuracy: 0.5537\n",
            "Epoch 6/20\n",
            "249/249 [==============================] - 3s 11ms/step - loss: 2.5414 - color_output_loss: 0.9174 - type_output_loss: 0.4861 - pattern_output_loss: 1.1379 - color_output_accuracy: 0.7105 - type_output_accuracy: 0.8450 - pattern_output_accuracy: 0.6582 - val_loss: 4.2707 - val_color_output_loss: 1.5550 - val_type_output_loss: 0.9070 - val_pattern_output_loss: 1.8086 - val_color_output_accuracy: 0.5869 - val_type_output_accuracy: 0.7552 - val_pattern_output_accuracy: 0.5486\n",
            "Epoch 7/20\n",
            "249/249 [==============================] - 3s 11ms/step - loss: 2.1907 - color_output_loss: 0.7750 - type_output_loss: 0.4236 - pattern_output_loss: 0.9922 - color_output_accuracy: 0.7516 - type_output_accuracy: 0.8618 - pattern_output_accuracy: 0.7013 - val_loss: 4.2099 - val_color_output_loss: 1.3776 - val_type_output_loss: 0.9293 - val_pattern_output_loss: 1.9030 - val_color_output_accuracy: 0.6317 - val_type_output_accuracy: 0.7511 - val_pattern_output_accuracy: 0.5234\n",
            "Epoch 8/20\n",
            "249/249 [==============================] - 3s 11ms/step - loss: 1.9341 - color_output_loss: 0.6887 - type_output_loss: 0.3673 - pattern_output_loss: 0.8781 - color_output_accuracy: 0.7792 - type_output_accuracy: 0.8775 - pattern_output_accuracy: 0.7338 - val_loss: 4.9039 - val_color_output_loss: 1.5518 - val_type_output_loss: 1.0964 - val_pattern_output_loss: 2.2556 - val_color_output_accuracy: 0.6312 - val_type_output_accuracy: 0.7345 - val_pattern_output_accuracy: 0.5486\n",
            "Epoch 9/20\n",
            "249/249 [==============================] - 3s 14ms/step - loss: 1.7122 - color_output_loss: 0.6183 - type_output_loss: 0.3283 - pattern_output_loss: 0.7655 - color_output_accuracy: 0.8016 - type_output_accuracy: 0.8929 - pattern_output_accuracy: 0.7596 - val_loss: 4.8291 - val_color_output_loss: 1.6259 - val_type_output_loss: 1.0565 - val_pattern_output_loss: 2.1467 - val_color_output_accuracy: 0.5909 - val_type_output_accuracy: 0.7542 - val_pattern_output_accuracy: 0.5325\n",
            "Epoch 10/20\n",
            "249/249 [==============================] - 3s 12ms/step - loss: 1.5134 - color_output_loss: 0.5417 - type_output_loss: 0.2870 - pattern_output_loss: 0.6846 - color_output_accuracy: 0.8238 - type_output_accuracy: 0.9039 - pattern_output_accuracy: 0.7845 - val_loss: 5.3721 - val_color_output_loss: 1.8659 - val_type_output_loss: 1.1261 - val_pattern_output_loss: 2.3801 - val_color_output_accuracy: 0.5819 - val_type_output_accuracy: 0.7753 - val_pattern_output_accuracy: 0.5290\n",
            "Epoch 11/20\n",
            "249/249 [==============================] - 3s 11ms/step - loss: 1.4415 - color_output_loss: 0.5269 - type_output_loss: 0.2645 - pattern_output_loss: 0.6502 - color_output_accuracy: 0.8306 - type_output_accuracy: 0.9137 - pattern_output_accuracy: 0.7938 - val_loss: 5.4366 - val_color_output_loss: 1.8044 - val_type_output_loss: 1.1909 - val_pattern_output_loss: 2.4413 - val_color_output_accuracy: 0.6196 - val_type_output_accuracy: 0.7542 - val_pattern_output_accuracy: 0.5305\n",
            "Epoch 12/20\n",
            "249/249 [==============================] - 3s 11ms/step - loss: 1.2433 - color_output_loss: 0.4516 - type_output_loss: 0.2294 - pattern_output_loss: 0.5623 - color_output_accuracy: 0.8538 - type_output_accuracy: 0.9242 - pattern_output_accuracy: 0.8218 - val_loss: 5.7277 - val_color_output_loss: 1.8801 - val_type_output_loss: 1.2342 - val_pattern_output_loss: 2.6134 - val_color_output_accuracy: 0.6252 - val_type_output_accuracy: 0.7657 - val_pattern_output_accuracy: 0.5552\n",
            "Epoch 13/20\n",
            "249/249 [==============================] - 3s 11ms/step - loss: 1.1621 - color_output_loss: 0.4260 - type_output_loss: 0.2222 - pattern_output_loss: 0.5139 - color_output_accuracy: 0.8625 - type_output_accuracy: 0.9225 - pattern_output_accuracy: 0.8360 - val_loss: 6.3094 - val_color_output_loss: 2.0094 - val_type_output_loss: 1.3800 - val_pattern_output_loss: 2.9199 - val_color_output_accuracy: 0.6212 - val_type_output_accuracy: 0.7703 - val_pattern_output_accuracy: 0.5395\n",
            "Epoch 14/20\n",
            "249/249 [==============================] - 4s 15ms/step - loss: 1.0735 - color_output_loss: 0.4018 - type_output_loss: 0.1867 - pattern_output_loss: 0.4851 - color_output_accuracy: 0.8693 - type_output_accuracy: 0.9355 - pattern_output_accuracy: 0.8489 - val_loss: 6.9075 - val_color_output_loss: 2.3119 - val_type_output_loss: 1.4725 - val_pattern_output_loss: 3.1231 - val_color_output_accuracy: 0.5985 - val_type_output_accuracy: 0.7652 - val_pattern_output_accuracy: 0.5259\n",
            "Epoch 15/20\n",
            "249/249 [==============================] - 3s 11ms/step - loss: 1.0017 - color_output_loss: 0.3773 - type_output_loss: 0.1825 - pattern_output_loss: 0.4419 - color_output_accuracy: 0.8763 - type_output_accuracy: 0.9424 - pattern_output_accuracy: 0.8654 - val_loss: 7.2015 - val_color_output_loss: 2.2950 - val_type_output_loss: 1.5903 - val_pattern_output_loss: 3.3162 - val_color_output_accuracy: 0.6247 - val_type_output_accuracy: 0.7688 - val_pattern_output_accuracy: 0.5456\n",
            "Epoch 16/20\n",
            "249/249 [==============================] - 3s 11ms/step - loss: 0.9330 - color_output_loss: 0.3388 - type_output_loss: 0.1642 - pattern_output_loss: 0.4300 - color_output_accuracy: 0.8894 - type_output_accuracy: 0.9465 - pattern_output_accuracy: 0.8647 - val_loss: 7.7482 - val_color_output_loss: 2.4956 - val_type_output_loss: 1.7155 - val_pattern_output_loss: 3.5371 - val_color_output_accuracy: 0.6005 - val_type_output_accuracy: 0.7562 - val_pattern_output_accuracy: 0.5426\n",
            "Epoch 17/20\n",
            "249/249 [==============================] - 3s 11ms/step - loss: 0.9060 - color_output_loss: 0.3445 - type_output_loss: 0.1532 - pattern_output_loss: 0.4084 - color_output_accuracy: 0.8927 - type_output_accuracy: 0.9504 - pattern_output_accuracy: 0.8753 - val_loss: 8.1851 - val_color_output_loss: 2.9118 - val_type_output_loss: 1.6729 - val_pattern_output_loss: 3.6004 - val_color_output_accuracy: 0.5743 - val_type_output_accuracy: 0.7552 - val_pattern_output_accuracy: 0.5264\n",
            "Epoch 18/20\n",
            "249/249 [==============================] - 3s 13ms/step - loss: 0.7958 - color_output_loss: 0.2885 - type_output_loss: 0.1419 - pattern_output_loss: 0.3654 - color_output_accuracy: 0.9111 - type_output_accuracy: 0.9545 - pattern_output_accuracy: 0.8870 - val_loss: 7.9064 - val_color_output_loss: 2.5550 - val_type_output_loss: 1.6347 - val_pattern_output_loss: 3.7167 - val_color_output_accuracy: 0.5889 - val_type_output_accuracy: 0.7521 - val_pattern_output_accuracy: 0.5113\n",
            "Epoch 19/20\n",
            "249/249 [==============================] - 3s 13ms/step - loss: 0.7145 - color_output_loss: 0.2679 - type_output_loss: 0.1362 - pattern_output_loss: 0.3104 - color_output_accuracy: 0.9160 - type_output_accuracy: 0.9607 - pattern_output_accuracy: 0.9025 - val_loss: 8.8480 - val_color_output_loss: 2.7816 - val_type_output_loss: 1.9138 - val_pattern_output_loss: 4.1527 - val_color_output_accuracy: 0.5970 - val_type_output_accuracy: 0.7526 - val_pattern_output_accuracy: 0.5411\n",
            "Epoch 20/20\n",
            "249/249 [==============================] - 3s 12ms/step - loss: 0.6585 - color_output_loss: 0.2523 - type_output_loss: 0.1223 - pattern_output_loss: 0.2840 - color_output_accuracy: 0.9171 - type_output_accuracy: 0.9636 - pattern_output_accuracy: 0.9084 - val_loss: 9.1059 - val_color_output_loss: 2.9235 - val_type_output_loss: 2.0164 - val_pattern_output_loss: 4.1660 - val_color_output_accuracy: 0.5768 - val_type_output_accuracy: 0.7516 - val_pattern_output_accuracy: 0.5491\n",
            "63/63 [==============================] - 0s 6ms/step - loss: 9.1059 - color_output_loss: 2.9235 - type_output_loss: 2.0164 - pattern_output_loss: 4.1660 - color_output_accuracy: 0.5768 - type_output_accuracy: 0.7516 - pattern_output_accuracy: 0.5491\n"
          ]
        }
      ]
    },
    {
      "cell_type": "code",
      "source": [
        "print('Validation Accuracy - Color: {:.2f}%, Type: {:.2f}%, Pattern: {:.2f}%'.format(scores[4] * 100, scores[5] * 100, scores[6] * 100))\n"
      ],
      "metadata": {
        "colab": {
          "base_uri": "https://localhost:8080/"
        },
        "id": "DtngY_gMyIuj",
        "outputId": "f6ef962f-eb0e-4f25-9c96-944c61ef4450"
      },
      "execution_count": 31,
      "outputs": [
        {
          "output_type": "stream",
          "name": "stdout",
          "text": [
            "Validation Accuracy - Color: 57.68%, Type: 75.16%, Pattern: 54.91%\n"
          ]
        }
      ]
    },
    {
      "cell_type": "markdown",
      "source": [
        "On new image"
      ],
      "metadata": {
        "id": "nR_IDFTE88nG"
      }
    },
    {
      "cell_type": "code",
      "source": [
        "# Load a new image\n",
        "new_image_path = '/path/to/new/image.jpg'\n",
        "new_image = cv2.imread(new_image_path)\n",
        "\n",
        "# Resize the image to 224x224\n",
        "new_image_resized = cv2.resize(new_image, (80, 80))\n",
        "\n",
        "# Make a prediction on the new image\n",
        "color_pred, type_pred, pattern_pred = model.predict(np.array([new_image_resized]))"
      ],
      "metadata": {
        "id": "jjKp0b3i1zTp"
      },
      "execution_count": null,
      "outputs": []
    }
  ]
}