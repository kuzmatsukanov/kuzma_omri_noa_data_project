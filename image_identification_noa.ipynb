{
  "cells": [
    {
      "cell_type": "markdown",
      "metadata": {
        "id": "view-in-github",
        "colab_type": "text"
      },
      "source": [
        "<a href=\"https://colab.research.google.com/github/kuzmatsukanov/kuzma_omri_noa_data_project/blob/main/image_identification_noa.ipynb\" target=\"_parent\"><img src=\"https://colab.research.google.com/assets/colab-badge.svg\" alt=\"Open In Colab\"/></a>"
      ]
    },
    {
      "cell_type": "markdown",
      "metadata": {
        "id": "9hwz79oj7-mL"
      },
      "source": [
        "Imports"
      ]
    },
    {
      "cell_type": "code",
      "execution_count": 1,
      "metadata": {
        "id": "J9cr_2rCTYQ9"
      },
      "outputs": [],
      "source": [
        "import pandas as pd\n",
        "import numpy as np\n",
        "import seaborn as sns\n",
        "import cv2\n",
        "import matplotlib.pyplot as plt\n",
        "from tqdm import tqdm\n",
        "\n",
        "from multiprocessing import Pool\n",
        "from functools import partial\n",
        "\n",
        "\n",
        "from sklearn.model_selection import train_test_split\n",
        "from keras import regularizers\n",
        "from keras.layers import Input, Conv2D, MaxPooling2D, Flatten, Dense\n",
        "from keras.models import Model\n",
        "from keras.callbacks import ModelCheckpoint"
      ]
    },
    {
      "cell_type": "markdown",
      "metadata": {
        "id": "y1ediYVP77br"
      },
      "source": [
        "For multiprocessing later on:"
      ]
    },
    {
      "cell_type": "code",
      "execution_count": 2,
      "metadata": {
        "id": "8gwgolS6eoF-"
      },
      "outputs": [],
      "source": [
        "img_size = 80"
      ]
    },
    {
      "cell_type": "code",
      "execution_count": 3,
      "metadata": {
        "id": "KjvA2W6Dh7ph"
      },
      "outputs": [],
      "source": [
        "def load_image(image_path, resize_shape=None):\n",
        "    img = cv2.imread(image_path)\n",
        "    if resize_shape is not None:\n",
        "        img = cv2.resize(img, resize_shape)\n",
        "    return img\n",
        "\n",
        "def load_images_parallel(image_paths, n_jobs=4, resize_shape=None):\n",
        "    with Pool(processes=n_jobs) as pool:\n",
        "        func = partial(load_image, resize_shape=resize_shape)\n",
        "        images = pool.map(func, image_paths)\n",
        "    return np.array(images)"
      ]
    },
    {
      "cell_type": "markdown",
      "metadata": {
        "id": "qCyyaLXK8Ap2"
      },
      "source": [
        "Mount the drive"
      ]
    },
    {
      "cell_type": "code",
      "execution_count": 4,
      "metadata": {
        "colab": {
          "base_uri": "https://localhost:8080/"
        },
        "id": "At8KkvBETZoe",
        "outputId": "ffdf6e18-770e-43f5-c558-efb81868a8c6"
      },
      "outputs": [
        {
          "output_type": "stream",
          "name": "stdout",
          "text": [
            "Mounted at /content/drive\n"
          ]
        }
      ],
      "source": [
        "from google.colab import drive\n",
        "drive.mount('/content/drive')\n",
        "\n",
        "shared_folder_path = '/content/drive/MyDrive/ds_project_dataset'\n",
        "\n",
        "!cp -r \"$shared_folder_path\" ."
      ]
    },
    {
      "cell_type": "markdown",
      "metadata": {
        "id": "RrPimQQF8Drn"
      },
      "source": [
        "Dataframe"
      ]
    },
    {
      "cell_type": "code",
      "execution_count": 5,
      "metadata": {
        "id": "-aVIBZiZTZmJ"
      },
      "outputs": [],
      "source": [
        "df = pd.read_csv('ds_project_dataset/articles.csv')"
      ]
    },
    {
      "cell_type": "code",
      "execution_count": 6,
      "metadata": {
        "colab": {
          "base_uri": "https://localhost:8080/",
          "height": 560
        },
        "id": "qXBrpztERvkI",
        "outputId": "7a930524-e741-45e8-b185-6a2245b82ad3"
      },
      "outputs": [
        {
          "output_type": "execute_result",
          "data": {
            "text/plain": [
              "        article_id  product_code         prod_name  product_type_no  \\\n",
              "92638    854678005        854678   C Lolly Bandeau              298   \n",
              "93191    857227001        857227   Cambridge dress              265   \n",
              "5428     495725005        495725   BD check Gerald              259   \n",
              "100147   888552001        888552       Ajax sandal               91   \n",
              "19957    586336013        586336  Alejandro Jogger              272   \n",
              "\n",
              "       product_type_name  product_group_name  graphical_appearance_no  \\\n",
              "92638         Bikini top            Swimwear                  1010026   \n",
              "93191              Dress   Garment Full body                  1010016   \n",
              "5428               Shirt  Garment Upper body                  1010004   \n",
              "100147           Sandals               Shoes                  1010001   \n",
              "19957           Trousers  Garment Lower body                  1010005   \n",
              "\n",
              "       graphical_appearance_name  colour_group_code colour_group_name  ...  \\\n",
              "92638            Other structure                 61      Light Purple  ...   \n",
              "93191                      Solid                 93        Dark Green  ...   \n",
              "5428                       Check                 43          Dark Red  ...   \n",
              "100147          All over pattern                 10             White  ...   \n",
              "19957            Colour blocking                  9             Black  ...   \n",
              "\n",
              "        department_name index_code        index_name index_group_no  \\\n",
              "92638          Swimwear          B  Lingeries/Tights              1   \n",
              "93191             Dress          A        Ladieswear              1   \n",
              "5428              Shirt          F          Menswear              3   \n",
              "100147       Baby Shoes          G  Baby Sizes 50-98              4   \n",
              "19957      Jersey Fancy          F          Menswear              3   \n",
              "\n",
              "        index_group_name section_no                section_name  \\\n",
              "92638         Ladieswear         60  Womens Swimwear, beachwear   \n",
              "93191         Ladieswear         11            Womens Tailoring   \n",
              "5428            Menswear         23       Men Suits & Tailoring   \n",
              "100147     Baby/Children         42           Kids & Baby Shoes   \n",
              "19957           Menswear         55         Contemporary Street   \n",
              "\n",
              "       garment_group_no  garment_group_name  \\\n",
              "92638              1018            Swimwear   \n",
              "93191              1013      Dresses Ladies   \n",
              "5428               1011              Shirts   \n",
              "100147             1020               Shoes   \n",
              "19957              1005        Jersey Fancy   \n",
              "\n",
              "                                              detail_desc  \n",
              "92638   Lined, bandeau bikini top with side support an...  \n",
              "93191   Short, straight-cut dress in satin with a boat...  \n",
              "5428    Shirt in a cotton weave with a button-down col...  \n",
              "100147  Sturdy sandals with a hook and loop fastening,...  \n",
              "19957   Sports trousers in fabric with a slight sheen....  \n",
              "\n",
              "[5 rows x 25 columns]"
            ],
            "text/html": [
              "\n",
              "  <div id=\"df-1e5a0bed-4a7a-40aa-869a-f34b8685b364\">\n",
              "    <div class=\"colab-df-container\">\n",
              "      <div>\n",
              "<style scoped>\n",
              "    .dataframe tbody tr th:only-of-type {\n",
              "        vertical-align: middle;\n",
              "    }\n",
              "\n",
              "    .dataframe tbody tr th {\n",
              "        vertical-align: top;\n",
              "    }\n",
              "\n",
              "    .dataframe thead th {\n",
              "        text-align: right;\n",
              "    }\n",
              "</style>\n",
              "<table border=\"1\" class=\"dataframe\">\n",
              "  <thead>\n",
              "    <tr style=\"text-align: right;\">\n",
              "      <th></th>\n",
              "      <th>article_id</th>\n",
              "      <th>product_code</th>\n",
              "      <th>prod_name</th>\n",
              "      <th>product_type_no</th>\n",
              "      <th>product_type_name</th>\n",
              "      <th>product_group_name</th>\n",
              "      <th>graphical_appearance_no</th>\n",
              "      <th>graphical_appearance_name</th>\n",
              "      <th>colour_group_code</th>\n",
              "      <th>colour_group_name</th>\n",
              "      <th>...</th>\n",
              "      <th>department_name</th>\n",
              "      <th>index_code</th>\n",
              "      <th>index_name</th>\n",
              "      <th>index_group_no</th>\n",
              "      <th>index_group_name</th>\n",
              "      <th>section_no</th>\n",
              "      <th>section_name</th>\n",
              "      <th>garment_group_no</th>\n",
              "      <th>garment_group_name</th>\n",
              "      <th>detail_desc</th>\n",
              "    </tr>\n",
              "  </thead>\n",
              "  <tbody>\n",
              "    <tr>\n",
              "      <th>92638</th>\n",
              "      <td>854678005</td>\n",
              "      <td>854678</td>\n",
              "      <td>C Lolly Bandeau</td>\n",
              "      <td>298</td>\n",
              "      <td>Bikini top</td>\n",
              "      <td>Swimwear</td>\n",
              "      <td>1010026</td>\n",
              "      <td>Other structure</td>\n",
              "      <td>61</td>\n",
              "      <td>Light Purple</td>\n",
              "      <td>...</td>\n",
              "      <td>Swimwear</td>\n",
              "      <td>B</td>\n",
              "      <td>Lingeries/Tights</td>\n",
              "      <td>1</td>\n",
              "      <td>Ladieswear</td>\n",
              "      <td>60</td>\n",
              "      <td>Womens Swimwear, beachwear</td>\n",
              "      <td>1018</td>\n",
              "      <td>Swimwear</td>\n",
              "      <td>Lined, bandeau bikini top with side support an...</td>\n",
              "    </tr>\n",
              "    <tr>\n",
              "      <th>93191</th>\n",
              "      <td>857227001</td>\n",
              "      <td>857227</td>\n",
              "      <td>Cambridge dress</td>\n",
              "      <td>265</td>\n",
              "      <td>Dress</td>\n",
              "      <td>Garment Full body</td>\n",
              "      <td>1010016</td>\n",
              "      <td>Solid</td>\n",
              "      <td>93</td>\n",
              "      <td>Dark Green</td>\n",
              "      <td>...</td>\n",
              "      <td>Dress</td>\n",
              "      <td>A</td>\n",
              "      <td>Ladieswear</td>\n",
              "      <td>1</td>\n",
              "      <td>Ladieswear</td>\n",
              "      <td>11</td>\n",
              "      <td>Womens Tailoring</td>\n",
              "      <td>1013</td>\n",
              "      <td>Dresses Ladies</td>\n",
              "      <td>Short, straight-cut dress in satin with a boat...</td>\n",
              "    </tr>\n",
              "    <tr>\n",
              "      <th>5428</th>\n",
              "      <td>495725005</td>\n",
              "      <td>495725</td>\n",
              "      <td>BD check Gerald</td>\n",
              "      <td>259</td>\n",
              "      <td>Shirt</td>\n",
              "      <td>Garment Upper body</td>\n",
              "      <td>1010004</td>\n",
              "      <td>Check</td>\n",
              "      <td>43</td>\n",
              "      <td>Dark Red</td>\n",
              "      <td>...</td>\n",
              "      <td>Shirt</td>\n",
              "      <td>F</td>\n",
              "      <td>Menswear</td>\n",
              "      <td>3</td>\n",
              "      <td>Menswear</td>\n",
              "      <td>23</td>\n",
              "      <td>Men Suits &amp; Tailoring</td>\n",
              "      <td>1011</td>\n",
              "      <td>Shirts</td>\n",
              "      <td>Shirt in a cotton weave with a button-down col...</td>\n",
              "    </tr>\n",
              "    <tr>\n",
              "      <th>100147</th>\n",
              "      <td>888552001</td>\n",
              "      <td>888552</td>\n",
              "      <td>Ajax sandal</td>\n",
              "      <td>91</td>\n",
              "      <td>Sandals</td>\n",
              "      <td>Shoes</td>\n",
              "      <td>1010001</td>\n",
              "      <td>All over pattern</td>\n",
              "      <td>10</td>\n",
              "      <td>White</td>\n",
              "      <td>...</td>\n",
              "      <td>Baby Shoes</td>\n",
              "      <td>G</td>\n",
              "      <td>Baby Sizes 50-98</td>\n",
              "      <td>4</td>\n",
              "      <td>Baby/Children</td>\n",
              "      <td>42</td>\n",
              "      <td>Kids &amp; Baby Shoes</td>\n",
              "      <td>1020</td>\n",
              "      <td>Shoes</td>\n",
              "      <td>Sturdy sandals with a hook and loop fastening,...</td>\n",
              "    </tr>\n",
              "    <tr>\n",
              "      <th>19957</th>\n",
              "      <td>586336013</td>\n",
              "      <td>586336</td>\n",
              "      <td>Alejandro Jogger</td>\n",
              "      <td>272</td>\n",
              "      <td>Trousers</td>\n",
              "      <td>Garment Lower body</td>\n",
              "      <td>1010005</td>\n",
              "      <td>Colour blocking</td>\n",
              "      <td>9</td>\n",
              "      <td>Black</td>\n",
              "      <td>...</td>\n",
              "      <td>Jersey Fancy</td>\n",
              "      <td>F</td>\n",
              "      <td>Menswear</td>\n",
              "      <td>3</td>\n",
              "      <td>Menswear</td>\n",
              "      <td>55</td>\n",
              "      <td>Contemporary Street</td>\n",
              "      <td>1005</td>\n",
              "      <td>Jersey Fancy</td>\n",
              "      <td>Sports trousers in fabric with a slight sheen....</td>\n",
              "    </tr>\n",
              "  </tbody>\n",
              "</table>\n",
              "<p>5 rows × 25 columns</p>\n",
              "</div>\n",
              "      <button class=\"colab-df-convert\" onclick=\"convertToInteractive('df-1e5a0bed-4a7a-40aa-869a-f34b8685b364')\"\n",
              "              title=\"Convert this dataframe to an interactive table.\"\n",
              "              style=\"display:none;\">\n",
              "        \n",
              "  <svg xmlns=\"http://www.w3.org/2000/svg\" height=\"24px\"viewBox=\"0 0 24 24\"\n",
              "       width=\"24px\">\n",
              "    <path d=\"M0 0h24v24H0V0z\" fill=\"none\"/>\n",
              "    <path d=\"M18.56 5.44l.94 2.06.94-2.06 2.06-.94-2.06-.94-.94-2.06-.94 2.06-2.06.94zm-11 1L8.5 8.5l.94-2.06 2.06-.94-2.06-.94L8.5 2.5l-.94 2.06-2.06.94zm10 10l.94 2.06.94-2.06 2.06-.94-2.06-.94-.94-2.06-.94 2.06-2.06.94z\"/><path d=\"M17.41 7.96l-1.37-1.37c-.4-.4-.92-.59-1.43-.59-.52 0-1.04.2-1.43.59L10.3 9.45l-7.72 7.72c-.78.78-.78 2.05 0 2.83L4 21.41c.39.39.9.59 1.41.59.51 0 1.02-.2 1.41-.59l7.78-7.78 2.81-2.81c.8-.78.8-2.07 0-2.86zM5.41 20L4 18.59l7.72-7.72 1.47 1.35L5.41 20z\"/>\n",
              "  </svg>\n",
              "      </button>\n",
              "      \n",
              "  <style>\n",
              "    .colab-df-container {\n",
              "      display:flex;\n",
              "      flex-wrap:wrap;\n",
              "      gap: 12px;\n",
              "    }\n",
              "\n",
              "    .colab-df-convert {\n",
              "      background-color: #E8F0FE;\n",
              "      border: none;\n",
              "      border-radius: 50%;\n",
              "      cursor: pointer;\n",
              "      display: none;\n",
              "      fill: #1967D2;\n",
              "      height: 32px;\n",
              "      padding: 0 0 0 0;\n",
              "      width: 32px;\n",
              "    }\n",
              "\n",
              "    .colab-df-convert:hover {\n",
              "      background-color: #E2EBFA;\n",
              "      box-shadow: 0px 1px 2px rgba(60, 64, 67, 0.3), 0px 1px 3px 1px rgba(60, 64, 67, 0.15);\n",
              "      fill: #174EA6;\n",
              "    }\n",
              "\n",
              "    [theme=dark] .colab-df-convert {\n",
              "      background-color: #3B4455;\n",
              "      fill: #D2E3FC;\n",
              "    }\n",
              "\n",
              "    [theme=dark] .colab-df-convert:hover {\n",
              "      background-color: #434B5C;\n",
              "      box-shadow: 0px 1px 3px 1px rgba(0, 0, 0, 0.15);\n",
              "      filter: drop-shadow(0px 1px 2px rgba(0, 0, 0, 0.3));\n",
              "      fill: #FFFFFF;\n",
              "    }\n",
              "  </style>\n",
              "\n",
              "      <script>\n",
              "        const buttonEl =\n",
              "          document.querySelector('#df-1e5a0bed-4a7a-40aa-869a-f34b8685b364 button.colab-df-convert');\n",
              "        buttonEl.style.display =\n",
              "          google.colab.kernel.accessAllowed ? 'block' : 'none';\n",
              "\n",
              "        async function convertToInteractive(key) {\n",
              "          const element = document.querySelector('#df-1e5a0bed-4a7a-40aa-869a-f34b8685b364');\n",
              "          const dataTable =\n",
              "            await google.colab.kernel.invokeFunction('convertToInteractive',\n",
              "                                                     [key], {});\n",
              "          if (!dataTable) return;\n",
              "\n",
              "          const docLinkHtml = 'Like what you see? Visit the ' +\n",
              "            '<a target=\"_blank\" href=https://colab.research.google.com/notebooks/data_table.ipynb>data table notebook</a>'\n",
              "            + ' to learn more about interactive tables.';\n",
              "          element.innerHTML = '';\n",
              "          dataTable['output_type'] = 'display_data';\n",
              "          await google.colab.output.renderOutput(dataTable, element);\n",
              "          const docLink = document.createElement('div');\n",
              "          docLink.innerHTML = docLinkHtml;\n",
              "          element.appendChild(docLink);\n",
              "        }\n",
              "      </script>\n",
              "    </div>\n",
              "  </div>\n",
              "  "
            ]
          },
          "metadata": {},
          "execution_count": 6
        }
      ],
      "source": [
        "df.sample(5)"
      ]
    },
    {
      "cell_type": "code",
      "execution_count": 7,
      "metadata": {
        "colab": {
          "base_uri": "https://localhost:8080/"
        },
        "id": "KXcuBnScR-Vc",
        "outputId": "690bf55d-2cd3-443a-ad0a-6ba0882c6906"
      },
      "outputs": [
        {
          "output_type": "execute_result",
          "data": {
            "text/plain": [
              "Index(['article_id', 'product_code', 'prod_name', 'product_type_no',\n",
              "       'product_type_name', 'product_group_name', 'graphical_appearance_no',\n",
              "       'graphical_appearance_name', 'colour_group_code', 'colour_group_name',\n",
              "       'perceived_colour_value_id', 'perceived_colour_value_name',\n",
              "       'perceived_colour_master_id', 'perceived_colour_master_name',\n",
              "       'department_no', 'department_name', 'index_code', 'index_name',\n",
              "       'index_group_no', 'index_group_name', 'section_no', 'section_name',\n",
              "       'garment_group_no', 'garment_group_name', 'detail_desc'],\n",
              "      dtype='object')"
            ]
          },
          "metadata": {},
          "execution_count": 7
        }
      ],
      "source": [
        "df.columns"
      ]
    },
    {
      "cell_type": "code",
      "execution_count": 8,
      "metadata": {
        "colab": {
          "base_uri": "https://localhost:8080/"
        },
        "id": "qmpZfpIG4v5Y",
        "outputId": "b5f26b3a-0563-431a-a83d-ead3fb5f5d20"
      },
      "outputs": [
        {
          "output_type": "execute_result",
          "data": {
            "text/plain": [
              "array(['Garment Upper body', 'Underwear', 'Socks & Tights',\n",
              "       'Garment Lower body', 'Accessories', 'Items', 'Nightwear',\n",
              "       'Unknown', 'Underwear/nightwear', 'Shoes', 'Swimwear',\n",
              "       'Garment Full body', 'Cosmetic', 'Interior textile', 'Bags',\n",
              "       'Furniture', 'Garment and Shoe care', 'Fun', 'Stationery'],\n",
              "      dtype=object)"
            ]
          },
          "metadata": {},
          "execution_count": 8
        }
      ],
      "source": [
        "df['product_group_name'].unique()"
      ]
    },
    {
      "cell_type": "code",
      "execution_count": 9,
      "metadata": {
        "colab": {
          "base_uri": "https://localhost:8080/"
        },
        "id": "Ny03p88L2TgN",
        "outputId": "6e47cbc7-330b-4ae3-9ca2-fd997b079c1c"
      },
      "outputs": [
        {
          "output_type": "execute_result",
          "data": {
            "text/plain": [
              "array(['Black', 'White', 'Beige', 'Grey', 'Blue', 'Pink', 'Lilac Purple',\n",
              "       'Red', 'Mole', 'Orange', 'Metal', 'Brown', 'Turquoise', 'Yellow',\n",
              "       'Khaki green', 'Green', 'undefined', 'Unknown', 'Yellowish Green',\n",
              "       'Bluish Green'], dtype=object)"
            ]
          },
          "metadata": {},
          "execution_count": 9
        }
      ],
      "source": [
        "df['perceived_colour_master_name'].unique()"
      ]
    },
    {
      "cell_type": "code",
      "execution_count": 10,
      "metadata": {
        "colab": {
          "base_uri": "https://localhost:8080/"
        },
        "id": "WcwpNNM22sX7",
        "outputId": "ac3efd5c-9ff3-447c-c606-26137f48003d"
      },
      "outputs": [
        {
          "output_type": "execute_result",
          "data": {
            "text/plain": [
              "array(['Solid', 'Stripe', 'All over pattern', 'Melange', 'Transparent',\n",
              "       'Metallic', 'Application/3D', 'Denim', 'Colour blocking', 'Dot',\n",
              "       'Other structure', 'Contrast', 'Treatment', 'Check', 'Chambray',\n",
              "       'Front print', 'Glittering/Metallic', 'Mixed solid/pattern',\n",
              "       'Placement print', 'Other pattern', 'Neps', 'Embroidery', 'Lace',\n",
              "       'Jacquard', 'Unknown', 'Argyle', 'Slub', 'Mesh', 'Sequin',\n",
              "       'Hologram'], dtype=object)"
            ]
          },
          "metadata": {},
          "execution_count": 10
        }
      ],
      "source": [
        "df['graphical_appearance_name'].unique()"
      ]
    },
    {
      "cell_type": "code",
      "execution_count": 11,
      "metadata": {
        "colab": {
          "base_uri": "https://localhost:8080/"
        },
        "id": "w7nec6OXR5Tg",
        "outputId": "e7f7a1f0-e011-4b21-b761-803ea6e57c30"
      },
      "outputs": [
        {
          "output_type": "execute_result",
          "data": {
            "text/plain": [
              "array(['Ladieswear', 'Baby/Children', 'Menswear', 'Sport', 'Divided'],\n",
              "      dtype=object)"
            ]
          },
          "metadata": {},
          "execution_count": 11
        }
      ],
      "source": [
        "df['index_group_name'].unique()"
      ]
    },
    {
      "cell_type": "markdown",
      "metadata": {
        "id": "Nw_s8CzO8HwB"
      },
      "source": [
        "Relevant categories"
      ]
    },
    {
      "cell_type": "code",
      "execution_count": 12,
      "metadata": {
        "id": "34uW2rf95chd"
      },
      "outputs": [],
      "source": [
        "selected_categories = ['Garment Upper body', 'Underwear', 'Socks & Tights', 'Garment Lower body', 'Shoes', 'Garment Full body', 'Bags']\n",
        "df = df[df['product_group_name'].isin(selected_categories)]"
      ]
    },
    {
      "cell_type": "code",
      "execution_count": 13,
      "metadata": {
        "colab": {
          "base_uri": "https://localhost:8080/"
        },
        "id": "6C5H8ojBN772",
        "outputId": "8295665d-60a6-43ba-e910-659539cedd1f"
      },
      "outputs": [
        {
          "output_type": "execute_result",
          "data": {
            "text/plain": [
              "array(['Garment Upper body', 'Underwear', 'Socks & Tights',\n",
              "       'Garment Lower body', 'Shoes', 'Garment Full body', 'Bags'],\n",
              "      dtype=object)"
            ]
          },
          "metadata": {},
          "execution_count": 13
        }
      ],
      "source": [
        "df['product_group_name'].unique()"
      ]
    },
    {
      "cell_type": "code",
      "execution_count": 14,
      "metadata": {
        "id": "LeHCdqaUMUKk"
      },
      "outputs": [],
      "source": [
        "selected_categories = ['undefined', 'Unknown']\n",
        "df = df[~df['perceived_colour_master_name'].isin(selected_categories)]"
      ]
    },
    {
      "cell_type": "code",
      "execution_count": 15,
      "metadata": {
        "id": "aNItnxWPPhO0",
        "colab": {
          "base_uri": "https://localhost:8080/"
        },
        "outputId": "ea2b8aa9-b9ea-4fe5-a25c-12127b926327"
      },
      "outputs": [
        {
          "output_type": "stream",
          "name": "stderr",
          "text": [
            "<ipython-input-15-c4bef705f818>:1: SettingWithCopyWarning: \n",
            "A value is trying to be set on a copy of a slice from a DataFrame.\n",
            "Try using .loc[row_indexer,col_indexer] = value instead\n",
            "\n",
            "See the caveats in the documentation: https://pandas.pydata.org/pandas-docs/stable/user_guide/indexing.html#returning-a-view-versus-a-copy\n",
            "  df['perceived_colour_master_name'] = df['perceived_colour_master_name'].replace(['Khaki green', 'Yellowish Green', 'Bluish Green', 'Lilac Purple'], ['Green', 'Green', 'Green', 'Purple'])\n"
          ]
        }
      ],
      "source": [
        "df['perceived_colour_master_name'] = df['perceived_colour_master_name'].replace(['Khaki green', 'Yellowish Green', 'Bluish Green', 'Lilac Purple'], ['Green', 'Green', 'Green', 'Purple'])"
      ]
    },
    {
      "cell_type": "code",
      "execution_count": 16,
      "metadata": {
        "colab": {
          "base_uri": "https://localhost:8080/"
        },
        "id": "8CFMTbfkPyaR",
        "outputId": "ae756f56-f854-4199-aee0-0aee34b1ea0d"
      },
      "outputs": [
        {
          "output_type": "execute_result",
          "data": {
            "text/plain": [
              "array(['Black', 'White', 'Beige', 'Grey', 'Blue', 'Pink', 'Purple', 'Red',\n",
              "       'Brown', 'Green', 'Yellow', 'Orange', 'Turquoise', 'Mole', 'Metal'],\n",
              "      dtype=object)"
            ]
          },
          "metadata": {},
          "execution_count": 16
        }
      ],
      "source": [
        "df['perceived_colour_master_name'].unique()"
      ]
    },
    {
      "cell_type": "code",
      "execution_count": 17,
      "metadata": {
        "id": "_BGiCMH8P9lv"
      },
      "outputs": [],
      "source": [
        "selected_categories = ['Other pattern', 'Unknown', 'Other structure']\n",
        "df = df[~df['graphical_appearance_name'].isin(selected_categories)]"
      ]
    },
    {
      "cell_type": "code",
      "execution_count": 18,
      "metadata": {
        "colab": {
          "base_uri": "https://localhost:8080/"
        },
        "id": "8Tc0bbgiQOHp",
        "outputId": "4ce7aa10-16fc-445b-8667-368d108bf831"
      },
      "outputs": [
        {
          "output_type": "execute_result",
          "data": {
            "text/plain": [
              "array(['Solid', 'Stripe', 'All over pattern', 'Melange', 'Denim',\n",
              "       'Colour blocking', 'Dot', 'Contrast', 'Treatment', 'Check',\n",
              "       'Mixed solid/pattern', 'Placement print', 'Glittering/Metallic',\n",
              "       'Neps', 'Embroidery', 'Application/3D', 'Chambray', 'Lace',\n",
              "       'Front print', 'Transparent', 'Jacquard', 'Argyle', 'Slub',\n",
              "       'Metallic', 'Mesh', 'Sequin', 'Hologram'], dtype=object)"
            ]
          },
          "metadata": {},
          "execution_count": 18
        }
      ],
      "source": [
        "df['graphical_appearance_name'].unique()"
      ]
    },
    {
      "cell_type": "code",
      "execution_count": 19,
      "metadata": {
        "id": "rKm_5W0xSAEy"
      },
      "outputs": [],
      "source": [
        "selected_categories = ['Ladieswear', 'Menswear', 'Divided']\n",
        "df = df[df['index_group_name'].isin(selected_categories)]"
      ]
    },
    {
      "cell_type": "code",
      "execution_count": 20,
      "metadata": {
        "colab": {
          "base_uri": "https://localhost:8080/"
        },
        "id": "-Q5DlQs_5oSB",
        "outputId": "c77696ef-3417-4337-f7b0-26e353053af1"
      },
      "outputs": [
        {
          "output_type": "execute_result",
          "data": {
            "text/plain": [
              "(54933, 25)"
            ]
          },
          "metadata": {},
          "execution_count": 20
        }
      ],
      "source": [
        "df.shape"
      ]
    },
    {
      "cell_type": "markdown",
      "metadata": {
        "id": "a2z4rQTMDBtK"
      },
      "source": [
        "Baseline"
      ]
    },
    {
      "cell_type": "code",
      "execution_count": 21,
      "metadata": {
        "colab": {
          "base_uri": "https://localhost:8080/",
          "height": 1000
        },
        "id": "yaMl6SZCJvj3",
        "outputId": "9d6ab13e-4487-4839-fa36-00b270430227"
      },
      "outputs": [
        {
          "output_type": "display_data",
          "data": {
            "text/plain": [
              "<Figure size 432x288 with 1 Axes>"
            ],
            "image/png": "[encoded data removed]"
          },
          "metadata": {
            "needs_background": "light"
          }
        },
        {
          "output_type": "display_data",
          "data": {
            "text/plain": [
              "<Figure size 432x288 with 1 Axes>"
            ],
            "image/png": "[encoded data removed]"
          },
          "metadata": {
            "needs_background": "light"
          }
        },
        {
          "output_type": "display_data",
          "data": {
            "text/plain": [
              "<Figure size 432x288 with 1 Axes>"
            ],
            "image/png": "[encoded data removed]"
          },
          "metadata": {
            "needs_background": "light"
          }
        },
        {
          "output_type": "display_data",
          "data": {
            "text/plain": [
              "<Figure size 432x288 with 1 Axes>"
            ],
            "image/png": "[encoded data removed]"
          },
          "metadata": {
            "needs_background": "light"
          }
        }
      ],
      "source": [
        "for feat in ['product_group_name', 'perceived_colour_master_name', 'graphical_appearance_name', 'index_group_name']:\n",
        "  sns.histplot(y=df[feat], stat = 'density', shrink = 0.8, common_norm=False)\n",
        "  plt.show()"
      ]
    },
    {
      "cell_type": "code",
      "execution_count": 22,
      "metadata": {
        "id": "ArlNe67UUVlr"
      },
      "outputs": [],
      "source": [
        "df['subfolder'] = '0' + df['article_id'].astype(str).str[:2]\n",
        "df['image_path'] = 'ds_project_dataset/images/' + df['subfolder'].str.strip() + '/0' + df['article_id'].astype(str) + '.jpg'"
      ]
    },
    {
      "cell_type": "code",
      "execution_count": 23,
      "metadata": {
        "colab": {
          "base_uri": "https://localhost:8080/"
        },
        "id": "_hKaGsD0WsQq",
        "outputId": "b93e8c9f-7381-4a66-ee93-391e06220089"
      },
      "outputs": [
        {
          "output_type": "execute_result",
          "data": {
            "text/plain": [
              "0         ds_project_dataset/images/010/0108775015.jpg\n",
              "1         ds_project_dataset/images/010/0108775044.jpg\n",
              "2         ds_project_dataset/images/010/0108775051.jpg\n",
              "3         ds_project_dataset/images/011/0110065001.jpg\n",
              "4         ds_project_dataset/images/011/0110065002.jpg\n",
              "                              ...                     \n",
              "105536    ds_project_dataset/images/095/0952938001.jpg\n",
              "105537    ds_project_dataset/images/095/0953450001.jpg\n",
              "105538    ds_project_dataset/images/095/0953763001.jpg\n",
              "105539    ds_project_dataset/images/095/0956217002.jpg\n",
              "105541    ds_project_dataset/images/095/0959461001.jpg\n",
              "Name: image_path, Length: 54933, dtype: object"
            ]
          },
          "metadata": {},
          "execution_count": 23
        }
      ],
      "source": [
        "df['image_path']"
      ]
    },
    {
      "cell_type": "code",
      "execution_count": 24,
      "metadata": {
        "colab": {
          "base_uri": "https://localhost:8080/",
          "height": 35
        },
        "id": "_C0vqR5rfgfl",
        "outputId": "c4f9e471-1e35-4d9c-8ffe-5aa7ae8f171d"
      },
      "outputs": [
        {
          "output_type": "execute_result",
          "data": {
            "text/plain": [
              "'ds_project_dataset/images/010/0108775015.jpg'"
            ],
            "application/vnd.google.colaboratory.intrinsic+json": {
              "type": "string"
            }
          },
          "metadata": {},
          "execution_count": 24
        }
      ],
      "source": [
        "df['image_path'][0]"
      ]
    },
    {
      "cell_type": "code",
      "execution_count": 25,
      "metadata": {
        "colab": {
          "base_uri": "https://localhost:8080/",
          "height": 269
        },
        "id": "Dtmi3rS9fe9b",
        "outputId": "d6bfbd51-1a8e-4b3a-f99f-d5ffbbbba9b2"
      },
      "outputs": [
        {
          "output_type": "display_data",
          "data": {
            "text/plain": [
              "<Figure size 432x288 with 1 Axes>"
            ],
            "image/png": "[encoded data removed]"
          },
          "metadata": {
            "needs_background": "light"
          }
        }
      ],
      "source": [
        "img = cv2.imread(df['image_path'][0])\n",
        "plt.imshow(img)\n",
        "plt.show()"
      ]
    },
    {
      "cell_type": "code",
      "execution_count": 26,
      "metadata": {
        "colab": {
          "base_uri": "https://localhost:8080/"
        },
        "id": "iZzsX96KIbAt",
        "outputId": "102326cf-3a48-403d-fede-4053ab91f40c"
      },
      "outputs": [
        {
          "output_type": "stream",
          "name": "stderr",
          "text": [
            "100%|██████████| 54933/54933 [09:36<00:00, 95.34it/s]  \n"
          ]
        }
      ],
      "source": [
        "import os\n",
        "\n",
        "valid_images = []\n",
        "for index, row in tqdm(df.iterrows(), total=len(df)):\n",
        "    if os.path.isfile(row['image_path']):\n",
        "        valid_images.append(row)\n",
        "\n",
        "df_valid_images = pd.DataFrame(valid_images)"
      ]
    },
    {
      "cell_type": "code",
      "execution_count": 27,
      "metadata": {
        "colab": {
          "base_uri": "https://localhost:8080/"
        },
        "id": "_wYjN91L557L",
        "outputId": "58aa849d-615c-4d01-a4b1-8fc698ea8393"
      },
      "outputs": [
        {
          "output_type": "execute_result",
          "data": {
            "text/plain": [
              "(44388, 27)"
            ]
          },
          "metadata": {},
          "execution_count": 27
        }
      ],
      "source": [
        "df_valid_images.shape"
      ]
    },
    {
      "cell_type": "code",
      "execution_count": 28,
      "metadata": {
        "id": "BSH3bsoNiN_h"
      },
      "outputs": [],
      "source": [
        "images = load_images_parallel(df_valid_images['image_path'].values, n_jobs=4, resize_shape=(img_size, img_size))"
      ]
    },
    {
      "cell_type": "markdown",
      "metadata": {
        "id": "h7FyMvk78jUV"
      },
      "source": [
        "Encoding for the model"
      ]
    },
    {
      "cell_type": "code",
      "execution_count": 29,
      "metadata": {
        "id": "cRbPgLXAxCTV"
      },
      "outputs": [],
      "source": [
        "new_df = pd.DataFrame(df_valid_images['article_id'])"
      ]
    },
    {
      "cell_type": "code",
      "execution_count": 30,
      "metadata": {
        "colab": {
          "base_uri": "https://localhost:8080/",
          "height": 424
        },
        "id": "TsNd8nrKxMR5",
        "outputId": "63a2d1c1-8aa8-4a93-91a2-675d9de71b21"
      },
      "outputs": [
        {
          "data": {
            "text/html": [
              "\n",
              "  <div id=\"df-0c630b6f-425e-4486-b524-7f1dd5f42e8b\">\n",
              "    <div class=\"colab-df-container\">\n",
              "      <div>\n",
              "<style scoped>\n",
              "    .dataframe tbody tr th:only-of-type {\n",
              "        vertical-align: middle;\n",
              "    }\n",
              "\n",
              "    .dataframe tbody tr th {\n",
              "        vertical-align: top;\n",
              "    }\n",
              "\n",
              "    .dataframe thead th {\n",
              "        text-align: right;\n",
              "    }\n",
              "</style>\n",
              "<table border=\"1\" class=\"dataframe\">\n",
              "  <thead>\n",
              "    <tr style=\"text-align: right;\">\n",
              "      <th></th>\n",
              "      <th>article_id</th>\n",
              "    </tr>\n",
              "  </thead>\n",
              "  <tbody>\n",
              "    <tr>\n",
              "      <th>0</th>\n",
              "      <td>108775015</td>\n",
              "    </tr>\n",
              "    <tr>\n",
              "      <th>1</th>\n",
              "      <td>108775044</td>\n",
              "    </tr>\n",
              "    <tr>\n",
              "      <th>2</th>\n",
              "      <td>108775051</td>\n",
              "    </tr>\n",
              "    <tr>\n",
              "      <th>3</th>\n",
              "      <td>110065001</td>\n",
              "    </tr>\n",
              "    <tr>\n",
              "      <th>4</th>\n",
              "      <td>110065002</td>\n",
              "    </tr>\n",
              "    <tr>\n",
              "      <th>...</th>\n",
              "      <td>...</td>\n",
              "    </tr>\n",
              "    <tr>\n",
              "      <th>87117</th>\n",
              "      <td>826164005</td>\n",
              "    </tr>\n",
              "    <tr>\n",
              "      <th>87118</th>\n",
              "      <td>826164006</td>\n",
              "    </tr>\n",
              "    <tr>\n",
              "      <th>87119</th>\n",
              "      <td>826164007</td>\n",
              "    </tr>\n",
              "    <tr>\n",
              "      <th>87120</th>\n",
              "      <td>826164009</td>\n",
              "    </tr>\n",
              "    <tr>\n",
              "      <th>87121</th>\n",
              "      <td>826164016</td>\n",
              "    </tr>\n",
              "  </tbody>\n",
              "</table>\n",
              "<p>44388 rows × 1 columns</p>\n",
              "</div>\n",
              "      <button class=\"colab-df-convert\" onclick=\"convertToInteractive('df-0c630b6f-425e-4486-b524-7f1dd5f42e8b')\"\n",
              "              title=\"Convert this dataframe to an interactive table.\"\n",
              "              style=\"display:none;\">\n",
              "        \n",
              "  <svg xmlns=\"http://www.w3.org/2000/svg\" height=\"24px\"viewBox=\"0 0 24 24\"\n",
              "       width=\"24px\">\n",
              "    <path d=\"M0 0h24v24H0V0z\" fill=\"none\"/>\n",
              "    <path d=\"M18.56 5.44l.94 2.06.94-2.06 2.06-.94-2.06-.94-.94-2.06-.94 2.06-2.06.94zm-11 1L8.5 8.5l.94-2.06 2.06-.94-2.06-.94L8.5 2.5l-.94 2.06-2.06.94zm10 10l.94 2.06.94-2.06 2.06-.94-2.06-.94-.94-2.06-.94 2.06-2.06.94z\"/><path d=\"M17.41 7.96l-1.37-1.37c-.4-.4-.92-.59-1.43-.59-.52 0-1.04.2-1.43.59L10.3 9.45l-7.72 7.72c-.78.78-.78 2.05 0 2.83L4 21.41c.39.39.9.59 1.41.59.51 0 1.02-.2 1.41-.59l7.78-7.78 2.81-2.81c.8-.78.8-2.07 0-2.86zM5.41 20L4 18.59l7.72-7.72 1.47 1.35L5.41 20z\"/>\n",
              "  </svg>\n",
              "      </button>\n",
              "      \n",
              "  <style>\n",
              "    .colab-df-container {\n",
              "      display:flex;\n",
              "      flex-wrap:wrap;\n",
              "      gap: 12px;\n",
              "    }\n",
              "\n",
              "    .colab-df-convert {\n",
              "      background-color: #E8F0FE;\n",
              "      border: none;\n",
              "      border-radius: 50%;\n",
              "      cursor: pointer;\n",
              "      display: none;\n",
              "      fill: #1967D2;\n",
              "      height: 32px;\n",
              "      padding: 0 0 0 0;\n",
              "      width: 32px;\n",
              "    }\n",
              "\n",
              "    .colab-df-convert:hover {\n",
              "      background-color: #E2EBFA;\n",
              "      box-shadow: 0px 1px 2px rgba(60, 64, 67, 0.3), 0px 1px 3px 1px rgba(60, 64, 67, 0.15);\n",
              "      fill: #174EA6;\n",
              "    }\n",
              "\n",
              "    [theme=dark] .colab-df-convert {\n",
              "      background-color: #3B4455;\n",
              "      fill: #D2E3FC;\n",
              "    }\n",
              "\n",
              "    [theme=dark] .colab-df-convert:hover {\n",
              "      background-color: #434B5C;\n",
              "      box-shadow: 0px 1px 3px 1px rgba(0, 0, 0, 0.15);\n",
              "      filter: drop-shadow(0px 1px 2px rgba(0, 0, 0, 0.3));\n",
              "      fill: #FFFFFF;\n",
              "    }\n",
              "  </style>\n",
              "\n",
              "      <script>\n",
              "        const buttonEl =\n",
              "          document.querySelector('#df-0c630b6f-425e-4486-b524-7f1dd5f42e8b button.colab-df-convert');\n",
              "        buttonEl.style.display =\n",
              "          google.colab.kernel.accessAllowed ? 'block' : 'none';\n",
              "\n",
              "        async function convertToInteractive(key) {\n",
              "          const element = document.querySelector('#df-0c630b6f-425e-4486-b524-7f1dd5f42e8b');\n",
              "          const dataTable =\n",
              "            await google.colab.kernel.invokeFunction('convertToInteractive',\n",
              "                                                     [key], {});\n",
              "          if (!dataTable) return;\n",
              "\n",
              "          const docLinkHtml = 'Like what you see? Visit the ' +\n",
              "            '<a target=\"_blank\" href=https://colab.research.google.com/notebooks/data_table.ipynb>data table notebook</a>'\n",
              "            + ' to learn more about interactive tables.';\n",
              "          element.innerHTML = '';\n",
              "          dataTable['output_type'] = 'display_data';\n",
              "          await google.colab.output.renderOutput(dataTable, element);\n",
              "          const docLink = document.createElement('div');\n",
              "          docLink.innerHTML = docLinkHtml;\n",
              "          element.appendChild(docLink);\n",
              "        }\n",
              "      </script>\n",
              "    </div>\n",
              "  </div>\n",
              "  "
            ],
            "text/plain": [
              "       article_id\n",
              "0       108775015\n",
              "1       108775044\n",
              "2       108775051\n",
              "3       110065001\n",
              "4       110065002\n",
              "...           ...\n",
              "87117   826164005\n",
              "87118   826164006\n",
              "87119   826164007\n",
              "87120   826164009\n",
              "87121   826164016\n",
              "\n",
              "[44388 rows x 1 columns]"
            ]
          },
          "execution_count": 30,
          "metadata": {},
          "output_type": "execute_result"
        }
      ],
      "source": [
        "new_df"
      ]
    },
    {
      "cell_type": "code",
      "execution_count": 31,
      "metadata": {
        "id": "MCk1unMjUe8t"
      },
      "outputs": [],
      "source": [
        "new_df = new_df.join(pd.get_dummies(df_valid_images['perceived_colour_master_name'], prefix='colour'))\n",
        "new_df = new_df.join(pd.get_dummies(df_valid_images['product_group_name'], prefix='product'))\n",
        "new_df = new_df.join(pd.get_dummies(df_valid_images['graphical_appearance_name'], prefix='pattern'))\n",
        "new_df = new_df.join(pd.get_dummies(df_valid_images['index_group_name'], prefix='index'))"
      ]
    },
    {
      "cell_type": "code",
      "execution_count": 32,
      "metadata": {
        "colab": {
          "base_uri": "https://localhost:8080/",
          "height": 317
        },
        "id": "48fei3x7uL9a",
        "outputId": "87d35224-4a36-4f16-92cd-729436369647"
      },
      "outputs": [
        {
          "output_type": "execute_result",
          "data": {
            "text/plain": [
              "       article_id  colour_Beige  colour_Black  colour_Blue  colour_Brown  \\\n",
              "62460   736489002             0             0            0             0   \n",
              "50786   697315006             1             0            0             0   \n",
              "69775   758129003             0             0            0             0   \n",
              "66894   749377001             0             0            0             0   \n",
              "101     176209033             0             0            0             1   \n",
              "\n",
              "       colour_Green  colour_Grey  colour_Metal  colour_Mole  colour_Orange  \\\n",
              "62460             0            0             0            0              0   \n",
              "50786             0            0             0            0              0   \n",
              "69775             1            0             0            0              0   \n",
              "66894             0            0             0            0              0   \n",
              "101               0            0             0            0              0   \n",
              "\n",
              "       ...  pattern_Placement print  pattern_Sequin  pattern_Slub  \\\n",
              "62460  ...                        0               0             0   \n",
              "50786  ...                        0               0             0   \n",
              "69775  ...                        0               0             0   \n",
              "66894  ...                        0               0             0   \n",
              "101    ...                        0               0             0   \n",
              "\n",
              "       pattern_Solid  pattern_Stripe  pattern_Transparent  pattern_Treatment  \\\n",
              "62460              1               0                    0                  0   \n",
              "50786              0               0                    0                  0   \n",
              "69775              1               0                    0                  0   \n",
              "66894              0               0                    0                  0   \n",
              "101                1               0                    0                  0   \n",
              "\n",
              "       index_Divided  index_Ladieswear  index_Menswear  \n",
              "62460              0                 1               0  \n",
              "50786              0                 1               0  \n",
              "69775              1                 0               0  \n",
              "66894              0                 1               0  \n",
              "101                0                 0               1  \n",
              "\n",
              "[5 rows x 53 columns]"
            ],
            "text/html": [
              "\n",
              "  <div id=\"df-2c610ba0-c316-4605-96a9-89edf175acfc\">\n",
              "    <div class=\"colab-df-container\">\n",
              "      <div>\n",
              "<style scoped>\n",
              "    .dataframe tbody tr th:only-of-type {\n",
              "        vertical-align: middle;\n",
              "    }\n",
              "\n",
              "    .dataframe tbody tr th {\n",
              "        vertical-align: top;\n",
              "    }\n",
              "\n",
              "    .dataframe thead th {\n",
              "        text-align: right;\n",
              "    }\n",
              "</style>\n",
              "<table border=\"1\" class=\"dataframe\">\n",
              "  <thead>\n",
              "    <tr style=\"text-align: right;\">\n",
              "      <th></th>\n",
              "      <th>article_id</th>\n",
              "      <th>colour_Beige</th>\n",
              "      <th>colour_Black</th>\n",
              "      <th>colour_Blue</th>\n",
              "      <th>colour_Brown</th>\n",
              "      <th>colour_Green</th>\n",
              "      <th>colour_Grey</th>\n",
              "      <th>colour_Metal</th>\n",
              "      <th>colour_Mole</th>\n",
              "      <th>colour_Orange</th>\n",
              "      <th>...</th>\n",
              "      <th>pattern_Placement print</th>\n",
              "      <th>pattern_Sequin</th>\n",
              "      <th>pattern_Slub</th>\n",
              "      <th>pattern_Solid</th>\n",
              "      <th>pattern_Stripe</th>\n",
              "      <th>pattern_Transparent</th>\n",
              "      <th>pattern_Treatment</th>\n",
              "      <th>index_Divided</th>\n",
              "      <th>index_Ladieswear</th>\n",
              "      <th>index_Menswear</th>\n",
              "    </tr>\n",
              "  </thead>\n",
              "  <tbody>\n",
              "    <tr>\n",
              "      <th>62460</th>\n",
              "      <td>736489002</td>\n",
              "      <td>0</td>\n",
              "      <td>0</td>\n",
              "      <td>0</td>\n",
              "      <td>0</td>\n",
              "      <td>0</td>\n",
              "      <td>0</td>\n",
              "      <td>0</td>\n",
              "      <td>0</td>\n",
              "      <td>0</td>\n",
              "      <td>...</td>\n",
              "      <td>0</td>\n",
              "      <td>0</td>\n",
              "      <td>0</td>\n",
              "      <td>1</td>\n",
              "      <td>0</td>\n",
              "      <td>0</td>\n",
              "      <td>0</td>\n",
              "      <td>0</td>\n",
              "      <td>1</td>\n",
              "      <td>0</td>\n",
              "    </tr>\n",
              "    <tr>\n",
              "      <th>50786</th>\n",
              "      <td>697315006</td>\n",
              "      <td>1</td>\n",
              "      <td>0</td>\n",
              "      <td>0</td>\n",
              "      <td>0</td>\n",
              "      <td>0</td>\n",
              "      <td>0</td>\n",
              "      <td>0</td>\n",
              "      <td>0</td>\n",
              "      <td>0</td>\n",
              "      <td>...</td>\n",
              "      <td>0</td>\n",
              "      <td>0</td>\n",
              "      <td>0</td>\n",
              "      <td>0</td>\n",
              "      <td>0</td>\n",
              "      <td>0</td>\n",
              "      <td>0</td>\n",
              "      <td>0</td>\n",
              "      <td>1</td>\n",
              "      <td>0</td>\n",
              "    </tr>\n",
              "    <tr>\n",
              "      <th>69775</th>\n",
              "      <td>758129003</td>\n",
              "      <td>0</td>\n",
              "      <td>0</td>\n",
              "      <td>0</td>\n",
              "      <td>0</td>\n",
              "      <td>1</td>\n",
              "      <td>0</td>\n",
              "      <td>0</td>\n",
              "      <td>0</td>\n",
              "      <td>0</td>\n",
              "      <td>...</td>\n",
              "      <td>0</td>\n",
              "      <td>0</td>\n",
              "      <td>0</td>\n",
              "      <td>1</td>\n",
              "      <td>0</td>\n",
              "      <td>0</td>\n",
              "      <td>0</td>\n",
              "      <td>1</td>\n",
              "      <td>0</td>\n",
              "      <td>0</td>\n",
              "    </tr>\n",
              "    <tr>\n",
              "      <th>66894</th>\n",
              "      <td>749377001</td>\n",
              "      <td>0</td>\n",
              "      <td>0</td>\n",
              "      <td>0</td>\n",
              "      <td>0</td>\n",
              "      <td>0</td>\n",
              "      <td>0</td>\n",
              "      <td>0</td>\n",
              "      <td>0</td>\n",
              "      <td>0</td>\n",
              "      <td>...</td>\n",
              "      <td>0</td>\n",
              "      <td>0</td>\n",
              "      <td>0</td>\n",
              "      <td>0</td>\n",
              "      <td>0</td>\n",
              "      <td>0</td>\n",
              "      <td>0</td>\n",
              "      <td>0</td>\n",
              "      <td>1</td>\n",
              "      <td>0</td>\n",
              "    </tr>\n",
              "    <tr>\n",
              "      <th>101</th>\n",
              "      <td>176209033</td>\n",
              "      <td>0</td>\n",
              "      <td>0</td>\n",
              "      <td>0</td>\n",
              "      <td>1</td>\n",
              "      <td>0</td>\n",
              "      <td>0</td>\n",
              "      <td>0</td>\n",
              "      <td>0</td>\n",
              "      <td>0</td>\n",
              "      <td>...</td>\n",
              "      <td>0</td>\n",
              "      <td>0</td>\n",
              "      <td>0</td>\n",
              "      <td>1</td>\n",
              "      <td>0</td>\n",
              "      <td>0</td>\n",
              "      <td>0</td>\n",
              "      <td>0</td>\n",
              "      <td>0</td>\n",
              "      <td>1</td>\n",
              "    </tr>\n",
              "  </tbody>\n",
              "</table>\n",
              "<p>5 rows × 53 columns</p>\n",
              "</div>\n",
              "      <button class=\"colab-df-convert\" onclick=\"convertToInteractive('df-2c610ba0-c316-4605-96a9-89edf175acfc')\"\n",
              "              title=\"Convert this dataframe to an interactive table.\"\n",
              "              style=\"display:none;\">\n",
              "        \n",
              "  <svg xmlns=\"http://www.w3.org/2000/svg\" height=\"24px\"viewBox=\"0 0 24 24\"\n",
              "       width=\"24px\">\n",
              "    <path d=\"M0 0h24v24H0V0z\" fill=\"none\"/>\n",
              "    <path d=\"M18.56 5.44l.94 2.06.94-2.06 2.06-.94-2.06-.94-.94-2.06-.94 2.06-2.06.94zm-11 1L8.5 8.5l.94-2.06 2.06-.94-2.06-.94L8.5 2.5l-.94 2.06-2.06.94zm10 10l.94 2.06.94-2.06 2.06-.94-2.06-.94-.94-2.06-.94 2.06-2.06.94z\"/><path d=\"M17.41 7.96l-1.37-1.37c-.4-.4-.92-.59-1.43-.59-.52 0-1.04.2-1.43.59L10.3 9.45l-7.72 7.72c-.78.78-.78 2.05 0 2.83L4 21.41c.39.39.9.59 1.41.59.51 0 1.02-.2 1.41-.59l7.78-7.78 2.81-2.81c.8-.78.8-2.07 0-2.86zM5.41 20L4 18.59l7.72-7.72 1.47 1.35L5.41 20z\"/>\n",
              "  </svg>\n",
              "      </button>\n",
              "      \n",
              "  <style>\n",
              "    .colab-df-container {\n",
              "      display:flex;\n",
              "      flex-wrap:wrap;\n",
              "      gap: 12px;\n",
              "    }\n",
              "\n",
              "    .colab-df-convert {\n",
              "      background-color: #E8F0FE;\n",
              "      border: none;\n",
              "      border-radius: 50%;\n",
              "      cursor: pointer;\n",
              "      display: none;\n",
              "      fill: #1967D2;\n",
              "      height: 32px;\n",
              "      padding: 0 0 0 0;\n",
              "      width: 32px;\n",
              "    }\n",
              "\n",
              "    .colab-df-convert:hover {\n",
              "      background-color: #E2EBFA;\n",
              "      box-shadow: 0px 1px 2px rgba(60, 64, 67, 0.3), 0px 1px 3px 1px rgba(60, 64, 67, 0.15);\n",
              "      fill: #174EA6;\n",
              "    }\n",
              "\n",
              "    [theme=dark] .colab-df-convert {\n",
              "      background-color: #3B4455;\n",
              "      fill: #D2E3FC;\n",
              "    }\n",
              "\n",
              "    [theme=dark] .colab-df-convert:hover {\n",
              "      background-color: #434B5C;\n",
              "      box-shadow: 0px 1px 3px 1px rgba(0, 0, 0, 0.15);\n",
              "      filter: drop-shadow(0px 1px 2px rgba(0, 0, 0, 0.3));\n",
              "      fill: #FFFFFF;\n",
              "    }\n",
              "  </style>\n",
              "\n",
              "      <script>\n",
              "        const buttonEl =\n",
              "          document.querySelector('#df-2c610ba0-c316-4605-96a9-89edf175acfc button.colab-df-convert');\n",
              "        buttonEl.style.display =\n",
              "          google.colab.kernel.accessAllowed ? 'block' : 'none';\n",
              "\n",
              "        async function convertToInteractive(key) {\n",
              "          const element = document.querySelector('#df-2c610ba0-c316-4605-96a9-89edf175acfc');\n",
              "          const dataTable =\n",
              "            await google.colab.kernel.invokeFunction('convertToInteractive',\n",
              "                                                     [key], {});\n",
              "          if (!dataTable) return;\n",
              "\n",
              "          const docLinkHtml = 'Like what you see? Visit the ' +\n",
              "            '<a target=\"_blank\" href=https://colab.research.google.com/notebooks/data_table.ipynb>data table notebook</a>'\n",
              "            + ' to learn more about interactive tables.';\n",
              "          element.innerHTML = '';\n",
              "          dataTable['output_type'] = 'display_data';\n",
              "          await google.colab.output.renderOutput(dataTable, element);\n",
              "          const docLink = document.createElement('div');\n",
              "          docLink.innerHTML = docLinkHtml;\n",
              "          element.appendChild(docLink);\n",
              "        }\n",
              "      </script>\n",
              "    </div>\n",
              "  </div>\n",
              "  "
            ]
          },
          "metadata": {},
          "execution_count": 32
        }
      ],
      "source": [
        "new_df.sample(5)"
      ]
    },
    {
      "cell_type": "code",
      "execution_count": 33,
      "metadata": {
        "id": "1P9u7qpkwUKs"
      },
      "outputs": [],
      "source": [
        "color_array = new_df.filter(like='colour_').to_numpy()\n",
        "pattern_array = new_df.filter(like='pattern_').to_numpy()\n",
        "type_array = new_df.filter(like='product_').to_numpy()\n",
        "index_array = new_df.filter(like='index_').to_numpy()"
      ]
    },
    {
      "cell_type": "code",
      "execution_count": 34,
      "metadata": {
        "colab": {
          "base_uri": "https://localhost:8080/"
        },
        "id": "LZY26zVGHc_e",
        "outputId": "9ca26be8-4be7-436c-92dd-31cff5e5d789"
      },
      "outputs": [
        {
          "output_type": "execute_result",
          "data": {
            "text/plain": [
              "Index(['colour_Beige', 'colour_Black', 'colour_Blue', 'colour_Brown',\n",
              "       'colour_Green', 'colour_Grey', 'colour_Metal', 'colour_Mole',\n",
              "       'colour_Orange', 'colour_Pink', 'colour_Purple', 'colour_Red',\n",
              "       'colour_Turquoise', 'colour_White', 'colour_Yellow'],\n",
              "      dtype='object')"
            ]
          },
          "metadata": {},
          "execution_count": 34
        }
      ],
      "source": [
        "new_df.filter(like='colour_').columns"
      ]
    },
    {
      "cell_type": "code",
      "execution_count": 35,
      "metadata": {
        "colab": {
          "base_uri": "https://localhost:8080/"
        },
        "id": "CeVi8fPxHnUK",
        "outputId": "6a246989-e344-4aee-e599-ccadd5939dc0"
      },
      "outputs": [
        {
          "output_type": "execute_result",
          "data": {
            "text/plain": [
              "Index(['pattern_All over pattern', 'pattern_Application/3D', 'pattern_Argyle',\n",
              "       'pattern_Chambray', 'pattern_Check', 'pattern_Colour blocking',\n",
              "       'pattern_Contrast', 'pattern_Denim', 'pattern_Dot',\n",
              "       'pattern_Embroidery', 'pattern_Front print',\n",
              "       'pattern_Glittering/Metallic', 'pattern_Hologram', 'pattern_Jacquard',\n",
              "       'pattern_Lace', 'pattern_Melange', 'pattern_Mesh', 'pattern_Metallic',\n",
              "       'pattern_Mixed solid/pattern', 'pattern_Neps',\n",
              "       'pattern_Placement print', 'pattern_Sequin', 'pattern_Slub',\n",
              "       'pattern_Solid', 'pattern_Stripe', 'pattern_Transparent',\n",
              "       'pattern_Treatment'],\n",
              "      dtype='object')"
            ]
          },
          "metadata": {},
          "execution_count": 35
        }
      ],
      "source": [
        "new_df.filter(like='pattern_').columns"
      ]
    },
    {
      "cell_type": "code",
      "execution_count": 55,
      "metadata": {
        "colab": {
          "base_uri": "https://localhost:8080/"
        },
        "id": "u4XT310CHpD3",
        "outputId": "a5daa318-678f-4e30-83b0-cc96b9ed2c62"
      },
      "outputs": [
        {
          "output_type": "execute_result",
          "data": {
            "text/plain": [
              "['product_Bags',\n",
              " 'product_Garment Full body',\n",
              " 'product_Garment Lower body',\n",
              " 'product_Garment Upper body',\n",
              " 'product_Shoes',\n",
              " 'product_Socks & Tights',\n",
              " 'product_Underwear']"
            ]
          },
          "metadata": {},
          "execution_count": 55
        }
      ],
      "source": [
        "list(new_df.filter(like='product_').columns)"
      ]
    },
    {
      "cell_type": "code",
      "execution_count": 37,
      "metadata": {
        "colab": {
          "base_uri": "https://localhost:8080/"
        },
        "id": "_61sV4VaHq0G",
        "outputId": "52f5a622-b9c1-4c10-9f68-f75cb589e097"
      },
      "outputs": [
        {
          "data": {
            "text/plain": [
              "Index(['index_Divided', 'index_Ladieswear', 'index_Menswear'], dtype='object')"
            ]
          },
          "execution_count": 37,
          "metadata": {},
          "output_type": "execute_result"
        }
      ],
      "source": [
        "new_df.filter(like='index_').columns"
      ]
    },
    {
      "cell_type": "code",
      "execution_count": 38,
      "metadata": {
        "colab": {
          "base_uri": "https://localhost:8080/"
        },
        "id": "HPAlcwwiwpaW",
        "outputId": "0fe91b43-34ab-4a84-cefc-1aec57dd750c"
      },
      "outputs": [
        {
          "output_type": "execute_result",
          "data": {
            "text/plain": [
              "array([[0, 1, 0, ..., 0, 0, 0],\n",
              "       [0, 0, 0, ..., 0, 1, 0],\n",
              "       [0, 0, 0, ..., 0, 1, 0],\n",
              "       ...,\n",
              "       [0, 0, 0, ..., 0, 0, 0],\n",
              "       [0, 0, 0, ..., 0, 0, 0],\n",
              "       [0, 0, 0, ..., 0, 1, 0]], dtype=uint8)"
            ]
          },
          "metadata": {},
          "execution_count": 38
        }
      ],
      "source": [
        "color_array"
      ]
    },
    {
      "cell_type": "markdown",
      "metadata": {
        "id": "or0qQCdU8o8z"
      },
      "source": [
        "Splitting + Model"
      ]
    },
    {
      "cell_type": "code",
      "execution_count": 39,
      "metadata": {
        "id": "2hapsNIYwadl"
      },
      "outputs": [],
      "source": [
        "from sklearn.model_selection import train_test_split\n",
        "\n",
        "X_train, X_test, y_color_train, y_color_test, y_type_train, y_type_test, y_pattern_train, y_pattern_test, y_index_train, y_index_test = train_test_split(\n",
        "    images, color_array, type_array, pattern_array, index_array, test_size=0.2, random_state=42)\n",
        "\n",
        "X_train, X_val, y_color_train, y_color_val, y_type_train, y_type_val, y_pattern_train, y_pattern_val, y_index_train, y_index_val = train_test_split(\n",
        "    X_train, y_color_train, y_type_train, y_pattern_train, y_index_train, test_size=0.25, random_state=42)\n"
      ]
    },
    {
      "cell_type": "code",
      "execution_count": 40,
      "metadata": {
        "colab": {
          "base_uri": "https://localhost:8080/"
        },
        "id": "81KQC_qGvZvY",
        "outputId": "7c2b3ff4-f2cc-4961-f79d-b9d8f9b96c61"
      },
      "outputs": [
        {
          "output_type": "stream",
          "name": "stdout",
          "text": [
            "Model: \"model\"\n",
            "__________________________________________________________________________________________________\n",
            " Layer (type)                   Output Shape         Param #     Connected to                     \n",
            "==================================================================================================\n",
            " input_1 (InputLayer)           [(None, 80, 80, 3)]  0           []                               \n",
            "                                                                                                  \n",
            " conv2d (Conv2D)                (None, 78, 78, 32)   896         ['input_1[0][0]']                \n",
            "                                                                                                  \n",
            " max_pooling2d (MaxPooling2D)   (None, 39, 39, 32)   0           ['conv2d[0][0]']                 \n",
            "                                                                                                  \n",
            " conv2d_1 (Conv2D)              (None, 37, 37, 64)   18496       ['max_pooling2d[0][0]']          \n",
            "                                                                                                  \n",
            " max_pooling2d_1 (MaxPooling2D)  (None, 18, 18, 64)  0           ['conv2d_1[0][0]']               \n",
            "                                                                                                  \n",
            " conv2d_2 (Conv2D)              (None, 16, 16, 128)  73856       ['max_pooling2d_1[0][0]']        \n",
            "                                                                                                  \n",
            " max_pooling2d_2 (MaxPooling2D)  (None, 8, 8, 128)   0           ['conv2d_2[0][0]']               \n",
            "                                                                                                  \n",
            " flatten (Flatten)              (None, 8192)         0           ['max_pooling2d_2[0][0]']        \n",
            "                                                                                                  \n",
            " dense (Dense)                  (None, 256)          2097408     ['flatten[0][0]']                \n",
            "                                                                                                  \n",
            " color_output (Dense)           (None, 15)           3855        ['dense[0][0]']                  \n",
            "                                                                                                  \n",
            " type_output (Dense)            (None, 7)            1799        ['dense[0][0]']                  \n",
            "                                                                                                  \n",
            " pattern_output (Dense)         (None, 27)           6939        ['dense[0][0]']                  \n",
            "                                                                                                  \n",
            " index_output (Dense)           (None, 3)            771         ['dense[0][0]']                  \n",
            "                                                                                                  \n",
            "==================================================================================================\n",
            "Total params: 2,204,020\n",
            "Trainable params: 2,204,020\n",
            "Non-trainable params: 0\n",
            "__________________________________________________________________________________________________\n"
          ]
        }
      ],
      "source": [
        "inputs = Input(shape=(img_size, img_size, 3))\n",
        "x = Conv2D(32, (3, 3), activation='relu')(inputs)\n",
        "x = MaxPooling2D((2, 2))(x)\n",
        "x = Conv2D(64, (3, 3), activation='relu')(x)\n",
        "x = MaxPooling2D((2, 2))(x)\n",
        "x = Conv2D(128, (3, 3), activation='relu')(x)\n",
        "x = MaxPooling2D((2, 2))(x)\n",
        "x = Flatten()(x)\n",
        "x = Dense(256, activation='relu')(x)\n",
        "\n",
        "color_output = Dense(len(df_valid_images['perceived_colour_master_name'].unique()), activation='softmax', name='color_output')(x)\n",
        "type_output = Dense(len(df_valid_images['product_group_name'].unique()), activation='softmax', name='type_output')(x)\n",
        "pattern_output = Dense(len(df_valid_images['graphical_appearance_name'].unique()), activation='softmax', name='pattern_output')(x)\n",
        "index_output = Dense(len(df_valid_images['index_group_name'].unique()), activation='softmax', name='index_output')(x)\n",
        "\n",
        "model = Model(inputs=inputs, outputs=[color_output, type_output, pattern_output, index_output])\n",
        "model.summary()\n"
      ]
    },
    {
      "cell_type": "code",
      "execution_count": 41,
      "metadata": {
        "id": "G2zdeQZn1BAr"
      },
      "outputs": [],
      "source": [
        "from keras.optimizers import Adam"
      ]
    },
    {
      "cell_type": "code",
      "execution_count": 42,
      "metadata": {
        "id": "hsNTz7lSwEmT"
      },
      "outputs": [],
      "source": [
        "model.compile(\n",
        "    optimizer=Adam(),\n",
        "    loss={\n",
        "        'color_output': 'categorical_crossentropy',\n",
        "        'type_output': 'categorical_crossentropy',\n",
        "        'pattern_output': 'categorical_crossentropy',\n",
        "        'index_output': 'categorical_crossentropy'\n",
        "    },\n",
        "    metrics=['accuracy']\n",
        ")"
      ]
    },
    {
      "cell_type": "code",
      "execution_count": 43,
      "metadata": {
        "id": "QUxIph24d97E"
      },
      "outputs": [],
      "source": [
        "checkpoint_filepath = 'best_model.h5'\n",
        "model_checkpoint_callback = ModelCheckpoint(\n",
        "    filepath=checkpoint_filepath,\n",
        "    monitor='val_pattern_output_accuracy',\n",
        "    mode='max',\n",
        "    save_best_only=True)"
      ]
    },
    {
      "cell_type": "code",
      "execution_count": 44,
      "metadata": {
        "colab": {
          "base_uri": "https://localhost:8080/"
        },
        "id": "LJUyIh2vxs0t",
        "outputId": "fb248886-1e1e-4a3c-bb5a-e81070d6d8b0"
      },
      "outputs": [
        {
          "output_type": "stream",
          "name": "stdout",
          "text": [
            "Epoch 1/40\n",
            "833/833 [==============================] - 19s 12ms/step - loss: 5.5896 - color_output_loss: 1.5693 - type_output_loss: 1.0219 - pattern_output_loss: 1.8033 - index_output_loss: 1.1951 - color_output_accuracy: 0.6095 - type_output_accuracy: 0.7780 - pattern_output_accuracy: 0.6173 - index_output_accuracy: 0.6137 - val_loss: 3.4335 - val_color_output_loss: 0.9239 - val_type_output_loss: 0.4873 - val_pattern_output_loss: 1.2431 - val_index_output_loss: 0.7792 - val_color_output_accuracy: 0.7147 - val_type_output_accuracy: 0.8352 - val_pattern_output_accuracy: 0.6616 - val_index_output_accuracy: 0.6579\n",
            "Epoch 2/40\n",
            "833/833 [==============================] - 9s 11ms/step - loss: 3.2513 - color_output_loss: 0.8983 - type_output_loss: 0.4115 - pattern_output_loss: 1.2064 - index_output_loss: 0.7350 - color_output_accuracy: 0.7209 - type_output_accuracy: 0.8595 - pattern_output_accuracy: 0.6709 - index_output_accuracy: 0.6754 - val_loss: 3.1322 - val_color_output_loss: 0.8529 - val_type_output_loss: 0.3817 - val_pattern_output_loss: 1.1868 - val_index_output_loss: 0.7108 - val_color_output_accuracy: 0.7418 - val_type_output_accuracy: 0.8688 - val_pattern_output_accuracy: 0.6738 - val_index_output_accuracy: 0.6834\n",
            "Epoch 3/40\n",
            "833/833 [==============================] - 9s 11ms/step - loss: 2.9172 - color_output_loss: 0.8076 - type_output_loss: 0.3367 - pattern_output_loss: 1.1066 - index_output_loss: 0.6663 - color_output_accuracy: 0.7467 - type_output_accuracy: 0.8847 - pattern_output_accuracy: 0.6879 - index_output_accuracy: 0.7093 - val_loss: 3.1650 - val_color_output_loss: 0.8672 - val_type_output_loss: 0.3683 - val_pattern_output_loss: 1.1996 - val_index_output_loss: 0.7299 - val_color_output_accuracy: 0.7337 - val_type_output_accuracy: 0.8759 - val_pattern_output_accuracy: 0.6683 - val_index_output_accuracy: 0.6685\n",
            "Epoch 4/40\n",
            "833/833 [==============================] - 9s 11ms/step - loss: 2.6593 - color_output_loss: 0.7405 - type_output_loss: 0.2863 - pattern_output_loss: 1.0215 - index_output_loss: 0.6110 - color_output_accuracy: 0.7666 - type_output_accuracy: 0.9027 - pattern_output_accuracy: 0.7064 - index_output_accuracy: 0.7376 - val_loss: 3.2111 - val_color_output_loss: 0.8613 - val_type_output_loss: 0.4104 - val_pattern_output_loss: 1.2276 - val_index_output_loss: 0.7119 - val_color_output_accuracy: 0.7319 - val_type_output_accuracy: 0.8633 - val_pattern_output_accuracy: 0.6675 - val_index_output_accuracy: 0.6893\n",
            "Epoch 5/40\n",
            "833/833 [==============================] - 9s 10ms/step - loss: 2.3933 - color_output_loss: 0.6679 - type_output_loss: 0.2456 - pattern_output_loss: 0.9221 - index_output_loss: 0.5577 - color_output_accuracy: 0.7848 - type_output_accuracy: 0.9170 - pattern_output_accuracy: 0.7258 - index_output_accuracy: 0.7637 - val_loss: 3.1821 - val_color_output_loss: 0.8550 - val_type_output_loss: 0.3915 - val_pattern_output_loss: 1.2372 - val_index_output_loss: 0.6983 - val_color_output_accuracy: 0.7425 - val_type_output_accuracy: 0.8794 - val_pattern_output_accuracy: 0.6625 - val_index_output_accuracy: 0.7084\n",
            "Epoch 6/40\n",
            "833/833 [==============================] - 9s 11ms/step - loss: 2.1944 - color_output_loss: 0.6212 - type_output_loss: 0.2156 - pattern_output_loss: 0.8479 - index_output_loss: 0.5096 - color_output_accuracy: 0.7981 - type_output_accuracy: 0.9262 - pattern_output_accuracy: 0.7457 - index_output_accuracy: 0.7857 - val_loss: 3.3723 - val_color_output_loss: 0.9256 - val_type_output_loss: 0.4124 - val_pattern_output_loss: 1.2905 - val_index_output_loss: 0.7438 - val_color_output_accuracy: 0.7336 - val_type_output_accuracy: 0.8794 - val_pattern_output_accuracy: 0.6779 - val_index_output_accuracy: 0.7073\n",
            "Epoch 7/40\n",
            "833/833 [==============================] - 9s 11ms/step - loss: 1.9740 - color_output_loss: 0.5586 - type_output_loss: 0.1850 - pattern_output_loss: 0.7651 - index_output_loss: 0.4653 - color_output_accuracy: 0.8180 - type_output_accuracy: 0.9365 - pattern_output_accuracy: 0.7669 - index_output_accuracy: 0.8045 - val_loss: 3.5674 - val_color_output_loss: 1.0190 - val_type_output_loss: 0.4550 - val_pattern_output_loss: 1.3505 - val_index_output_loss: 0.7429 - val_color_output_accuracy: 0.7043 - val_type_output_accuracy: 0.8725 - val_pattern_output_accuracy: 0.6580 - val_index_output_accuracy: 0.7104\n",
            "Epoch 8/40\n",
            "833/833 [==============================] - 9s 11ms/step - loss: 1.7848 - color_output_loss: 0.5089 - type_output_loss: 0.1719 - pattern_output_loss: 0.6814 - index_output_loss: 0.4226 - color_output_accuracy: 0.8329 - type_output_accuracy: 0.9386 - pattern_output_accuracy: 0.7859 - index_output_accuracy: 0.8276 - val_loss: 3.8236 - val_color_output_loss: 1.0685 - val_type_output_loss: 0.5039 - val_pattern_output_loss: 1.4459 - val_index_output_loss: 0.8052 - val_color_output_accuracy: 0.7211 - val_type_output_accuracy: 0.8702 - val_pattern_output_accuracy: 0.6640 - val_index_output_accuracy: 0.6953\n",
            "Epoch 9/40\n",
            "833/833 [==============================] - 9s 11ms/step - loss: 1.5897 - color_output_loss: 0.4585 - type_output_loss: 0.1487 - pattern_output_loss: 0.6018 - index_output_loss: 0.3808 - color_output_accuracy: 0.8467 - type_output_accuracy: 0.9494 - pattern_output_accuracy: 0.8067 - index_output_accuracy: 0.8470 - val_loss: 4.1001 - val_color_output_loss: 1.1023 - val_type_output_loss: 0.5277 - val_pattern_output_loss: 1.6290 - val_index_output_loss: 0.8411 - val_color_output_accuracy: 0.7234 - val_type_output_accuracy: 0.8689 - val_pattern_output_accuracy: 0.6514 - val_index_output_accuracy: 0.6999\n",
            "Epoch 10/40\n",
            "833/833 [==============================] - 9s 11ms/step - loss: 1.4351 - color_output_loss: 0.4125 - type_output_loss: 0.1338 - pattern_output_loss: 0.5456 - index_output_loss: 0.3432 - color_output_accuracy: 0.8634 - type_output_accuracy: 0.9529 - pattern_output_accuracy: 0.8232 - index_output_accuracy: 0.8586 - val_loss: 4.4174 - val_color_output_loss: 1.1385 - val_type_output_loss: 0.6105 - val_pattern_output_loss: 1.7524 - val_index_output_loss: 0.9160 - val_color_output_accuracy: 0.7230 - val_type_output_accuracy: 0.8671 - val_pattern_output_accuracy: 0.6444 - val_index_output_accuracy: 0.7066\n",
            "Epoch 11/40\n",
            "833/833 [==============================] - 9s 11ms/step - loss: 1.2729 - color_output_loss: 0.3578 - type_output_loss: 0.1258 - pattern_output_loss: 0.4812 - index_output_loss: 0.3081 - color_output_accuracy: 0.8780 - type_output_accuracy: 0.9581 - pattern_output_accuracy: 0.8421 - index_output_accuracy: 0.8781 - val_loss: 4.9659 - val_color_output_loss: 1.3392 - val_type_output_loss: 0.6395 - val_pattern_output_loss: 1.9794 - val_index_output_loss: 1.0079 - val_color_output_accuracy: 0.7154 - val_type_output_accuracy: 0.8687 - val_pattern_output_accuracy: 0.6389 - val_index_output_accuracy: 0.7009\n",
            "Epoch 12/40\n",
            "833/833 [==============================] - 9s 11ms/step - loss: 1.1962 - color_output_loss: 0.3416 - type_output_loss: 0.1176 - pattern_output_loss: 0.4523 - index_output_loss: 0.2848 - color_output_accuracy: 0.8878 - type_output_accuracy: 0.9614 - pattern_output_accuracy: 0.8506 - index_output_accuracy: 0.8875 - val_loss: 5.4358 - val_color_output_loss: 1.4390 - val_type_output_loss: 0.7411 - val_pattern_output_loss: 2.1573 - val_index_output_loss: 1.0983 - val_color_output_accuracy: 0.7217 - val_type_output_accuracy: 0.8687 - val_pattern_output_accuracy: 0.6365 - val_index_output_accuracy: 0.6935\n",
            "Epoch 13/40\n",
            "833/833 [==============================] - 9s 11ms/step - loss: 1.0298 - color_output_loss: 0.2926 - type_output_loss: 0.1005 - pattern_output_loss: 0.3831 - index_output_loss: 0.2537 - color_output_accuracy: 0.9026 - type_output_accuracy: 0.9665 - pattern_output_accuracy: 0.8745 - index_output_accuracy: 0.9011 - val_loss: 5.5295 - val_color_output_loss: 1.4257 - val_type_output_loss: 0.7209 - val_pattern_output_loss: 2.2713 - val_index_output_loss: 1.1115 - val_color_output_accuracy: 0.7209 - val_type_output_accuracy: 0.8673 - val_pattern_output_accuracy: 0.6374 - val_index_output_accuracy: 0.7056\n",
            "Epoch 14/40\n",
            "833/833 [==============================] - 9s 11ms/step - loss: 0.9934 - color_output_loss: 0.2778 - type_output_loss: 0.0985 - pattern_output_loss: 0.3738 - index_output_loss: 0.2433 - color_output_accuracy: 0.9061 - type_output_accuracy: 0.9682 - pattern_output_accuracy: 0.8786 - index_output_accuracy: 0.9100 - val_loss: 5.9325 - val_color_output_loss: 1.5437 - val_type_output_loss: 0.7897 - val_pattern_output_loss: 2.3930 - val_index_output_loss: 1.2061 - val_color_output_accuracy: 0.7344 - val_type_output_accuracy: 0.8702 - val_pattern_output_accuracy: 0.6223 - val_index_output_accuracy: 0.7114\n",
            "Epoch 15/40\n",
            "833/833 [==============================] - 9s 11ms/step - loss: 0.9003 - color_output_loss: 0.2618 - type_output_loss: 0.0847 - pattern_output_loss: 0.3328 - index_output_loss: 0.2210 - color_output_accuracy: 0.9139 - type_output_accuracy: 0.9727 - pattern_output_accuracy: 0.8885 - index_output_accuracy: 0.9178 - val_loss: 6.4399 - val_color_output_loss: 1.7660 - val_type_output_loss: 0.8466 - val_pattern_output_loss: 2.5825 - val_index_output_loss: 1.2448 - val_color_output_accuracy: 0.6936 - val_type_output_accuracy: 0.8682 - val_pattern_output_accuracy: 0.6411 - val_index_output_accuracy: 0.7093\n",
            "Epoch 16/40\n",
            "833/833 [==============================] - 9s 11ms/step - loss: 0.8528 - color_output_loss: 0.2431 - type_output_loss: 0.0869 - pattern_output_loss: 0.3170 - index_output_loss: 0.2058 - color_output_accuracy: 0.9199 - type_output_accuracy: 0.9736 - pattern_output_accuracy: 0.8999 - index_output_accuracy: 0.9205 - val_loss: 7.2223 - val_color_output_loss: 1.8595 - val_type_output_loss: 0.9670 - val_pattern_output_loss: 2.9299 - val_index_output_loss: 1.4658 - val_color_output_accuracy: 0.7166 - val_type_output_accuracy: 0.8719 - val_pattern_output_accuracy: 0.6345 - val_index_output_accuracy: 0.6943\n",
            "Epoch 17/40\n",
            "833/833 [==============================] - 9s 11ms/step - loss: 0.7783 - color_output_loss: 0.2124 - type_output_loss: 0.0815 - pattern_output_loss: 0.2847 - index_output_loss: 0.1997 - color_output_accuracy: 0.9284 - type_output_accuracy: 0.9753 - pattern_output_accuracy: 0.9071 - index_output_accuracy: 0.9270 - val_loss: 7.2847 - val_color_output_loss: 1.9214 - val_type_output_loss: 0.9312 - val_pattern_output_loss: 2.9958 - val_index_output_loss: 1.4363 - val_color_output_accuracy: 0.7113 - val_type_output_accuracy: 0.8697 - val_pattern_output_accuracy: 0.6195 - val_index_output_accuracy: 0.6934\n",
            "Epoch 18/40\n",
            "833/833 [==============================] - 9s 11ms/step - loss: 0.7415 - color_output_loss: 0.2157 - type_output_loss: 0.0759 - pattern_output_loss: 0.2661 - index_output_loss: 0.1838 - color_output_accuracy: 0.9311 - type_output_accuracy: 0.9769 - pattern_output_accuracy: 0.9141 - index_output_accuracy: 0.9331 - val_loss: 7.9096 - val_color_output_loss: 2.0932 - val_type_output_loss: 1.0483 - val_pattern_output_loss: 3.2426 - val_index_output_loss: 1.5255 - val_color_output_accuracy: 0.7002 - val_type_output_accuracy: 0.8683 - val_pattern_output_accuracy: 0.6200 - val_index_output_accuracy: 0.7006\n",
            "Epoch 19/40\n",
            "833/833 [==============================] - 9s 11ms/step - loss: 0.7363 - color_output_loss: 0.2122 - type_output_loss: 0.0752 - pattern_output_loss: 0.2781 - index_output_loss: 0.1708 - color_output_accuracy: 0.9332 - type_output_accuracy: 0.9781 - pattern_output_accuracy: 0.9118 - index_output_accuracy: 0.9376 - val_loss: 7.9164 - val_color_output_loss: 2.0790 - val_type_output_loss: 1.0040 - val_pattern_output_loss: 3.2752 - val_index_output_loss: 1.5582 - val_color_output_accuracy: 0.7171 - val_type_output_accuracy: 0.8758 - val_pattern_output_accuracy: 0.6256 - val_index_output_accuracy: 0.6917\n",
            "Epoch 20/40\n",
            "833/833 [==============================] - 9s 11ms/step - loss: 0.6680 - color_output_loss: 0.1970 - type_output_loss: 0.0693 - pattern_output_loss: 0.2506 - index_output_loss: 0.1511 - color_output_accuracy: 0.9393 - type_output_accuracy: 0.9789 - pattern_output_accuracy: 0.9241 - index_output_accuracy: 0.9450 - val_loss: 8.1741 - val_color_output_loss: 2.2351 - val_type_output_loss: 1.0289 - val_pattern_output_loss: 3.3347 - val_index_output_loss: 1.5754 - val_color_output_accuracy: 0.6881 - val_type_output_accuracy: 0.8728 - val_pattern_output_accuracy: 0.6144 - val_index_output_accuracy: 0.6938\n",
            "Epoch 21/40\n",
            "833/833 [==============================] - 9s 11ms/step - loss: 0.7168 - color_output_loss: 0.2129 - type_output_loss: 0.0761 - pattern_output_loss: 0.2586 - index_output_loss: 0.1692 - color_output_accuracy: 0.9343 - type_output_accuracy: 0.9783 - pattern_output_accuracy: 0.9196 - index_output_accuracy: 0.9381 - val_loss: 8.6353 - val_color_output_loss: 2.3144 - val_type_output_loss: 1.1211 - val_pattern_output_loss: 3.5878 - val_index_output_loss: 1.6119 - val_color_output_accuracy: 0.7165 - val_type_output_accuracy: 0.8699 - val_pattern_output_accuracy: 0.6250 - val_index_output_accuracy: 0.6976\n",
            "Epoch 22/40\n",
            "833/833 [==============================] - 9s 11ms/step - loss: 0.6174 - color_output_loss: 0.1764 - type_output_loss: 0.0692 - pattern_output_loss: 0.2256 - index_output_loss: 0.1462 - color_output_accuracy: 0.9457 - type_output_accuracy: 0.9811 - pattern_output_accuracy: 0.9287 - index_output_accuracy: 0.9493 - val_loss: 9.6576 - val_color_output_loss: 2.5654 - val_type_output_loss: 1.2370 - val_pattern_output_loss: 4.0140 - val_index_output_loss: 1.8412 - val_color_output_accuracy: 0.7018 - val_type_output_accuracy: 0.8683 - val_pattern_output_accuracy: 0.6194 - val_index_output_accuracy: 0.7014\n",
            "Epoch 23/40\n",
            "833/833 [==============================] - 9s 11ms/step - loss: 0.6219 - color_output_loss: 0.1779 - type_output_loss: 0.0684 - pattern_output_loss: 0.2326 - index_output_loss: 0.1430 - color_output_accuracy: 0.9463 - type_output_accuracy: 0.9799 - pattern_output_accuracy: 0.9297 - index_output_accuracy: 0.9505 - val_loss: 9.3819 - val_color_output_loss: 2.3962 - val_type_output_loss: 1.2382 - val_pattern_output_loss: 3.9605 - val_index_output_loss: 1.7870 - val_color_output_accuracy: 0.7182 - val_type_output_accuracy: 0.8667 - val_pattern_output_accuracy: 0.6354 - val_index_output_accuracy: 0.6972\n",
            "Epoch 24/40\n",
            "833/833 [==============================] - 9s 11ms/step - loss: 0.6195 - color_output_loss: 0.1946 - type_output_loss: 0.0619 - pattern_output_loss: 0.2284 - index_output_loss: 0.1346 - color_output_accuracy: 0.9426 - type_output_accuracy: 0.9819 - pattern_output_accuracy: 0.9313 - index_output_accuracy: 0.9533 - val_loss: 9.8510 - val_color_output_loss: 2.4953 - val_type_output_loss: 1.2854 - val_pattern_output_loss: 4.1043 - val_index_output_loss: 1.9660 - val_color_output_accuracy: 0.7111 - val_type_output_accuracy: 0.8679 - val_pattern_output_accuracy: 0.6296 - val_index_output_accuracy: 0.7000\n",
            "Epoch 25/40\n",
            "833/833 [==============================] - 9s 11ms/step - loss: 0.6069 - color_output_loss: 0.1792 - type_output_loss: 0.0716 - pattern_output_loss: 0.2204 - index_output_loss: 0.1357 - color_output_accuracy: 0.9486 - type_output_accuracy: 0.9807 - pattern_output_accuracy: 0.9350 - index_output_accuracy: 0.9531 - val_loss: 11.2282 - val_color_output_loss: 3.1194 - val_type_output_loss: 1.4442 - val_pattern_output_loss: 4.5720 - val_index_output_loss: 2.0926 - val_color_output_accuracy: 0.6973 - val_type_output_accuracy: 0.8699 - val_pattern_output_accuracy: 0.6183 - val_index_output_accuracy: 0.6959\n",
            "Epoch 26/40\n",
            "833/833 [==============================] - 9s 11ms/step - loss: 0.5685 - color_output_loss: 0.1615 - type_output_loss: 0.0607 - pattern_output_loss: 0.2092 - index_output_loss: 0.1370 - color_output_accuracy: 0.9527 - type_output_accuracy: 0.9833 - pattern_output_accuracy: 0.9400 - index_output_accuracy: 0.9560 - val_loss: 10.1078 - val_color_output_loss: 2.6071 - val_type_output_loss: 1.3365 - val_pattern_output_loss: 4.2120 - val_index_output_loss: 1.9523 - val_color_output_accuracy: 0.7115 - val_type_output_accuracy: 0.8620 - val_pattern_output_accuracy: 0.6138 - val_index_output_accuracy: 0.6914\n",
            "Epoch 27/40\n",
            "833/833 [==============================] - 9s 11ms/step - loss: 0.5654 - color_output_loss: 0.1643 - type_output_loss: 0.0674 - pattern_output_loss: 0.1997 - index_output_loss: 0.1340 - color_output_accuracy: 0.9508 - type_output_accuracy: 0.9827 - pattern_output_accuracy: 0.9418 - index_output_accuracy: 0.9548 - val_loss: 10.9128 - val_color_output_loss: 2.7421 - val_type_output_loss: 1.4640 - val_pattern_output_loss: 4.5951 - val_index_output_loss: 2.1116 - val_color_output_accuracy: 0.7052 - val_type_output_accuracy: 0.8669 - val_pattern_output_accuracy: 0.6397 - val_index_output_accuracy: 0.6887\n",
            "Epoch 28/40\n",
            "833/833 [==============================] - 9s 11ms/step - loss: 0.6206 - color_output_loss: 0.1871 - type_output_loss: 0.0701 - pattern_output_loss: 0.2229 - index_output_loss: 0.1405 - color_output_accuracy: 0.9453 - type_output_accuracy: 0.9823 - pattern_output_accuracy: 0.9374 - index_output_accuracy: 0.9567 - val_loss: 11.6033 - val_color_output_loss: 3.0114 - val_type_output_loss: 1.5854 - val_pattern_output_loss: 4.8272 - val_index_output_loss: 2.1793 - val_color_output_accuracy: 0.6821 - val_type_output_accuracy: 0.8644 - val_pattern_output_accuracy: 0.6123 - val_index_output_accuracy: 0.6964\n",
            "Epoch 29/40\n",
            "833/833 [==============================] - 9s 11ms/step - loss: 0.5535 - color_output_loss: 0.1706 - type_output_loss: 0.0571 - pattern_output_loss: 0.1953 - index_output_loss: 0.1306 - color_output_accuracy: 0.9513 - type_output_accuracy: 0.9840 - pattern_output_accuracy: 0.9453 - index_output_accuracy: 0.9584 - val_loss: 11.9098 - val_color_output_loss: 3.0773 - val_type_output_loss: 1.5356 - val_pattern_output_loss: 5.1125 - val_index_output_loss: 2.1843 - val_color_output_accuracy: 0.7131 - val_type_output_accuracy: 0.8644 - val_pattern_output_accuracy: 0.6272 - val_index_output_accuracy: 0.7042\n",
            "Epoch 30/40\n",
            "833/833 [==============================] - 9s 11ms/step - loss: 0.5769 - color_output_loss: 0.1761 - type_output_loss: 0.0592 - pattern_output_loss: 0.2120 - index_output_loss: 0.1297 - color_output_accuracy: 0.9514 - type_output_accuracy: 0.9840 - pattern_output_accuracy: 0.9428 - index_output_accuracy: 0.9581 - val_loss: 12.8832 - val_color_output_loss: 3.1552 - val_type_output_loss: 1.7184 - val_pattern_output_loss: 5.6336 - val_index_output_loss: 2.3760 - val_color_output_accuracy: 0.7069 - val_type_output_accuracy: 0.8684 - val_pattern_output_accuracy: 0.6387 - val_index_output_accuracy: 0.7032\n",
            "Epoch 31/40\n",
            "833/833 [==============================] - 9s 11ms/step - loss: 0.5745 - color_output_loss: 0.1702 - type_output_loss: 0.0632 - pattern_output_loss: 0.2161 - index_output_loss: 0.1250 - color_output_accuracy: 0.9545 - type_output_accuracy: 0.9846 - pattern_output_accuracy: 0.9447 - index_output_accuracy: 0.9615 - val_loss: 12.4075 - val_color_output_loss: 3.1493 - val_type_output_loss: 1.6427 - val_pattern_output_loss: 5.3846 - val_index_output_loss: 2.2309 - val_color_output_accuracy: 0.6910 - val_type_output_accuracy: 0.8653 - val_pattern_output_accuracy: 0.6296 - val_index_output_accuracy: 0.6944\n",
            "Epoch 32/40\n",
            "833/833 [==============================] - 9s 11ms/step - loss: 0.4976 - color_output_loss: 0.1565 - type_output_loss: 0.0488 - pattern_output_loss: 0.1777 - index_output_loss: 0.1146 - color_output_accuracy: 0.9597 - type_output_accuracy: 0.9871 - pattern_output_accuracy: 0.9521 - index_output_accuracy: 0.9644 - val_loss: 12.3643 - val_color_output_loss: 3.0322 - val_type_output_loss: 1.6133 - val_pattern_output_loss: 5.3903 - val_index_output_loss: 2.3285 - val_color_output_accuracy: 0.7133 - val_type_output_accuracy: 0.8693 - val_pattern_output_accuracy: 0.6287 - val_index_output_accuracy: 0.7022\n",
            "Epoch 33/40\n",
            "833/833 [==============================] - 9s 11ms/step - loss: 0.5417 - color_output_loss: 0.1694 - type_output_loss: 0.0637 - pattern_output_loss: 0.1910 - index_output_loss: 0.1176 - color_output_accuracy: 0.9557 - type_output_accuracy: 0.9851 - pattern_output_accuracy: 0.9495 - index_output_accuracy: 0.9620 - val_loss: 12.8249 - val_color_output_loss: 3.3035 - val_type_output_loss: 1.6271 - val_pattern_output_loss: 5.5307 - val_index_output_loss: 2.3635 - val_color_output_accuracy: 0.7029 - val_type_output_accuracy: 0.8727 - val_pattern_output_accuracy: 0.6068 - val_index_output_accuracy: 0.7022\n",
            "Epoch 34/40\n",
            "833/833 [==============================] - 9s 11ms/step - loss: 0.5334 - color_output_loss: 0.1590 - type_output_loss: 0.0535 - pattern_output_loss: 0.2007 - index_output_loss: 0.1202 - color_output_accuracy: 0.9557 - type_output_accuracy: 0.9863 - pattern_output_accuracy: 0.9474 - index_output_accuracy: 0.9623 - val_loss: 12.8055 - val_color_output_loss: 3.2898 - val_type_output_loss: 1.6390 - val_pattern_output_loss: 5.5614 - val_index_output_loss: 2.3153 - val_color_output_accuracy: 0.7059 - val_type_output_accuracy: 0.8758 - val_pattern_output_accuracy: 0.6291 - val_index_output_accuracy: 0.6951\n",
            "Epoch 35/40\n",
            "833/833 [==============================] - 9s 11ms/step - loss: 0.5108 - color_output_loss: 0.1458 - type_output_loss: 0.0604 - pattern_output_loss: 0.1955 - index_output_loss: 0.1091 - color_output_accuracy: 0.9589 - type_output_accuracy: 0.9858 - pattern_output_accuracy: 0.9508 - index_output_accuracy: 0.9653 - val_loss: 14.3772 - val_color_output_loss: 3.6454 - val_type_output_loss: 1.8011 - val_pattern_output_loss: 6.3492 - val_index_output_loss: 2.5815 - val_color_output_accuracy: 0.6977 - val_type_output_accuracy: 0.8773 - val_pattern_output_accuracy: 0.6269 - val_index_output_accuracy: 0.6962\n",
            "Epoch 36/40\n",
            "833/833 [==============================] - 9s 11ms/step - loss: 0.5172 - color_output_loss: 0.1585 - type_output_loss: 0.0652 - pattern_output_loss: 0.1798 - index_output_loss: 0.1137 - color_output_accuracy: 0.9595 - type_output_accuracy: 0.9848 - pattern_output_accuracy: 0.9530 - index_output_accuracy: 0.9654 - val_loss: 13.5791 - val_color_output_loss: 3.4776 - val_type_output_loss: 1.6986 - val_pattern_output_loss: 5.8552 - val_index_output_loss: 2.5477 - val_color_output_accuracy: 0.7029 - val_type_output_accuracy: 0.8727 - val_pattern_output_accuracy: 0.6117 - val_index_output_accuracy: 0.7029\n",
            "Epoch 37/40\n",
            "833/833 [==============================] - 9s 11ms/step - loss: 0.5086 - color_output_loss: 0.1477 - type_output_loss: 0.0647 - pattern_output_loss: 0.1844 - index_output_loss: 0.1118 - color_output_accuracy: 0.9619 - type_output_accuracy: 0.9864 - pattern_output_accuracy: 0.9541 - index_output_accuracy: 0.9657 - val_loss: 13.7471 - val_color_output_loss: 3.5984 - val_type_output_loss: 1.7426 - val_pattern_output_loss: 5.9150 - val_index_output_loss: 2.4911 - val_color_output_accuracy: 0.6886 - val_type_output_accuracy: 0.8675 - val_pattern_output_accuracy: 0.6416 - val_index_output_accuracy: 0.6991\n",
            "Epoch 38/40\n",
            "833/833 [==============================] - 9s 11ms/step - loss: 0.5286 - color_output_loss: 0.1598 - type_output_loss: 0.0551 - pattern_output_loss: 0.1970 - index_output_loss: 0.1168 - color_output_accuracy: 0.9583 - type_output_accuracy: 0.9879 - pattern_output_accuracy: 0.9522 - index_output_accuracy: 0.9660 - val_loss: 14.7923 - val_color_output_loss: 3.9163 - val_type_output_loss: 1.8881 - val_pattern_output_loss: 6.3491 - val_index_output_loss: 2.6387 - val_color_output_accuracy: 0.7000 - val_type_output_accuracy: 0.8672 - val_pattern_output_accuracy: 0.6111 - val_index_output_accuracy: 0.7009\n",
            "Epoch 39/40\n",
            "833/833 [==============================] - 9s 11ms/step - loss: 0.5354 - color_output_loss: 0.1684 - type_output_loss: 0.0596 - pattern_output_loss: 0.1866 - index_output_loss: 0.1207 - color_output_accuracy: 0.9589 - type_output_accuracy: 0.9863 - pattern_output_accuracy: 0.9536 - index_output_accuracy: 0.9656 - val_loss: 15.1340 - val_color_output_loss: 3.7730 - val_type_output_loss: 1.9420 - val_pattern_output_loss: 6.6596 - val_index_output_loss: 2.7594 - val_color_output_accuracy: 0.7116 - val_type_output_accuracy: 0.8701 - val_pattern_output_accuracy: 0.6266 - val_index_output_accuracy: 0.6941\n",
            "Epoch 40/40\n",
            "833/833 [==============================] - 9s 11ms/step - loss: 0.5309 - color_output_loss: 0.1599 - type_output_loss: 0.0565 - pattern_output_loss: 0.1912 - index_output_loss: 0.1233 - color_output_accuracy: 0.9603 - type_output_accuracy: 0.9864 - pattern_output_accuracy: 0.9541 - index_output_accuracy: 0.9655 - val_loss: 15.7013 - val_color_output_loss: 4.1236 - val_type_output_loss: 1.9620 - val_pattern_output_loss: 6.8294 - val_index_output_loss: 2.7864 - val_color_output_accuracy: 0.6970 - val_type_output_accuracy: 0.8699 - val_pattern_output_accuracy: 0.6275 - val_index_output_accuracy: 0.7047\n",
            "278/278 [==============================] - 2s 6ms/step - loss: 3.3723 - color_output_loss: 0.9256 - type_output_loss: 0.4124 - pattern_output_loss: 1.2905 - index_output_loss: 0.7438 - color_output_accuracy: 0.7336 - type_output_accuracy: 0.8794 - pattern_output_accuracy: 0.6779 - index_output_accuracy: 0.7073\n"
          ]
        }
      ],
      "source": [
        "history = model.fit(\n",
        "    X_train,\n",
        "    {'color_output': y_color_train, 'type_output': y_type_train, 'pattern_output': y_pattern_train, 'index_output':y_index_train},\n",
        "    validation_data=(\n",
        "        X_val,\n",
        "        {'color_output': y_color_val, 'type_output': y_type_val, 'pattern_output': y_pattern_val, 'index_output':y_index_val}\n",
        "    ),\n",
        "    epochs=40,\n",
        "    batch_size=32,\n",
        "    callbacks=[model_checkpoint_callback])\n",
        "\n",
        "model.load_weights(checkpoint_filepath)\n",
        "\n",
        "scores = model.evaluate(\n",
        "    X_test,\n",
        "    {'color_output': y_color_test, 'type_output': y_type_test, 'pattern_output': y_pattern_test, 'index_output':y_index_test}\n",
        ")"
      ]
    },
    {
      "cell_type": "code",
      "execution_count": 45,
      "metadata": {
        "colab": {
          "base_uri": "https://localhost:8080/"
        },
        "id": "DtngY_gMyIuj",
        "outputId": "1e86b10f-3177-4921-b982-3221079b348b"
      },
      "outputs": [
        {
          "metadata": {
            "tags": null
          },
          "name": "stdout",
          "output_type": "stream",
          "text": [
            "Validation Accuracy - Color: 73.36%, Type: 87.94%, Pattern: 67.79%, Index: 70.73%\n"
          ]
        }
      ],
      "source": [
        "print('Test Accuracy - Color: {:.2f}%, Type: {:.2f}%, Pattern: {:.2f}%, Index: {:.2f}%'.format(scores[5] * 100, scores[6] * 100, scores[7] * 100, scores[8] * 100))"
      ]
    },
    {
      "cell_type": "code",
      "source": [
        "from sklearn.metrics import confusion_matrix, ConfusionMatrixDisplay\n",
        "\n",
        "y_pred = model.predict(X_test)\n",
        "\n",
        "y_color_pred = np.argmax(y_pred[0], axis=1)\n",
        "y_type_pred = np.argmax(y_pred[1], axis=1)\n",
        "y_index_pred = np.argmax(y_pred[3], axis=1)\n",
        "\n",
        "y_color_true = np.argmax(y_color_test, axis=1)\n",
        "y_type_true = np.argmax(y_type_test, axis=1)\n",
        "y_index_true = np.argmax(y_index_test, axis=1)\n",
        "\n",
        "confusion_matrix_color = confusion_matrix(y_color_true, y_color_pred, normalize='true')\n",
        "confusion_matrix_type = confusion_matrix(y_type_true, y_type_pred, normalize='true')\n",
        "confusion_matrix_index = confusion_matrix(y_index_true, y_index_pred, normalize='true')"
      ],
      "metadata": {
        "colab": {
          "base_uri": "https://localhost:8080/"
        },
        "id": "fC7nFC3dZtj0",
        "outputId": "e5872769-8aa3-4490-ad00-d826e2434912"
      },
      "execution_count": 74,
      "outputs": [
        {
          "output_type": "stream",
          "name": "stdout",
          "text": [
            "278/278 [==============================] - 1s 3ms/step\n"
          ]
        }
      ]
    },
    {
      "cell_type": "code",
      "source": [
        "cmp = ConfusionMatrixDisplay(confusion_matrix=confusion_matrix_color, display_labels=list(new_df.filter(like='colour_').columns))\n",
        "fig, ax = plt.subplots(figsize=(15,15))\n",
        "cmp.plot(ax=ax)\n",
        "plt.xticks(rotation=90)\n",
        "plt.show()"
      ],
      "metadata": {
        "colab": {
          "base_uri": "https://localhost:8080/",
          "height": 878
        },
        "id": "OgkTTYt7hJxp",
        "outputId": "a7c9bf77-1204-4678-fac2-b4978e7a32dc"
      },
      "execution_count": 73,
      "outputs": [
        {
          "output_type": "display_data",
          "data": {
            "text/plain": [
              "<Figure size 1080x1080 with 2 Axes>"
            ],
            "image/png": "[encoded data removed]"
          },
          "metadata": {
            "needs_background": "light"
          }
        }
      ]
    },
    {
      "cell_type": "code",
      "source": [
        "cmp = ConfusionMatrixDisplay(confusion_matrix=confusion_matrix_type, display_labels=list(new_df.filter(like='product_').columns))\n",
        "fig, ax = plt.subplots(figsize=(10,10))\n",
        "cmp.plot(ax=ax)\n",
        "plt.xticks(rotation=90)\n",
        "plt.show()"
      ],
      "metadata": {
        "colab": {
          "base_uri": "https://localhost:8080/",
          "height": 699
        },
        "id": "TyVPxwDZgrOx",
        "outputId": "7f764f0e-74ad-4018-8eee-8409f7ebb116"
      },
      "execution_count": 65,
      "outputs": [
        {
          "output_type": "display_data",
          "data": {
            "text/plain": [
              "<Figure size 720x720 with 2 Axes>"
            ],
            "image/png": "[encoded data removed]"
          },
          "metadata": {
            "needs_background": "light"
          }
        }
      ]
    },
    {
      "cell_type": "code",
      "source": [
        "cmp = ConfusionMatrixDisplay(confusion_matrix=confusion_matrix_index, display_labels=list(new_df.filter(like='index_').columns))\n",
        "fig, ax = plt.subplots(figsize=(15,15))\n",
        "cmp.plot(ax=ax)\n",
        "plt.xticks(rotation=90)\n",
        "plt.show()"
      ],
      "metadata": {
        "colab": {
          "base_uri": "https://localhost:8080/",
          "height": 884
        },
        "id": "0VekPTOfhTgV",
        "outputId": "18ef3b45-b8b4-4f6d-a107-164ff034aea7"
      },
      "execution_count": 66,
      "outputs": [
        {
          "output_type": "display_data",
          "data": {
            "text/plain": [
              "<Figure size 1080x1080 with 2 Axes>"
            ],
            "image/png": "[encoded data removed]"
          },
          "metadata": {
            "needs_background": "light"
          }
        }
      ]
    },
    {
      "cell_type": "code",
      "execution_count": null,
      "metadata": {
        "colab": {
          "background_save": true
        },
        "id": "NHUWHC0_C9dR"
      },
      "outputs": [],
      "source": [
        "model.save('my_model.h5')"
      ]
    }
  ],
  "metadata": {
    "accelerator": "GPU",
    "colab": {
      "machine_shape": "hm",
      "provenance": [],
      "authorship_tag": "ABX9TyOVRV1Lrk6sN0mloWbQyvJ/",
      "include_colab_link": true
    },
    "gpuClass": "standard",
    "kernelspec": {
      "display_name": "Python 3",
      "name": "python3"
    },
    "language_info": {
      "name": "python"
    }
  },
  "nbformat": 4,
  "nbformat_minor": 0
}