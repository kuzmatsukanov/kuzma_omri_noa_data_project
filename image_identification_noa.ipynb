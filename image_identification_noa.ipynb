{
  "nbformat": 4,
  "nbformat_minor": 0,
  "metadata": {
    "colab": {
      "provenance": [],
      "authorship_tag": "ABX9TyNHetuQlrY9/y6xHi9nucsB",
      "include_colab_link": true
    },
    "kernelspec": {
      "name": "python3",
      "display_name": "Python 3"
    },
    "language_info": {
      "name": "python"
    },
    "accelerator": "GPU",
    "gpuClass": "standard"
  },
  "cells": [
    {
      "cell_type": "markdown",
      "metadata": {
        "id": "view-in-github",
        "colab_type": "text"
      },
      "source": [
        "<a href=\"https://colab.research.google.com/github/kuzmatsukanov/kuzma_omri_noa_data_project/blob/noa/image_identification_noa.ipynb\" target=\"_parent\"><img src=\"https://colab.research.google.com/assets/colab-badge.svg\" alt=\"Open In Colab\"/></a>"
      ]
    },
    {
      "cell_type": "markdown",
      "source": [
        "Imports"
      ],
      "metadata": {
        "id": "9hwz79oj7-mL"
      }
    },
    {
      "cell_type": "code",
      "execution_count": 1,
      "metadata": {
        "id": "J9cr_2rCTYQ9"
      },
      "outputs": [],
      "source": [
        "import pandas as pd\n",
        "import numpy as np\n",
        "import cv2\n",
        "import matplotlib.pyplot as plt\n",
        "from tqdm import tqdm\n",
        "\n",
        "from multiprocessing import Pool\n",
        "from functools import partial\n",
        "\n",
        "\n",
        "from sklearn.model_selection import train_test_split\n",
        "from keras.layers import Input, Conv2D, MaxPooling2D, Flatten, Dense\n",
        "from keras.models import Model\n",
        "from keras.callbacks import ModelCheckpoint"
      ]
    },
    {
      "cell_type": "markdown",
      "source": [
        "For multiprocessing later on:"
      ],
      "metadata": {
        "id": "y1ediYVP77br"
      }
    },
    {
      "cell_type": "code",
      "source": [
        "img_size = 80"
      ],
      "metadata": {
        "id": "8gwgolS6eoF-"
      },
      "execution_count": 2,
      "outputs": []
    },
    {
      "cell_type": "code",
      "source": [
        "def load_image(image_path, resize_shape=None):\n",
        "    img = cv2.imread(image_path)\n",
        "    if resize_shape is not None:\n",
        "        img = cv2.resize(img, resize_shape)\n",
        "    return img\n",
        "\n",
        "def load_images_parallel(image_paths, n_jobs=4, resize_shape=None):\n",
        "    with Pool(processes=n_jobs) as pool:\n",
        "        func = partial(load_image, resize_shape=resize_shape)\n",
        "        images = pool.map(func, image_paths)\n",
        "    return np.array(images)"
      ],
      "metadata": {
        "id": "KjvA2W6Dh7ph"
      },
      "execution_count": 3,
      "outputs": []
    },
    {
      "cell_type": "markdown",
      "source": [
        "Mount the drive"
      ],
      "metadata": {
        "id": "qCyyaLXK8Ap2"
      }
    },
    {
      "cell_type": "code",
      "source": [
        "from google.colab import drive\n",
        "drive.mount('/content/drive')\n",
        "\n",
        "shared_folder_path = '/content/drive/MyDrive/ds_project_dataset'\n",
        "\n",
        "!cp -r \"$shared_folder_path\" ."
      ],
      "metadata": {
        "colab": {
          "base_uri": "https://localhost:8080/"
        },
        "id": "At8KkvBETZoe",
        "outputId": "f47e67f6-6f6b-4d31-8713-dfd013e996c4"
      },
      "execution_count": 4,
      "outputs": [
        {
          "output_type": "stream",
          "name": "stdout",
          "text": [
            "Drive already mounted at /content/drive; to attempt to forcibly remount, call drive.mount(\"/content/drive\", force_remount=True).\n"
          ]
        }
      ]
    },
    {
      "cell_type": "markdown",
      "source": [
        "Dataframe"
      ],
      "metadata": {
        "id": "RrPimQQF8Drn"
      }
    },
    {
      "cell_type": "code",
      "source": [
        "df = pd.read_csv('ds_project_dataset/articles.csv')"
      ],
      "metadata": {
        "id": "-aVIBZiZTZmJ"
      },
      "execution_count": 5,
      "outputs": []
    },
    {
      "cell_type": "code",
      "source": [
        "df.sample(5)"
      ],
      "metadata": {
        "colab": {
          "base_uri": "https://localhost:8080/",
          "height": 542
        },
        "id": "qXBrpztERvkI",
        "outputId": "0489bd8c-784b-46a8-f1dd-eb546ee87a9a"
      },
      "execution_count": 6,
      "outputs": [
        {
          "output_type": "execute_result",
          "data": {
            "text/plain": [
              "       article_id  product_code                 prod_name  product_type_no  \\\n",
              "71262   763285001        763285             Rana jumpsuit              267   \n",
              "24061   607834007        607834                  BROADWAY              259   \n",
              "22863   600544002        600544         GABBE FANCY BASIC              255   \n",
              "93849   859952001        859952            LE Bosch Dress              265   \n",
              "73286   771348003        771348  Monday jkt fleece lining              262   \n",
              "\n",
              "       product_type_name  product_group_name  graphical_appearance_no  \\\n",
              "71262  Jumpsuit/Playsuit   Garment Full body                  1010001   \n",
              "24061              Shirt  Garment Upper body                  1010004   \n",
              "22863            T-shirt  Garment Upper body                  1010016   \n",
              "93849              Dress   Garment Full body                  1010016   \n",
              "73286             Jacket  Garment Upper body                  1010001   \n",
              "\n",
              "      graphical_appearance_name  colour_group_code colour_group_name  ...  \\\n",
              "71262          All over pattern                  9             Black  ...   \n",
              "24061                     Check                 93        Dark Green  ...   \n",
              "22863                     Solid                 10             White  ...   \n",
              "93849                     Solid                 53         Dark Pink  ...   \n",
              "73286          All over pattern                 51        Light Pink  ...   \n",
              "\n",
              "             department_name index_code             index_name index_group_no  \\\n",
              "71262                Trouser          A             Ladieswear              1   \n",
              "24061             Tops Woven          D                Divided              2   \n",
              "22863  Kids Boy Jersey Fancy          H  Children Sizes 92-140              4   \n",
              "93849        Limited Edition          A             Ladieswear              1   \n",
              "73286       Baby Boy Outdoor          G       Baby Sizes 50-98              4   \n",
              "\n",
              "       index_group_name section_no                section_name  \\\n",
              "71262        Ladieswear         15  Womens Everyday Collection   \n",
              "24061           Divided         53          Divided Collection   \n",
              "22863     Baby/Children         46                    Kids Boy   \n",
              "93849        Ladieswear         82         Special Collections   \n",
              "73286     Baby/Children         41                    Baby Boy   \n",
              "\n",
              "      garment_group_no  garment_group_name  \\\n",
              "71262             1009            Trousers   \n",
              "24061             1010             Blouses   \n",
              "22863             1005        Jersey Fancy   \n",
              "93849             1023      Special Offers   \n",
              "73286             1007             Outdoor   \n",
              "\n",
              "                                             detail_desc  \n",
              "71262  Playsuit in viscose jersey with a V-neck, wrap...  \n",
              "24061  Long-sleeved, straight-cut shirt in an organic...  \n",
              "22863  T-shirt in slub cotton jersey with a chest poc...  \n",
              "93849  Wide, straight-cut, calf-length dress in soft,...  \n",
              "73286  Fleece-lined jacket in a patterned weave with ...  \n",
              "\n",
              "[5 rows x 25 columns]"
            ],
            "text/html": [
              "\n",
              "  <div id=\"df-e1194fdd-ada1-4d82-9f0d-6db9ac6a691e\">\n",
              "    <div class=\"colab-df-container\">\n",
              "      <div>\n",
              "<style scoped>\n",
              "    .dataframe tbody tr th:only-of-type {\n",
              "        vertical-align: middle;\n",
              "    }\n",
              "\n",
              "    .dataframe tbody tr th {\n",
              "        vertical-align: top;\n",
              "    }\n",
              "\n",
              "    .dataframe thead th {\n",
              "        text-align: right;\n",
              "    }\n",
              "</style>\n",
              "<table border=\"1\" class=\"dataframe\">\n",
              "  <thead>\n",
              "    <tr style=\"text-align: right;\">\n",
              "      <th></th>\n",
              "      <th>article_id</th>\n",
              "      <th>product_code</th>\n",
              "      <th>prod_name</th>\n",
              "      <th>product_type_no</th>\n",
              "      <th>product_type_name</th>\n",
              "      <th>product_group_name</th>\n",
              "      <th>graphical_appearance_no</th>\n",
              "      <th>graphical_appearance_name</th>\n",
              "      <th>colour_group_code</th>\n",
              "      <th>colour_group_name</th>\n",
              "      <th>...</th>\n",
              "      <th>department_name</th>\n",
              "      <th>index_code</th>\n",
              "      <th>index_name</th>\n",
              "      <th>index_group_no</th>\n",
              "      <th>index_group_name</th>\n",
              "      <th>section_no</th>\n",
              "      <th>section_name</th>\n",
              "      <th>garment_group_no</th>\n",
              "      <th>garment_group_name</th>\n",
              "      <th>detail_desc</th>\n",
              "    </tr>\n",
              "  </thead>\n",
              "  <tbody>\n",
              "    <tr>\n",
              "      <th>71262</th>\n",
              "      <td>763285001</td>\n",
              "      <td>763285</td>\n",
              "      <td>Rana jumpsuit</td>\n",
              "      <td>267</td>\n",
              "      <td>Jumpsuit/Playsuit</td>\n",
              "      <td>Garment Full body</td>\n",
              "      <td>1010001</td>\n",
              "      <td>All over pattern</td>\n",
              "      <td>9</td>\n",
              "      <td>Black</td>\n",
              "      <td>...</td>\n",
              "      <td>Trouser</td>\n",
              "      <td>A</td>\n",
              "      <td>Ladieswear</td>\n",
              "      <td>1</td>\n",
              "      <td>Ladieswear</td>\n",
              "      <td>15</td>\n",
              "      <td>Womens Everyday Collection</td>\n",
              "      <td>1009</td>\n",
              "      <td>Trousers</td>\n",
              "      <td>Playsuit in viscose jersey with a V-neck, wrap...</td>\n",
              "    </tr>\n",
              "    <tr>\n",
              "      <th>24061</th>\n",
              "      <td>607834007</td>\n",
              "      <td>607834</td>\n",
              "      <td>BROADWAY</td>\n",
              "      <td>259</td>\n",
              "      <td>Shirt</td>\n",
              "      <td>Garment Upper body</td>\n",
              "      <td>1010004</td>\n",
              "      <td>Check</td>\n",
              "      <td>93</td>\n",
              "      <td>Dark Green</td>\n",
              "      <td>...</td>\n",
              "      <td>Tops Woven</td>\n",
              "      <td>D</td>\n",
              "      <td>Divided</td>\n",
              "      <td>2</td>\n",
              "      <td>Divided</td>\n",
              "      <td>53</td>\n",
              "      <td>Divided Collection</td>\n",
              "      <td>1010</td>\n",
              "      <td>Blouses</td>\n",
              "      <td>Long-sleeved, straight-cut shirt in an organic...</td>\n",
              "    </tr>\n",
              "    <tr>\n",
              "      <th>22863</th>\n",
              "      <td>600544002</td>\n",
              "      <td>600544</td>\n",
              "      <td>GABBE FANCY BASIC</td>\n",
              "      <td>255</td>\n",
              "      <td>T-shirt</td>\n",
              "      <td>Garment Upper body</td>\n",
              "      <td>1010016</td>\n",
              "      <td>Solid</td>\n",
              "      <td>10</td>\n",
              "      <td>White</td>\n",
              "      <td>...</td>\n",
              "      <td>Kids Boy Jersey Fancy</td>\n",
              "      <td>H</td>\n",
              "      <td>Children Sizes 92-140</td>\n",
              "      <td>4</td>\n",
              "      <td>Baby/Children</td>\n",
              "      <td>46</td>\n",
              "      <td>Kids Boy</td>\n",
              "      <td>1005</td>\n",
              "      <td>Jersey Fancy</td>\n",
              "      <td>T-shirt in slub cotton jersey with a chest poc...</td>\n",
              "    </tr>\n",
              "    <tr>\n",
              "      <th>93849</th>\n",
              "      <td>859952001</td>\n",
              "      <td>859952</td>\n",
              "      <td>LE Bosch Dress</td>\n",
              "      <td>265</td>\n",
              "      <td>Dress</td>\n",
              "      <td>Garment Full body</td>\n",
              "      <td>1010016</td>\n",
              "      <td>Solid</td>\n",
              "      <td>53</td>\n",
              "      <td>Dark Pink</td>\n",
              "      <td>...</td>\n",
              "      <td>Limited Edition</td>\n",
              "      <td>A</td>\n",
              "      <td>Ladieswear</td>\n",
              "      <td>1</td>\n",
              "      <td>Ladieswear</td>\n",
              "      <td>82</td>\n",
              "      <td>Special Collections</td>\n",
              "      <td>1023</td>\n",
              "      <td>Special Offers</td>\n",
              "      <td>Wide, straight-cut, calf-length dress in soft,...</td>\n",
              "    </tr>\n",
              "    <tr>\n",
              "      <th>73286</th>\n",
              "      <td>771348003</td>\n",
              "      <td>771348</td>\n",
              "      <td>Monday jkt fleece lining</td>\n",
              "      <td>262</td>\n",
              "      <td>Jacket</td>\n",
              "      <td>Garment Upper body</td>\n",
              "      <td>1010001</td>\n",
              "      <td>All over pattern</td>\n",
              "      <td>51</td>\n",
              "      <td>Light Pink</td>\n",
              "      <td>...</td>\n",
              "      <td>Baby Boy Outdoor</td>\n",
              "      <td>G</td>\n",
              "      <td>Baby Sizes 50-98</td>\n",
              "      <td>4</td>\n",
              "      <td>Baby/Children</td>\n",
              "      <td>41</td>\n",
              "      <td>Baby Boy</td>\n",
              "      <td>1007</td>\n",
              "      <td>Outdoor</td>\n",
              "      <td>Fleece-lined jacket in a patterned weave with ...</td>\n",
              "    </tr>\n",
              "  </tbody>\n",
              "</table>\n",
              "<p>5 rows × 25 columns</p>\n",
              "</div>\n",
              "      <button class=\"colab-df-convert\" onclick=\"convertToInteractive('df-e1194fdd-ada1-4d82-9f0d-6db9ac6a691e')\"\n",
              "              title=\"Convert this dataframe to an interactive table.\"\n",
              "              style=\"display:none;\">\n",
              "        \n",
              "  <svg xmlns=\"http://www.w3.org/2000/svg\" height=\"24px\"viewBox=\"0 0 24 24\"\n",
              "       width=\"24px\">\n",
              "    <path d=\"M0 0h24v24H0V0z\" fill=\"none\"/>\n",
              "    <path d=\"M18.56 5.44l.94 2.06.94-2.06 2.06-.94-2.06-.94-.94-2.06-.94 2.06-2.06.94zm-11 1L8.5 8.5l.94-2.06 2.06-.94-2.06-.94L8.5 2.5l-.94 2.06-2.06.94zm10 10l.94 2.06.94-2.06 2.06-.94-2.06-.94-.94-2.06-.94 2.06-2.06.94z\"/><path d=\"M17.41 7.96l-1.37-1.37c-.4-.4-.92-.59-1.43-.59-.52 0-1.04.2-1.43.59L10.3 9.45l-7.72 7.72c-.78.78-.78 2.05 0 2.83L4 21.41c.39.39.9.59 1.41.59.51 0 1.02-.2 1.41-.59l7.78-7.78 2.81-2.81c.8-.78.8-2.07 0-2.86zM5.41 20L4 18.59l7.72-7.72 1.47 1.35L5.41 20z\"/>\n",
              "  </svg>\n",
              "      </button>\n",
              "      \n",
              "  <style>\n",
              "    .colab-df-container {\n",
              "      display:flex;\n",
              "      flex-wrap:wrap;\n",
              "      gap: 12px;\n",
              "    }\n",
              "\n",
              "    .colab-df-convert {\n",
              "      background-color: #E8F0FE;\n",
              "      border: none;\n",
              "      border-radius: 50%;\n",
              "      cursor: pointer;\n",
              "      display: none;\n",
              "      fill: #1967D2;\n",
              "      height: 32px;\n",
              "      padding: 0 0 0 0;\n",
              "      width: 32px;\n",
              "    }\n",
              "\n",
              "    .colab-df-convert:hover {\n",
              "      background-color: #E2EBFA;\n",
              "      box-shadow: 0px 1px 2px rgba(60, 64, 67, 0.3), 0px 1px 3px 1px rgba(60, 64, 67, 0.15);\n",
              "      fill: #174EA6;\n",
              "    }\n",
              "\n",
              "    [theme=dark] .colab-df-convert {\n",
              "      background-color: #3B4455;\n",
              "      fill: #D2E3FC;\n",
              "    }\n",
              "\n",
              "    [theme=dark] .colab-df-convert:hover {\n",
              "      background-color: #434B5C;\n",
              "      box-shadow: 0px 1px 3px 1px rgba(0, 0, 0, 0.15);\n",
              "      filter: drop-shadow(0px 1px 2px rgba(0, 0, 0, 0.3));\n",
              "      fill: #FFFFFF;\n",
              "    }\n",
              "  </style>\n",
              "\n",
              "      <script>\n",
              "        const buttonEl =\n",
              "          document.querySelector('#df-e1194fdd-ada1-4d82-9f0d-6db9ac6a691e button.colab-df-convert');\n",
              "        buttonEl.style.display =\n",
              "          google.colab.kernel.accessAllowed ? 'block' : 'none';\n",
              "\n",
              "        async function convertToInteractive(key) {\n",
              "          const element = document.querySelector('#df-e1194fdd-ada1-4d82-9f0d-6db9ac6a691e');\n",
              "          const dataTable =\n",
              "            await google.colab.kernel.invokeFunction('convertToInteractive',\n",
              "                                                     [key], {});\n",
              "          if (!dataTable) return;\n",
              "\n",
              "          const docLinkHtml = 'Like what you see? Visit the ' +\n",
              "            '<a target=\"_blank\" href=https://colab.research.google.com/notebooks/data_table.ipynb>data table notebook</a>'\n",
              "            + ' to learn more about interactive tables.';\n",
              "          element.innerHTML = '';\n",
              "          dataTable['output_type'] = 'display_data';\n",
              "          await google.colab.output.renderOutput(dataTable, element);\n",
              "          const docLink = document.createElement('div');\n",
              "          docLink.innerHTML = docLinkHtml;\n",
              "          element.appendChild(docLink);\n",
              "        }\n",
              "      </script>\n",
              "    </div>\n",
              "  </div>\n",
              "  "
            ]
          },
          "metadata": {},
          "execution_count": 6
        }
      ]
    },
    {
      "cell_type": "code",
      "source": [
        "df.columns"
      ],
      "metadata": {
        "colab": {
          "base_uri": "https://localhost:8080/"
        },
        "id": "KXcuBnScR-Vc",
        "outputId": "6db2c78d-bd11-4000-c027-a51329d4078e"
      },
      "execution_count": 7,
      "outputs": [
        {
          "output_type": "execute_result",
          "data": {
            "text/plain": [
              "Index(['article_id', 'product_code', 'prod_name', 'product_type_no',\n",
              "       'product_type_name', 'product_group_name', 'graphical_appearance_no',\n",
              "       'graphical_appearance_name', 'colour_group_code', 'colour_group_name',\n",
              "       'perceived_colour_value_id', 'perceived_colour_value_name',\n",
              "       'perceived_colour_master_id', 'perceived_colour_master_name',\n",
              "       'department_no', 'department_name', 'index_code', 'index_name',\n",
              "       'index_group_no', 'index_group_name', 'section_no', 'section_name',\n",
              "       'garment_group_no', 'garment_group_name', 'detail_desc'],\n",
              "      dtype='object')"
            ]
          },
          "metadata": {},
          "execution_count": 7
        }
      ]
    },
    {
      "cell_type": "code",
      "source": [
        "df['product_group_name'].unique()"
      ],
      "metadata": {
        "colab": {
          "base_uri": "https://localhost:8080/"
        },
        "id": "qmpZfpIG4v5Y",
        "outputId": "8bd52c46-1f05-490e-afec-b9380945e76a"
      },
      "execution_count": 8,
      "outputs": [
        {
          "output_type": "execute_result",
          "data": {
            "text/plain": [
              "array(['Garment Upper body', 'Underwear', 'Socks & Tights',\n",
              "       'Garment Lower body', 'Accessories', 'Items', 'Nightwear',\n",
              "       'Unknown', 'Underwear/nightwear', 'Shoes', 'Swimwear',\n",
              "       'Garment Full body', 'Cosmetic', 'Interior textile', 'Bags',\n",
              "       'Furniture', 'Garment and Shoe care', 'Fun', 'Stationery'],\n",
              "      dtype=object)"
            ]
          },
          "metadata": {},
          "execution_count": 8
        }
      ]
    },
    {
      "cell_type": "code",
      "source": [
        "df['perceived_colour_master_name'].unique()"
      ],
      "metadata": {
        "colab": {
          "base_uri": "https://localhost:8080/"
        },
        "id": "Ny03p88L2TgN",
        "outputId": "35a37e38-700d-45db-e750-6981f8810305"
      },
      "execution_count": 9,
      "outputs": [
        {
          "output_type": "execute_result",
          "data": {
            "text/plain": [
              "array(['Black', 'White', 'Beige', 'Grey', 'Blue', 'Pink', 'Lilac Purple',\n",
              "       'Red', 'Mole', 'Orange', 'Metal', 'Brown', 'Turquoise', 'Yellow',\n",
              "       'Khaki green', 'Green', 'undefined', 'Unknown', 'Yellowish Green',\n",
              "       'Bluish Green'], dtype=object)"
            ]
          },
          "metadata": {},
          "execution_count": 9
        }
      ]
    },
    {
      "cell_type": "code",
      "source": [
        "df['graphical_appearance_name'].unique()"
      ],
      "metadata": {
        "colab": {
          "base_uri": "https://localhost:8080/"
        },
        "id": "WcwpNNM22sX7",
        "outputId": "d5dbcc2f-fa64-4d59-dd23-f81ca7aace17"
      },
      "execution_count": 10,
      "outputs": [
        {
          "output_type": "execute_result",
          "data": {
            "text/plain": [
              "array(['Solid', 'Stripe', 'All over pattern', 'Melange', 'Transparent',\n",
              "       'Metallic', 'Application/3D', 'Denim', 'Colour blocking', 'Dot',\n",
              "       'Other structure', 'Contrast', 'Treatment', 'Check', 'Chambray',\n",
              "       'Front print', 'Glittering/Metallic', 'Mixed solid/pattern',\n",
              "       'Placement print', 'Other pattern', 'Neps', 'Embroidery', 'Lace',\n",
              "       'Jacquard', 'Unknown', 'Argyle', 'Slub', 'Mesh', 'Sequin',\n",
              "       'Hologram'], dtype=object)"
            ]
          },
          "metadata": {},
          "execution_count": 10
        }
      ]
    },
    {
      "cell_type": "code",
      "source": [
        "df['index_group_name'].unique()"
      ],
      "metadata": {
        "colab": {
          "base_uri": "https://localhost:8080/"
        },
        "id": "w7nec6OXR5Tg",
        "outputId": "bb5647c4-ecce-4590-88c7-e0d41c393e34"
      },
      "execution_count": 11,
      "outputs": [
        {
          "output_type": "execute_result",
          "data": {
            "text/plain": [
              "array(['Ladieswear', 'Baby/Children', 'Menswear', 'Sport', 'Divided'],\n",
              "      dtype=object)"
            ]
          },
          "metadata": {},
          "execution_count": 11
        }
      ]
    },
    {
      "cell_type": "markdown",
      "source": [
        "Relevant categories"
      ],
      "metadata": {
        "id": "Nw_s8CzO8HwB"
      }
    },
    {
      "cell_type": "code",
      "source": [
        "selected_categories = ['Garment Upper body', 'Underwear', 'Socks & Tights', 'Garment Lower body', 'Shoes', 'Garment Full body', 'Bags']\n",
        "df = df[df['product_group_name'].isin(selected_categories)]"
      ],
      "metadata": {
        "id": "34uW2rf95chd"
      },
      "execution_count": 12,
      "outputs": []
    },
    {
      "cell_type": "code",
      "source": [
        "df['product_group_name'].unique()"
      ],
      "metadata": {
        "colab": {
          "base_uri": "https://localhost:8080/"
        },
        "id": "6C5H8ojBN772",
        "outputId": "30c12d3d-5fba-4100-d6f0-508554505d61"
      },
      "execution_count": 13,
      "outputs": [
        {
          "output_type": "execute_result",
          "data": {
            "text/plain": [
              "array(['Garment Upper body', 'Underwear', 'Socks & Tights',\n",
              "       'Garment Lower body', 'Shoes', 'Garment Full body', 'Bags'],\n",
              "      dtype=object)"
            ]
          },
          "metadata": {},
          "execution_count": 13
        }
      ]
    },
    {
      "cell_type": "code",
      "source": [
        "selected_categories = ['undefined', 'Unknown']\n",
        "df = df[~df['perceived_colour_master_name'].isin(selected_categories)]"
      ],
      "metadata": {
        "id": "LeHCdqaUMUKk"
      },
      "execution_count": 14,
      "outputs": []
    },
    {
      "cell_type": "code",
      "source": [
        "df['perceived_colour_master_name'] = df['perceived_colour_master_name'].replace(['Khaki green', 'Yellowish Green', 'Bluish Green', 'Lilac Purple'], ['Green', 'Green', 'Green', 'Purple'])"
      ],
      "metadata": {
        "colab": {
          "base_uri": "https://localhost:8080/"
        },
        "id": "aNItnxWPPhO0",
        "outputId": "88940def-61b8-4eac-a722-68beefa2a0b9"
      },
      "execution_count": 15,
      "outputs": [
        {
          "output_type": "stream",
          "name": "stderr",
          "text": [
            "<ipython-input-15-c4bef705f818>:1: SettingWithCopyWarning: \n",
            "A value is trying to be set on a copy of a slice from a DataFrame.\n",
            "Try using .loc[row_indexer,col_indexer] = value instead\n",
            "\n",
            "See the caveats in the documentation: https://pandas.pydata.org/pandas-docs/stable/user_guide/indexing.html#returning-a-view-versus-a-copy\n",
            "  df['perceived_colour_master_name'] = df['perceived_colour_master_name'].replace(['Khaki green', 'Yellowish Green', 'Bluish Green', 'Lilac Purple'], ['Green', 'Green', 'Green', 'Purple'])\n"
          ]
        }
      ]
    },
    {
      "cell_type": "code",
      "source": [
        "df['perceived_colour_master_name'].unique()"
      ],
      "metadata": {
        "colab": {
          "base_uri": "https://localhost:8080/"
        },
        "id": "8CFMTbfkPyaR",
        "outputId": "02c7f415-d90a-4e72-9dd9-3e73ccddc7af"
      },
      "execution_count": 16,
      "outputs": [
        {
          "output_type": "execute_result",
          "data": {
            "text/plain": [
              "array(['Black', 'White', 'Beige', 'Grey', 'Blue', 'Pink', 'Purple', 'Red',\n",
              "       'Brown', 'Green', 'Yellow', 'Orange', 'Turquoise', 'Mole', 'Metal'],\n",
              "      dtype=object)"
            ]
          },
          "metadata": {},
          "execution_count": 16
        }
      ]
    },
    {
      "cell_type": "code",
      "source": [
        "selected_categories = ['Other pattern', 'Unknown', 'Other structure']\n",
        "df = df[~df['graphical_appearance_name'].isin(selected_categories)]"
      ],
      "metadata": {
        "id": "_BGiCMH8P9lv"
      },
      "execution_count": 17,
      "outputs": []
    },
    {
      "cell_type": "code",
      "source": [
        "df['graphical_appearance_name'].unique()"
      ],
      "metadata": {
        "colab": {
          "base_uri": "https://localhost:8080/"
        },
        "id": "8Tc0bbgiQOHp",
        "outputId": "80e7022e-c81c-4998-fe0c-9ddcacf0e60b"
      },
      "execution_count": 18,
      "outputs": [
        {
          "output_type": "execute_result",
          "data": {
            "text/plain": [
              "array(['Solid', 'Stripe', 'All over pattern', 'Melange', 'Denim',\n",
              "       'Colour blocking', 'Dot', 'Contrast', 'Treatment', 'Check',\n",
              "       'Mixed solid/pattern', 'Placement print', 'Glittering/Metallic',\n",
              "       'Neps', 'Embroidery', 'Application/3D', 'Chambray', 'Lace',\n",
              "       'Front print', 'Transparent', 'Jacquard', 'Argyle', 'Slub',\n",
              "       'Metallic', 'Mesh', 'Sequin', 'Hologram'], dtype=object)"
            ]
          },
          "metadata": {},
          "execution_count": 18
        }
      ]
    },
    {
      "cell_type": "code",
      "source": [
        "selected_categories = ['Ladieswear', 'Menswear', 'Divided']\n",
        "df = df[df['index_group_name'].isin(selected_categories)]"
      ],
      "metadata": {
        "id": "rKm_5W0xSAEy"
      },
      "execution_count": 19,
      "outputs": []
    },
    {
      "cell_type": "code",
      "source": [
        "df.shape"
      ],
      "metadata": {
        "colab": {
          "base_uri": "https://localhost:8080/"
        },
        "id": "-Q5DlQs_5oSB",
        "outputId": "9f20c443-1626-45a8-e150-8959d9e510f2"
      },
      "execution_count": 20,
      "outputs": [
        {
          "output_type": "execute_result",
          "data": {
            "text/plain": [
              "(54933, 25)"
            ]
          },
          "metadata": {},
          "execution_count": 20
        }
      ]
    },
    {
      "cell_type": "code",
      "source": [
        "df['subfolder'] = '0' + df['article_id'].astype(str).str[:2]\n",
        "df['image_path'] = 'ds_project_dataset/images/' + df['subfolder'].str.strip() + '/0' + df['article_id'].astype(str) + '.jpg'"
      ],
      "metadata": {
        "id": "ArlNe67UUVlr"
      },
      "execution_count": 21,
      "outputs": []
    },
    {
      "cell_type": "code",
      "source": [
        "df['image_path']"
      ],
      "metadata": {
        "colab": {
          "base_uri": "https://localhost:8080/"
        },
        "id": "_hKaGsD0WsQq",
        "outputId": "91596f2a-af4a-4383-abfc-0cd11e94fb00"
      },
      "execution_count": 22,
      "outputs": [
        {
          "output_type": "execute_result",
          "data": {
            "text/plain": [
              "0         ds_project_dataset/images/010/0108775015.jpg\n",
              "1         ds_project_dataset/images/010/0108775044.jpg\n",
              "2         ds_project_dataset/images/010/0108775051.jpg\n",
              "3         ds_project_dataset/images/011/0110065001.jpg\n",
              "4         ds_project_dataset/images/011/0110065002.jpg\n",
              "                              ...                     \n",
              "105536    ds_project_dataset/images/095/0952938001.jpg\n",
              "105537    ds_project_dataset/images/095/0953450001.jpg\n",
              "105538    ds_project_dataset/images/095/0953763001.jpg\n",
              "105539    ds_project_dataset/images/095/0956217002.jpg\n",
              "105541    ds_project_dataset/images/095/0959461001.jpg\n",
              "Name: image_path, Length: 54933, dtype: object"
            ]
          },
          "metadata": {},
          "execution_count": 22
        }
      ]
    },
    {
      "cell_type": "code",
      "source": [
        "df['image_path'][0]"
      ],
      "metadata": {
        "colab": {
          "base_uri": "https://localhost:8080/",
          "height": 36
        },
        "id": "_C0vqR5rfgfl",
        "outputId": "1d60bf39-ef77-40f1-aa89-cdd80dd1e860"
      },
      "execution_count": 23,
      "outputs": [
        {
          "output_type": "execute_result",
          "data": {
            "text/plain": [
              "'ds_project_dataset/images/010/0108775015.jpg'"
            ],
            "application/vnd.google.colaboratory.intrinsic+json": {
              "type": "string"
            }
          },
          "metadata": {},
          "execution_count": 23
        }
      ]
    },
    {
      "cell_type": "code",
      "source": [
        "img = cv2.imread(df['image_path'][0])\n",
        "plt.imshow(img)\n",
        "plt.show()"
      ],
      "metadata": {
        "colab": {
          "base_uri": "https://localhost:8080/",
          "height": 269
        },
        "id": "Dtmi3rS9fe9b",
        "outputId": "47838fc9-655c-451d-8641-f4cf9921d7c8"
      },
      "execution_count": 24,
      "outputs": [
        {
          "output_type": "display_data",
          "data": {
            "text/plain": [
              "<Figure size 432x288 with 1 Axes>"
            ],
            "image/png": "[encoded data removed]"
          },
          "metadata": {
            "needs_background": "light"
          }
        }
      ]
    },
    {
      "cell_type": "markdown",
      "source": [
        "For the training first trying to do the model on 10000 elements from the dataset as we have 90000 elements and it is already taking quite a long time."
      ],
      "metadata": {
        "id": "BhF8LW0D8R2Y"
      }
    },
    {
      "cell_type": "code",
      "source": [
        "valid_images = []\n",
        "for index, row in tqdm(df[:11000].iterrows(), total=len(df[:11000])):\n",
        "    if cv2.imread(row['image_path']) is not None:\n",
        "        valid_images.append(row)\n",
        "\n",
        "df_valid_images = pd.DataFrame(valid_images)"
      ],
      "metadata": {
        "colab": {
          "base_uri": "https://localhost:8080/"
        },
        "id": "iXMKHs7E-_VI",
        "outputId": "353eb1ae-8e61-4bc6-c960-c981764bb24a"
      },
      "execution_count": 25,
      "outputs": [
        {
          "output_type": "stream",
          "name": "stderr",
          "text": [
            "100%|██████████| 11000/11000 [06:31<00:00, 28.12it/s]\n"
          ]
        }
      ]
    },
    {
      "cell_type": "code",
      "source": [
        "df_valid_images.shape"
      ],
      "metadata": {
        "colab": {
          "base_uri": "https://localhost:8080/"
        },
        "id": "_wYjN91L557L",
        "outputId": "ff222a4b-f12a-403e-ab39-49afa2849e5a"
      },
      "execution_count": 44,
      "outputs": [
        {
          "output_type": "execute_result",
          "data": {
            "text/plain": [
              "(10897, 27)"
            ]
          },
          "metadata": {},
          "execution_count": 44
        }
      ]
    },
    {
      "cell_type": "code",
      "source": [
        "images = load_images_parallel(df_valid_images['image_path'].values, n_jobs=4, resize_shape=(img_size, img_size))"
      ],
      "metadata": {
        "id": "BSH3bsoNiN_h"
      },
      "execution_count": 27,
      "outputs": []
    },
    {
      "cell_type": "markdown",
      "source": [
        "Encoding for the model"
      ],
      "metadata": {
        "id": "h7FyMvk78jUV"
      }
    },
    {
      "cell_type": "code",
      "source": [
        "new_df = pd.DataFrame(df_valid_images['article_id'])"
      ],
      "metadata": {
        "id": "cRbPgLXAxCTV"
      },
      "execution_count": 28,
      "outputs": []
    },
    {
      "cell_type": "code",
      "source": [
        "new_df"
      ],
      "metadata": {
        "colab": {
          "base_uri": "https://localhost:8080/",
          "height": 423
        },
        "id": "TsNd8nrKxMR5",
        "outputId": "ab968142-57f5-4c44-8840-157619a0d5b0"
      },
      "execution_count": 29,
      "outputs": [
        {
          "output_type": "execute_result",
          "data": {
            "text/plain": [
              "       article_id\n",
              "0       108775015\n",
              "1       108775044\n",
              "2       108775051\n",
              "3       110065001\n",
              "4       110065002\n",
              "...           ...\n",
              "20393   588689014\n",
              "20396   588714005\n",
              "20397   588748001\n",
              "20398   588754002\n",
              "20399   588754003\n",
              "\n",
              "[10897 rows x 1 columns]"
            ],
            "text/html": [
              "\n",
              "  <div id=\"df-882115a6-a5a6-4bed-b5d1-e68a0697bc68\">\n",
              "    <div class=\"colab-df-container\">\n",
              "      <div>\n",
              "<style scoped>\n",
              "    .dataframe tbody tr th:only-of-type {\n",
              "        vertical-align: middle;\n",
              "    }\n",
              "\n",
              "    .dataframe tbody tr th {\n",
              "        vertical-align: top;\n",
              "    }\n",
              "\n",
              "    .dataframe thead th {\n",
              "        text-align: right;\n",
              "    }\n",
              "</style>\n",
              "<table border=\"1\" class=\"dataframe\">\n",
              "  <thead>\n",
              "    <tr style=\"text-align: right;\">\n",
              "      <th></th>\n",
              "      <th>article_id</th>\n",
              "    </tr>\n",
              "  </thead>\n",
              "  <tbody>\n",
              "    <tr>\n",
              "      <th>0</th>\n",
              "      <td>108775015</td>\n",
              "    </tr>\n",
              "    <tr>\n",
              "      <th>1</th>\n",
              "      <td>108775044</td>\n",
              "    </tr>\n",
              "    <tr>\n",
              "      <th>2</th>\n",
              "      <td>108775051</td>\n",
              "    </tr>\n",
              "    <tr>\n",
              "      <th>3</th>\n",
              "      <td>110065001</td>\n",
              "    </tr>\n",
              "    <tr>\n",
              "      <th>4</th>\n",
              "      <td>110065002</td>\n",
              "    </tr>\n",
              "    <tr>\n",
              "      <th>...</th>\n",
              "      <td>...</td>\n",
              "    </tr>\n",
              "    <tr>\n",
              "      <th>20393</th>\n",
              "      <td>588689014</td>\n",
              "    </tr>\n",
              "    <tr>\n",
              "      <th>20396</th>\n",
              "      <td>588714005</td>\n",
              "    </tr>\n",
              "    <tr>\n",
              "      <th>20397</th>\n",
              "      <td>588748001</td>\n",
              "    </tr>\n",
              "    <tr>\n",
              "      <th>20398</th>\n",
              "      <td>588754002</td>\n",
              "    </tr>\n",
              "    <tr>\n",
              "      <th>20399</th>\n",
              "      <td>588754003</td>\n",
              "    </tr>\n",
              "  </tbody>\n",
              "</table>\n",
              "<p>10897 rows × 1 columns</p>\n",
              "</div>\n",
              "      <button class=\"colab-df-convert\" onclick=\"convertToInteractive('df-882115a6-a5a6-4bed-b5d1-e68a0697bc68')\"\n",
              "              title=\"Convert this dataframe to an interactive table.\"\n",
              "              style=\"display:none;\">\n",
              "        \n",
              "  <svg xmlns=\"http://www.w3.org/2000/svg\" height=\"24px\"viewBox=\"0 0 24 24\"\n",
              "       width=\"24px\">\n",
              "    <path d=\"M0 0h24v24H0V0z\" fill=\"none\"/>\n",
              "    <path d=\"M18.56 5.44l.94 2.06.94-2.06 2.06-.94-2.06-.94-.94-2.06-.94 2.06-2.06.94zm-11 1L8.5 8.5l.94-2.06 2.06-.94-2.06-.94L8.5 2.5l-.94 2.06-2.06.94zm10 10l.94 2.06.94-2.06 2.06-.94-2.06-.94-.94-2.06-.94 2.06-2.06.94z\"/><path d=\"M17.41 7.96l-1.37-1.37c-.4-.4-.92-.59-1.43-.59-.52 0-1.04.2-1.43.59L10.3 9.45l-7.72 7.72c-.78.78-.78 2.05 0 2.83L4 21.41c.39.39.9.59 1.41.59.51 0 1.02-.2 1.41-.59l7.78-7.78 2.81-2.81c.8-.78.8-2.07 0-2.86zM5.41 20L4 18.59l7.72-7.72 1.47 1.35L5.41 20z\"/>\n",
              "  </svg>\n",
              "      </button>\n",
              "      \n",
              "  <style>\n",
              "    .colab-df-container {\n",
              "      display:flex;\n",
              "      flex-wrap:wrap;\n",
              "      gap: 12px;\n",
              "    }\n",
              "\n",
              "    .colab-df-convert {\n",
              "      background-color: #E8F0FE;\n",
              "      border: none;\n",
              "      border-radius: 50%;\n",
              "      cursor: pointer;\n",
              "      display: none;\n",
              "      fill: #1967D2;\n",
              "      height: 32px;\n",
              "      padding: 0 0 0 0;\n",
              "      width: 32px;\n",
              "    }\n",
              "\n",
              "    .colab-df-convert:hover {\n",
              "      background-color: #E2EBFA;\n",
              "      box-shadow: 0px 1px 2px rgba(60, 64, 67, 0.3), 0px 1px 3px 1px rgba(60, 64, 67, 0.15);\n",
              "      fill: #174EA6;\n",
              "    }\n",
              "\n",
              "    [theme=dark] .colab-df-convert {\n",
              "      background-color: #3B4455;\n",
              "      fill: #D2E3FC;\n",
              "    }\n",
              "\n",
              "    [theme=dark] .colab-df-convert:hover {\n",
              "      background-color: #434B5C;\n",
              "      box-shadow: 0px 1px 3px 1px rgba(0, 0, 0, 0.15);\n",
              "      filter: drop-shadow(0px 1px 2px rgba(0, 0, 0, 0.3));\n",
              "      fill: #FFFFFF;\n",
              "    }\n",
              "  </style>\n",
              "\n",
              "      <script>\n",
              "        const buttonEl =\n",
              "          document.querySelector('#df-882115a6-a5a6-4bed-b5d1-e68a0697bc68 button.colab-df-convert');\n",
              "        buttonEl.style.display =\n",
              "          google.colab.kernel.accessAllowed ? 'block' : 'none';\n",
              "\n",
              "        async function convertToInteractive(key) {\n",
              "          const element = document.querySelector('#df-882115a6-a5a6-4bed-b5d1-e68a0697bc68');\n",
              "          const dataTable =\n",
              "            await google.colab.kernel.invokeFunction('convertToInteractive',\n",
              "                                                     [key], {});\n",
              "          if (!dataTable) return;\n",
              "\n",
              "          const docLinkHtml = 'Like what you see? Visit the ' +\n",
              "            '<a target=\"_blank\" href=https://colab.research.google.com/notebooks/data_table.ipynb>data table notebook</a>'\n",
              "            + ' to learn more about interactive tables.';\n",
              "          element.innerHTML = '';\n",
              "          dataTable['output_type'] = 'display_data';\n",
              "          await google.colab.output.renderOutput(dataTable, element);\n",
              "          const docLink = document.createElement('div');\n",
              "          docLink.innerHTML = docLinkHtml;\n",
              "          element.appendChild(docLink);\n",
              "        }\n",
              "      </script>\n",
              "    </div>\n",
              "  </div>\n",
              "  "
            ]
          },
          "metadata": {},
          "execution_count": 29
        }
      ]
    },
    {
      "cell_type": "code",
      "source": [
        "new_df = new_df.join(pd.get_dummies(df_valid_images['perceived_colour_master_name'], prefix='colour'))\n",
        "new_df = new_df.join(pd.get_dummies(df_valid_images['product_group_name'], prefix='product'))\n",
        "new_df = new_df.join(pd.get_dummies(df_valid_images['graphical_appearance_name'], prefix='pattern'))\n",
        "new_df = new_df.join(pd.get_dummies(df_valid_images['index_group_name'], prefix='index'))"
      ],
      "metadata": {
        "id": "MCk1unMjUe8t"
      },
      "execution_count": 30,
      "outputs": []
    },
    {
      "cell_type": "code",
      "source": [
        "new_df.sample(5)"
      ],
      "metadata": {
        "colab": {
          "base_uri": "https://localhost:8080/",
          "height": 317
        },
        "id": "48fei3x7uL9a",
        "outputId": "03df57a0-d240-48ef-8946-8734193c1f9a"
      },
      "execution_count": 31,
      "outputs": [
        {
          "output_type": "execute_result",
          "data": {
            "text/plain": [
              "       article_id  colour_Beige  colour_Black  colour_Blue  colour_Brown  \\\n",
              "2651    420396005             0             0            0             0   \n",
              "5369    495030002             0             1            0             0   \n",
              "12369   552866002             0             0            0             0   \n",
              "9283    532098001             0             0            0             0   \n",
              "10650   542413002             0             1            0             0   \n",
              "\n",
              "       colour_Green  colour_Grey  colour_Metal  colour_Mole  colour_Orange  \\\n",
              "2651              0            0             0            0              0   \n",
              "5369              0            0             0            0              0   \n",
              "12369             0            1             0            0              0   \n",
              "9283              0            0             0            0              0   \n",
              "10650             0            0             0            0              0   \n",
              "\n",
              "       ...  pattern_Placement print  pattern_Sequin  pattern_Slub  \\\n",
              "2651   ...                        0               0             0   \n",
              "5369   ...                        0               0             0   \n",
              "12369  ...                        0               0             0   \n",
              "9283   ...                        0               0             0   \n",
              "10650  ...                        0               0             0   \n",
              "\n",
              "       pattern_Solid  pattern_Stripe  pattern_Transparent  pattern_Treatment  \\\n",
              "2651               0               0                    0                  0   \n",
              "5369               1               0                    0                  0   \n",
              "12369              0               0                    0                  0   \n",
              "9283               1               0                    0                  0   \n",
              "10650              1               0                    0                  0   \n",
              "\n",
              "       index_Divided  index_Ladieswear  index_Menswear  \n",
              "2651               0                 1               0  \n",
              "5369               0                 0               1  \n",
              "12369              0                 1               0  \n",
              "9283               0                 0               1  \n",
              "10650              0                 1               0  \n",
              "\n",
              "[5 rows x 51 columns]"
            ],
            "text/html": [
              "\n",
              "  <div id=\"df-368164c8-e058-43ed-8622-7efc375ede1a\">\n",
              "    <div class=\"colab-df-container\">\n",
              "      <div>\n",
              "<style scoped>\n",
              "    .dataframe tbody tr th:only-of-type {\n",
              "        vertical-align: middle;\n",
              "    }\n",
              "\n",
              "    .dataframe tbody tr th {\n",
              "        vertical-align: top;\n",
              "    }\n",
              "\n",
              "    .dataframe thead th {\n",
              "        text-align: right;\n",
              "    }\n",
              "</style>\n",
              "<table border=\"1\" class=\"dataframe\">\n",
              "  <thead>\n",
              "    <tr style=\"text-align: right;\">\n",
              "      <th></th>\n",
              "      <th>article_id</th>\n",
              "      <th>colour_Beige</th>\n",
              "      <th>colour_Black</th>\n",
              "      <th>colour_Blue</th>\n",
              "      <th>colour_Brown</th>\n",
              "      <th>colour_Green</th>\n",
              "      <th>colour_Grey</th>\n",
              "      <th>colour_Metal</th>\n",
              "      <th>colour_Mole</th>\n",
              "      <th>colour_Orange</th>\n",
              "      <th>...</th>\n",
              "      <th>pattern_Placement print</th>\n",
              "      <th>pattern_Sequin</th>\n",
              "      <th>pattern_Slub</th>\n",
              "      <th>pattern_Solid</th>\n",
              "      <th>pattern_Stripe</th>\n",
              "      <th>pattern_Transparent</th>\n",
              "      <th>pattern_Treatment</th>\n",
              "      <th>index_Divided</th>\n",
              "      <th>index_Ladieswear</th>\n",
              "      <th>index_Menswear</th>\n",
              "    </tr>\n",
              "  </thead>\n",
              "  <tbody>\n",
              "    <tr>\n",
              "      <th>2651</th>\n",
              "      <td>420396005</td>\n",
              "      <td>0</td>\n",
              "      <td>0</td>\n",
              "      <td>0</td>\n",
              "      <td>0</td>\n",
              "      <td>0</td>\n",
              "      <td>0</td>\n",
              "      <td>0</td>\n",
              "      <td>0</td>\n",
              "      <td>0</td>\n",
              "      <td>...</td>\n",
              "      <td>0</td>\n",
              "      <td>0</td>\n",
              "      <td>0</td>\n",
              "      <td>0</td>\n",
              "      <td>0</td>\n",
              "      <td>0</td>\n",
              "      <td>0</td>\n",
              "      <td>0</td>\n",
              "      <td>1</td>\n",
              "      <td>0</td>\n",
              "    </tr>\n",
              "    <tr>\n",
              "      <th>5369</th>\n",
              "      <td>495030002</td>\n",
              "      <td>0</td>\n",
              "      <td>1</td>\n",
              "      <td>0</td>\n",
              "      <td>0</td>\n",
              "      <td>0</td>\n",
              "      <td>0</td>\n",
              "      <td>0</td>\n",
              "      <td>0</td>\n",
              "      <td>0</td>\n",
              "      <td>...</td>\n",
              "      <td>0</td>\n",
              "      <td>0</td>\n",
              "      <td>0</td>\n",
              "      <td>1</td>\n",
              "      <td>0</td>\n",
              "      <td>0</td>\n",
              "      <td>0</td>\n",
              "      <td>0</td>\n",
              "      <td>0</td>\n",
              "      <td>1</td>\n",
              "    </tr>\n",
              "    <tr>\n",
              "      <th>12369</th>\n",
              "      <td>552866002</td>\n",
              "      <td>0</td>\n",
              "      <td>0</td>\n",
              "      <td>0</td>\n",
              "      <td>0</td>\n",
              "      <td>0</td>\n",
              "      <td>1</td>\n",
              "      <td>0</td>\n",
              "      <td>0</td>\n",
              "      <td>0</td>\n",
              "      <td>...</td>\n",
              "      <td>0</td>\n",
              "      <td>0</td>\n",
              "      <td>0</td>\n",
              "      <td>0</td>\n",
              "      <td>0</td>\n",
              "      <td>0</td>\n",
              "      <td>0</td>\n",
              "      <td>0</td>\n",
              "      <td>1</td>\n",
              "      <td>0</td>\n",
              "    </tr>\n",
              "    <tr>\n",
              "      <th>9283</th>\n",
              "      <td>532098001</td>\n",
              "      <td>0</td>\n",
              "      <td>0</td>\n",
              "      <td>0</td>\n",
              "      <td>0</td>\n",
              "      <td>0</td>\n",
              "      <td>0</td>\n",
              "      <td>0</td>\n",
              "      <td>0</td>\n",
              "      <td>0</td>\n",
              "      <td>...</td>\n",
              "      <td>0</td>\n",
              "      <td>0</td>\n",
              "      <td>0</td>\n",
              "      <td>1</td>\n",
              "      <td>0</td>\n",
              "      <td>0</td>\n",
              "      <td>0</td>\n",
              "      <td>0</td>\n",
              "      <td>0</td>\n",
              "      <td>1</td>\n",
              "    </tr>\n",
              "    <tr>\n",
              "      <th>10650</th>\n",
              "      <td>542413002</td>\n",
              "      <td>0</td>\n",
              "      <td>1</td>\n",
              "      <td>0</td>\n",
              "      <td>0</td>\n",
              "      <td>0</td>\n",
              "      <td>0</td>\n",
              "      <td>0</td>\n",
              "      <td>0</td>\n",
              "      <td>0</td>\n",
              "      <td>...</td>\n",
              "      <td>0</td>\n",
              "      <td>0</td>\n",
              "      <td>0</td>\n",
              "      <td>1</td>\n",
              "      <td>0</td>\n",
              "      <td>0</td>\n",
              "      <td>0</td>\n",
              "      <td>0</td>\n",
              "      <td>1</td>\n",
              "      <td>0</td>\n",
              "    </tr>\n",
              "  </tbody>\n",
              "</table>\n",
              "<p>5 rows × 51 columns</p>\n",
              "</div>\n",
              "      <button class=\"colab-df-convert\" onclick=\"convertToInteractive('df-368164c8-e058-43ed-8622-7efc375ede1a')\"\n",
              "              title=\"Convert this dataframe to an interactive table.\"\n",
              "              style=\"display:none;\">\n",
              "        \n",
              "  <svg xmlns=\"http://www.w3.org/2000/svg\" height=\"24px\"viewBox=\"0 0 24 24\"\n",
              "       width=\"24px\">\n",
              "    <path d=\"M0 0h24v24H0V0z\" fill=\"none\"/>\n",
              "    <path d=\"M18.56 5.44l.94 2.06.94-2.06 2.06-.94-2.06-.94-.94-2.06-.94 2.06-2.06.94zm-11 1L8.5 8.5l.94-2.06 2.06-.94-2.06-.94L8.5 2.5l-.94 2.06-2.06.94zm10 10l.94 2.06.94-2.06 2.06-.94-2.06-.94-.94-2.06-.94 2.06-2.06.94z\"/><path d=\"M17.41 7.96l-1.37-1.37c-.4-.4-.92-.59-1.43-.59-.52 0-1.04.2-1.43.59L10.3 9.45l-7.72 7.72c-.78.78-.78 2.05 0 2.83L4 21.41c.39.39.9.59 1.41.59.51 0 1.02-.2 1.41-.59l7.78-7.78 2.81-2.81c.8-.78.8-2.07 0-2.86zM5.41 20L4 18.59l7.72-7.72 1.47 1.35L5.41 20z\"/>\n",
              "  </svg>\n",
              "      </button>\n",
              "      \n",
              "  <style>\n",
              "    .colab-df-container {\n",
              "      display:flex;\n",
              "      flex-wrap:wrap;\n",
              "      gap: 12px;\n",
              "    }\n",
              "\n",
              "    .colab-df-convert {\n",
              "      background-color: #E8F0FE;\n",
              "      border: none;\n",
              "      border-radius: 50%;\n",
              "      cursor: pointer;\n",
              "      display: none;\n",
              "      fill: #1967D2;\n",
              "      height: 32px;\n",
              "      padding: 0 0 0 0;\n",
              "      width: 32px;\n",
              "    }\n",
              "\n",
              "    .colab-df-convert:hover {\n",
              "      background-color: #E2EBFA;\n",
              "      box-shadow: 0px 1px 2px rgba(60, 64, 67, 0.3), 0px 1px 3px 1px rgba(60, 64, 67, 0.15);\n",
              "      fill: #174EA6;\n",
              "    }\n",
              "\n",
              "    [theme=dark] .colab-df-convert {\n",
              "      background-color: #3B4455;\n",
              "      fill: #D2E3FC;\n",
              "    }\n",
              "\n",
              "    [theme=dark] .colab-df-convert:hover {\n",
              "      background-color: #434B5C;\n",
              "      box-shadow: 0px 1px 3px 1px rgba(0, 0, 0, 0.15);\n",
              "      filter: drop-shadow(0px 1px 2px rgba(0, 0, 0, 0.3));\n",
              "      fill: #FFFFFF;\n",
              "    }\n",
              "  </style>\n",
              "\n",
              "      <script>\n",
              "        const buttonEl =\n",
              "          document.querySelector('#df-368164c8-e058-43ed-8622-7efc375ede1a button.colab-df-convert');\n",
              "        buttonEl.style.display =\n",
              "          google.colab.kernel.accessAllowed ? 'block' : 'none';\n",
              "\n",
              "        async function convertToInteractive(key) {\n",
              "          const element = document.querySelector('#df-368164c8-e058-43ed-8622-7efc375ede1a');\n",
              "          const dataTable =\n",
              "            await google.colab.kernel.invokeFunction('convertToInteractive',\n",
              "                                                     [key], {});\n",
              "          if (!dataTable) return;\n",
              "\n",
              "          const docLinkHtml = 'Like what you see? Visit the ' +\n",
              "            '<a target=\"_blank\" href=https://colab.research.google.com/notebooks/data_table.ipynb>data table notebook</a>'\n",
              "            + ' to learn more about interactive tables.';\n",
              "          element.innerHTML = '';\n",
              "          dataTable['output_type'] = 'display_data';\n",
              "          await google.colab.output.renderOutput(dataTable, element);\n",
              "          const docLink = document.createElement('div');\n",
              "          docLink.innerHTML = docLinkHtml;\n",
              "          element.appendChild(docLink);\n",
              "        }\n",
              "      </script>\n",
              "    </div>\n",
              "  </div>\n",
              "  "
            ]
          },
          "metadata": {},
          "execution_count": 31
        }
      ]
    },
    {
      "cell_type": "code",
      "source": [
        "color_array = new_df.filter(like='colour_').to_numpy()\n",
        "pattern_array = new_df.filter(like='pattern_').to_numpy()\n",
        "type_array = new_df.filter(like='product_').to_numpy()\n",
        "index_array = new_df.filter(like='index_').to_numpy()"
      ],
      "metadata": {
        "id": "1P9u7qpkwUKs"
      },
      "execution_count": 32,
      "outputs": []
    },
    {
      "cell_type": "code",
      "source": [
        "color_array"
      ],
      "metadata": {
        "colab": {
          "base_uri": "https://localhost:8080/"
        },
        "id": "HPAlcwwiwpaW",
        "outputId": "c45b1c80-6161-413f-c665-a6aaf5852e71"
      },
      "execution_count": 33,
      "outputs": [
        {
          "output_type": "execute_result",
          "data": {
            "text/plain": [
              "array([[0, 1, 0, ..., 0, 0, 0],\n",
              "       [0, 0, 0, ..., 0, 1, 0],\n",
              "       [0, 0, 0, ..., 0, 1, 0],\n",
              "       ...,\n",
              "       [0, 0, 1, ..., 0, 0, 0],\n",
              "       [0, 1, 0, ..., 0, 0, 0],\n",
              "       [0, 0, 0, ..., 0, 1, 0]], dtype=uint8)"
            ]
          },
          "metadata": {},
          "execution_count": 33
        }
      ]
    },
    {
      "cell_type": "markdown",
      "source": [
        "Splitting + Model"
      ],
      "metadata": {
        "id": "or0qQCdU8o8z"
      }
    },
    {
      "cell_type": "code",
      "source": [
        "from sklearn.model_selection import train_test_split\n",
        "X_train, X_val, y_color_train, y_color_val, y_type_train, y_type_val, y_pattern_train, y_pattern_val, y_index_train, y_index_val = train_test_split(\n",
        "    images, color_array, type_array, pattern_array, index_array, test_size=0.2, random_state=42\n",
        ")"
      ],
      "metadata": {
        "id": "2hapsNIYwadl"
      },
      "execution_count": 34,
      "outputs": []
    },
    {
      "cell_type": "code",
      "source": [
        "inputs = Input(shape=(img_size, img_size, 3))\n",
        "x = Conv2D(32, (3, 3), activation='relu')(inputs)\n",
        "x = MaxPooling2D((2, 2))(x)\n",
        "x = Conv2D(64, (3, 3), activation='relu')(x)\n",
        "x = MaxPooling2D((2, 2))(x)\n",
        "x = Conv2D(128, (3, 3), activation='relu')(x)\n",
        "x = MaxPooling2D((2, 2))(x)\n",
        "x = Flatten()(x)\n",
        "x = Dense(256, activation='relu')(x)\n",
        "\n",
        "color_output = Dense(len(df_valid_images['perceived_colour_master_name'].unique()), activation='softmax', name='color_output')(x)\n",
        "type_output = Dense(len(df_valid_images['product_group_name'].unique()), activation='softmax', name='type_output')(x)\n",
        "pattern_output = Dense(len(df_valid_images['graphical_appearance_name'].unique()), activation='softmax', name='pattern_output')(x)\n",
        "index_output = Dense(len(df_valid_images['index_group_name'].unique()), activation='softmax', name='index_output')(x)\n",
        "\n",
        "model = Model(inputs=inputs, outputs=[color_output, type_output, pattern_output, index_output])\n",
        "model.summary()\n"
      ],
      "metadata": {
        "colab": {
          "base_uri": "https://localhost:8080/"
        },
        "id": "81KQC_qGvZvY",
        "outputId": "4e122bdf-38d0-42c7-a19c-fbd3d92c0e08"
      },
      "execution_count": 35,
      "outputs": [
        {
          "output_type": "stream",
          "name": "stdout",
          "text": [
            "Model: \"model\"\n",
            "__________________________________________________________________________________________________\n",
            " Layer (type)                   Output Shape         Param #     Connected to                     \n",
            "==================================================================================================\n",
            " input_1 (InputLayer)           [(None, 80, 80, 3)]  0           []                               \n",
            "                                                                                                  \n",
            " conv2d (Conv2D)                (None, 78, 78, 32)   896         ['input_1[0][0]']                \n",
            "                                                                                                  \n",
            " max_pooling2d (MaxPooling2D)   (None, 39, 39, 32)   0           ['conv2d[0][0]']                 \n",
            "                                                                                                  \n",
            " conv2d_1 (Conv2D)              (None, 37, 37, 64)   18496       ['max_pooling2d[0][0]']          \n",
            "                                                                                                  \n",
            " max_pooling2d_1 (MaxPooling2D)  (None, 18, 18, 64)  0           ['conv2d_1[0][0]']               \n",
            "                                                                                                  \n",
            " conv2d_2 (Conv2D)              (None, 16, 16, 128)  73856       ['max_pooling2d_1[0][0]']        \n",
            "                                                                                                  \n",
            " max_pooling2d_2 (MaxPooling2D)  (None, 8, 8, 128)   0           ['conv2d_2[0][0]']               \n",
            "                                                                                                  \n",
            " flatten (Flatten)              (None, 8192)         0           ['max_pooling2d_2[0][0]']        \n",
            "                                                                                                  \n",
            " dense (Dense)                  (None, 256)          2097408     ['flatten[0][0]']                \n",
            "                                                                                                  \n",
            " color_output (Dense)           (None, 15)           3855        ['dense[0][0]']                  \n",
            "                                                                                                  \n",
            " type_output (Dense)            (None, 6)            1542        ['dense[0][0]']                  \n",
            "                                                                                                  \n",
            " pattern_output (Dense)         (None, 26)           6682        ['dense[0][0]']                  \n",
            "                                                                                                  \n",
            " index_output (Dense)           (None, 3)            771         ['dense[0][0]']                  \n",
            "                                                                                                  \n",
            "==================================================================================================\n",
            "Total params: 2,203,506\n",
            "Trainable params: 2,203,506\n",
            "Non-trainable params: 0\n",
            "__________________________________________________________________________________________________\n"
          ]
        }
      ]
    },
    {
      "cell_type": "code",
      "source": [
        "model.compile(\n",
        "    optimizer='adam',\n",
        "    loss={\n",
        "        'color_output': 'categorical_crossentropy',\n",
        "        'type_output': 'categorical_crossentropy',\n",
        "        'pattern_output': 'categorical_crossentropy',\n",
        "        'index_output': 'categorical_crossentropy'\n",
        "    },\n",
        "    metrics=['accuracy']\n",
        ")"
      ],
      "metadata": {
        "id": "hsNTz7lSwEmT"
      },
      "execution_count": 36,
      "outputs": []
    },
    {
      "cell_type": "code",
      "source": [
        "checkpoint_filepath = 'best_model.h5'\n",
        "model_checkpoint_callback = ModelCheckpoint(\n",
        "    filepath=checkpoint_filepath,\n",
        "    save_weights_only=True,\n",
        "    monitor='val_color_output_accuracy',\n",
        "    mode='max',\n",
        "    save_best_only=True)"
      ],
      "metadata": {
        "id": "QUxIph24d97E"
      },
      "execution_count": 37,
      "outputs": []
    },
    {
      "cell_type": "code",
      "source": [
        "history = model.fit(\n",
        "    X_train,\n",
        "    {'color_output': y_color_train, 'type_output': y_type_train, 'pattern_output': y_pattern_train, 'index_output':y_index_train},\n",
        "    validation_data=(\n",
        "        X_val,\n",
        "        {'color_output': y_color_val, 'type_output': y_type_val, 'pattern_output': y_pattern_val, 'index_output':y_index_val}\n",
        "    ),\n",
        "    epochs=20,\n",
        "    batch_size=32,\n",
        "    callbacks=[model_checkpoint_callback])\n",
        "\n",
        "model.load_weights(checkpoint_filepath)\n",
        "\n",
        "scores = model.evaluate(\n",
        "    X_val,\n",
        "    {'color_output': y_color_val, 'type_output': y_type_val, 'pattern_output': y_pattern_val, 'index_output':y_index_val}\n",
        ")\n"
      ],
      "metadata": {
        "colab": {
          "base_uri": "https://localhost:8080/"
        },
        "id": "LJUyIh2vxs0t",
        "outputId": "04e40643-56d2-4046-e6db-f372e05802db"
      },
      "execution_count": 38,
      "outputs": [
        {
          "output_type": "stream",
          "name": "stdout",
          "text": [
            "Epoch 1/20\n",
            "273/273 [==============================] - 19s 17ms/step - loss: 10.1591 - color_output_loss: 3.2584 - type_output_loss: 1.8726 - pattern_output_loss: 3.0181 - index_output_loss: 2.0099 - color_output_accuracy: 0.4390 - type_output_accuracy: 0.6753 - pattern_output_accuracy: 0.5384 - index_output_accuracy: 0.5334 - val_loss: 4.7073 - val_color_output_loss: 1.4707 - val_type_output_loss: 0.7420 - val_pattern_output_loss: 1.5460 - val_index_output_loss: 0.9486 - val_color_output_accuracy: 0.5032 - val_type_output_accuracy: 0.7454 - val_pattern_output_accuracy: 0.5757 - val_index_output_accuracy: 0.5807\n",
            "Epoch 2/20\n",
            "273/273 [==============================] - 5s 17ms/step - loss: 4.2157 - color_output_loss: 1.2611 - type_output_loss: 0.6411 - pattern_output_loss: 1.4417 - index_output_loss: 0.8718 - color_output_accuracy: 0.6071 - type_output_accuracy: 0.7848 - pattern_output_accuracy: 0.5997 - index_output_accuracy: 0.6012 - val_loss: 4.0667 - val_color_output_loss: 1.1680 - val_type_output_loss: 0.5827 - val_pattern_output_loss: 1.4468 - val_index_output_loss: 0.8692 - val_color_output_accuracy: 0.6280 - val_type_output_accuracy: 0.8050 - val_pattern_output_accuracy: 0.6037 - val_index_output_accuracy: 0.5991\n",
            "Epoch 3/20\n",
            "273/273 [==============================] - 4s 14ms/step - loss: 3.6832 - color_output_loss: 1.0608 - type_output_loss: 0.5082 - pattern_output_loss: 1.3179 - index_output_loss: 0.7963 - color_output_accuracy: 0.6670 - type_output_accuracy: 0.8293 - pattern_output_accuracy: 0.6234 - index_output_accuracy: 0.6461 - val_loss: 3.8885 - val_color_output_loss: 1.1042 - val_type_output_loss: 0.5202 - val_pattern_output_loss: 1.4199 - val_index_output_loss: 0.8441 - val_color_output_accuracy: 0.6606 - val_type_output_accuracy: 0.8234 - val_pattern_output_accuracy: 0.6161 - val_index_output_accuracy: 0.6349\n",
            "Epoch 4/20\n",
            "273/273 [==============================] - 4s 13ms/step - loss: 3.3067 - color_output_loss: 0.9526 - type_output_loss: 0.4296 - pattern_output_loss: 1.2006 - index_output_loss: 0.7239 - color_output_accuracy: 0.7010 - type_output_accuracy: 0.8552 - pattern_output_accuracy: 0.6429 - index_output_accuracy: 0.6908 - val_loss: 3.7187 - val_color_output_loss: 1.0034 - val_type_output_loss: 0.5010 - val_pattern_output_loss: 1.3978 - val_index_output_loss: 0.8165 - val_color_output_accuracy: 0.6849 - val_type_output_accuracy: 0.8275 - val_pattern_output_accuracy: 0.6229 - val_index_output_accuracy: 0.6537\n",
            "Epoch 5/20\n",
            "273/273 [==============================] - 4s 15ms/step - loss: 2.9500 - color_output_loss: 0.8453 - type_output_loss: 0.3644 - pattern_output_loss: 1.0816 - index_output_loss: 0.6587 - color_output_accuracy: 0.7251 - type_output_accuracy: 0.8763 - pattern_output_accuracy: 0.6744 - index_output_accuracy: 0.7137 - val_loss: 3.8228 - val_color_output_loss: 1.0068 - val_type_output_loss: 0.5166 - val_pattern_output_loss: 1.4709 - val_index_output_loss: 0.8285 - val_color_output_accuracy: 0.6908 - val_type_output_accuracy: 0.8349 - val_pattern_output_accuracy: 0.6023 - val_index_output_accuracy: 0.6445\n",
            "Epoch 6/20\n",
            "273/273 [==============================] - 4s 15ms/step - loss: 2.6529 - color_output_loss: 0.7494 - type_output_loss: 0.3141 - pattern_output_loss: 0.9939 - index_output_loss: 0.5955 - color_output_accuracy: 0.7558 - type_output_accuracy: 0.8943 - pattern_output_accuracy: 0.6967 - index_output_accuracy: 0.7435 - val_loss: 3.8398 - val_color_output_loss: 1.0638 - val_type_output_loss: 0.4941 - val_pattern_output_loss: 1.4602 - val_index_output_loss: 0.8217 - val_color_output_accuracy: 0.6835 - val_type_output_accuracy: 0.8344 - val_pattern_output_accuracy: 0.6101 - val_index_output_accuracy: 0.6716\n",
            "Epoch 7/20\n",
            "273/273 [==============================] - 4s 13ms/step - loss: 2.4421 - color_output_loss: 0.7244 - type_output_loss: 0.2784 - pattern_output_loss: 0.8982 - index_output_loss: 0.5410 - color_output_accuracy: 0.7677 - type_output_accuracy: 0.9057 - pattern_output_accuracy: 0.7233 - index_output_accuracy: 0.7715 - val_loss: 3.8815 - val_color_output_loss: 1.0256 - val_type_output_loss: 0.5151 - val_pattern_output_loss: 1.5188 - val_index_output_loss: 0.8221 - val_color_output_accuracy: 0.7009 - val_type_output_accuracy: 0.8436 - val_pattern_output_accuracy: 0.6124 - val_index_output_accuracy: 0.6752\n",
            "Epoch 8/20\n",
            "273/273 [==============================] - 4s 14ms/step - loss: 2.1002 - color_output_loss: 0.6064 - type_output_loss: 0.2311 - pattern_output_loss: 0.7866 - index_output_loss: 0.4760 - color_output_accuracy: 0.8031 - type_output_accuracy: 0.9231 - pattern_output_accuracy: 0.7526 - index_output_accuracy: 0.8074 - val_loss: 4.0992 - val_color_output_loss: 1.1159 - val_type_output_loss: 0.5413 - val_pattern_output_loss: 1.5701 - val_index_output_loss: 0.8720 - val_color_output_accuracy: 0.7014 - val_type_output_accuracy: 0.8482 - val_pattern_output_accuracy: 0.6156 - val_index_output_accuracy: 0.6729\n",
            "Epoch 9/20\n",
            "273/273 [==============================] - 5s 17ms/step - loss: 1.9064 - color_output_loss: 0.5429 - type_output_loss: 0.2143 - pattern_output_loss: 0.7037 - index_output_loss: 0.4455 - color_output_accuracy: 0.8221 - type_output_accuracy: 0.9294 - pattern_output_accuracy: 0.7753 - index_output_accuracy: 0.8153 - val_loss: 4.6251 - val_color_output_loss: 1.2988 - val_type_output_loss: 0.6302 - val_pattern_output_loss: 1.7740 - val_index_output_loss: 0.9221 - val_color_output_accuracy: 0.6670 - val_type_output_accuracy: 0.8294 - val_pattern_output_accuracy: 0.5885 - val_index_output_accuracy: 0.6766\n",
            "Epoch 10/20\n",
            "273/273 [==============================] - 4s 14ms/step - loss: 1.7545 - color_output_loss: 0.5048 - type_output_loss: 0.1829 - pattern_output_loss: 0.6656 - index_output_loss: 0.4012 - color_output_accuracy: 0.8314 - type_output_accuracy: 0.9364 - pattern_output_accuracy: 0.7818 - index_output_accuracy: 0.8365 - val_loss: 4.7305 - val_color_output_loss: 1.2435 - val_type_output_loss: 0.6288 - val_pattern_output_loss: 1.8668 - val_index_output_loss: 0.9914 - val_color_output_accuracy: 0.6899 - val_type_output_accuracy: 0.8477 - val_pattern_output_accuracy: 0.5931 - val_index_output_accuracy: 0.6839\n",
            "Epoch 11/20\n",
            "273/273 [==============================] - 4s 14ms/step - loss: 1.5218 - color_output_loss: 0.4379 - type_output_loss: 0.1634 - pattern_output_loss: 0.5726 - index_output_loss: 0.3479 - color_output_accuracy: 0.8524 - type_output_accuracy: 0.9468 - pattern_output_accuracy: 0.8106 - index_output_accuracy: 0.8604 - val_loss: 4.9655 - val_color_output_loss: 1.3436 - val_type_output_loss: 0.6650 - val_pattern_output_loss: 1.8883 - val_index_output_loss: 1.0687 - val_color_output_accuracy: 0.6798 - val_type_output_accuracy: 0.8431 - val_pattern_output_accuracy: 0.6087 - val_index_output_accuracy: 0.6628\n",
            "Epoch 12/20\n",
            "273/273 [==============================] - 4s 15ms/step - loss: 1.4449 - color_output_loss: 0.4261 - type_output_loss: 0.1614 - pattern_output_loss: 0.5261 - index_output_loss: 0.3313 - color_output_accuracy: 0.8560 - type_output_accuracy: 0.9448 - pattern_output_accuracy: 0.8252 - index_output_accuracy: 0.8708 - val_loss: 5.4536 - val_color_output_loss: 1.5043 - val_type_output_loss: 0.7046 - val_pattern_output_loss: 2.1390 - val_index_output_loss: 1.1057 - val_color_output_accuracy: 0.6739 - val_type_output_accuracy: 0.8436 - val_pattern_output_accuracy: 0.5963 - val_index_output_accuracy: 0.6890\n",
            "Epoch 13/20\n",
            "273/273 [==============================] - 4s 15ms/step - loss: 1.2898 - color_output_loss: 0.3766 - type_output_loss: 0.1279 - pattern_output_loss: 0.4780 - index_output_loss: 0.3072 - color_output_accuracy: 0.8719 - type_output_accuracy: 0.9598 - pattern_output_accuracy: 0.8392 - index_output_accuracy: 0.8803 - val_loss: 6.1842 - val_color_output_loss: 1.7731 - val_type_output_loss: 0.8137 - val_pattern_output_loss: 2.3858 - val_index_output_loss: 1.2116 - val_color_output_accuracy: 0.6541 - val_type_output_accuracy: 0.8261 - val_pattern_output_accuracy: 0.5711 - val_index_output_accuracy: 0.6670\n",
            "Epoch 14/20\n",
            "273/273 [==============================] - 4s 14ms/step - loss: 1.2935 - color_output_loss: 0.3842 - type_output_loss: 0.1406 - pattern_output_loss: 0.4652 - index_output_loss: 0.3035 - color_output_accuracy: 0.8719 - type_output_accuracy: 0.9562 - pattern_output_accuracy: 0.8473 - index_output_accuracy: 0.8824 - val_loss: 6.1479 - val_color_output_loss: 1.6397 - val_type_output_loss: 0.8398 - val_pattern_output_loss: 2.3665 - val_index_output_loss: 1.3018 - val_color_output_accuracy: 0.6427 - val_type_output_accuracy: 0.8454 - val_pattern_output_accuracy: 0.5931 - val_index_output_accuracy: 0.6642\n",
            "Epoch 15/20\n",
            "273/273 [==============================] - 4s 14ms/step - loss: 1.2126 - color_output_loss: 0.3511 - type_output_loss: 0.1356 - pattern_output_loss: 0.4486 - index_output_loss: 0.2773 - color_output_accuracy: 0.8813 - type_output_accuracy: 0.9562 - pattern_output_accuracy: 0.8502 - index_output_accuracy: 0.8932 - val_loss: 6.5196 - val_color_output_loss: 1.7935 - val_type_output_loss: 0.9208 - val_pattern_output_loss: 2.4848 - val_index_output_loss: 1.3204 - val_color_output_accuracy: 0.6509 - val_type_output_accuracy: 0.8229 - val_pattern_output_accuracy: 0.5908 - val_index_output_accuracy: 0.6757\n",
            "Epoch 16/20\n",
            "273/273 [==============================] - 5s 17ms/step - loss: 1.1152 - color_output_loss: 0.3217 - type_output_loss: 0.1168 - pattern_output_loss: 0.4135 - index_output_loss: 0.2632 - color_output_accuracy: 0.8963 - type_output_accuracy: 0.9625 - pattern_output_accuracy: 0.8627 - index_output_accuracy: 0.8968 - val_loss: 6.4038 - val_color_output_loss: 1.6983 - val_type_output_loss: 0.8524 - val_pattern_output_loss: 2.5545 - val_index_output_loss: 1.2987 - val_color_output_accuracy: 0.6642 - val_type_output_accuracy: 0.8468 - val_pattern_output_accuracy: 0.5899 - val_index_output_accuracy: 0.6766\n",
            "Epoch 17/20\n",
            "273/273 [==============================] - 4s 13ms/step - loss: 0.9864 - color_output_loss: 0.3027 - type_output_loss: 0.0939 - pattern_output_loss: 0.3602 - index_output_loss: 0.2296 - color_output_accuracy: 0.8995 - type_output_accuracy: 0.9674 - pattern_output_accuracy: 0.8807 - index_output_accuracy: 0.9105 - val_loss: 7.2014 - val_color_output_loss: 1.8985 - val_type_output_loss: 0.9899 - val_pattern_output_loss: 2.8513 - val_index_output_loss: 1.4616 - val_color_output_accuracy: 0.6702 - val_type_output_accuracy: 0.8413 - val_pattern_output_accuracy: 0.5885 - val_index_output_accuracy: 0.6844\n",
            "Epoch 18/20\n",
            "273/273 [==============================] - 4s 14ms/step - loss: 0.9277 - color_output_loss: 0.2747 - type_output_loss: 0.0856 - pattern_output_loss: 0.3502 - index_output_loss: 0.2172 - color_output_accuracy: 0.9106 - type_output_accuracy: 0.9721 - pattern_output_accuracy: 0.8839 - index_output_accuracy: 0.9183 - val_loss: 8.2629 - val_color_output_loss: 2.2878 - val_type_output_loss: 1.0952 - val_pattern_output_loss: 3.2316 - val_index_output_loss: 1.6483 - val_color_output_accuracy: 0.6454 - val_type_output_accuracy: 0.8367 - val_pattern_output_accuracy: 0.5853 - val_index_output_accuracy: 0.6716\n",
            "Epoch 19/20\n",
            "273/273 [==============================] - 4s 15ms/step - loss: 0.9011 - color_output_loss: 0.2756 - type_output_loss: 0.0917 - pattern_output_loss: 0.3216 - index_output_loss: 0.2122 - color_output_accuracy: 0.9088 - type_output_accuracy: 0.9694 - pattern_output_accuracy: 0.8894 - index_output_accuracy: 0.9210 - val_loss: 7.9819 - val_color_output_loss: 2.0370 - val_type_output_loss: 1.1053 - val_pattern_output_loss: 3.2159 - val_index_output_loss: 1.6237 - val_color_output_accuracy: 0.6803 - val_type_output_accuracy: 0.8408 - val_pattern_output_accuracy: 0.5876 - val_index_output_accuracy: 0.6821\n",
            "Epoch 20/20\n",
            "273/273 [==============================] - 4s 15ms/step - loss: 0.8609 - color_output_loss: 0.2449 - type_output_loss: 0.0926 - pattern_output_loss: 0.3112 - index_output_loss: 0.2123 - color_output_accuracy: 0.9176 - type_output_accuracy: 0.9704 - pattern_output_accuracy: 0.8955 - index_output_accuracy: 0.9235 - val_loss: 8.1307 - val_color_output_loss: 2.1373 - val_type_output_loss: 1.0734 - val_pattern_output_loss: 3.2587 - val_index_output_loss: 1.6614 - val_color_output_accuracy: 0.6550 - val_type_output_accuracy: 0.8440 - val_pattern_output_accuracy: 0.5459 - val_index_output_accuracy: 0.6835\n",
            "69/69 [==============================] - 1s 7ms/step - loss: 4.0992 - color_output_loss: 1.1159 - type_output_loss: 0.5413 - pattern_output_loss: 1.5701 - index_output_loss: 0.8720 - color_output_accuracy: 0.7014 - type_output_accuracy: 0.8482 - pattern_output_accuracy: 0.6156 - index_output_accuracy: 0.6729\n"
          ]
        }
      ]
    },
    {
      "cell_type": "code",
      "source": [
        "print('Validation Accuracy - Color: {:.2f}%, Type: {:.2f}%, Pattern: {:.2f}%, Index: {:.2f}%'.format(scores[5] * 100, scores[6] * 100, scores[7] * 100, scores[8] * 100))"
      ],
      "metadata": {
        "colab": {
          "base_uri": "https://localhost:8080/"
        },
        "id": "DtngY_gMyIuj",
        "outputId": "caffc15d-c4b1-4c98-ac44-08c360f99b22"
      },
      "execution_count": 45,
      "outputs": [
        {
          "output_type": "stream",
          "name": "stdout",
          "text": [
            "Validation Accuracy - Color: 70.14%, Type: 84.82%, Pattern: 61.56%, Index: 67.29%\n"
          ]
        }
      ]
    },
    {
      "cell_type": "markdown",
      "source": [
        "On new image"
      ],
      "metadata": {
        "id": "nR_IDFTE88nG"
      }
    },
    {
      "cell_type": "code",
      "source": [
        "index_to_try = 10"
      ],
      "metadata": {
        "id": "FSFc2cOLdhPc"
      },
      "execution_count": 50,
      "outputs": []
    },
    {
      "cell_type": "code",
      "source": [
        "# Load a new image\n",
        "new_image_path = df['image_path'][index_to_try]\n",
        "new_image = cv2.imread(new_image_path)\n",
        "\n",
        "# Resize the image to 224x224\n",
        "new_image_resized = cv2.resize(new_image, (img_size, img_size))\n",
        "\n",
        "# Make a prediction on the new image\n",
        "color_pred, type_pred, pattern_pred, index_pred = model.predict(np.array([new_image_resized]))"
      ],
      "metadata": {
        "colab": {
          "base_uri": "https://localhost:8080/"
        },
        "id": "jjKp0b3i1zTp",
        "outputId": "bb361ca3-6771-46fd-facb-14458cfb6dc6"
      },
      "execution_count": 51,
      "outputs": [
        {
          "output_type": "stream",
          "name": "stdout",
          "text": [
            "1/1 [==============================] - 0s 63ms/step\n"
          ]
        }
      ]
    },
    {
      "cell_type": "code",
      "source": [
        "np.round(color_pred).astype(int), np.round(type_pred).astype(int), np.round(pattern_pred).astype(int), np.round(index_pred).astype(int)"
      ],
      "metadata": {
        "colab": {
          "base_uri": "https://localhost:8080/"
        },
        "id": "hGVTwUaIJ7oV",
        "outputId": "99804d8b-4e2a-4326-9037-dbc55b3e5792"
      },
      "execution_count": 52,
      "outputs": [
        {
          "output_type": "execute_result",
          "data": {
            "text/plain": [
              "(array([[0, 1, 0, 0, 0, 0, 0, 0, 0, 0, 0, 0, 0, 0, 0]]),\n",
              " array([[0, 0, 0, 0, 1, 0]]),\n",
              " array([[0, 0, 0, 0, 0, 0, 0, 0, 0, 0, 0, 0, 0, 0, 0, 0, 0, 0, 0, 0, 0, 0,\n",
              "         1, 0, 0, 0]]),\n",
              " array([[0, 1, 0]]))"
            ]
          },
          "metadata": {},
          "execution_count": 52
        }
      ]
    },
    {
      "cell_type": "code",
      "source": [
        "color_array[index_to_try], type_array[index_to_try], pattern_array[index_to_try], index_array[index_to_try]"
      ],
      "metadata": {
        "colab": {
          "base_uri": "https://localhost:8080/"
        },
        "id": "G29Q38GcIxm-",
        "outputId": "3419dfbb-24a1-4531-c7ab-26f274133f10"
      },
      "execution_count": 53,
      "outputs": [
        {
          "output_type": "execute_result",
          "data": {
            "text/plain": [
              "(array([0, 1, 0, 0, 0, 0, 0, 0, 0, 0, 0, 0, 0, 0, 0], dtype=uint8),\n",
              " array([0, 0, 0, 0, 1, 0], dtype=uint8),\n",
              " array([0, 0, 0, 0, 0, 0, 0, 0, 0, 0, 0, 0, 0, 0, 0, 0, 0, 0, 0, 0, 0, 0,\n",
              "        1, 0, 0, 0], dtype=uint8),\n",
              " array([0, 1, 0], dtype=uint8))"
            ]
          },
          "metadata": {},
          "execution_count": 53
        }
      ]
    },
    {
      "cell_type": "code",
      "source": [],
      "metadata": {
        "id": "SoLNV97Sda_1"
      },
      "execution_count": 43,
      "outputs": []
    }
  ]
}