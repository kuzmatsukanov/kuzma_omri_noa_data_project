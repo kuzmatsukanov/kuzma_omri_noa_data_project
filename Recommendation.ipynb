{
 "cells": [
  {
   "cell_type": "code",
   "execution_count": 92,
   "id": "083208b1",
   "metadata": {},
   "outputs": [],
   "source": [
    "import pandas as pd\n",
    "import numpy as np\n",
    "from sklearn.metrics.pairwise import cosine_similarity"
   ]
  },
  {
   "cell_type": "markdown",
   "id": "da59fd10",
   "metadata": {},
   "source": [
    "We want to retrieve a subset of embeddings of the images in the dataset, according to determinstic rules, and then calculate cosine similarity and retrieve the most similar."
   ]
  },
  {
   "cell_type": "code",
   "execution_count": 93,
   "id": "e55ce7db",
   "metadata": {},
   "outputs": [],
   "source": [
    "df = pd.read_parquet('embeddings_df1.parquet')"
   ]
  },
  {
   "cell_type": "code",
   "execution_count": 94,
   "id": "09843e60",
   "metadata": {},
   "outputs": [
    {
     "data": {
      "text/plain": [
       "array([0.42598456, 3.6499429 , 0.15530658, ..., 0.15989539, 0.00902208,\n",
       "       0.1248536 ], dtype=float32)"
      ]
     },
     "execution_count": 94,
     "metadata": {},
     "output_type": "execute_result"
    }
   ],
   "source": [
    "df['embedding'][0]"
   ]
  },
  {
   "cell_type": "code",
   "execution_count": 95,
   "id": "4c6b2337",
   "metadata": {},
   "outputs": [],
   "source": [
    "#input_img = "
   ]
  },
  {
   "cell_type": "code",
   "execution_count": 96,
   "id": "655c5c09",
   "metadata": {},
   "outputs": [],
   "source": [
    "pred_img = df.iloc[0,:]"
   ]
  },
  {
   "cell_type": "code",
   "execution_count": 103,
   "id": "293a4eb9",
   "metadata": {},
   "outputs": [],
   "source": [
    "subset_similar = df[(df['product_group_name'] == pred_img['product_group_name']) & (df['index_group_name'] == pred_img['index_group_name'])].copy()\n",
    "subset_comp = df[(df['product_group_name'] != pred_img['product_group_name']) & (df['index_group_name'] == pred_img['index_group_name'])].copy()"
   ]
  },
  {
   "cell_type": "code",
   "execution_count": 104,
   "id": "cb2eb843",
   "metadata": {},
   "outputs": [],
   "source": [
    "similarity_scores = []\n",
    "for array in subset_similar[\"embedding\"]:\n",
    "    array = array.reshape(1, -1)\n",
    "    similarity = cosine_similarity(pred_img['embedding'].reshape(1, -1), array)\n",
    "    similarity_scores.append(similarity[0][0])"
   ]
  },
  {
   "cell_type": "code",
   "execution_count": 105,
   "id": "fa8505c7",
   "metadata": {},
   "outputs": [],
   "source": [
    "subset_similar['score'] = similarity_scores"
   ]
  },
  {
   "cell_type": "code",
   "execution_count": 113,
   "id": "b38c53a1",
   "metadata": {},
   "outputs": [],
   "source": [
    "reccs = subset_similar.sort_values(by='score', ascending=False)[1:11]"
   ]
  },
  {
   "cell_type": "code",
   "execution_count": 114,
   "id": "75f7dd91",
   "metadata": {},
   "outputs": [
    {
     "data": {
      "text/plain": [
       "10109    538699001\n",
       "17071    572799008\n",
       "17070    572799007\n",
       "9899     537085001\n",
       "8360     522638006\n",
       "9611     534164034\n",
       "9594     534164002\n",
       "3609     458925002\n",
       "10627    542167001\n",
       "9902     537085007\n",
       "Name: article_id, dtype: int64"
      ]
     },
     "execution_count": 114,
     "metadata": {},
     "output_type": "execute_result"
    }
   ],
   "source": [
    "reccs['article_id']"
   ]
  }
 ],
 "metadata": {
  "kernelspec": {
   "display_name": "Python 3 (ipykernel)",
   "language": "python",
   "name": "python3"
  },
  "language_info": {
   "codemirror_mode": {
    "name": "ipython",
    "version": 3
   },
   "file_extension": ".py",
   "mimetype": "text/x-python",
   "name": "python",
   "nbconvert_exporter": "python",
   "pygments_lexer": "ipython3",
   "version": "3.9.12"
  }
 },
 "nbformat": 4,
 "nbformat_minor": 5
}
