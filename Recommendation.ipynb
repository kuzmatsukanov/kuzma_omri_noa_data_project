{
 "cells": [
  {
   "cell_type": "code",
   "execution_count": 26,
   "id": "083208b1",
   "metadata": {},
   "outputs": [],
   "source": [
    "import pandas as pd\n",
    "import numpy as np\n",
    "from sklearn.metrics.pairwise import cosine_similarity"
   ]
  },
  {
   "cell_type": "markdown",
   "id": "da59fd10",
   "metadata": {},
   "source": [
    "We want to retrieve a subset of embeddings of the images in the dataset, according to determinstic rules, and then calculate cosine similarity and retrieve the most similar."
   ]
  },
  {
   "cell_type": "code",
   "execution_count": 27,
   "id": "ad97d4cc",
   "metadata": {},
   "outputs": [],
   "source": [
    "df1 = pd.read_parquet('embeddings_df1.parquet')"
   ]
  },
  {
   "cell_type": "code",
   "execution_count": 28,
   "id": "e55ce7db",
   "metadata": {},
   "outputs": [],
   "source": [
    "df2 = pd.read_parquet('embeddings_df2.parquet')"
   ]
  },
  {
   "cell_type": "code",
   "execution_count": 29,
   "id": "09843e60",
   "metadata": {},
   "outputs": [],
   "source": [
    "df = pd.concat([df1,df2])"
   ]
  },
  {
   "cell_type": "code",
   "execution_count": 30,
   "id": "dd37099c",
   "metadata": {},
   "outputs": [
    {
     "data": {
      "text/html": [
       "<div>\n",
       "<style scoped>\n",
       "    .dataframe tbody tr th:only-of-type {\n",
       "        vertical-align: middle;\n",
       "    }\n",
       "\n",
       "    .dataframe tbody tr th {\n",
       "        vertical-align: top;\n",
       "    }\n",
       "\n",
       "    .dataframe thead th {\n",
       "        text-align: right;\n",
       "    }\n",
       "</style>\n",
       "<table border=\"1\" class=\"dataframe\">\n",
       "  <thead>\n",
       "    <tr style=\"text-align: right;\">\n",
       "      <th></th>\n",
       "      <th>article_id</th>\n",
       "      <th>perceived_colour_master_name</th>\n",
       "      <th>product_group_name</th>\n",
       "      <th>graphical_appearance_name</th>\n",
       "      <th>index_group_name</th>\n",
       "      <th>embedding</th>\n",
       "    </tr>\n",
       "  </thead>\n",
       "  <tbody>\n",
       "    <tr>\n",
       "      <th>0</th>\n",
       "      <td>108775015</td>\n",
       "      <td>Black</td>\n",
       "      <td>Garment Upper body</td>\n",
       "      <td>Solid</td>\n",
       "      <td>Ladieswear</td>\n",
       "      <td>[0.42598456, 3.6499429, 0.15530658, 0.12255716...</td>\n",
       "    </tr>\n",
       "    <tr>\n",
       "      <th>1</th>\n",
       "      <td>108775044</td>\n",
       "      <td>White</td>\n",
       "      <td>Garment Upper body</td>\n",
       "      <td>Solid</td>\n",
       "      <td>Ladieswear</td>\n",
       "      <td>[0.06027775, 0.1292768, 0.0, 0.017150834, 0.16...</td>\n",
       "    </tr>\n",
       "    <tr>\n",
       "      <th>2</th>\n",
       "      <td>108775051</td>\n",
       "      <td>White</td>\n",
       "      <td>Garment Upper body</td>\n",
       "      <td>Stripe</td>\n",
       "      <td>Ladieswear</td>\n",
       "      <td>[0.48477912, 0.41935512, 0.0, 0.036108255, 0.8...</td>\n",
       "    </tr>\n",
       "    <tr>\n",
       "      <th>3</th>\n",
       "      <td>110065001</td>\n",
       "      <td>Black</td>\n",
       "      <td>Underwear</td>\n",
       "      <td>Solid</td>\n",
       "      <td>Ladieswear</td>\n",
       "      <td>[0.12105774, 2.1856194, 0.42328292, 0.12846494...</td>\n",
       "    </tr>\n",
       "    <tr>\n",
       "      <th>4</th>\n",
       "      <td>110065002</td>\n",
       "      <td>White</td>\n",
       "      <td>Underwear</td>\n",
       "      <td>Solid</td>\n",
       "      <td>Ladieswear</td>\n",
       "      <td>[0.036075428, 0.8022453, 0.31426632, 0.0841658...</td>\n",
       "    </tr>\n",
       "    <tr>\n",
       "      <th>...</th>\n",
       "      <td>...</td>\n",
       "      <td>...</td>\n",
       "      <td>...</td>\n",
       "      <td>...</td>\n",
       "      <td>...</td>\n",
       "      <td>...</td>\n",
       "    </tr>\n",
       "    <tr>\n",
       "      <th>87117</th>\n",
       "      <td>826164005</td>\n",
       "      <td>Mole</td>\n",
       "      <td>Garment Full body</td>\n",
       "      <td>Solid</td>\n",
       "      <td>Divided</td>\n",
       "      <td>[0.55072474, 6.333993, 0.16771355, 0.05525467,...</td>\n",
       "    </tr>\n",
       "    <tr>\n",
       "      <th>87118</th>\n",
       "      <td>826164006</td>\n",
       "      <td>Black</td>\n",
       "      <td>Garment Full body</td>\n",
       "      <td>Solid</td>\n",
       "      <td>Divided</td>\n",
       "      <td>[0.5892947, 8.276115, 0.20807527, 0.0046256767...</td>\n",
       "    </tr>\n",
       "    <tr>\n",
       "      <th>87119</th>\n",
       "      <td>826164007</td>\n",
       "      <td>Pink</td>\n",
       "      <td>Garment Full body</td>\n",
       "      <td>Solid</td>\n",
       "      <td>Divided</td>\n",
       "      <td>[0.3208017, 5.299809, 0.08528913, 0.015775487,...</td>\n",
       "    </tr>\n",
       "    <tr>\n",
       "      <th>87120</th>\n",
       "      <td>826164009</td>\n",
       "      <td>Orange</td>\n",
       "      <td>Garment Full body</td>\n",
       "      <td>Solid</td>\n",
       "      <td>Divided</td>\n",
       "      <td>[0.04647019, 8.770406, 0.102270305, 0.0675348,...</td>\n",
       "    </tr>\n",
       "    <tr>\n",
       "      <th>87121</th>\n",
       "      <td>826164016</td>\n",
       "      <td>White</td>\n",
       "      <td>Garment Full body</td>\n",
       "      <td>Solid</td>\n",
       "      <td>Divided</td>\n",
       "      <td>[0.6705325, 1.4959395, 0.060840275, 0.01216105...</td>\n",
       "    </tr>\n",
       "  </tbody>\n",
       "</table>\n",
       "<p>44388 rows × 6 columns</p>\n",
       "</div>"
      ],
      "text/plain": [
       "       article_id perceived_colour_master_name  product_group_name  \\\n",
       "0       108775015                        Black  Garment Upper body   \n",
       "1       108775044                        White  Garment Upper body   \n",
       "2       108775051                        White  Garment Upper body   \n",
       "3       110065001                        Black           Underwear   \n",
       "4       110065002                        White           Underwear   \n",
       "...           ...                          ...                 ...   \n",
       "87117   826164005                         Mole   Garment Full body   \n",
       "87118   826164006                        Black   Garment Full body   \n",
       "87119   826164007                         Pink   Garment Full body   \n",
       "87120   826164009                       Orange   Garment Full body   \n",
       "87121   826164016                        White   Garment Full body   \n",
       "\n",
       "      graphical_appearance_name index_group_name  \\\n",
       "0                         Solid       Ladieswear   \n",
       "1                         Solid       Ladieswear   \n",
       "2                        Stripe       Ladieswear   \n",
       "3                         Solid       Ladieswear   \n",
       "4                         Solid       Ladieswear   \n",
       "...                         ...              ...   \n",
       "87117                     Solid          Divided   \n",
       "87118                     Solid          Divided   \n",
       "87119                     Solid          Divided   \n",
       "87120                     Solid          Divided   \n",
       "87121                     Solid          Divided   \n",
       "\n",
       "                                               embedding  \n",
       "0      [0.42598456, 3.6499429, 0.15530658, 0.12255716...  \n",
       "1      [0.06027775, 0.1292768, 0.0, 0.017150834, 0.16...  \n",
       "2      [0.48477912, 0.41935512, 0.0, 0.036108255, 0.8...  \n",
       "3      [0.12105774, 2.1856194, 0.42328292, 0.12846494...  \n",
       "4      [0.036075428, 0.8022453, 0.31426632, 0.0841658...  \n",
       "...                                                  ...  \n",
       "87117  [0.55072474, 6.333993, 0.16771355, 0.05525467,...  \n",
       "87118  [0.5892947, 8.276115, 0.20807527, 0.0046256767...  \n",
       "87119  [0.3208017, 5.299809, 0.08528913, 0.015775487,...  \n",
       "87120  [0.04647019, 8.770406, 0.102270305, 0.0675348,...  \n",
       "87121  [0.6705325, 1.4959395, 0.060840275, 0.01216105...  \n",
       "\n",
       "[44388 rows x 6 columns]"
      ]
     },
     "execution_count": 30,
     "metadata": {},
     "output_type": "execute_result"
    }
   ],
   "source": [
    "df"
   ]
  },
  {
   "cell_type": "code",
   "execution_count": 31,
   "id": "ec8c0ff3",
   "metadata": {},
   "outputs": [],
   "source": [
    "df.to_parquet('embeddings_df.parquet')"
   ]
  },
  {
   "cell_type": "code",
   "execution_count": 95,
   "id": "4c6b2337",
   "metadata": {},
   "outputs": [],
   "source": [
    "#input_img = "
   ]
  },
  {
   "cell_type": "code",
   "execution_count": 20,
   "id": "655c5c09",
   "metadata": {},
   "outputs": [],
   "source": [
    "pred_img = df.iloc[0,:]"
   ]
  },
  {
   "cell_type": "code",
   "execution_count": 21,
   "id": "293a4eb9",
   "metadata": {},
   "outputs": [],
   "source": [
    "subset_similar = df[(df['product_group_name'] == pred_img['product_group_name']) & (df['index_group_name'] == pred_img['index_group_name'])].copy()\n",
    "subset_comp = df[(df['product_group_name'] != pred_img['product_group_name']) & (df['index_group_name'] == pred_img['index_group_name'])].copy()"
   ]
  },
  {
   "cell_type": "code",
   "execution_count": 22,
   "id": "cb2eb843",
   "metadata": {},
   "outputs": [],
   "source": [
    "similarity_scores = []\n",
    "for array in subset_similar[\"embedding\"]:\n",
    "    array = array.reshape(1, -1)\n",
    "    similarity = cosine_similarity(pred_img['embedding'].reshape(1, -1), array)\n",
    "    similarity_scores.append(similarity[0][0])"
   ]
  },
  {
   "cell_type": "code",
   "execution_count": 23,
   "id": "fa8505c7",
   "metadata": {},
   "outputs": [],
   "source": [
    "subset_similar['score'] = similarity_scores"
   ]
  },
  {
   "cell_type": "code",
   "execution_count": 24,
   "id": "b38c53a1",
   "metadata": {},
   "outputs": [],
   "source": [
    "reccs = subset_similar.sort_values(by='score', ascending=False)[1:11]"
   ]
  },
  {
   "cell_type": "code",
   "execution_count": 25,
   "id": "75f7dd91",
   "metadata": {},
   "outputs": [
    {
     "data": {
      "text/plain": [
       "27232    619655002\n",
       "29478    625483004\n",
       "75364    781180001\n",
       "79263    797002001\n",
       "73592    772448005\n",
       "36745    651639001\n",
       "34299    641187003\n",
       "45249    682583001\n",
       "34297    641187001\n",
       "73237    771236001\n",
       "Name: article_id, dtype: int64"
      ]
     },
     "execution_count": 25,
     "metadata": {},
     "output_type": "execute_result"
    }
   ],
   "source": [
    "reccs['article_id']"
   ]
  }
 ],
 "metadata": {
  "kernelspec": {
   "display_name": "Python 3 (ipykernel)",
   "language": "python",
   "name": "python3"
  },
  "language_info": {
   "codemirror_mode": {
    "name": "ipython",
    "version": 3
   },
   "file_extension": ".py",
   "mimetype": "text/x-python",
   "name": "python",
   "nbconvert_exporter": "python",
   "pygments_lexer": "ipython3",
   "version": "3.9.12"
  }
 },
 "nbformat": 4,
 "nbformat_minor": 5
}
