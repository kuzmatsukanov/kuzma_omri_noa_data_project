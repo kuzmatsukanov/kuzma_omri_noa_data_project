{
 "cells": [
  {
   "cell_type": "code",
   "execution_count": 2,
   "id": "083208b1",
   "metadata": {},
   "outputs": [],
   "source": [
    "import pandas as pd\n",
    "import numpy as np\n",
    "from sklearn.metrics.pairwise import cosine_similarity"
   ]
  },
  {
   "cell_type": "markdown",
   "id": "da59fd10",
   "metadata": {},
   "source": [
    "We want to retrieve a subset of embeddings of the images in the dataset, according to determinstic rules, and then calculate cosine similarity and retrieve the most similar."
   ]
  },
  {
   "cell_type": "code",
   "execution_count": null,
   "id": "e55ce7db",
   "metadata": {},
   "outputs": [],
   "source": [
    "df = 'id,type,color,pattern,index,embedding'"
   ]
  },
  {
   "cell_type": "code",
   "execution_count": null,
   "id": "4c6b2337",
   "metadata": {},
   "outputs": [],
   "source": [
    "input_img = "
   ]
  },
  {
   "cell_type": "code",
   "execution_count": null,
   "id": "655c5c09",
   "metadata": {},
   "outputs": [],
   "source": [
    "pred_img = 'type,color,pattern,index,embedding'"
   ]
  },
  {
   "cell_type": "code",
   "execution_count": null,
   "id": "293a4eb9",
   "metadata": {},
   "outputs": [],
   "source": [
    "subset_similar = df[df['type'] == pred_img['type'] & df['index'] == pred_img['index']]\n",
    "subset_comp = df[df['type'] != pred_img['type'] & df['index'] == pred_img['index']]"
   ]
  },
  {
   "cell_type": "code",
   "execution_count": null,
   "id": "d0467102",
   "metadata": {},
   "outputs": [],
   "source": [
    "'subset for each type seperately? embed each and perform  same process as similar'"
   ]
  },
  {
   "cell_type": "code",
   "execution_count": null,
   "id": "44904375",
   "metadata": {},
   "outputs": [],
   "source": [
    "similar_embed = np.stack(subset_similar[\"embedding\"].to_numpy())\n",
    "\n",
    "subset_similar['score'] = cosine_similarity(pred_img['embedding'], similar_embed)"
   ]
  },
  {
   "cell_type": "code",
   "execution_count": null,
   "id": "fa8505c7",
   "metadata": {},
   "outputs": [],
   "source": [
    "subset_similar = subset_similar.sort_values(\"score\", ascending=False)\n",
    "\n",
    "\n",
    "subset_similar[\"id\"].to_numpy()[0]"
   ]
  }
 ],
 "metadata": {
  "kernelspec": {
   "display_name": "Python 3 (ipykernel)",
   "language": "python",
   "name": "python3"
  },
  "language_info": {
   "codemirror_mode": {
    "name": "ipython",
    "version": 3
   },
   "file_extension": ".py",
   "mimetype": "text/x-python",
   "name": "python",
   "nbconvert_exporter": "python",
   "pygments_lexer": "ipython3",
   "version": "3.9.12"
  }
 },
 "nbformat": 4,
 "nbformat_minor": 5
}
